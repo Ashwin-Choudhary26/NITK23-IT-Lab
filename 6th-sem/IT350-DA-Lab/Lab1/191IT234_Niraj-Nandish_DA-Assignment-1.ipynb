{
  "nbformat": 4,
  "nbformat_minor": 0,
  "metadata": {
    "colab": {
      "name": "191IT234_Niraj-Nandish_DA-Assignment-1.ipynb",
      "provenance": [],
      "collapsed_sections": []
    },
    "kernelspec": {
      "name": "python3",
      "display_name": "Python 3"
    },
    "language_info": {
      "name": "python"
    }
  },
  "cells": [
    {
      "cell_type": "markdown",
      "source": [
        "# IT 350\n",
        "## Assignment 1 - Dimensionality Reduction\n",
        "\n",
        "### Name: Niraj Nandish\n",
        "### Roll no.: 191IT234"
      ],
      "metadata": {
        "id": "zDP11vAqYRhU"
      }
    },
    {
      "cell_type": "code",
      "execution_count": 1,
      "metadata": {
        "id": "_o3yUpW6vG3B"
      },
      "outputs": [],
      "source": [
        "import sys\n",
        "from math import sqrt\n",
        "\n",
        "import matplotlib.pyplot as plt\n",
        "import numpy as np \n",
        "import pandas as pd \n",
        "import seaborn as sns\n",
        "from sklearn.datasets import make_classification\n",
        "from sklearn.decomposition import PCA\n",
        "from sklearn.preprocessing import StandardScaler\n",
        "\n",
        "pd.set_option('display.max_rows', 30)"
      ]
    },
    {
      "cell_type": "markdown",
      "source": [
        "## 1. Download a dataset of your choice\n",
        "\n",
        "Dataset link - https://www.kaggle.com/iamsouravbanerjee/nifty50-stocks-df\n",
        "\n",
        "**NOTE** - Rename the `csv` file to `stock.csv`"
      ],
      "metadata": {
        "id": "G_YmlU68Zl3M"
      }
    },
    {
      "cell_type": "code",
      "source": [
        "df = pd.read_csv('stock.csv')\n",
        "df = df.select_dtypes(exclude=['object'])\n",
        "print(df)"
      ],
      "metadata": {
        "colab": {
          "base_uri": "https://localhost:8080/",
          "height": 0
        },
        "id": "yP_K9WAQrmqP",
        "outputId": "37211eaa-5fe6-440e-9e7b-c18fe7402e40"
      },
      "execution_count": 2,
      "outputs": [
        {
          "output_type": "stream",
          "name": "stdout",
          "text": [
            "       Open      High       Low  ...    52w L  365 d % chng  30 d % chng\n",
            "0     750.0    766.00    713.25  ...   384.40         79.22        -4.65\n",
            "1    3101.0   3167.35   3091.00  ...  2117.15         45.66         5.66\n",
            "2     669.0    674.90    660.45  ...   568.40         10.19       -21.49\n",
            "3    3370.0   3383.50   3320.00  ...  3041.00          9.30       -12.05\n",
            "4   17200.0  17237.20  16610.00  ...  8273.70         91.38        -9.10\n",
            "..      ...       ...       ...  ...      ...           ...          ...\n",
            "45   1544.0   1550.00   1510.15  ...   846.70         76.17        -2.83\n",
            "46   2377.8   2385.10   2285.05  ...  1300.35         75.45        -6.59\n",
            "47   7550.0   7599.00   7370.10  ...  4770.00         53.50         1.78\n",
            "48    726.0    726.00    701.00  ...   414.15         68.06        -1.37\n",
            "49    632.0    634.40    619.65  ...   346.25         77.51        -7.01\n",
            "\n",
            "[50 rows x 12 columns]\n"
          ]
        }
      ]
    },
    {
      "cell_type": "markdown",
      "source": [
        "## 2. Visualize it using multiple dimensions and say why SVD and PCA should be used here\n",
        "\n",
        "The following df has 12 features with 50 rows. Each of the features are different ways to depict the values of change for different stocks. We need to use PCA and SVD for dimensionality reduction so that we can avoid overfitting when the dataset is trained for a model. There is also chances for the data to be redundant. Using these reduction techniques leads to lesser computational cost for the model and helps in removal of noise thereby improving the overall performance of the model."
      ],
      "metadata": {
        "id": "wHPs5uSAat0v"
      }
    },
    {
      "cell_type": "markdown",
      "source": [
        "## 3a. Implement PCA logic on your own and find the appropriate k-dimensions to represent this data\n"
      ],
      "metadata": {
        "id": "HQS77qlbcen_"
      }
    },
    {
      "cell_type": "code",
      "source": [
        "scalar = StandardScaler()\n",
        "flag = 1\n",
        "\n",
        "for c in df.columns:\n",
        "    std = sqrt(((df[c] - df[c].mean())**2).sum() / df.shape[0])\n",
        "    if std == 0:\n",
        "        print(\"Invalid input\")\n",
        "    df[c] = (df[c] - df[c].mean())/std\n",
        "\n",
        "if df.shape[0] >= df.shape[1] and flag == 1:\n",
        "    df.fillna(0, inplace=True)\n",
        "    means = []\n",
        "    for c in df.columns:\n",
        "        test = df[c].mean()\n",
        "        means.append(test)\n",
        "    covariance = []\n",
        "    for j in range(df.shape[1]):\n",
        "        cov = []\n",
        "        for k in range(df.shape[1]):\n",
        "            sum = 0\n",
        "            for i in range(df.shape[0]):\n",
        "                sum += (df.iloc[i,j] - means[j]) * (df.iloc[i,k] - means[k])\n",
        "            result = sum / (df.shape[0]-1)\n",
        "            cov.append(result)\n",
        "        covariance.append(cov)\n",
        "    eigen_values, eigen_vectors = np.linalg.eig(covariance)\n",
        "    idx = eigen_values.argsort()[::-1]   \n",
        "    eigen_values = eigen_values[idx]\n",
        "    eigen_vectors = eigen_vectors[:,idx]\n",
        "    pc = df.dot(eigen_vectors)\n",
        "    print(\"Principle Components using step by step approach: \\n\")\n",
        "    pc = np.array(pc)\n",
        "    print(pc)\n",
        "    pca = PCA()\n",
        "    df_scaled = pd.DataFrame(scalar.fit_transform(df), columns=df.columns)\n",
        "    result = pca.fit_transform(df_scaled)\n",
        "    print(\"\\nPrinciple Components using built in function: \\n\")\n",
        "    print(result)\n",
        "   "
      ],
      "metadata": {
        "colab": {
          "base_uri": "https://localhost:8080/",
          "height": 0
        },
        "id": "jsH8d0h9wGfH",
        "outputId": "5727689c-5f2e-49a2-a29a-6d349a338790"
      },
      "execution_count": 3,
      "outputs": [
        {
          "output_type": "stream",
          "name": "stdout",
          "text": [
            "Principle Components using step by step approach: \n",
            "\n",
            "[[ 1.22698749e+00 -7.38534155e-01  4.18614594e-01 -1.18079313e+00\n",
            "   8.70022165e-02 -5.51851932e-02 -5.13284678e-01  2.42828351e-02\n",
            "  -3.46332439e-02  2.50701999e-03  6.72567811e-04  3.67833608e-04]\n",
            " [-2.45921564e-01  1.76609070e+00 -1.01005894e+00 -1.06167594e+00\n",
            "   2.55267077e-01 -1.89555412e-02 -6.26816325e-02 -2.29498377e-02\n",
            "  -1.97349787e-02 -6.19441932e-03  2.83446687e-03 -1.98066045e-03]\n",
            " [ 1.25934456e+00 -6.10770946e-01  1.20333605e+00  2.00762957e+00\n",
            "  -5.78136824e-01  5.82907277e-01  4.82582999e-01 -1.37518358e-03\n",
            "   3.47269604e-02 -1.11085450e-03  5.48040787e-04  9.08052422e-05]\n",
            " [-5.01686409e-01  8.77736553e-01  1.12956653e+00  7.48553675e-01\n",
            "  -4.85694150e-01  4.29639406e-01  3.57885596e-01  9.96231793e-02\n",
            "  -2.38691638e-02 -5.09197261e-03 -1.29907090e-03  3.25072570e-04]\n",
            " [-6.97206821e+00 -2.57358177e+00  2.59056324e-01 -1.07302983e+00\n",
            "   7.92340915e-01  7.56347455e-01  1.10034895e+00 -6.68654108e-01\n",
            "  -1.58866319e-02 -7.93419962e-04 -2.40420630e-03 -1.75528040e-04]\n",
            " [-2.07557691e+00 -1.83241386e+00  6.50997756e-01  6.76906871e-01\n",
            "   1.12251212e+00  6.78965740e-01 -1.41598419e-03 -3.58860273e-02\n",
            "   2.29657035e-02  1.14757727e-03  4.12070746e-03 -6.23332428e-04]\n",
            " [ 1.18692995e+00  2.03570870e-01 -1.16276052e+00 -1.12746903e+00\n",
            "   7.35807508e-01 -8.34708817e-01 -5.20203787e-01 -4.08244273e-02\n",
            "  -3.55412671e-02 -3.41473782e-03 -1.04374894e-03  5.79377501e-04]\n",
            " [ 1.28929706e+00 -1.50630861e-01  1.47669830e+00  9.19156578e-01\n",
            "  -2.44873259e-01 -7.18599754e-01 -2.00282634e-01 -1.58437096e-01\n",
            "  -2.27047057e-02  1.52855575e-03 -5.67252912e-05 -2.44557533e-05]\n",
            " [-6.23580665e-01  1.86079126e+00  1.59024933e-01  3.86504805e-01\n",
            "  -2.28641242e-01 -3.72470387e-02  1.54311803e-01  5.30209218e-02\n",
            "   1.53222752e-02  9.64970802e-05  2.02930439e-03  2.13226694e-03]\n",
            " [ 1.07804968e+00  2.08711771e+00 -3.93783588e+00  9.28142606e-01\n",
            "   6.79544775e-01  4.14285680e-01  1.09731914e+00  1.39737449e-01\n",
            "   5.31026447e-02  4.29603385e-04 -2.16113294e-03 -1.27069641e-03]\n",
            " [ 1.38773394e+00  4.79300968e-01  5.45055072e-01  5.47789615e-01\n",
            "  -7.56021875e-01 -8.58702394e-02  7.98671013e-01  5.03815202e-03\n",
            "   4.29519092e-02  7.79816955e-04  5.51486335e-04  1.68415114e-04]\n",
            " [-6.93344004e-01  1.65267262e+00 -1.82591096e+00  4.43382402e-01\n",
            "  -4.45225723e-01  1.18507694e+00 -1.67930429e-01 -1.29639602e-01\n",
            "  -5.30964657e-02  2.15974968e-02  3.39533919e-03  7.65941383e-04]\n",
            " [-9.10291506e-01  2.74203477e+00 -1.62255370e+00  8.02593195e-01\n",
            "  -4.18615968e-01  3.57461935e-01 -1.98591995e-01 -2.85354532e-02\n",
            "  -8.64769995e-02  1.37069732e-02 -1.56632577e-03 -7.99352883e-04]\n",
            " [-1.53776971e-01  1.18136718e+00  1.10422685e+00  3.34264016e-01\n",
            "   1.61050500e-01 -4.48691613e-01 -2.65804120e-02  1.00991902e-03\n",
            "  -7.81051492e-03  6.31389179e-04 -3.14933016e-04 -1.17665934e-03]\n",
            " [ 5.58826259e-01 -7.69244599e-02  5.14773712e-01 -1.98652971e+00\n",
            "  -1.10474978e-01  5.66750762e-01 -5.87726069e-02  1.06692997e-01\n",
            "   1.51607511e-02  1.83823744e-03 -1.30806179e-03  3.05419210e-04]\n",
            " [ 7.23132393e-01  1.17162348e+00  2.09555332e-01 -1.79868604e-01\n",
            "  -8.22073517e-02  3.04948099e-01  3.18716096e-01  5.74578158e-02\n",
            "   6.84338511e-03 -3.73052598e-03 -1.08793195e-03  3.11367598e-04]\n",
            " [-1.35162581e-02 -2.38332358e-01  2.21227667e-01  3.31642724e-01\n",
            "   8.97497886e-01 -8.34806506e-02 -4.90746298e-01  2.58925713e-03\n",
            "   2.73720802e-02  2.93111054e-03  2.69183213e-03 -1.60841298e-03]\n",
            " [ 8.39979313e-01 -3.68220625e-01 -4.38199024e-01  1.72854797e+00\n",
            "   7.92524929e-01  1.03163399e-01 -3.38958829e-01 -1.84408889e-02\n",
            "  -1.28413118e-03 -8.50869122e-03  5.96063245e-04 -6.34576739e-04]\n",
            " [ 8.31938712e-01  1.48766900e+00  7.38983625e-01  4.50900812e-02\n",
            "   1.96614133e-01 -5.45982216e-01 -2.84242083e-02 -6.45689929e-02\n",
            "  -3.43996339e-03 -1.40723013e-03  7.83722043e-05  2.91733171e-04]\n",
            " [-2.40651943e-01  1.32503625e+00  1.05037680e+00  6.72179207e-01\n",
            "   1.35911895e-01 -4.44165076e-01  7.14570383e-03  7.63096792e-03\n",
            "  -8.16630239e-02 -6.98361317e-04 -3.52570226e-03  2.19480578e-05]\n",
            " [ 1.65483631e+00 -1.86975705e+00  7.18831345e-01 -3.46747555e-01\n",
            "  -6.86449248e-01  2.23788264e-01 -1.30927357e-01  4.40751978e-02\n",
            "  -5.61388304e-03  2.79852621e-03 -3.05566324e-04 -2.95722242e-04]\n",
            " [ 1.06399437e-01  1.31291505e+00 -2.74478775e-01  6.08451543e-01\n",
            "   2.34321978e-01  1.48259271e-01  5.31565363e-02  4.67692384e-02\n",
            "  -1.18862136e-02 -7.13414530e-03 -1.53680687e-03  1.30386346e-03]\n",
            " [ 1.58049218e+00 -1.78721077e+00 -5.41476933e-01  1.13763984e+00\n",
            "   7.09104723e-02  9.32513193e-02 -1.00621610e-01 -1.61639860e-02\n",
            "  -3.05005500e-03 -3.03373246e-03 -2.70035456e-04  8.08967947e-05]\n",
            " [ 1.06403206e+00 -1.08051845e+00  2.16444101e+00  1.69645135e+00\n",
            "  -2.83087410e-01  2.44273129e-01 -1.77763484e-01 -6.54584191e-02\n",
            "  -8.54433356e-03  4.01167928e-03 -6.55376911e-04  5.27281260e-04]\n",
            " [ 6.14187054e-01  5.02038674e-01 -6.94095826e-01 -4.12404197e-01\n",
            "   5.20097526e-01  2.00209279e-01 -1.69968818e-01  2.58251665e-02\n",
            "   2.48923081e-03 -6.90922390e-03  9.09971284e-04  2.69339711e-04]\n",
            " [ 1.36920639e+00  4.14093055e-01  8.34339526e-01 -3.13776521e-01\n",
            "  -5.35443810e-01 -1.38440382e-01  2.64718485e-01  6.82014921e-03\n",
            "   1.52841099e-02  8.29538727e-04  2.79165553e-04 -4.84669218e-05]\n",
            " [ 1.67029692e+00 -4.00382493e-01 -5.52959747e-01  7.26241162e-01\n",
            "  -5.82070356e-01 -1.64308185e+00  4.92280191e-01 -1.87697632e-01\n",
            "  -2.62036545e-03  8.79725551e-04  1.24049681e-03  2.03368322e-04]\n",
            " [ 1.38617417e+00 -1.45363519e+00  8.52505321e-01 -9.78527386e-01\n",
            "  -1.58977107e-01  8.91290154e-02 -5.70979246e-01  2.87522527e-02\n",
            "  -2.70593942e-02  3.18481494e-03 -1.39372548e-04 -7.54453796e-04]\n",
            " [ 3.18470322e-01  2.31807604e-01  1.10553300e+00  8.91599938e-01\n",
            "   2.07805035e-01  5.04938586e-02 -9.13742585e-02 -2.18750182e-02\n",
            "   2.19487598e-02 -2.97285712e-03  1.79921523e-03 -1.29091587e-03]\n",
            " [ 4.94647361e-01  3.03709084e-01 -3.05244243e-02 -1.00112083e+00\n",
            "   4.43373835e-01  2.60773636e-02 -2.81734845e-01  1.39670007e-02\n",
            "  -2.84550390e-03 -9.55523657e-04  1.54880453e-03 -7.98313753e-04]\n",
            " [ 8.79090334e-01  6.82390710e-01  7.19284569e-01 -1.04916012e-01\n",
            "   2.32414535e-01 -4.29678219e-01 -2.33134341e-01 -6.06599103e-02\n",
            "  -1.06149456e-02  1.04512970e-04 -1.21122337e-03 -6.48487419e-04]\n",
            " [-2.81008298e+00 -5.94974515e-01  5.95532308e-01  1.18733047e-01\n",
            "   1.80956941e+00 -1.02810418e+00 -2.48121655e-01  1.72942230e-01\n",
            "   1.06895685e-01  2.04878596e-02 -2.77470483e-03  9.23629252e-04]\n",
            " [-7.66967344e+00  1.28954408e+00 -1.48213173e+00  4.37361793e-01\n",
            "  -2.20439344e+00  2.59837922e-02 -1.52370738e+00 -1.91140473e-01\n",
            "   9.55525957e-02 -5.40614596e-03 -1.85570571e-03 -3.21944772e-04]\n",
            " [ 1.51765015e+00 -2.31127319e-01  9.58594773e-01 -3.99011369e-03\n",
            "  -7.49145464e-01 -5.40774858e-01  2.03696570e-01 -6.74548804e-02\n",
            "   4.66002960e-03  2.02793252e-03  9.00399718e-04 -2.17768196e-04]\n",
            " [ 1.82073679e+00 -1.28398679e+00 -1.71550077e-02 -5.88381899e-01\n",
            "  -1.20309936e+00 -5.33866512e-01  5.16764832e-01  1.44365966e-02\n",
            "   2.11349234e-02  3.26911549e-03  1.16523722e-03 -4.63030463e-04]\n",
            " [ 1.11573063e+00  2.08108077e+00 -6.85276177e-01 -4.59629710e-01\n",
            "   3.20777731e-01 -1.32945081e+00  2.91700965e-01 -1.13927621e-01\n",
            "  -1.01563487e-02 -2.87008203e-03  2.04037469e-04  3.65536568e-04]\n",
            " [ 4.45038994e-01 -1.11460342e+00 -6.54005153e-01  1.54803629e+00\n",
            "   1.33114780e+00  4.00097526e-01 -7.51308900e-01 -1.45574459e-02\n",
            "  -1.02708962e-02 -7.37512766e-03 -8.19751291e-04  8.55191175e-04]\n",
            " [ 7.18324698e-01  9.89687940e-01  3.71395003e-01 -3.70764149e-01\n",
            "   9.25295754e-02  2.02672710e-03  5.20969255e-02  1.72952427e-02\n",
            "   1.02853847e-02 -3.40644356e-04 -2.61912264e-03 -1.52962327e-03]\n",
            " [ 1.88592322e+00 -2.16108965e+00 -1.33110340e+00 -1.77890886e-02\n",
            "  -3.70604527e-01 -2.37902687e-01  1.35131748e-01  3.29301810e-02\n",
            "   4.26052661e-03 -4.90634765e-04 -3.64771598e-04  1.95964164e-04]\n",
            " [-1.25356242e+01 -1.64644717e+00  2.86829571e-01  2.37184072e-01\n",
            "  -2.68354652e-01 -7.74539190e-01  5.45560519e-01  5.06756513e-01\n",
            "  -6.71141726e-02 -2.55335782e-03  1.38604994e-03 -2.82773652e-04]\n",
            " [ 1.04905993e+00  4.94118292e-01  3.61996526e-02 -2.91708109e-01\n",
            "  -9.66192320e-02  3.41058083e-01  2.38364446e-01  7.05809498e-02\n",
            "   2.49935640e-02  2.29834651e-04  1.05869178e-03  8.15176510e-04]\n",
            " [ 9.65908592e-01  3.59596441e-01  8.58773398e-01 -8.26399048e-01\n",
            "  -6.06315776e-04 -5.31681702e-02 -2.22759472e-01  1.07553069e-02\n",
            "  -6.53062622e-03  1.26878452e-03 -3.16371500e-04 -2.80805367e-04]\n",
            " [ 2.80861218e+00 -5.71607748e+00 -3.50572959e+00 -1.03045493e-01\n",
            "  -5.67475928e-01 -6.82460575e-01 -1.00414503e-01  4.68157520e-02\n",
            "  -1.76015344e-02  5.62777119e-04 -3.58738647e-04  2.94427936e-04]\n",
            " [ 1.35689231e+00 -2.46049341e+00  2.23978554e-01  1.05857779e-01\n",
            "  -1.36206712e-01  1.33717068e+00 -1.92592283e-01  1.47607458e-01\n",
            "  -1.77386111e-02 -9.45155546e-04 -2.01108190e-03  2.79329860e-05]\n",
            " [-3.29613906e-01  1.18925365e+00 -7.81730744e-01  1.72753181e-01\n",
            "   2.86170995e-01  3.02222629e-01 -1.28874832e-01 -4.97796383e-04\n",
            "  -2.21273707e-02 -7.13407902e-03  1.39627679e-03  1.95135875e-03]\n",
            " [ 6.30472882e-01  5.32232005e-01  1.03710463e-01 -1.26060671e+00\n",
            "  -8.16623141e-02  5.40787838e-01  1.13075842e-01  9.11345445e-02\n",
            "   2.74214565e-02 -3.08669465e-03  1.41360129e-04 -4.64817146e-04]\n",
            " [ 2.38612688e-01 -2.24789024e-01  7.00490682e-01 -1.07973958e+00\n",
            "   1.16289432e-02  5.33269746e-01 -1.70253657e-02  5.13865253e-02\n",
            "   8.80529023e-03  1.47473293e-03 -7.40816834e-04  3.86844723e-04]\n",
            " [-2.44047164e+00  4.83565760e-01 -1.57984060e-01 -1.29617344e+00\n",
            "   2.76989762e-01 -1.67450420e-01  2.02438173e-02 -1.44957344e-01\n",
            "   2.70143115e-02 -3.17062783e-03  2.59666362e-03  1.60119947e-03]\n",
            " [ 9.95579789e-01  6.77299333e-01  2.24665648e-01 -1.33542514e+00\n",
            "  -2.74180563e-02  1.59891072e-01 -2.33561966e-02  8.00684644e-02\n",
            "  -6.97821388e-03 -1.38008189e-03 -1.08119189e-03  3.95494647e-04]\n",
            " [ 1.14728585e+00  2.36157967e-01  2.69372247e-01 -8.52182100e-01\n",
            "  -3.92306248e-01  7.34267720e-01  3.28765866e-01  1.47699878e-01\n",
            "   2.77019811e-02 -1.61578535e-03 -3.16073014e-04  1.33111782e-04]]\n",
            "\n",
            "Principle Components using built in function: \n",
            "\n",
            "[[-1.22698749e+00  7.38534155e-01 -4.18614594e-01 -1.18079313e+00\n",
            "  -8.70022165e-02  5.51851932e-02  5.13284678e-01 -2.42828351e-02\n",
            "  -3.46332439e-02  2.50701999e-03  6.72567811e-04  3.67833608e-04]\n",
            " [ 2.45921564e-01 -1.76609070e+00  1.01005894e+00 -1.06167594e+00\n",
            "  -2.55267077e-01  1.89555412e-02  6.26816325e-02  2.29498377e-02\n",
            "  -1.97349787e-02 -6.19441932e-03  2.83446687e-03 -1.98066045e-03]\n",
            " [-1.25934456e+00  6.10770946e-01 -1.20333605e+00  2.00762957e+00\n",
            "   5.78136824e-01 -5.82907277e-01 -4.82582999e-01  1.37518358e-03\n",
            "   3.47269604e-02 -1.11085450e-03  5.48040787e-04  9.08052421e-05]\n",
            " [ 5.01686409e-01 -8.77736553e-01 -1.12956653e+00  7.48553675e-01\n",
            "   4.85694150e-01 -4.29639406e-01 -3.57885596e-01 -9.96231793e-02\n",
            "  -2.38691638e-02 -5.09197261e-03 -1.29907090e-03  3.25072570e-04]\n",
            " [ 6.97206821e+00  2.57358177e+00 -2.59056324e-01 -1.07302983e+00\n",
            "  -7.92340915e-01 -7.56347455e-01 -1.10034895e+00  6.68654108e-01\n",
            "  -1.58866319e-02 -7.93419962e-04 -2.40420630e-03 -1.75528039e-04]\n",
            " [ 2.07557691e+00  1.83241386e+00 -6.50997756e-01  6.76906871e-01\n",
            "  -1.12251212e+00 -6.78965740e-01  1.41598419e-03  3.58860273e-02\n",
            "   2.29657035e-02  1.14757727e-03  4.12070746e-03 -6.23332428e-04]\n",
            " [-1.18692995e+00 -2.03570870e-01  1.16276052e+00 -1.12746903e+00\n",
            "  -7.35807508e-01  8.34708817e-01  5.20203787e-01  4.08244273e-02\n",
            "  -3.55412671e-02 -3.41473782e-03 -1.04374894e-03  5.79377501e-04]\n",
            " [-1.28929706e+00  1.50630861e-01 -1.47669830e+00  9.19156578e-01\n",
            "   2.44873259e-01  7.18599754e-01  2.00282634e-01  1.58437096e-01\n",
            "  -2.27047057e-02  1.52855575e-03 -5.67252913e-05 -2.44557533e-05]\n",
            " [ 6.23580665e-01 -1.86079126e+00 -1.59024933e-01  3.86504805e-01\n",
            "   2.28641242e-01  3.72470387e-02 -1.54311803e-01 -5.30209218e-02\n",
            "   1.53222752e-02  9.64970803e-05  2.02930439e-03  2.13226694e-03]\n",
            " [-1.07804968e+00 -2.08711771e+00  3.93783588e+00  9.28142606e-01\n",
            "  -6.79544775e-01 -4.14285680e-01 -1.09731914e+00 -1.39737449e-01\n",
            "   5.31026447e-02  4.29603385e-04 -2.16113294e-03 -1.27069641e-03]\n",
            " [-1.38773394e+00 -4.79300968e-01 -5.45055072e-01  5.47789615e-01\n",
            "   7.56021875e-01  8.58702394e-02 -7.98671013e-01 -5.03815202e-03\n",
            "   4.29519092e-02  7.79816955e-04  5.51486335e-04  1.68415114e-04]\n",
            " [ 6.93344004e-01 -1.65267262e+00  1.82591096e+00  4.43382402e-01\n",
            "   4.45225723e-01 -1.18507694e+00  1.67930429e-01  1.29639602e-01\n",
            "  -5.30964657e-02  2.15974968e-02  3.39533919e-03  7.65941383e-04]\n",
            " [ 9.10291506e-01 -2.74203477e+00  1.62255370e+00  8.02593195e-01\n",
            "   4.18615968e-01 -3.57461935e-01  1.98591995e-01  2.85354532e-02\n",
            "  -8.64769995e-02  1.37069732e-02 -1.56632577e-03 -7.99352882e-04]\n",
            " [ 1.53776971e-01 -1.18136718e+00 -1.10422685e+00  3.34264016e-01\n",
            "  -1.61050500e-01  4.48691613e-01  2.65804120e-02 -1.00991902e-03\n",
            "  -7.81051492e-03  6.31389179e-04 -3.14933017e-04 -1.17665934e-03]\n",
            " [-5.58826259e-01  7.69244599e-02 -5.14773712e-01 -1.98652971e+00\n",
            "   1.10474978e-01 -5.66750762e-01  5.87726069e-02 -1.06692997e-01\n",
            "   1.51607511e-02  1.83823744e-03 -1.30806179e-03  3.05419210e-04]\n",
            " [-7.23132393e-01 -1.17162348e+00 -2.09555332e-01 -1.79868604e-01\n",
            "   8.22073517e-02 -3.04948099e-01 -3.18716096e-01 -5.74578158e-02\n",
            "   6.84338511e-03 -3.73052598e-03 -1.08793195e-03  3.11367598e-04]\n",
            " [ 1.35162581e-02  2.38332358e-01 -2.21227667e-01  3.31642724e-01\n",
            "  -8.97497886e-01  8.34806506e-02  4.90746298e-01 -2.58925713e-03\n",
            "   2.73720802e-02  2.93111054e-03  2.69183213e-03 -1.60841298e-03]\n",
            " [-8.39979313e-01  3.68220625e-01  4.38199024e-01  1.72854797e+00\n",
            "  -7.92524929e-01 -1.03163399e-01  3.38958829e-01  1.84408889e-02\n",
            "  -1.28413118e-03 -8.50869122e-03  5.96063245e-04 -6.34576739e-04]\n",
            " [-8.31938712e-01 -1.48766900e+00 -7.38983625e-01  4.50900812e-02\n",
            "  -1.96614133e-01  5.45982216e-01  2.84242083e-02  6.45689929e-02\n",
            "  -3.43996339e-03 -1.40723013e-03  7.83722044e-05  2.91733171e-04]\n",
            " [ 2.40651943e-01 -1.32503625e+00 -1.05037680e+00  6.72179207e-01\n",
            "  -1.35911895e-01  4.44165076e-01 -7.14570383e-03 -7.63096792e-03\n",
            "  -8.16630239e-02 -6.98361317e-04 -3.52570226e-03  2.19480582e-05]\n",
            " [-1.65483631e+00  1.86975705e+00 -7.18831345e-01 -3.46747555e-01\n",
            "   6.86449248e-01 -2.23788264e-01  1.30927357e-01 -4.40751978e-02\n",
            "  -5.61388304e-03  2.79852621e-03 -3.05566324e-04 -2.95722242e-04]\n",
            " [-1.06399437e-01 -1.31291505e+00  2.74478775e-01  6.08451543e-01\n",
            "  -2.34321978e-01 -1.48259271e-01 -5.31565363e-02 -4.67692384e-02\n",
            "  -1.18862136e-02 -7.13414530e-03 -1.53680687e-03  1.30386346e-03]\n",
            " [-1.58049218e+00  1.78721077e+00  5.41476933e-01  1.13763984e+00\n",
            "  -7.09104723e-02 -9.32513193e-02  1.00621610e-01  1.61639860e-02\n",
            "  -3.05005500e-03 -3.03373246e-03 -2.70035456e-04  8.08967948e-05]\n",
            " [-1.06403206e+00  1.08051845e+00 -2.16444101e+00  1.69645135e+00\n",
            "   2.83087410e-01 -2.44273129e-01  1.77763484e-01  6.54584191e-02\n",
            "  -8.54433356e-03  4.01167928e-03 -6.55376911e-04  5.27281260e-04]\n",
            " [-6.14187054e-01 -5.02038674e-01  6.94095826e-01 -4.12404197e-01\n",
            "  -5.20097526e-01 -2.00209279e-01  1.69968818e-01 -2.58251665e-02\n",
            "   2.48923081e-03 -6.90922390e-03  9.09971284e-04  2.69339710e-04]\n",
            " [-1.36920639e+00 -4.14093055e-01 -8.34339526e-01 -3.13776521e-01\n",
            "   5.35443810e-01  1.38440382e-01 -2.64718485e-01 -6.82014921e-03\n",
            "   1.52841099e-02  8.29538727e-04  2.79165553e-04 -4.84669219e-05]\n",
            " [-1.67029692e+00  4.00382493e-01  5.52959747e-01  7.26241162e-01\n",
            "   5.82070356e-01  1.64308185e+00 -4.92280191e-01  1.87697632e-01\n",
            "  -2.62036545e-03  8.79725551e-04  1.24049681e-03  2.03368322e-04]\n",
            " [-1.38617417e+00  1.45363519e+00 -8.52505321e-01 -9.78527386e-01\n",
            "   1.58977107e-01 -8.91290154e-02  5.70979246e-01 -2.87522527e-02\n",
            "  -2.70593942e-02  3.18481494e-03 -1.39372549e-04 -7.54453796e-04]\n",
            " [-3.18470322e-01 -2.31807604e-01 -1.10553300e+00  8.91599938e-01\n",
            "  -2.07805035e-01 -5.04938586e-02  9.13742585e-02  2.18750182e-02\n",
            "   2.19487598e-02 -2.97285712e-03  1.79921523e-03 -1.29091587e-03]\n",
            " [-4.94647361e-01 -3.03709084e-01  3.05244243e-02 -1.00112083e+00\n",
            "  -4.43373835e-01 -2.60773636e-02  2.81734845e-01 -1.39670007e-02\n",
            "  -2.84550390e-03 -9.55523657e-04  1.54880453e-03 -7.98313753e-04]\n",
            " [-8.79090334e-01 -6.82390710e-01 -7.19284569e-01 -1.04916012e-01\n",
            "  -2.32414535e-01  4.29678219e-01  2.33134341e-01  6.06599103e-02\n",
            "  -1.06149456e-02  1.04512970e-04 -1.21122337e-03 -6.48487418e-04]\n",
            " [ 2.81008298e+00  5.94974515e-01 -5.95532308e-01  1.18733047e-01\n",
            "  -1.80956941e+00  1.02810418e+00  2.48121655e-01 -1.72942230e-01\n",
            "   1.06895685e-01  2.04878596e-02 -2.77470483e-03  9.23629252e-04]\n",
            " [ 7.66967344e+00 -1.28954408e+00  1.48213173e+00  4.37361793e-01\n",
            "   2.20439344e+00 -2.59837922e-02  1.52370738e+00  1.91140473e-01\n",
            "   9.55525957e-02 -5.40614596e-03 -1.85570571e-03 -3.21944772e-04]\n",
            " [-1.51765015e+00  2.31127319e-01 -9.58594773e-01 -3.99011369e-03\n",
            "   7.49145464e-01  5.40774858e-01 -2.03696570e-01  6.74548804e-02\n",
            "   4.66002960e-03  2.02793252e-03  9.00399718e-04 -2.17768196e-04]\n",
            " [-1.82073679e+00  1.28398679e+00  1.71550077e-02 -5.88381899e-01\n",
            "   1.20309936e+00  5.33866512e-01 -5.16764832e-01 -1.44365966e-02\n",
            "   2.11349234e-02  3.26911549e-03  1.16523722e-03 -4.63030463e-04]\n",
            " [-1.11573063e+00 -2.08108077e+00  6.85276177e-01 -4.59629710e-01\n",
            "  -3.20777731e-01  1.32945081e+00 -2.91700965e-01  1.13927621e-01\n",
            "  -1.01563487e-02 -2.87008203e-03  2.04037470e-04  3.65536568e-04]\n",
            " [-4.45038994e-01  1.11460342e+00  6.54005153e-01  1.54803629e+00\n",
            "  -1.33114780e+00 -4.00097526e-01  7.51308900e-01  1.45574459e-02\n",
            "  -1.02708962e-02 -7.37512766e-03 -8.19751291e-04  8.55191175e-04]\n",
            " [-7.18324698e-01 -9.89687940e-01 -3.71395003e-01 -3.70764149e-01\n",
            "  -9.25295754e-02 -2.02672710e-03 -5.20969255e-02 -1.72952427e-02\n",
            "   1.02853847e-02 -3.40644356e-04 -2.61912264e-03 -1.52962327e-03]\n",
            " [-1.88592322e+00  2.16108965e+00  1.33110340e+00 -1.77890886e-02\n",
            "   3.70604527e-01  2.37902687e-01 -1.35131748e-01 -3.29301810e-02\n",
            "   4.26052661e-03 -4.90634765e-04 -3.64771598e-04  1.95964164e-04]\n",
            " [ 1.25356242e+01  1.64644717e+00 -2.86829571e-01  2.37184072e-01\n",
            "   2.68354652e-01  7.74539190e-01 -5.45560519e-01 -5.06756513e-01\n",
            "  -6.71141726e-02 -2.55335782e-03  1.38604994e-03 -2.82773652e-04]\n",
            " [-1.04905993e+00 -4.94118292e-01 -3.61996526e-02 -2.91708109e-01\n",
            "   9.66192320e-02 -3.41058083e-01 -2.38364446e-01 -7.05809498e-02\n",
            "   2.49935640e-02  2.29834651e-04  1.05869178e-03  8.15176510e-04]\n",
            " [-9.65908592e-01 -3.59596441e-01 -8.58773398e-01 -8.26399048e-01\n",
            "   6.06315776e-04  5.31681702e-02  2.22759472e-01 -1.07553069e-02\n",
            "  -6.53062622e-03  1.26878452e-03 -3.16371500e-04 -2.80805367e-04]\n",
            " [-2.80861218e+00  5.71607748e+00  3.50572959e+00 -1.03045493e-01\n",
            "   5.67475928e-01  6.82460575e-01  1.00414503e-01 -4.68157520e-02\n",
            "  -1.76015344e-02  5.62777119e-04 -3.58738646e-04  2.94427936e-04]\n",
            " [-1.35689231e+00  2.46049341e+00 -2.23978554e-01  1.05857779e-01\n",
            "   1.36206712e-01 -1.33717068e+00  1.92592283e-01 -1.47607458e-01\n",
            "  -1.77386111e-02 -9.45155546e-04 -2.01108190e-03  2.79329862e-05]\n",
            " [ 3.29613906e-01 -1.18925365e+00  7.81730744e-01  1.72753181e-01\n",
            "  -2.86170995e-01 -3.02222629e-01  1.28874832e-01  4.97796383e-04\n",
            "  -2.21273707e-02 -7.13407902e-03  1.39627680e-03  1.95135875e-03]\n",
            " [-6.30472882e-01 -5.32232005e-01 -1.03710463e-01 -1.26060671e+00\n",
            "   8.16623141e-02 -5.40787838e-01 -1.13075842e-01 -9.11345445e-02\n",
            "   2.74214565e-02 -3.08669465e-03  1.41360129e-04 -4.64817146e-04]\n",
            " [-2.38612688e-01  2.24789024e-01 -7.00490682e-01 -1.07973958e+00\n",
            "  -1.16289432e-02 -5.33269746e-01  1.70253657e-02 -5.13865253e-02\n",
            "   8.80529023e-03  1.47473293e-03 -7.40816834e-04  3.86844724e-04]\n",
            " [ 2.44047164e+00 -4.83565760e-01  1.57984060e-01 -1.29617344e+00\n",
            "  -2.76989762e-01  1.67450420e-01 -2.02438173e-02  1.44957344e-01\n",
            "   2.70143115e-02 -3.17062783e-03  2.59666362e-03  1.60119947e-03]\n",
            " [-9.95579789e-01 -6.77299333e-01 -2.24665648e-01 -1.33542514e+00\n",
            "   2.74180563e-02 -1.59891072e-01  2.33561966e-02 -8.00684644e-02\n",
            "  -6.97821388e-03 -1.38008189e-03 -1.08119189e-03  3.95494647e-04]\n",
            " [-1.14728585e+00 -2.36157967e-01 -2.69372247e-01 -8.52182100e-01\n",
            "   3.92306248e-01 -7.34267720e-01 -3.28765866e-01 -1.47699878e-01\n",
            "   2.77019811e-02 -1.61578535e-03 -3.16073014e-04  1.33111782e-04]]\n"
          ]
        }
      ]
    },
    {
      "cell_type": "code",
      "source": [
        "pca.explained_variance_ratio_"
      ],
      "metadata": {
        "colab": {
          "base_uri": "https://localhost:8080/",
          "height": 0
        },
        "id": "E7gl_4o4jeTD",
        "outputId": "3fe18772-463f-4f42-8256-24c0de0f81fd"
      },
      "execution_count": 4,
      "outputs": [
        {
          "output_type": "execute_result",
          "data": {
            "text/plain": [
              "array([5.60901870e-01, 1.87045436e-01, 1.05629426e-01, 6.66227232e-02,\n",
              "       3.47641348e-02, 2.76054048e-02, 1.56149964e-02, 1.71180554e-03,\n",
              "       1.01241588e-04, 2.68416795e-06, 2.19702211e-07, 5.79315132e-08])"
            ]
          },
          "metadata": {},
          "execution_count": 4
        }
      ]
    },
    {
      "cell_type": "markdown",
      "source": [
        "Below is the plot of how much variance each principle component captures. Since the first 5 features captures about 95 percent of the information, I selected the first 5 features to appropriately represent the data. "
      ],
      "metadata": {
        "id": "nJ0S7iJNd7lf"
      }
    },
    {
      "cell_type": "code",
      "source": [
        "pd.DataFrame(pca.explained_variance_ratio_).plot.bar()\n",
        "plt.legend('')\n",
        "plt.xlabel('Principal Components')\n",
        "plt.ylabel('Explained Variance')"
      ],
      "metadata": {
        "colab": {
          "base_uri": "https://localhost:8080/",
          "height": 299
        },
        "id": "90EixoPF6Z7t",
        "outputId": "170f5f54-e9dd-46c3-fabf-a413f27f2a97"
      },
      "execution_count": 5,
      "outputs": [
        {
          "output_type": "execute_result",
          "data": {
            "text/plain": [
              "Text(0, 0.5, 'Explained Variance')"
            ]
          },
          "metadata": {},
          "execution_count": 5
        },
        {
          "output_type": "display_data",
          "data": {
            "image/png": "[encoded data removed]",
            "text/plain": [
              "<Figure size 432x288 with 1 Axes>"
            ]
          },
          "metadata": {
            "needs_background": "light"
          }
        }
      ]
    },
    {
      "cell_type": "markdown",
      "source": [
        "## 4a. Visualize the data after applying PCA \n",
        "\n",
        "After principal component analysis it was decided to replace the original 12 features of dataset with the new 5 features by retaining 95 percent of the information."
      ],
      "metadata": {
        "id": "CaS8aui0mfG3"
      }
    },
    {
      "cell_type": "markdown",
      "source": [
        "## 3b. Implement SVD logic on your own and find the appropriate k-dimensions to represent this data"
      ],
      "metadata": {
        "id": "_p0bm3TVnCS8"
      }
    },
    {
      "cell_type": "code",
      "source": [
        "def svd(A, tol=1e-5):\n",
        "    eigs, V = np.linalg.eig(A.T.dot(A))\n",
        "    sing_vals = np.sqrt(eigs)\n",
        "    idx = np.argsort(sing_vals)\n",
        "    sing_vals = sing_vals[idx[::-1]]\n",
        "    V = V[:, idx[::-1]]\n",
        "    sing_vals_trunc = sing_vals[sing_vals > tol]\n",
        "    V = V[:, sing_vals > tol]\n",
        "    sigma = sing_vals_trunc\n",
        "    U = A @ V / sing_vals_trunc\n",
        "    return U.real, sigma.real, V.T.real"
      ],
      "metadata": {
        "id": "B8tsDPFFGu9l"
      },
      "execution_count": 6,
      "outputs": []
    },
    {
      "cell_type": "code",
      "source": [
        "def truncate(U, S, V, k):\n",
        "    U_trunc = U[:, :k]\n",
        "    S_trunc = S[:k]\n",
        "    V_trunc = V[:k, :]\n",
        "    return U_trunc, S_trunc, V_trunc"
      ],
      "metadata": {
        "id": "gGekBJMtIg-5"
      },
      "execution_count": 7,
      "outputs": []
    },
    {
      "cell_type": "code",
      "source": [
        "A = df.values\n",
        "U, S, Vt = svd(A)\n",
        "plt.figure(figsize=(5, 5))\n",
        "plt.barh(df.columns[:12], S[::-1])\n",
        "plt.ylabel(\"Features\")\n",
        "plt.title(\"Singular values\")\n",
        "plt.gca().xaxis.grid(True)"
      ],
      "metadata": {
        "colab": {
          "base_uri": "https://localhost:8080/",
          "height": 336
        },
        "id": "tKT5okCCIi48",
        "outputId": "6e52429c-7be1-4204-acb1-5fa5591dcc47"
      },
      "execution_count": 8,
      "outputs": [
        {
          "output_type": "display_data",
          "data": {
            "image/png": "[encoded data removed]",
            "text/plain": [
              "<Figure size 360x360 with 1 Axes>"
            ]
          },
          "metadata": {
            "needs_background": "light"
          }
        }
      ]
    },
    {
      "cell_type": "markdown",
      "source": [
        "\n",
        "\n",
        "\n",
        "\n",
        "\n",
        "####Here we will take the first 7 singular values, ie. the first 7 features in the bar graph shown above."
      ],
      "metadata": {
        "id": "4kox5hYgpxjs"
      }
    },
    {
      "cell_type": "markdown",
      "source": [
        "## 4b. Visualize the data after applying SVD\n",
        "\n",
        "The dataset is reduced to 7 features namely 30d % chng, 365d % chng, 52w L, 52w H, Turnover etc. of the stocks. The initial 12 columns of the dataset is reduced to now 7 columns."
      ],
      "metadata": {
        "id": "2Uyyc4iHqB-X"
      }
    },
    {
      "cell_type": "markdown",
      "source": [
        "## 5. State your conclusions as to how SVD and PCA have helped here\n",
        "\n",
        "In this dataset, we successfully reduced the number of dimensions using SVD and PCA. After performing reduction, the dataset was reduced to 7 features using SVD and 5 features using PCA, hence making the dataset much more noise free and easier to work with while training the model."
      ],
      "metadata": {
        "id": "nibk9t2RqWId"
      }
    }
  ]
}