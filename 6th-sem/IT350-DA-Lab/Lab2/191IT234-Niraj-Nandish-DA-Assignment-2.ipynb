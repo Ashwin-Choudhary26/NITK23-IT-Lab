{
  "cells": [
    {
      "cell_type": "markdown",
      "id": "d9b18a65-ad11-4209-ac97-36415f0d48fa",
      "metadata": {
        "tags": [],
        "id": "d9b18a65-ad11-4209-ac97-36415f0d48fa"
      },
      "source": [
        "# IT 350\n",
        "## Assignment 2 - Similar Item set and Minhashing\n",
        "\n",
        "### Name: Niraj Nandish\n",
        "### Roll no.: 191IT234\n",
        "\n",
        "\n",
        "Link to Colab notebook - https://colab.research.google.com/drive/1y3mRi2ByZV3XOZrnjjfAjYb0XBuZvbdR?usp=sharing\n",
        "\n",
        "Link to Kannada document for part D - https://drive.google.com/drive/folders/1CmiirZRLgpfycEuGuj2JrF2KSn1lylNS?usp=sharing"
      ]
    },
    {
      "cell_type": "markdown",
      "id": "9d9c7454-9e4a-4cbc-815b-8f068c958d9f",
      "metadata": {
        "id": "9d9c7454-9e4a-4cbc-815b-8f068c958d9f"
      },
      "source": [
        "## A: How many distinct shingles are there for each document with each type of shingle?"
      ]
    },
    {
      "cell_type": "code",
      "execution_count": 1,
      "id": "ca411730-bdd0-4d39-b214-13d61e5151a5",
      "metadata": {
        "id": "ca411730-bdd0-4d39-b214-13d61e5151a5"
      },
      "outputs": [],
      "source": [
        "# Function to get k-shingles based on characters for given k and document\n",
        "def k_shingles_chars(k, filename):\n",
        "    file = open(filename)\n",
        "    data = file.read()\n",
        "    file.close()\n",
        "    duplicates = {}\n",
        "    shingles = []\n",
        "\n",
        "    for i in range(len(data) - k):\n",
        "        test_shingle = data[i : i + k]\n",
        "        if test_shingle not in duplicates:\n",
        "            shingles.append(test_shingle)\n",
        "            duplicates[test_shingle] = 1\n",
        "\n",
        "    return shingles"
      ]
    },
    {
      "cell_type": "code",
      "execution_count": 2,
      "id": "91e69823-61c9-476f-837b-4d4abcc1ddfe",
      "metadata": {
        "id": "91e69823-61c9-476f-837b-4d4abcc1ddfe"
      },
      "outputs": [],
      "source": [
        "# Function to get k-shingles based on words for given k and document\n",
        "def k_shingles_words(k, filename):\n",
        "    file = open(filename)\n",
        "    data = file.read()\n",
        "    file.close()\n",
        "    duplicates = {}\n",
        "    shingles = []\n",
        "    words = data.split()\n",
        "\n",
        "    for i in range(len(words) - k):\n",
        "        test_shingle = words[i : i + k]\n",
        "        if str(test_shingle) not in duplicates:\n",
        "            shingles.append(str(test_shingle))\n",
        "            duplicates[str(test_shingle)] = 1\n",
        "\n",
        "    return shingles"
      ]
    },
    {
      "cell_type": "code",
      "execution_count": 3,
      "id": "63937664-0a3e-4570-bc08-fb9fb682af7e",
      "metadata": {
        "colab": {
          "base_uri": "https://localhost:8080/",
          "height": 0
        },
        "id": "63937664-0a3e-4570-bc08-fb9fb682af7e",
        "outputId": "6b0406e5-b2e1-4397-de87-efedf3a3703a"
      },
      "outputs": [
        {
          "output_type": "stream",
          "name": "stdout",
          "text": [
            "Number of distinct 5-shingles based on character for document 1:  5027\n",
            "Number of distinct 5-shingles based on character for document 2:  3678\n",
            "Number of distinct 5-shingles based on character for document 3:  3014\n",
            "Number of distinct 5-shingles based on character for document 4:  4466\n",
            "-----------------------------------------------------------------------\n",
            "Number of distinct 8-shingles based on character for document 1:  7021\n",
            "Number of distinct 8-shingles based on character for document 2:  4814\n",
            "Number of distinct 8-shingles based on character for document 3:  3888\n",
            "Number of distinct 8-shingles based on character for document 4:  6247\n",
            "-----------------------------------------------------------------------\n",
            "Number of distinct 4-shingles based on words for document 1:  1444\n",
            "Number of distinct 4-shingles based on words for document 2:  992\n",
            "Number of distinct 4-shingles based on words for document 3:  785\n",
            "Number of distinct 4-shingles based on words for document 4:  1277\n"
          ]
        }
      ],
      "source": [
        "# 5-shingles based on characters for all documents\n",
        "d1_shingles_5 = k_shingles_chars(5, \"document1.txt\")\n",
        "d2_shingles_5 = k_shingles_chars(5, \"document2.txt\")\n",
        "d3_shingles_5 = k_shingles_chars(5, \"document3.txt\")\n",
        "d4_shingles_5 = k_shingles_chars(5, \"document4.txt\")\n",
        "\n",
        "print(\"Number of distinct 5-shingles based on character for document 1: \", len(d1_shingles_5))\n",
        "print(\"Number of distinct 5-shingles based on character for document 2: \", len(d2_shingles_5))\n",
        "print(\"Number of distinct 5-shingles based on character for document 3: \", len(d3_shingles_5))\n",
        "print(\"Number of distinct 5-shingles based on character for document 4: \", len(d4_shingles_5))\n",
        "print(\"-----------------------------------------------------------------------\")\n",
        "\n",
        "# 8-shingles based on characters for all documents\n",
        "d1_shingles_8 = k_shingles_chars(8, \"document1.txt\")\n",
        "d2_shingles_8 = k_shingles_chars(8, \"document2.txt\")\n",
        "d3_shingles_8 = k_shingles_chars(8, \"document3.txt\")\n",
        "d4_shingles_8 = k_shingles_chars(8, \"document4.txt\")\n",
        "\n",
        "print(\"Number of distinct 8-shingles based on character for document 1: \", len(d1_shingles_8))\n",
        "print(\"Number of distinct 8-shingles based on character for document 2: \", len(d2_shingles_8))\n",
        "print(\"Number of distinct 8-shingles based on character for document 3: \", len(d3_shingles_8))\n",
        "print(\"Number of distinct 8-shingles based on character for document 4: \", len(d4_shingles_8))\n",
        "print(\"-----------------------------------------------------------------------\")\n",
        "\n",
        "# 4-shingles based on words for all documents\n",
        "d1_shingles_4 = k_shingles_words(4, \"document1.txt\")\n",
        "d2_shingles_4 = k_shingles_words(4, \"document2.txt\")\n",
        "d3_shingles_4 = k_shingles_words(4, \"document3.txt\")\n",
        "d4_shingles_4 = k_shingles_words(4, \"document4.txt\")\n",
        "\n",
        "print(\"Number of distinct 4-shingles based on words for document 1: \", len(d1_shingles_4))\n",
        "print(\"Number of distinct 4-shingles based on words for document 2: \", len(d2_shingles_4))\n",
        "print(\"Number of distinct 4-shingles based on words for document 3: \", len(d3_shingles_4))\n",
        "print(\"Number of distinct 4-shingles based on words for document 4: \", len(d4_shingles_4))"
      ]
    },
    {
      "cell_type": "markdown",
      "id": "53b28a71-a928-4456-ba31-8821e8f8a414",
      "metadata": {
        "id": "53b28a71-a928-4456-ba31-8821e8f8a414"
      },
      "source": [
        "## B: Compute the Jaccard distance between all pairs of documents for each type of shingling"
      ]
    },
    {
      "cell_type": "code",
      "execution_count": 4,
      "id": "f6c72564-bc67-4de4-9587-bb95da591dca",
      "metadata": {
        "id": "f6c72564-bc67-4de4-9587-bb95da591dca"
      },
      "outputs": [],
      "source": [
        "# Jaccard distance betweeen pairs of documents\n",
        "def jaccard_dist(shingles1, shingles2):\n",
        "    union = list(set(shingles1) | set(shingles2))\n",
        "    intersection = list(set(shingles1) & set(shingles2))\n",
        "    dist = 1 - (len(intersection) / len(union))\n",
        "    return dist"
      ]
    },
    {
      "cell_type": "code",
      "execution_count": 5,
      "id": "ff6e19e5-b18c-4d19-a3d1-168295a74b6c",
      "metadata": {
        "colab": {
          "base_uri": "https://localhost:8080/",
          "height": 0
        },
        "id": "ff6e19e5-b18c-4d19-a3d1-168295a74b6c",
        "outputId": "8c8a7203-b0b9-4ec4-84ec-0fe7d4bc6d3b"
      },
      "outputs": [
        {
          "output_type": "stream",
          "name": "stdout",
          "text": [
            "Jaccard distance between document 1 and document 2 for 5-shingling based on characters:  0.8822547508988187\n",
            "Jaccard distance between document 1 and document 3 for 5-shingling based on characters:  0.8892112170189252\n",
            "Jaccard distance between document 1 and document 4 for 5-shingling based on characters:  0.8674540682414698\n",
            "Jaccard distance between document 2 and document 3 for 5-shingling based on characters:  0.8820581356498497\n",
            "Jaccard distance between document 2 and document 4 for 5-shingling based on characters:  0.8810112668315471\n",
            "Jaccard distance between document 3 and document 4 for 5-shingling based on characters:  0.8788968824940048\n",
            "------------------------------------------------------------------------------------------------------------\n",
            "Jaccard distance between document 1 and document 2 for 8-shingling based on characters:  0.9771843401607467\n",
            "Jaccard distance between document 1 and document 3 for 8-shingling based on characters:  0.9790360318203088\n",
            "Jaccard distance between document 1 and document 4 for 8-shingling based on characters:  0.9741765888356271\n",
            "Jaccard distance between document 2 and document 3 for 8-shingling based on characters:  0.9752708431464908\n",
            "Jaccard distance between document 2 and document 4 for 8-shingling based on characters:  0.9753589624826309\n",
            "Jaccard distance between document 3 and document 4 for 8-shingling based on characters:  0.9764694001211877\n",
            "------------------------------------------------------------------------------------------------------------\n",
            "Jaccard distance between document 1 and document 2 for 4-shingling based on words:  0.998766954377312\n",
            "Jaccard distance between document 1 and document 3 for 4-shingling based on words:  0.9991019308486754\n",
            "Jaccard distance between document 1 and document 4 for 4-shingling based on words:  1.0\n",
            "Jaccard distance between document 2 and document 3 for 4-shingling based on words:  0.9977439368302312\n",
            "Jaccard distance between document 2 and document 4 for 4-shingling based on words:  0.9995590828924162\n",
            "Jaccard distance between document 3 and document 4 for 4-shingling based on words:  0.9985429820301117\n"
          ]
        }
      ],
      "source": [
        "# Jaccard distance for all pairs of documents for 5-shingling based on characters\n",
        "print(\n",
        "    \"Jaccard distance between document 1 and document 2 for 5-shingling based on characters: \",\n",
        "    jaccard_dist(d1_shingles_5, d2_shingles_5),\n",
        ")\n",
        "print(\n",
        "    \"Jaccard distance between document 1 and document 3 for 5-shingling based on characters: \",\n",
        "    jaccard_dist(d1_shingles_5, d3_shingles_5),\n",
        ")\n",
        "print(\n",
        "    \"Jaccard distance between document 1 and document 4 for 5-shingling based on characters: \",\n",
        "    jaccard_dist(d1_shingles_5, d4_shingles_5),\n",
        ")\n",
        "print(\n",
        "    \"Jaccard distance between document 2 and document 3 for 5-shingling based on characters: \",\n",
        "    jaccard_dist(d2_shingles_5, d3_shingles_5),\n",
        ")\n",
        "print(\n",
        "    \"Jaccard distance between document 2 and document 4 for 5-shingling based on characters: \",\n",
        "    jaccard_dist(d2_shingles_5, d4_shingles_5),\n",
        ")\n",
        "print(\n",
        "    \"Jaccard distance between document 3 and document 4 for 5-shingling based on characters: \",\n",
        "    jaccard_dist(d3_shingles_5, d4_shingles_5),\n",
        ")\n",
        "print(\"------------------------------------------------------------------------------------------------------------\")\n",
        "\n",
        "# Jaccard distance for all pairs of documents for 8-shingling based on characters\n",
        "print(\n",
        "    \"Jaccard distance between document 1 and document 2 for 8-shingling based on characters: \",\n",
        "    jaccard_dist(d1_shingles_8, d2_shingles_8),\n",
        ")\n",
        "print(\n",
        "    \"Jaccard distance between document 1 and document 3 for 8-shingling based on characters: \",\n",
        "    jaccard_dist(d1_shingles_8, d3_shingles_8),\n",
        ")\n",
        "print(\n",
        "    \"Jaccard distance between document 1 and document 4 for 8-shingling based on characters: \",\n",
        "    jaccard_dist(d1_shingles_8, d4_shingles_8),\n",
        ")\n",
        "print(\n",
        "    \"Jaccard distance between document 2 and document 3 for 8-shingling based on characters: \",\n",
        "    jaccard_dist(d2_shingles_8, d3_shingles_8),\n",
        ")\n",
        "print(\n",
        "    \"Jaccard distance between document 2 and document 4 for 8-shingling based on characters: \",\n",
        "    jaccard_dist(d2_shingles_8, d4_shingles_8),\n",
        ")\n",
        "print(\n",
        "    \"Jaccard distance between document 3 and document 4 for 8-shingling based on characters: \",\n",
        "    jaccard_dist(d3_shingles_8, d4_shingles_8),\n",
        ")\n",
        "print(\"------------------------------------------------------------------------------------------------------------\")\n",
        "\n",
        "# Jaccard distance for all pairs of documents for 4-shingling based on words\n",
        "print(\n",
        "    \"Jaccard distance between document 1 and document 2 for 4-shingling based on words: \",\n",
        "    jaccard_dist(d1_shingles_4, d2_shingles_4),\n",
        ")\n",
        "print(\n",
        "    \"Jaccard distance between document 1 and document 3 for 4-shingling based on words: \",\n",
        "    jaccard_dist(d1_shingles_4, d3_shingles_4),\n",
        ")\n",
        "print(\n",
        "    \"Jaccard distance between document 1 and document 4 for 4-shingling based on words: \",\n",
        "    jaccard_dist(d1_shingles_4, d4_shingles_4),\n",
        ")\n",
        "print(\n",
        "    \"Jaccard distance between document 2 and document 3 for 4-shingling based on words: \",\n",
        "    jaccard_dist(d2_shingles_4, d3_shingles_4),\n",
        ")\n",
        "print(\n",
        "    \"Jaccard distance between document 2 and document 4 for 4-shingling based on words: \",\n",
        "    jaccard_dist(d2_shingles_4, d4_shingles_4),\n",
        ")\n",
        "print(\n",
        "    \"Jaccard distance between document 3 and document 4 for 4-shingling based on words: \",\n",
        "    jaccard_dist(d3_shingles_4, d4_shingles_4),\n",
        ")"
      ]
    },
    {
      "cell_type": "markdown",
      "id": "02c96207-7cd6-43e0-8e5e-18cc8903ad55",
      "metadata": {
        "id": "02c96207-7cd6-43e0-8e5e-18cc8903ad55"
      },
      "source": [
        "## C. Change to any Similarity Function (use any recent similarity distance) and check the distance"
      ]
    },
    {
      "cell_type": "code",
      "execution_count": 6,
      "id": "ac924c33-de6b-4265-b8b3-2c9988b7030b",
      "metadata": {
        "colab": {
          "base_uri": "https://localhost:8080/",
          "height": 0
        },
        "id": "ac924c33-de6b-4265-b8b3-2c9988b7030b",
        "outputId": "51495bfa-c025-4ce0-cb4e-bac9d4f9c516"
      },
      "outputs": [
        {
          "output_type": "stream",
          "name": "stdout",
          "text": [
            "Collecting python-Levenshtein\n",
            "  Downloading python-Levenshtein-0.12.2.tar.gz (50 kB)\n",
            "\u001b[?25l\r\u001b[K     |██████▌                         | 10 kB 25.2 MB/s eta 0:00:01\r\u001b[K     |█████████████                   | 20 kB 13.4 MB/s eta 0:00:01\r\u001b[K     |███████████████████▌            | 30 kB 7.3 MB/s eta 0:00:01\r\u001b[K     |██████████████████████████      | 40 kB 3.8 MB/s eta 0:00:01\r\u001b[K     |████████████████████████████████| 50 kB 2.5 MB/s \n",
            "\u001b[?25hRequirement already satisfied: setuptools in /usr/local/lib/python3.7/dist-packages (from python-Levenshtein) (57.4.0)\n",
            "Building wheels for collected packages: python-Levenshtein\n",
            "  Building wheel for python-Levenshtein (setup.py) ... \u001b[?25l\u001b[?25hdone\n",
            "  Created wheel for python-Levenshtein: filename=python_Levenshtein-0.12.2-cp37-cp37m-linux_x86_64.whl size=149861 sha256=aaa84d6472148643af813ed1f06fd871e62fcf7165a08c53ff361c46e0f9cc56\n",
            "  Stored in directory: /root/.cache/pip/wheels/05/5f/ca/7c4367734892581bb5ff896f15027a932c551080b2abd3e00d\n",
            "Successfully built python-Levenshtein\n",
            "Installing collected packages: python-Levenshtein\n",
            "Successfully installed python-Levenshtein-0.12.2\n"
          ]
        }
      ],
      "source": [
        "!pip install python-Levenshtein\n",
        "import Levenshtein as lev"
      ]
    },
    {
      "cell_type": "code",
      "execution_count": 7,
      "id": "ee92e91e-7f00-4866-bb75-8e678379287a",
      "metadata": {
        "id": "ee92e91e-7f00-4866-bb75-8e678379287a"
      },
      "outputs": [],
      "source": [
        "# Levenshtein distance betweeen pairs of documents\n",
        "def levenshtein_dist(filename1, filename2):\n",
        "    file1 = open(filename1, \"r\")\n",
        "    file2 = open(filename2, \"r\")\n",
        "    text1 = file1.read()\n",
        "    text2 = file2.read()\n",
        "    file1.close()\n",
        "    file2.close()\n",
        "    return lev.ratio(text1, text2)"
      ]
    },
    {
      "cell_type": "code",
      "execution_count": 8,
      "id": "7d45c99c-0569-4d54-8262-724dcf1a8642",
      "metadata": {
        "colab": {
          "base_uri": "https://localhost:8080/",
          "height": 0
        },
        "id": "7d45c99c-0569-4d54-8262-724dcf1a8642",
        "outputId": "820fbaae-b59a-4f58-fac3-66ce75ac09dd"
      },
      "outputs": [
        {
          "output_type": "stream",
          "name": "stdout",
          "text": [
            "Levenshtein Distance between document 1 and document 2 :  0.40949598246895547\n",
            "Levenshtein Distance between document 1 and document 3 :  0.38708656432979904\n",
            "Levenshtein Distance between document 1 and document 4 :  0.4311125697407286\n",
            "Levenshtein Distance between document 2 and document 3 :  0.43817920852983394\n",
            "Levenshtein Distance between document 2 and document 4 :  0.43364909723908995\n",
            "Levenshtein Distance between document 3 and document 4 :  0.4311125697407286\n"
          ]
        }
      ],
      "source": [
        "# Levenshtein distance between all pairs of documents\n",
        "print(\"Levenshtein Distance between document 1 and document 2 : \", levenshtein_dist(\"document1.txt\", \"document2.txt\"))\n",
        "print(\"Levenshtein Distance between document 1 and document 3 : \", levenshtein_dist(\"document1.txt\", \"document3.txt\"))\n",
        "print(\"Levenshtein Distance between document 1 and document 4 : \", levenshtein_dist(\"document1.txt\", \"document4.txt\"))\n",
        "print(\"Levenshtein Distance between document 2 and document 3 : \", levenshtein_dist(\"document2.txt\", \"document3.txt\"))\n",
        "print(\"Levenshtein Distance between document 2 and document 4 : \", levenshtein_dist(\"document2.txt\", \"document4.txt\"))\n",
        "print(\"Levenshtein Distance between document 3 and document 4 : \", levenshtein_dist(\"document1.txt\", \"document4.txt\"))"
      ]
    },
    {
      "cell_type": "markdown",
      "id": "e56240d0-e86f-4f91-825a-e23d9b53637e",
      "metadata": {
        "id": "e56240d0-e86f-4f91-825a-e23d9b53637e"
      },
      "source": [
        "## D. Try the above all for anyone Indian language.\n",
        "\n",
        "I chose kannada for this part"
      ]
    },
    {
      "cell_type": "code",
      "execution_count": 9,
      "id": "d697d34c-f63f-4dea-8e5b-019f1e5b24d2",
      "metadata": {
        "colab": {
          "base_uri": "https://localhost:8080/",
          "height": 0
        },
        "id": "d697d34c-f63f-4dea-8e5b-019f1e5b24d2",
        "outputId": "716e1de6-cb6f-41fa-b915-08cc162e7b47"
      },
      "outputs": [
        {
          "output_type": "stream",
          "name": "stdout",
          "text": [
            "Number of distinct 5-shingles based on character for document 1:  5213\n",
            "Number of distinct 5-shingles based on character for document 2:  3671\n",
            "Number of distinct 5-shingles based on character for document 3:  2970\n",
            "Number of distinct 5-shingles based on character for document 4:  4583\n",
            "-----------------------------------------------------------------------\n",
            "Number of distinct 8-shingles based on character for document 1:  7295\n",
            "Number of distinct 8-shingles based on character for document 2:  4974\n",
            "Number of distinct 8-shingles based on character for document 3:  3956\n",
            "Number of distinct 8-shingles based on character for document 4:  6350\n",
            "-----------------------------------------------------------------------\n",
            "Number of distinct 4-shingles based on words for document 1:  1062\n",
            "Number of distinct 4-shingles based on words for document 2:  715\n",
            "Number of distinct 4-shingles based on words for document 3:  556\n",
            "Number of distinct 4-shingles based on words for document 4:  883\n"
          ]
        }
      ],
      "source": [
        "# 5-shingles based on characters for all documents\n",
        "d1_shingles_5_kannada = k_shingles_chars(5, \"document1-kannada.txt\")\n",
        "d2_shingles_5_kannada = k_shingles_chars(5, \"document2-kannada.txt\")\n",
        "d3_shingles_5_kannada = k_shingles_chars(5, \"document3-kannada.txt\")\n",
        "d4_shingles_5_kannada = k_shingles_chars(5, \"document4-kannada.txt\")\n",
        "\n",
        "print(\"Number of distinct 5-shingles based on character for document 1: \", len(d1_shingles_5_kannada))\n",
        "print(\"Number of distinct 5-shingles based on character for document 2: \", len(d2_shingles_5_kannada))\n",
        "print(\"Number of distinct 5-shingles based on character for document 3: \", len(d3_shingles_5_kannada))\n",
        "print(\"Number of distinct 5-shingles based on character for document 4: \", len(d4_shingles_5_kannada))\n",
        "print(\"-----------------------------------------------------------------------\")\n",
        "\n",
        "# 8-shingles based on characters for all documents\n",
        "d1_shingles_8_kannada = k_shingles_chars(8, \"document1-kannada.txt\")\n",
        "d2_shingles_8_kannada = k_shingles_chars(8, \"document2-kannada.txt\")\n",
        "d3_shingles_8_kannada = k_shingles_chars(8, \"document3-kannada.txt\")\n",
        "d4_shingles_8_kannada = k_shingles_chars(8, \"document4-kannada.txt\")\n",
        "\n",
        "print(\"Number of distinct 8-shingles based on character for document 1: \", len(d1_shingles_8_kannada))\n",
        "print(\"Number of distinct 8-shingles based on character for document 2: \", len(d2_shingles_8_kannada))\n",
        "print(\"Number of distinct 8-shingles based on character for document 3: \", len(d3_shingles_8_kannada))\n",
        "print(\"Number of distinct 8-shingles based on character for document 4: \", len(d4_shingles_8_kannada))\n",
        "print(\"-----------------------------------------------------------------------\")\n",
        "\n",
        "# 4-shingles based on words for all documents\n",
        "d1_shingles_4_kannada = k_shingles_words(4, \"document1-kannada.txt\")\n",
        "d2_shingles_4_kannada = k_shingles_words(4, \"document2-kannada.txt\")\n",
        "d3_shingles_4_kannada = k_shingles_words(4, \"document3-kannada.txt\")\n",
        "d4_shingles_4_kannada = k_shingles_words(4, \"document4-kannada.txt\")\n",
        "\n",
        "print(\"Number of distinct 4-shingles based on words for document 1: \", len(d1_shingles_4_kannada))\n",
        "print(\"Number of distinct 4-shingles based on words for document 2: \", len(d2_shingles_4_kannada))\n",
        "print(\"Number of distinct 4-shingles based on words for document 3: \", len(d3_shingles_4_kannada))\n",
        "print(\"Number of distinct 4-shingles based on words for document 4: \", len(d4_shingles_4_kannada))"
      ]
    },
    {
      "cell_type": "code",
      "execution_count": 10,
      "id": "2c8f921a-0b83-4ed3-a466-b6f3e201c70d",
      "metadata": {
        "colab": {
          "base_uri": "https://localhost:8080/",
          "height": 0
        },
        "id": "2c8f921a-0b83-4ed3-a466-b6f3e201c70d",
        "outputId": "c7e89cb6-39fb-48fa-be3d-0d2b71cb53fe"
      },
      "outputs": [
        {
          "output_type": "stream",
          "name": "stdout",
          "text": [
            "Jaccard distance between document 1 and document 2 for 5-shingling based on characters:  0.8685685175751401\n",
            "Jaccard distance between document 1 and document 3 for 5-shingling based on characters:  0.8802681992337165\n",
            "Jaccard distance between document 1 and document 4 for 5-shingling based on characters:  0.8648899188876014\n",
            "Jaccard distance between document 2 and document 3 for 5-shingling based on characters:  0.8698093941456774\n",
            "Jaccard distance between document 2 and document 4 for 5-shingling based on characters:  0.8690052069060017\n",
            "Jaccard distance between document 3 and document 4 for 5-shingling based on characters:  0.8743666169895679\n",
            "------------------------------------------------------------------------------------------------------------\n",
            "Jaccard distance between document 1 and document 2 for 8-shingling based on characters:  0.9599016615801966\n",
            "Jaccard distance between document 1 and document 3 for 8-shingling based on characters:  0.9682714351215039\n",
            "Jaccard distance between document 1 and document 4 for 8-shingling based on characters:  0.9589532310978867\n",
            "Jaccard distance between document 2 and document 3 for 8-shingling based on characters:  0.9572629612330686\n",
            "Jaccard distance between document 2 and document 4 for 8-shingling based on characters:  0.9598603839441536\n",
            "Jaccard distance between document 3 and document 4 for 8-shingling based on characters:  0.9630747560116713\n",
            "------------------------------------------------------------------------------------------------------------\n",
            "Jaccard distance between document 1 and document 2 for 4-shingling based on words:  1.0\n",
            "Jaccard distance between document 1 and document 3 for 4-shingling based on words:  1.0\n",
            "Jaccard distance between document 1 and document 4 for 4-shingling based on words:  1.0\n",
            "Jaccard distance between document 2 and document 3 for 4-shingling based on words:  0.9984239558707644\n",
            "Jaccard distance between document 2 and document 4 for 4-shingling based on words:  1.0\n",
            "Jaccard distance between document 3 and document 4 for 4-shingling based on words:  1.0\n"
          ]
        }
      ],
      "source": [
        "# Jaccard distance for all pairs of documents for 5-shingling based on characters\n",
        "print(\n",
        "    \"Jaccard distance between document 1 and document 2 for 5-shingling based on characters: \",\n",
        "    jaccard_dist(d1_shingles_5_kannada, d2_shingles_5_kannada),\n",
        ")\n",
        "print(\n",
        "    \"Jaccard distance between document 1 and document 3 for 5-shingling based on characters: \",\n",
        "    jaccard_dist(d1_shingles_5_kannada, d3_shingles_5_kannada),\n",
        ")\n",
        "print(\n",
        "    \"Jaccard distance between document 1 and document 4 for 5-shingling based on characters: \",\n",
        "    jaccard_dist(d1_shingles_5_kannada, d4_shingles_5_kannada),\n",
        ")\n",
        "print(\n",
        "    \"Jaccard distance between document 2 and document 3 for 5-shingling based on characters: \",\n",
        "    jaccard_dist(d2_shingles_5_kannada, d3_shingles_5_kannada),\n",
        ")\n",
        "print(\n",
        "    \"Jaccard distance between document 2 and document 4 for 5-shingling based on characters: \",\n",
        "    jaccard_dist(d2_shingles_5_kannada, d4_shingles_5_kannada),\n",
        ")\n",
        "print(\n",
        "    \"Jaccard distance between document 3 and document 4 for 5-shingling based on characters: \",\n",
        "    jaccard_dist(d3_shingles_5_kannada, d4_shingles_5_kannada),\n",
        ")\n",
        "print(\"------------------------------------------------------------------------------------------------------------\")\n",
        "\n",
        "# Jaccard distance for all pairs of documents for 8-shingling based on characters\n",
        "print(\n",
        "    \"Jaccard distance between document 1 and document 2 for 8-shingling based on characters: \",\n",
        "    jaccard_dist(d1_shingles_8_kannada, d2_shingles_8_kannada),\n",
        ")\n",
        "print(\n",
        "    \"Jaccard distance between document 1 and document 3 for 8-shingling based on characters: \",\n",
        "    jaccard_dist(d1_shingles_8_kannada, d3_shingles_8_kannada),\n",
        ")\n",
        "print(\n",
        "    \"Jaccard distance between document 1 and document 4 for 8-shingling based on characters: \",\n",
        "    jaccard_dist(d1_shingles_8_kannada, d4_shingles_8_kannada),\n",
        ")\n",
        "print(\n",
        "    \"Jaccard distance between document 2 and document 3 for 8-shingling based on characters: \",\n",
        "    jaccard_dist(d2_shingles_8_kannada, d3_shingles_8_kannada),\n",
        ")\n",
        "print(\n",
        "    \"Jaccard distance between document 2 and document 4 for 8-shingling based on characters: \",\n",
        "    jaccard_dist(d2_shingles_8_kannada, d4_shingles_8_kannada),\n",
        ")\n",
        "print(\n",
        "    \"Jaccard distance between document 3 and document 4 for 8-shingling based on characters: \",\n",
        "    jaccard_dist(d3_shingles_8_kannada, d4_shingles_8_kannada),\n",
        ")\n",
        "print(\"------------------------------------------------------------------------------------------------------------\")\n",
        "\n",
        "# Jaccard distance for all pairs of documents for 4-shingling based on words\n",
        "print(\n",
        "    \"Jaccard distance between document 1 and document 2 for 4-shingling based on words: \",\n",
        "    jaccard_dist(d1_shingles_4_kannada, d2_shingles_4_kannada),\n",
        ")\n",
        "print(\n",
        "    \"Jaccard distance between document 1 and document 3 for 4-shingling based on words: \",\n",
        "    jaccard_dist(d1_shingles_4_kannada, d3_shingles_4_kannada),\n",
        ")\n",
        "print(\n",
        "    \"Jaccard distance between document 1 and document 4 for 4-shingling based on words: \",\n",
        "    jaccard_dist(d1_shingles_4_kannada, d4_shingles_4_kannada),\n",
        ")\n",
        "print(\n",
        "    \"Jaccard distance between document 2 and document 3 for 4-shingling based on words: \",\n",
        "    jaccard_dist(d2_shingles_4_kannada, d3_shingles_4_kannada),\n",
        ")\n",
        "print(\n",
        "    \"Jaccard distance between document 2 and document 4 for 4-shingling based on words: \",\n",
        "    jaccard_dist(d2_shingles_4_kannada, d4_shingles_4_kannada),\n",
        ")\n",
        "print(\n",
        "    \"Jaccard distance between document 3 and document 4 for 4-shingling based on words: \",\n",
        "    jaccard_dist(d3_shingles_4_kannada, d4_shingles_4_kannada),\n",
        ")"
      ]
    },
    {
      "cell_type": "code",
      "execution_count": 11,
      "id": "b3a44879-3904-4cec-b3e6-07fbe74ca3aa",
      "metadata": {
        "colab": {
          "base_uri": "https://localhost:8080/",
          "height": 0
        },
        "id": "b3a44879-3904-4cec-b3e6-07fbe74ca3aa",
        "outputId": "0255076c-d20c-4b65-994d-8c277f7c55fe"
      },
      "outputs": [
        {
          "output_type": "stream",
          "name": "stdout",
          "text": [
            "Levenshtein distance between document 1 and document 2:  0.36362376100367366\n",
            "Levenshtein distance between document 1 and document 3:  0.34232600317388345\n",
            "Levenshtein distance between document 1 and document 4:  0.3777206297434611\n",
            "Levenshtein distance between document 2 and document 3:  0.3810731707317073\n",
            "Levenshtein distance between document 2 and document 4:  0.38287037037037036\n",
            "Levenshtein distance between document 3 and document 4:  0.3777206297434611\n"
          ]
        }
      ],
      "source": [
        "# Levenshtein distance between all pairs of kannada language documents\n",
        "print(\n",
        "    \"Levenshtein distance between document 1 and document 2: \",\n",
        "    levenshtein_dist(\"document1-kannada.txt\", \"document2-kannada.txt\"),\n",
        ")\n",
        "print(\n",
        "    \"Levenshtein distance between document 1 and document 3: \",\n",
        "    levenshtein_dist(\"document1-kannada.txt\", \"document3-kannada.txt\"),\n",
        ")\n",
        "print(\n",
        "    \"Levenshtein distance between document 1 and document 4: \",\n",
        "    levenshtein_dist(\"document1-kannada.txt\", \"document4-kannada.txt\"),\n",
        ")\n",
        "print(\n",
        "    \"Levenshtein distance between document 2 and document 3: \",\n",
        "    levenshtein_dist(\"document2-kannada.txt\", \"document3-kannada.txt\"),\n",
        ")\n",
        "print(\n",
        "    \"Levenshtein distance between document 2 and document 4: \",\n",
        "    levenshtein_dist(\"document2-kannada.txt\", \"document4-kannada.txt\"),\n",
        ")\n",
        "print(\n",
        "    \"Levenshtein distance between document 3 and document 4: \",\n",
        "    levenshtein_dist(\"document1-kannada.txt\", \"document4-kannada.txt\"),\n",
        ")"
      ]
    },
    {
      "cell_type": "markdown",
      "id": "f4b44cc1-45ba-44bd-9548-66729335336b",
      "metadata": {
        "id": "f4b44cc1-45ba-44bd-9548-66729335336b"
      },
      "source": [
        "## E. Build a min hash signature for the above experiment and  provide your conclusions for the entire experiment."
      ]
    },
    {
      "cell_type": "code",
      "execution_count": 12,
      "id": "6a752a6f-2b17-4a31-95c5-ffc77b38bf4d",
      "metadata": {
        "id": "6a752a6f-2b17-4a31-95c5-ffc77b38bf4d"
      },
      "outputs": [],
      "source": [
        "import binascii\n",
        "import random\n",
        "\n",
        "\n",
        "def coeff(x):\n",
        "    randlist = []\n",
        "    maxshingleid = 2**32 - 1\n",
        "    while x > 0:\n",
        "        i = random.randint(0, maxshingleid)\n",
        "        while i in randlist:\n",
        "            i = random.randint(0, maxshingleid)\n",
        "        randlist.append(i)\n",
        "        x -= 1\n",
        "\n",
        "    return randlist\n",
        "\n",
        "\n",
        "def minhash_signatures(numhashes, shingles):\n",
        "    c = 10007\n",
        "    a = coeff(numhashes)\n",
        "    b = coeff(numhashes)\n",
        "    signature = []\n",
        "    for i in range(0, numhashes):\n",
        "        minhashcode = c + 1\n",
        "        for id in shingles:\n",
        "            id = binascii.crc32(id.encode()) & 0xFFFFFFFF\n",
        "            hashcode = (a[i] * id + b[i]) % c\n",
        "            if hashcode < minhashcode:\n",
        "                minhashcode = hashcode\n",
        "        signature.append(minhashcode)\n",
        "    return signature"
      ]
    },
    {
      "cell_type": "code",
      "execution_count": 13,
      "id": "5ddef988-8cbb-4c19-859f-3a8a3ad719e2",
      "metadata": {
        "colab": {
          "base_uri": "https://localhost:8080/",
          "height": 0
        },
        "id": "5ddef988-8cbb-4c19-859f-3a8a3ad719e2",
        "outputId": "551b1b61-13c7-4f0b-c15c-7c0c5d387150"
      },
      "outputs": [
        {
          "output_type": "stream",
          "name": "stdout",
          "text": [
            "Min hash signature of 5-shingle construct based on character of document 1:  [0, 0, 1, 0, 2, 0, 1, 7, 0, 5]\n",
            "Min hash signature of 5-shingle construct based on character of document 2:  [0, 0, 2, 3, 1, 0, 0, 2, 6, 7]\n",
            "Min hash signature of 5-shingle construct based on character of document 3:  [2, 1, 3, 2, 2, 0, 1, 7, 9, 0]\n",
            "Min hash signature of 5-shingle construct based on character of document 4:  [1, 1, 2, 1, 0, 0, 2, 3, 1, 0]\n",
            "-------------------------------------------------------------------------------------------------------\n",
            "Min hash signature of 8-shingle construct based on character of document 1:  [1, 1, 1, 0, 0, 2, 2, 0, 0, 0]\n",
            "Min hash signature of 8-shingle construct based on character of document 2:  [4, 1, 2, 1, 0, 0, 0, 6, 2, 1]\n",
            "Min hash signature of 8-shingle construct based on character of document 3:  [3, 2, 2, 8, 6, 0, 8, 0, 2, 1]\n",
            "Min hash signature of 8-shingle construct based on character of document 4:  [0, 2, 8, 1, 0, 0, 0, 5, 1, 1]\n",
            "-------------------------------------------------------------------------------------------------------\n",
            "Min hash signature of 4-shingle construct based on words of document 1:  [0, 11, 4, 4, 4, 7, 12, 0, 1, 3]\n",
            "Min hash signature of 4-shingle construct based on words of document 2:  [5, 8, 2, 2, 7, 8, 13, 4, 3, 7]\n",
            "Min hash signature of 4-shingle construct based on words of document 3:  [1, 8, 5, 6, 1, 1, 33, 11, 34, 26]\n",
            "Min hash signature of 4-shingle construct based on words of document 4:  [2, 1, 1, 0, 7, 7, 10, 5, 2, 4]\n"
          ]
        }
      ],
      "source": [
        "# signatures for 5-shingles based on characters\n",
        "d1_sign_5 = minhash_signatures(10, d1_shingles_5)\n",
        "d2_sign_5 = minhash_signatures(10, d2_shingles_5)\n",
        "d3_sign_5 = minhash_signatures(10, d3_shingles_5)\n",
        "d4_sign_5 = minhash_signatures(10, d4_shingles_5)\n",
        "\n",
        "print(\"Min hash signature of 5-shingle construct based on character of document 1: \", d1_sign_5)\n",
        "print(\"Min hash signature of 5-shingle construct based on character of document 2: \", d2_sign_5)\n",
        "print(\"Min hash signature of 5-shingle construct based on character of document 3: \", d3_sign_5)\n",
        "print(\"Min hash signature of 5-shingle construct based on character of document 4: \", d4_sign_5)\n",
        "print(\"-------------------------------------------------------------------------------------------------------\")\n",
        "\n",
        "# signatures for 8-shingles based on characters\n",
        "d1_sign_8 = minhash_signatures(10, d1_shingles_8)\n",
        "d2_sign_8 = minhash_signatures(10, d2_shingles_8)\n",
        "d3_sign_8 = minhash_signatures(10, d3_shingles_8)\n",
        "d4_sign_8 = minhash_signatures(10, d4_shingles_8)\n",
        "\n",
        "print(\"Min hash signature of 8-shingle construct based on character of document 1: \", d1_sign_8)\n",
        "print(\"Min hash signature of 8-shingle construct based on character of document 2: \", d2_sign_8)\n",
        "print(\"Min hash signature of 8-shingle construct based on character of document 3: \", d3_sign_8)\n",
        "print(\"Min hash signature of 8-shingle construct based on character of document 4: \", d4_sign_8)\n",
        "print(\"-------------------------------------------------------------------------------------------------------\")\n",
        "\n",
        "# signatures for 4-shingles based on words\n",
        "d1_sign_4 = minhash_signatures(10, d1_shingles_4)\n",
        "d2_sign_4 = minhash_signatures(10, d2_shingles_4)\n",
        "d3_sign_4 = minhash_signatures(10, d3_shingles_4)\n",
        "d4_sign_4 = minhash_signatures(10, d4_shingles_4)\n",
        "\n",
        "print(\"Min hash signature of 4-shingle construct based on words of document 1: \", d1_sign_4)\n",
        "print(\"Min hash signature of 4-shingle construct based on words of document 2: \", d2_sign_4)\n",
        "print(\"Min hash signature of 4-shingle construct based on words of document 3: \", d3_sign_4)\n",
        "print(\"Min hash signature of 4-shingle construct based on words of document 4: \", d4_sign_4)"
      ]
    },
    {
      "cell_type": "code",
      "execution_count": 14,
      "id": "0af9404b-cb5b-4b32-b055-23633ed0c444",
      "metadata": {
        "colab": {
          "base_uri": "https://localhost:8080/",
          "height": 0
        },
        "id": "0af9404b-cb5b-4b32-b055-23633ed0c444",
        "outputId": "7a2230c0-dc6b-472f-8058-6e0b97baaa0e"
      },
      "outputs": [
        {
          "output_type": "stream",
          "name": "stdout",
          "text": [
            "Jaccard distance between signature 1 and signature 2 for 5-shingling based on characters:  0.4285714285714286\n",
            "Jaccard distance between signature 1 and signature 3 for 5-shingling based on characters:  0.4285714285714286\n",
            "Jaccard distance between signature 1 and signature 4 for 5-shingling based on characters:  0.5\n",
            "Jaccard distance between signature 2 and signature 3 for 5-shingling based on characters:  0.2857142857142857\n",
            "Jaccard distance between signature 2 and signature 4 for 5-shingling based on characters:  0.33333333333333337\n",
            "Jaccard distance between signature 3 and signature 4 for 5-shingling based on characters:  0.33333333333333337\n",
            "---------------------------------------------------------------------------------------------------------------------\n",
            "Jaccard distance between signature 1 and signature 2 for 8-shingling based on characters:  0.4\n",
            "Jaccard distance between signature 1 and signature 3 for 8-shingling based on characters:  0.5\n",
            "Jaccard distance between signature 1 and signature 4 for 8-shingling based on characters:  0.4\n",
            "Jaccard distance between signature 2 and signature 3 for 8-shingling based on characters:  0.4285714285714286\n",
            "Jaccard distance between signature 2 and signature 4 for 8-shingling based on characters:  0.5714285714285714\n",
            "Jaccard distance between signature 3 and signature 4 for 8-shingling based on characters:  0.4285714285714286\n",
            "---------------------------------------------------------------------------------------------------------------------\n",
            "Jaccard distance between signature 1 and signature 2 for 4-shingling based on words:  0.7272727272727273\n",
            "Jaccard distance between signature 1 and signature 3 for 4-shingling based on words:  0.8461538461538461\n",
            "Jaccard distance between signature 1 and signature 4 for 4-shingling based on words:  0.6\n",
            "Jaccard distance between signature 2 and signature 3 for 4-shingling based on words:  0.8461538461538461\n",
            "Jaccard distance between signature 2 and signature 4 for 4-shingling based on words:  0.6\n",
            "Jaccard distance between signature 3 and signature 4 for 4-shingling based on words:  0.8461538461538461\n"
          ]
        }
      ],
      "source": [
        "# Jaccard distance for all pairs 5-shingles based on characters min-hash signatures\n",
        "print(\n",
        "    \"Jaccard distance between signature 1 and signature 2 for 5-shingling based on characters: \",\n",
        "    jaccard_dist(d1_sign_5, d2_sign_5),\n",
        ")\n",
        "print(\n",
        "    \"Jaccard distance between signature 1 and signature 3 for 5-shingling based on characters: \",\n",
        "    jaccard_dist(d1_sign_5, d3_sign_5),\n",
        ")\n",
        "print(\n",
        "    \"Jaccard distance between signature 1 and signature 4 for 5-shingling based on characters: \",\n",
        "    jaccard_dist(d1_sign_5, d4_sign_5),\n",
        ")\n",
        "print(\n",
        "    \"Jaccard distance between signature 2 and signature 3 for 5-shingling based on characters: \",\n",
        "    jaccard_dist(d2_sign_5, d3_sign_5),\n",
        ")\n",
        "print(\n",
        "    \"Jaccard distance between signature 2 and signature 4 for 5-shingling based on characters: \",\n",
        "    jaccard_dist(d2_sign_5, d4_sign_5),\n",
        ")\n",
        "print(\n",
        "    \"Jaccard distance between signature 3 and signature 4 for 5-shingling based on characters: \",\n",
        "    jaccard_dist(d3_sign_5, d4_sign_5),\n",
        ")\n",
        "print(\n",
        "    \"---------------------------------------------------------------------------------------------------------------------\"\n",
        ")\n",
        "\n",
        "# Jaccard distance for all pairs 8-shingles based on characters min-hash signatures\n",
        "print(\n",
        "    \"Jaccard distance between signature 1 and signature 2 for 8-shingling based on characters: \",\n",
        "    jaccard_dist(d1_sign_8, d2_sign_8),\n",
        ")\n",
        "print(\n",
        "    \"Jaccard distance between signature 1 and signature 3 for 8-shingling based on characters: \",\n",
        "    jaccard_dist(d1_sign_8, d3_sign_8),\n",
        ")\n",
        "print(\n",
        "    \"Jaccard distance between signature 1 and signature 4 for 8-shingling based on characters: \",\n",
        "    jaccard_dist(d1_sign_8, d4_sign_8),\n",
        ")\n",
        "print(\n",
        "    \"Jaccard distance between signature 2 and signature 3 for 8-shingling based on characters: \",\n",
        "    jaccard_dist(d2_sign_8, d3_sign_8),\n",
        ")\n",
        "print(\n",
        "    \"Jaccard distance between signature 2 and signature 4 for 8-shingling based on characters: \",\n",
        "    jaccard_dist(d2_sign_8, d4_sign_8),\n",
        ")\n",
        "print(\n",
        "    \"Jaccard distance between signature 3 and signature 4 for 8-shingling based on characters: \",\n",
        "    jaccard_dist(d3_sign_8, d4_sign_8),\n",
        ")\n",
        "print(\n",
        "    \"---------------------------------------------------------------------------------------------------------------------\"\n",
        ")\n",
        "\n",
        "# Jaccard distance for all pairs 4-shingles based on words min-hash signatures\n",
        "print(\n",
        "    \"Jaccard distance between signature 1 and signature 2 for 4-shingling based on words: \",\n",
        "    jaccard_dist(d1_sign_4, d2_sign_4),\n",
        ")\n",
        "print(\n",
        "    \"Jaccard distance between signature 1 and signature 3 for 4-shingling based on words: \",\n",
        "    jaccard_dist(d1_sign_4, d3_sign_4),\n",
        ")\n",
        "print(\n",
        "    \"Jaccard distance between signature 1 and signature 4 for 4-shingling based on words: \",\n",
        "    jaccard_dist(d1_sign_4, d4_sign_4),\n",
        ")\n",
        "print(\n",
        "    \"Jaccard distance between signature 2 and signature 3 for 4-shingling based on words: \",\n",
        "    jaccard_dist(d2_sign_4, d3_sign_4),\n",
        ")\n",
        "print(\n",
        "    \"Jaccard distance between signature 2 and signature 4 for 4-shingling based on words: \",\n",
        "    jaccard_dist(d2_sign_4, d4_sign_4),\n",
        ")\n",
        "print(\n",
        "    \"Jaccard distance between signature 3 and signature 4 for 4-shingling based on words: \",\n",
        "    jaccard_dist(d3_sign_4, d4_sign_4),\n",
        ")"
      ]
    },
    {
      "cell_type": "markdown",
      "id": "5c23afc7-0615-4088-aa2e-b2f451ed9c33",
      "metadata": {
        "id": "5c23afc7-0615-4088-aa2e-b2f451ed9c33"
      },
      "source": [
        "### Conclusion\n",
        "\n",
        "I generated the different k-shingles specified in the tasks & calculated the Jaccard and Levenshtein distance between the generated k-shingles. The above experiment was also performed for the Indian Language - Kannada. Then I made a function to generate the min-hash signature of the above generated shingles. Min-hashing is the process of compressing generated sets of unique shingles into smaller representations called 'signatures'. Larger the value of hashes(number of permutations), larger the size of the signature and more accurate representation of the shingles. The purpose of using min-hashing is to get a faster approximation of the jaccard distance but it is not completely accurate."
      ]
    }
  ],
  "metadata": {
    "kernelspec": {
      "display_name": "Python 3 (ipykernel)",
      "language": "python",
      "name": "python3"
    },
    "language_info": {
      "codemirror_mode": {
        "name": "ipython",
        "version": 3
      },
      "file_extension": ".py",
      "mimetype": "text/x-python",
      "name": "python",
      "nbconvert_exporter": "python",
      "pygments_lexer": "ipython3",
      "version": "3.9.10"
    },
    "colab": {
      "name": "191IT234_Niraj-Nandish_DA-Assignment-2.ipynb",
      "provenance": [],
      "collapsed_sections": []
    }
  },
  "nbformat": 4,
  "nbformat_minor": 5
}