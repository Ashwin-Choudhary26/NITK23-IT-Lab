{
 "cells": [
  {
   "cell_type": "markdown",
   "metadata": {},
   "source": [
    "# IT 302\n",
    "## Assignment 1\n",
    "\n",
    "### Name: Niraj Nandish\n",
    "### Roll no.: 191IT234"
   ]
  },
  {
   "cell_type": "markdown",
   "metadata": {},
   "source": [
    "### Importing necessary libraries"
   ]
  },
  {
   "cell_type": "code",
   "execution_count": null,
   "metadata": {
    "_cell_guid": "b1076dfc-b9ad-4769-8c92-a6c4dae69d19",
    "_uuid": "8f2839f25d086af736a60e9eeb907d3b93b6e0e5",
    "execution": {
     "iopub.execute_input": "2021-09-01T19:52:05.328988Z",
     "iopub.status.busy": "2021-09-01T19:52:05.328597Z",
     "iopub.status.idle": "2021-09-01T19:52:06.780445Z",
     "shell.execute_reply": "2021-09-01T19:52:06.779338Z",
     "shell.execute_reply.started": "2021-09-01T19:52:05.328905Z"
    }
   },
   "outputs": [],
   "source": [
    "import pandas as pd\n",
    "import numpy as np\n",
    "import matplotlib.pyplot as plt\n",
    "import seaborn as sns\n",
    "from sklearn import feature_extraction, model_selection, naive_bayes, pipeline, manifold, preprocessing"
   ]
  },
  {
   "cell_type": "markdown",
   "metadata": {},
   "source": [
    "### Reading the dataset"
   ]
  },
  {
   "cell_type": "code",
   "execution_count": 2,
   "metadata": {
    "execution": {
     "iopub.execute_input": "2021-09-01T19:52:06.784439Z",
     "iopub.status.busy": "2021-09-01T19:52:06.784045Z",
     "iopub.status.idle": "2021-09-01T19:52:06.921298Z",
     "shell.execute_reply": "2021-09-01T19:52:06.919894Z",
     "shell.execute_reply.started": "2021-09-01T19:52:06.784407Z"
    }
   },
   "outputs": [],
   "source": [
    "df = pd.read_csv('spam_ham_dataset.csv')"
   ]
  },
  {
   "cell_type": "code",
   "execution_count": 3,
   "metadata": {
    "execution": {
     "iopub.execute_input": "2021-09-01T19:52:06.923575Z",
     "iopub.status.busy": "2021-09-01T19:52:06.923280Z",
     "iopub.status.idle": "2021-09-01T19:52:06.952369Z",
     "shell.execute_reply": "2021-09-01T19:52:06.951438Z",
     "shell.execute_reply.started": "2021-09-01T19:52:06.923547Z"
    }
   },
   "outputs": [
    {
     "data": {
      "text/html": [
       "<div>\n",
       "<style scoped>\n",
       "    .dataframe tbody tr th:only-of-type {\n",
       "        vertical-align: middle;\n",
       "    }\n",
       "\n",
       "    .dataframe tbody tr th {\n",
       "        vertical-align: top;\n",
       "    }\n",
       "\n",
       "    .dataframe thead th {\n",
       "        text-align: right;\n",
       "    }\n",
       "</style>\n",
       "<table border=\"1\" class=\"dataframe\">\n",
       "  <thead>\n",
       "    <tr style=\"text-align: right;\">\n",
       "      <th></th>\n",
       "      <th>Unnamed: 0</th>\n",
       "      <th>label</th>\n",
       "      <th>text</th>\n",
       "      <th>label_num</th>\n",
       "    </tr>\n",
       "  </thead>\n",
       "  <tbody>\n",
       "    <tr>\n",
       "      <th>0</th>\n",
       "      <td>605</td>\n",
       "      <td>ham</td>\n",
       "      <td>Subject: enron methanol ; meter # : 988291\\r\\n...</td>\n",
       "      <td>0</td>\n",
       "    </tr>\n",
       "    <tr>\n",
       "      <th>1</th>\n",
       "      <td>2349</td>\n",
       "      <td>ham</td>\n",
       "      <td>Subject: hpl nom for january 9 , 2001\\r\\n( see...</td>\n",
       "      <td>0</td>\n",
       "    </tr>\n",
       "    <tr>\n",
       "      <th>2</th>\n",
       "      <td>3624</td>\n",
       "      <td>ham</td>\n",
       "      <td>Subject: neon retreat\\r\\nho ho ho , we ' re ar...</td>\n",
       "      <td>0</td>\n",
       "    </tr>\n",
       "    <tr>\n",
       "      <th>3</th>\n",
       "      <td>4685</td>\n",
       "      <td>spam</td>\n",
       "      <td>Subject: photoshop , windows , office . cheap ...</td>\n",
       "      <td>1</td>\n",
       "    </tr>\n",
       "    <tr>\n",
       "      <th>4</th>\n",
       "      <td>2030</td>\n",
       "      <td>ham</td>\n",
       "      <td>Subject: re : indian springs\\r\\nthis deal is t...</td>\n",
       "      <td>0</td>\n",
       "    </tr>\n",
       "  </tbody>\n",
       "</table>\n",
       "</div>"
      ],
      "text/plain": [
       "   Unnamed: 0 label                                               text  \\\n",
       "0         605   ham  Subject: enron methanol ; meter # : 988291\\r\\n...   \n",
       "1        2349   ham  Subject: hpl nom for january 9 , 2001\\r\\n( see...   \n",
       "2        3624   ham  Subject: neon retreat\\r\\nho ho ho , we ' re ar...   \n",
       "3        4685  spam  Subject: photoshop , windows , office . cheap ...   \n",
       "4        2030   ham  Subject: re : indian springs\\r\\nthis deal is t...   \n",
       "\n",
       "   label_num  \n",
       "0          0  \n",
       "1          0  \n",
       "2          0  \n",
       "3          1  \n",
       "4          0  "
      ]
     },
     "execution_count": 3,
     "metadata": {},
     "output_type": "execute_result"
    }
   ],
   "source": [
    "df.head()"
   ]
  },
  {
   "cell_type": "markdown",
   "metadata": {},
   "source": [
    "### Splitting of data into two sets ie. train & test set"
   ]
  },
  {
   "cell_type": "code",
   "execution_count": 4,
   "metadata": {
    "execution": {
     "iopub.execute_input": "2021-09-01T19:52:06.954070Z",
     "iopub.status.busy": "2021-09-01T19:52:06.953794Z",
     "iopub.status.idle": "2021-09-01T19:52:06.961256Z",
     "shell.execute_reply": "2021-09-01T19:52:06.960257Z",
     "shell.execute_reply.started": "2021-09-01T19:52:06.954042Z"
    }
   },
   "outputs": [],
   "source": [
    "X = df.text\n",
    "y = df.label_num"
   ]
  },
  {
   "cell_type": "code",
   "execution_count": 5,
   "metadata": {
    "execution": {
     "iopub.execute_input": "2021-09-01T19:52:06.963364Z",
     "iopub.status.busy": "2021-09-01T19:52:06.962912Z",
     "iopub.status.idle": "2021-09-01T19:52:06.972998Z",
     "shell.execute_reply": "2021-09-01T19:52:06.972247Z",
     "shell.execute_reply.started": "2021-09-01T19:52:06.963321Z"
    }
   },
   "outputs": [],
   "source": [
    "skf = model_selection.StratifiedKFold(n_splits=5)"
   ]
  },
  {
   "cell_type": "code",
   "execution_count": 6,
   "metadata": {
    "execution": {
     "iopub.execute_input": "2021-09-01T19:52:06.974968Z",
     "iopub.status.busy": "2021-09-01T19:52:06.974533Z",
     "iopub.status.idle": "2021-09-01T19:52:06.992081Z",
     "shell.execute_reply": "2021-09-01T19:52:06.991232Z",
     "shell.execute_reply.started": "2021-09-01T19:52:06.974926Z"
    }
   },
   "outputs": [],
   "source": [
    "train, test = next(skf.split(X, y))"
   ]
  },
  {
   "cell_type": "code",
   "execution_count": 7,
   "metadata": {
    "execution": {
     "iopub.execute_input": "2021-09-01T19:52:06.994101Z",
     "iopub.status.busy": "2021-09-01T19:52:06.993630Z",
     "iopub.status.idle": "2021-09-01T19:52:07.003103Z",
     "shell.execute_reply": "2021-09-01T19:52:07.002237Z",
     "shell.execute_reply.started": "2021-09-01T19:52:06.994069Z"
    }
   },
   "outputs": [],
   "source": [
    "X_train, X_test = X.iloc[train], X.iloc[test]\n",
    "y_train, y_test = y[train], y[test]"
   ]
  },
  {
   "cell_type": "markdown",
   "metadata": {},
   "source": [
    "## Preprocessing\n",
    "### Vector of counts of unique words in a sentence"
   ]
  },
  {
   "cell_type": "code",
   "execution_count": 8,
   "metadata": {
    "execution": {
     "iopub.execute_input": "2021-09-01T19:52:07.006328Z",
     "iopub.status.busy": "2021-09-01T19:52:07.005752Z",
     "iopub.status.idle": "2021-09-01T19:52:07.012883Z",
     "shell.execute_reply": "2021-09-01T19:52:07.012217Z",
     "shell.execute_reply.started": "2021-09-01T19:52:07.006291Z"
    }
   },
   "outputs": [],
   "source": [
    "count_vectorizer = feature_extraction.text.CountVectorizer(min_df=100, stop_words='english')"
   ]
  },
  {
   "cell_type": "code",
   "execution_count": 9,
   "metadata": {
    "execution": {
     "iopub.execute_input": "2021-09-01T19:52:07.014635Z",
     "iopub.status.busy": "2021-09-01T19:52:07.014125Z",
     "iopub.status.idle": "2021-09-01T19:52:07.670183Z",
     "shell.execute_reply": "2021-09-01T19:52:07.669294Z",
     "shell.execute_reply.started": "2021-09-01T19:52:07.014606Z"
    }
   },
   "outputs": [],
   "source": [
    "X_train_counts = count_vectorizer.fit_transform(X_train)\n",
    "X_test_counts = count_vectorizer.transform(X_test)"
   ]
  },
  {
   "cell_type": "code",
   "execution_count": 10,
   "metadata": {
    "execution": {
     "iopub.execute_input": "2021-09-01T19:52:07.672692Z",
     "iopub.status.busy": "2021-09-01T19:52:07.672245Z",
     "iopub.status.idle": "2021-09-01T19:52:07.686839Z",
     "shell.execute_reply": "2021-09-01T19:52:07.685698Z",
     "shell.execute_reply.started": "2021-09-01T19:52:07.672646Z"
    }
   },
   "outputs": [],
   "source": [
    "X_train_counts_df = pd.DataFrame(X_train_counts.toarray())\n",
    "y_t = y_train.reset_index(drop=True)\n",
    "X_train_counts_df['label'] = y_t"
   ]
  },
  {
   "cell_type": "markdown",
   "metadata": {},
   "source": [
    "## Bayesian model\n",
    "### P(A) = Total probability of mail being spam\n",
    "### P(B) = Probabilty of particular word occuring\n",
    "### P(B/A) = Conditional Probability of word occuring in a spam mail\n",
    "### P(A/B) = Probability that given mail is marked as spam"
   ]
  },
  {
   "cell_type": "code",
   "execution_count": 11,
   "metadata": {
    "execution": {
     "iopub.execute_input": "2021-09-01T19:52:07.768684Z",
     "iopub.status.busy": "2021-09-01T19:52:07.768106Z",
     "iopub.status.idle": "2021-09-01T19:52:07.817468Z",
     "shell.execute_reply": "2021-09-01T19:52:07.816563Z",
     "shell.execute_reply.started": "2021-09-01T19:52:07.768642Z"
    }
   },
   "outputs": [],
   "source": [
    "total_prob = {}\n",
    "total_prob[1] = (X_train_counts_df[X_train_counts_df['label'] == 1].sum()).sum()/(X_train_counts_df.sum()).sum()\n",
    "total_prob[0] = 1 - total_prob[1]"
   ]
  },
  {
   "cell_type": "code",
   "execution_count": 12,
   "metadata": {
    "execution": {
     "iopub.execute_input": "2021-09-01T19:52:07.819248Z",
     "iopub.status.busy": "2021-09-01T19:52:07.818680Z",
     "iopub.status.idle": "2021-09-01T19:52:08.199526Z",
     "shell.execute_reply": "2021-09-01T19:52:08.198464Z",
     "shell.execute_reply.started": "2021-09-01T19:52:07.819196Z"
    }
   },
   "outputs": [],
   "source": [
    "mean = {}\n",
    "variance = {}\n",
    "for i in X_train_counts_df.columns:\n",
    "    mean[i] = X_train_counts_df.loc[X_train_counts_df['label'] == 1, i].mean()\n",
    "    variance[i] = X_train_counts_df.loc[X_train_counts_df['label'] == 1, i].var()"
   ]
  },
  {
   "cell_type": "code",
   "execution_count": 13,
   "metadata": {
    "execution": {
     "iopub.execute_input": "2021-09-01T19:52:08.201508Z",
     "iopub.status.busy": "2021-09-01T19:52:08.201031Z",
     "iopub.status.idle": "2021-09-01T19:52:08.393995Z",
     "shell.execute_reply": "2021-09-01T19:52:08.392958Z",
     "shell.execute_reply.started": "2021-09-01T19:52:08.201464Z"
    },
    "scrolled": true
   },
   "outputs": [],
   "source": [
    "condition_probability = {}\n",
    "sum_df = (X_train_counts_df[X_train_counts_df['label'] == 1].sum()).sum()\n",
    "for i in X_train_counts_df.columns:\n",
    "    try: \n",
    "        if i != 'label':\n",
    "            condition_probability[i] = X_train_counts_df.loc[X_train_counts_df['label'] == 1, i].sum()/sum_df\n",
    "    except:\n",
    "        print(i)"
   ]
  },
  {
   "cell_type": "code",
   "execution_count": 14,
   "metadata": {
    "execution": {
     "iopub.execute_input": "2021-09-01T19:52:08.395727Z",
     "iopub.status.busy": "2021-09-01T19:52:08.395341Z",
     "iopub.status.idle": "2021-09-01T19:52:08.401726Z",
     "shell.execute_reply": "2021-09-01T19:52:08.400350Z",
     "shell.execute_reply.started": "2021-09-01T19:52:08.395675Z"
    }
   },
   "outputs": [],
   "source": [
    "def pXY(x, mean_y, variance_y):\n",
    "    p = 1/(np.sqrt(2*np.pi*variance_y)) * np.exp((-(x-mean_y)**2)/(2*variance_y))\n",
    "    if p != p:\n",
    "        p = 1\n",
    "    return p"
   ]
  },
  {
   "cell_type": "code",
   "execution_count": 15,
   "metadata": {
    "execution": {
     "iopub.execute_input": "2021-09-01T19:52:08.403790Z",
     "iopub.status.busy": "2021-09-01T19:52:08.403390Z",
     "iopub.status.idle": "2021-09-01T19:52:37.552486Z",
     "shell.execute_reply": "2021-09-01T19:52:37.551669Z",
     "shell.execute_reply.started": "2021-09-01T19:52:08.403749Z"
    }
   },
   "outputs": [
    {
     "name": "stderr",
     "output_type": "stream",
     "text": [
      "/var/folders/y5/2fpl3jcd4tl5zqfkd89ppzt00000gn/T/ipykernel_24559/203041936.py:2: RuntimeWarning: divide by zero encountered in double_scalars\n",
      "  p = 1/(np.sqrt(2*np.pi*variance_y)) * np.exp((-(x-mean_y)**2)/(2*variance_y))\n",
      "/var/folders/y5/2fpl3jcd4tl5zqfkd89ppzt00000gn/T/ipykernel_24559/203041936.py:2: RuntimeWarning: invalid value encountered in double_scalars\n",
      "  p = 1/(np.sqrt(2*np.pi*variance_y)) * np.exp((-(x-mean_y)**2)/(2*variance_y))\n"
     ]
    }
   ],
   "source": [
    "y_pred = []\n",
    "rows = len(X_train_counts_df)\n",
    "for row in range(rows):\n",
    "    val =  total_prob[1].astype('float64')\n",
    "    for col in X_train_counts_df.columns:\n",
    "        if col != 'label':\n",
    "            val *= pXY(X_train_counts_df.loc[row, col], mean[col], variance[col])\n",
    "    y_pred.append(val)"
   ]
  },
  {
   "cell_type": "markdown",
   "metadata": {},
   "source": [
    "## ROC score"
   ]
  },
  {
   "cell_type": "code",
   "execution_count": 16,
   "metadata": {
    "execution": {
     "iopub.execute_input": "2021-09-01T19:52:37.554320Z",
     "iopub.status.busy": "2021-09-01T19:52:37.553876Z",
     "iopub.status.idle": "2021-09-01T19:52:37.563731Z",
     "shell.execute_reply": "2021-09-01T19:52:37.562718Z",
     "shell.execute_reply.started": "2021-09-01T19:52:37.554279Z"
    }
   },
   "outputs": [
    {
     "data": {
      "text/plain": [
       "0.896685695689547"
      ]
     },
     "execution_count": 16,
     "metadata": {},
     "output_type": "execute_result"
    }
   ],
   "source": [
    "from sklearn import metrics\n",
    "score = metrics.roc_auc_score(y_train, y_pred)\n",
    "score"
   ]
  },
  {
   "cell_type": "markdown",
   "metadata": {},
   "source": [
    "## Precision & Recall curve\n",
    "### Finding best threshold value"
   ]
  },
  {
   "cell_type": "code",
   "execution_count": 17,
   "metadata": {
    "execution": {
     "iopub.execute_input": "2021-09-01T19:52:37.578731Z",
     "iopub.status.busy": "2021-09-01T19:52:37.578223Z",
     "iopub.status.idle": "2021-09-01T19:52:37.588413Z",
     "shell.execute_reply": "2021-09-01T19:52:37.587347Z",
     "shell.execute_reply.started": "2021-09-01T19:52:37.578686Z"
    }
   },
   "outputs": [],
   "source": [
    "from sklearn.metrics import precision_recall_curve\n",
    "precision, recall, thresholds = precision_recall_curve(y_train, y_pred)"
   ]
  },
  {
   "cell_type": "code",
   "execution_count": 18,
   "metadata": {
    "execution": {
     "iopub.execute_input": "2021-09-01T19:52:37.591392Z",
     "iopub.status.busy": "2021-09-01T19:52:37.591049Z",
     "iopub.status.idle": "2021-09-01T19:52:37.755470Z",
     "shell.execute_reply": "2021-09-01T19:52:37.754504Z",
     "shell.execute_reply.started": "2021-09-01T19:52:37.591364Z"
    }
   },
   "outputs": [
    {
     "data": {
      "image/png": "[encoded data removed]",
      "text/plain": [
       "<Figure size 432x288 with 1 Axes>"
      ]
     },
     "metadata": {
      "needs_background": "light"
     },
     "output_type": "display_data"
    }
   ],
   "source": [
    "plt.xlabel('Threshold')\n",
    "plt.ylabel('Precision')\n",
    "plt.plot(thresholds, precision[:-1])\n",
    "plt.show()"
   ]
  },
  {
   "cell_type": "code",
   "execution_count": 19,
   "metadata": {
    "execution": {
     "iopub.execute_input": "2021-09-01T19:52:37.757681Z",
     "iopub.status.busy": "2021-09-01T19:52:37.757293Z",
     "iopub.status.idle": "2021-09-01T19:52:37.999307Z",
     "shell.execute_reply": "2021-09-01T19:52:37.998327Z",
     "shell.execute_reply.started": "2021-09-01T19:52:37.757641Z"
    }
   },
   "outputs": [
    {
     "data": {
      "image/png": "[encoded data removed]",
      "text/plain": [
       "<Figure size 432x288 with 1 Axes>"
      ]
     },
     "metadata": {
      "needs_background": "light"
     },
     "output_type": "display_data"
    }
   ],
   "source": [
    "plt.xlabel('Threshold')\n",
    "plt.ylabel('Recall')\n",
    "plt.plot(thresholds, recall[:-1])\n",
    "plt.show()"
   ]
  },
  {
   "cell_type": "code",
   "execution_count": 20,
   "metadata": {
    "execution": {
     "iopub.execute_input": "2021-09-01T19:52:38.000781Z",
     "iopub.status.busy": "2021-09-01T19:52:38.000483Z",
     "iopub.status.idle": "2021-09-01T19:52:38.132177Z",
     "shell.execute_reply": "2021-09-01T19:52:38.131109Z",
     "shell.execute_reply.started": "2021-09-01T19:52:38.000751Z"
    }
   },
   "outputs": [
    {
     "data": {
      "image/png": "[encoded data removed]",
      "text/plain": [
       "<Figure size 432x288 with 1 Axes>"
      ]
     },
     "metadata": {
      "needs_background": "light"
     },
     "output_type": "display_data"
    }
   ],
   "source": [
    "plt.xlabel('Recall')\n",
    "plt.ylabel('Precision')\n",
    "plt.plot(recall, precision)\n",
    "plt.show()"
   ]
  },
  {
   "cell_type": "markdown",
   "metadata": {
    "execution": {
     "iopub.execute_input": "2021-09-01T18:04:39.112514Z",
     "iopub.status.busy": "2021-09-01T18:04:39.112138Z",
     "iopub.status.idle": "2021-09-01T18:04:39.118697Z",
     "shell.execute_reply": "2021-09-01T18:04:39.117493Z",
     "shell.execute_reply.started": "2021-09-01T18:04:39.112479Z"
    }
   },
   "source": [
    "### It can be seen that the curve is roughly inversely proportional"
   ]
  },
  {
   "cell_type": "code",
   "execution_count": 21,
   "metadata": {
    "execution": {
     "iopub.execute_input": "2021-09-01T19:52:38.142752Z",
     "iopub.status.busy": "2021-09-01T19:52:38.142429Z",
     "iopub.status.idle": "2021-09-01T19:52:38.155750Z",
     "shell.execute_reply": "2021-09-01T19:52:38.154660Z",
     "shell.execute_reply.started": "2021-09-01T19:52:38.142720Z"
    }
   },
   "outputs": [],
   "source": [
    "y_label = y_pred.copy()\n",
    "for i, val in enumerate(y_label):\n",
    "    y_label[i] = val > 1e-10"
   ]
  },
  {
   "cell_type": "code",
   "execution_count": 22,
   "metadata": {
    "execution": {
     "iopub.execute_input": "2021-09-01T19:52:38.157445Z",
     "iopub.status.busy": "2021-09-01T19:52:38.157160Z",
     "iopub.status.idle": "2021-09-01T19:52:38.181665Z",
     "shell.execute_reply": "2021-09-01T19:52:38.180613Z",
     "shell.execute_reply.started": "2021-09-01T19:52:38.157417Z"
    }
   },
   "outputs": [
    {
     "name": "stdout",
     "output_type": "stream",
     "text": [
      "              precision    recall  f1-score   support\n",
      "\n",
      "           0       0.90      0.86      0.88      2937\n",
      "           1       0.70      0.78      0.73      1199\n",
      "\n",
      "    accuracy                           0.84      4136\n",
      "   macro avg       0.80      0.82      0.81      4136\n",
      "weighted avg       0.84      0.84      0.84      4136\n",
      "\n"
     ]
    }
   ],
   "source": [
    "from sklearn.metrics import classification_report\n",
    "print(classification_report(y_train, y_label))"
   ]
  },
  {
   "cell_type": "markdown",
   "metadata": {
    "execution": {
     "iopub.status.busy": "2021-09-01T16:00:36.067503Z",
     "iopub.status.idle": "2021-09-01T16:00:36.067983Z"
    }
   },
   "source": [
    "The best threshold is 1e-10, it can be observed from the precision and recall graph that we need to select a point such that none of the two are compromised. Hence, selecting 1e-10 ensures that neither precision nor recall are too low."
   ]
  },
  {
   "cell_type": "markdown",
   "metadata": {},
   "source": [
    "## Evaluation Metrics for test set"
   ]
  },
  {
   "cell_type": "code",
   "execution_count": 23,
   "metadata": {
    "execution": {
     "iopub.execute_input": "2021-09-01T19:52:38.183519Z",
     "iopub.status.busy": "2021-09-01T19:52:38.183097Z",
     "iopub.status.idle": "2021-09-01T19:52:45.345329Z",
     "shell.execute_reply": "2021-09-01T19:52:45.344224Z",
     "shell.execute_reply.started": "2021-09-01T19:52:38.183475Z"
    }
   },
   "outputs": [
    {
     "name": "stderr",
     "output_type": "stream",
     "text": [
      "/var/folders/y5/2fpl3jcd4tl5zqfkd89ppzt00000gn/T/ipykernel_24559/203041936.py:2: RuntimeWarning: divide by zero encountered in double_scalars\n",
      "  p = 1/(np.sqrt(2*np.pi*variance_y)) * np.exp((-(x-mean_y)**2)/(2*variance_y))\n",
      "/var/folders/y5/2fpl3jcd4tl5zqfkd89ppzt00000gn/T/ipykernel_24559/203041936.py:2: RuntimeWarning: invalid value encountered in double_scalars\n",
      "  p = 1/(np.sqrt(2*np.pi*variance_y)) * np.exp((-(x-mean_y)**2)/(2*variance_y))\n"
     ]
    }
   ],
   "source": [
    "y_pred_test = []\n",
    "X_test_counts_df = pd.DataFrame(X_test_counts.toarray())\n",
    "rows = len(X_test_counts_df)\n",
    "for row in range(rows):\n",
    "    val =  total_prob[1].astype('float64')\n",
    "    for col in X_test_counts_df.columns:\n",
    "        if col != 'label':\n",
    "            val *= pXY(X_test_counts_df.loc[row, col], mean[col], variance[col])\n",
    "    y_pred_test.append(val)"
   ]
  },
  {
   "cell_type": "code",
   "execution_count": 24,
   "metadata": {
    "execution": {
     "iopub.execute_input": "2021-09-01T19:52:45.346925Z",
     "iopub.status.busy": "2021-09-01T19:52:45.346638Z",
     "iopub.status.idle": "2021-09-01T19:52:45.351819Z",
     "shell.execute_reply": "2021-09-01T19:52:45.350883Z",
     "shell.execute_reply.started": "2021-09-01T19:52:45.346897Z"
    }
   },
   "outputs": [],
   "source": [
    "y_label = y_pred_test.copy()\n",
    "for i, val in enumerate(y_label):\n",
    "    y_label[i] = val > 1e-10"
   ]
  },
  {
   "cell_type": "code",
   "execution_count": 25,
   "metadata": {
    "execution": {
     "iopub.execute_input": "2021-09-01T19:52:45.353576Z",
     "iopub.status.busy": "2021-09-01T19:52:45.353236Z",
     "iopub.status.idle": "2021-09-01T19:52:45.377123Z",
     "shell.execute_reply": "2021-09-01T19:52:45.376099Z",
     "shell.execute_reply.started": "2021-09-01T19:52:45.353546Z"
    }
   },
   "outputs": [
    {
     "name": "stdout",
     "output_type": "stream",
     "text": [
      "              precision    recall  f1-score   support\n",
      "\n",
      "           0       0.91      0.88      0.90       735\n",
      "           1       0.73      0.79      0.76       300\n",
      "\n",
      "    accuracy                           0.86      1035\n",
      "   macro avg       0.82      0.84      0.83      1035\n",
      "weighted avg       0.86      0.86      0.86      1035\n",
      "\n"
     ]
    }
   ],
   "source": [
    "from sklearn.metrics import classification_report\n",
    "print(classification_report(y_test, y_label))"
   ]
  },
  {
   "cell_type": "code",
   "execution_count": 26,
   "metadata": {
    "execution": {
     "iopub.execute_input": "2021-09-01T19:52:45.380053Z",
     "iopub.status.busy": "2021-09-01T19:52:45.379220Z",
     "iopub.status.idle": "2021-09-01T19:52:45.557974Z",
     "shell.execute_reply": "2021-09-01T19:52:45.557243Z",
     "shell.execute_reply.started": "2021-09-01T19:52:45.380005Z"
    }
   },
   "outputs": [
    {
     "data": {
      "text/plain": [
       "<sklearn.metrics._plot.confusion_matrix.ConfusionMatrixDisplay at 0x163a6b730>"
      ]
     },
     "execution_count": 26,
     "metadata": {},
     "output_type": "execute_result"
    },
    {
     "data": {
      "image/png": "[encoded data removed]",
      "text/plain": [
       "<Figure size 432x288 with 2 Axes>"
      ]
     },
     "metadata": {
      "needs_background": "light"
     },
     "output_type": "display_data"
    }
   ],
   "source": [
    "from sklearn.metrics import confusion_matrix, ConfusionMatrixDisplay\n",
    "\n",
    "cm = confusion_matrix(y_test, y_label)\n",
    "disp = ConfusionMatrixDisplay(cm)\n",
    "disp.plot()"
   ]
  },
  {
   "cell_type": "markdown",
   "metadata": {},
   "source": [
    "## It can be observed that the proportion of False Positives and True Negatives are small. The prediction is a bit skewed because we are using probability directly for prediction."
   ]
  }
 ],
 "metadata": {
  "interpreter": {
   "hash": "f6121e111b94e9bb0fd10a63a3fedc71fc4fafcb88e6a3a29bb49085cdef906f"
  },
  "kernelspec": {
   "display_name": "Python 3 (ipykernel)",
   "language": "python",
   "name": "python3"
  },
  "language_info": {
   "codemirror_mode": {
    "name": "ipython",
    "version": 3
   },
   "file_extension": ".py",
   "mimetype": "text/x-python",
   "name": "python",
   "nbconvert_exporter": "python",
   "pygments_lexer": "ipython3",
   "version": "3.9.6"
  }
 },
 "nbformat": 4,
 "nbformat_minor": 4
}
