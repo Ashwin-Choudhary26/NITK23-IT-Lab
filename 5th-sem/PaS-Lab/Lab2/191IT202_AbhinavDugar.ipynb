{
 "cells": [
  {
   "cell_type": "markdown",
   "id": "3fef34ec",
   "metadata": {},
   "source": [
    "## Assignment - 2\n",
    "\n",
    "### Import Necessary Libraries"
   ]
  },
  {
   "cell_type": "code",
   "execution_count": 1,
   "id": "bf338054",
   "metadata": {},
   "outputs": [],
   "source": [
    "import pandas as pd\n",
    "import numpy as np\n",
    "import datetime\n",
    "import matplotlib.pyplot as plt\n",
    "import seaborn as sns\n",
    "import matplotlib.dates as mdates\n",
    "from matplotlib.dates import DateFormatter\n",
    "import plotly\n",
    "import plotly.express as px\n",
    "import plotly.graph_objects as go\n",
    "%matplotlib inline"
   ]
  },
  {
   "cell_type": "markdown",
   "id": "b27e9192",
   "metadata": {},
   "source": [
    "### Import Covid-19 Dataset"
   ]
  },
  {
   "cell_type": "code",
   "execution_count": 14,
   "id": "35520468",
   "metadata": {},
   "outputs": [],
   "source": [
    "Covid19India = pd.read_csv('covid_19_india.csv')"
   ]
  },
  {
   "cell_type": "code",
   "execution_count": 15,
   "id": "f8fc2f59",
   "metadata": {},
   "outputs": [
    {
     "data": {
      "text/html": [
       "<div>\n",
       "<style scoped>\n",
       "    .dataframe tbody tr th:only-of-type {\n",
       "        vertical-align: middle;\n",
       "    }\n",
       "\n",
       "    .dataframe tbody tr th {\n",
       "        vertical-align: top;\n",
       "    }\n",
       "\n",
       "    .dataframe thead th {\n",
       "        text-align: right;\n",
       "    }\n",
       "</style>\n",
       "<table border=\"1\" class=\"dataframe\">\n",
       "  <thead>\n",
       "    <tr style=\"text-align: right;\">\n",
       "      <th></th>\n",
       "      <th>Sno</th>\n",
       "      <th>Date</th>\n",
       "      <th>Time</th>\n",
       "      <th>State/UnionTerritory</th>\n",
       "      <th>ConfirmedIndianNational</th>\n",
       "      <th>ConfirmedForeignNational</th>\n",
       "      <th>Cured</th>\n",
       "      <th>Deaths</th>\n",
       "      <th>Confirmed</th>\n",
       "    </tr>\n",
       "  </thead>\n",
       "  <tbody>\n",
       "    <tr>\n",
       "      <th>0</th>\n",
       "      <td>1</td>\n",
       "      <td>2020-01-30</td>\n",
       "      <td>6:00 PM</td>\n",
       "      <td>Kerala</td>\n",
       "      <td>1</td>\n",
       "      <td>0</td>\n",
       "      <td>0</td>\n",
       "      <td>0</td>\n",
       "      <td>1</td>\n",
       "    </tr>\n",
       "    <tr>\n",
       "      <th>1</th>\n",
       "      <td>2</td>\n",
       "      <td>2020-01-31</td>\n",
       "      <td>6:00 PM</td>\n",
       "      <td>Kerala</td>\n",
       "      <td>1</td>\n",
       "      <td>0</td>\n",
       "      <td>0</td>\n",
       "      <td>0</td>\n",
       "      <td>1</td>\n",
       "    </tr>\n",
       "    <tr>\n",
       "      <th>2</th>\n",
       "      <td>3</td>\n",
       "      <td>2020-02-01</td>\n",
       "      <td>6:00 PM</td>\n",
       "      <td>Kerala</td>\n",
       "      <td>2</td>\n",
       "      <td>0</td>\n",
       "      <td>0</td>\n",
       "      <td>0</td>\n",
       "      <td>2</td>\n",
       "    </tr>\n",
       "    <tr>\n",
       "      <th>3</th>\n",
       "      <td>4</td>\n",
       "      <td>2020-02-02</td>\n",
       "      <td>6:00 PM</td>\n",
       "      <td>Kerala</td>\n",
       "      <td>3</td>\n",
       "      <td>0</td>\n",
       "      <td>0</td>\n",
       "      <td>0</td>\n",
       "      <td>3</td>\n",
       "    </tr>\n",
       "    <tr>\n",
       "      <th>4</th>\n",
       "      <td>5</td>\n",
       "      <td>2020-02-03</td>\n",
       "      <td>6:00 PM</td>\n",
       "      <td>Kerala</td>\n",
       "      <td>3</td>\n",
       "      <td>0</td>\n",
       "      <td>0</td>\n",
       "      <td>0</td>\n",
       "      <td>3</td>\n",
       "    </tr>\n",
       "  </tbody>\n",
       "</table>\n",
       "</div>"
      ],
      "text/plain": [
       "   Sno        Date     Time State/UnionTerritory ConfirmedIndianNational  \\\n",
       "0    1  2020-01-30  6:00 PM               Kerala                       1   \n",
       "1    2  2020-01-31  6:00 PM               Kerala                       1   \n",
       "2    3  2020-02-01  6:00 PM               Kerala                       2   \n",
       "3    4  2020-02-02  6:00 PM               Kerala                       3   \n",
       "4    5  2020-02-03  6:00 PM               Kerala                       3   \n",
       "\n",
       "  ConfirmedForeignNational  Cured  Deaths  Confirmed  \n",
       "0                        0      0       0          1  \n",
       "1                        0      0       0          1  \n",
       "2                        0      0       0          2  \n",
       "3                        0      0       0          3  \n",
       "4                        0      0       0          3  "
      ]
     },
     "execution_count": 15,
     "metadata": {},
     "output_type": "execute_result"
    }
   ],
   "source": [
    "Covid19India.head()"
   ]
  },
  {
   "cell_type": "code",
   "execution_count": 16,
   "id": "e2c12e20",
   "metadata": {},
   "outputs": [],
   "source": [
    "Covid19India = Covid19India.drop(['ConfirmedIndianNational', 'ConfirmedForeignNational','Sno'], axis = 1)"
   ]
  },
  {
   "cell_type": "code",
   "execution_count": 17,
   "id": "0cf543b6",
   "metadata": {},
   "outputs": [
    {
     "data": {
      "text/html": [
       "<div>\n",
       "<style scoped>\n",
       "    .dataframe tbody tr th:only-of-type {\n",
       "        vertical-align: middle;\n",
       "    }\n",
       "\n",
       "    .dataframe tbody tr th {\n",
       "        vertical-align: top;\n",
       "    }\n",
       "\n",
       "    .dataframe thead th {\n",
       "        text-align: right;\n",
       "    }\n",
       "</style>\n",
       "<table border=\"1\" class=\"dataframe\">\n",
       "  <thead>\n",
       "    <tr style=\"text-align: right;\">\n",
       "      <th></th>\n",
       "      <th>Date</th>\n",
       "      <th>Time</th>\n",
       "      <th>State/UnionTerritory</th>\n",
       "      <th>Cured</th>\n",
       "      <th>Deaths</th>\n",
       "      <th>Confirmed</th>\n",
       "    </tr>\n",
       "  </thead>\n",
       "  <tbody>\n",
       "    <tr>\n",
       "      <th>0</th>\n",
       "      <td>2020-01-30</td>\n",
       "      <td>6:00 PM</td>\n",
       "      <td>Kerala</td>\n",
       "      <td>0</td>\n",
       "      <td>0</td>\n",
       "      <td>1</td>\n",
       "    </tr>\n",
       "    <tr>\n",
       "      <th>1</th>\n",
       "      <td>2020-01-31</td>\n",
       "      <td>6:00 PM</td>\n",
       "      <td>Kerala</td>\n",
       "      <td>0</td>\n",
       "      <td>0</td>\n",
       "      <td>1</td>\n",
       "    </tr>\n",
       "    <tr>\n",
       "      <th>2</th>\n",
       "      <td>2020-02-01</td>\n",
       "      <td>6:00 PM</td>\n",
       "      <td>Kerala</td>\n",
       "      <td>0</td>\n",
       "      <td>0</td>\n",
       "      <td>2</td>\n",
       "    </tr>\n",
       "    <tr>\n",
       "      <th>3</th>\n",
       "      <td>2020-02-02</td>\n",
       "      <td>6:00 PM</td>\n",
       "      <td>Kerala</td>\n",
       "      <td>0</td>\n",
       "      <td>0</td>\n",
       "      <td>3</td>\n",
       "    </tr>\n",
       "    <tr>\n",
       "      <th>4</th>\n",
       "      <td>2020-02-03</td>\n",
       "      <td>6:00 PM</td>\n",
       "      <td>Kerala</td>\n",
       "      <td>0</td>\n",
       "      <td>0</td>\n",
       "      <td>3</td>\n",
       "    </tr>\n",
       "  </tbody>\n",
       "</table>\n",
       "</div>"
      ],
      "text/plain": [
       "         Date     Time State/UnionTerritory  Cured  Deaths  Confirmed\n",
       "0  2020-01-30  6:00 PM               Kerala      0       0          1\n",
       "1  2020-01-31  6:00 PM               Kerala      0       0          1\n",
       "2  2020-02-01  6:00 PM               Kerala      0       0          2\n",
       "3  2020-02-02  6:00 PM               Kerala      0       0          3\n",
       "4  2020-02-03  6:00 PM               Kerala      0       0          3"
      ]
     },
     "execution_count": 17,
     "metadata": {},
     "output_type": "execute_result"
    }
   ],
   "source": [
    "Covid19India.head()"
   ]
  },
  {
   "cell_type": "markdown",
   "id": "c5435676",
   "metadata": {},
   "source": [
    "### Data Cleaning"
   ]
  },
  {
   "cell_type": "code",
   "execution_count": 18,
   "id": "001e12e4",
   "metadata": {},
   "outputs": [],
   "source": [
    "#Covid19India['State/UnionTerritory'].unique\n",
    "Covid19India['Date'] = pd.to_datetime(Covid19India['Date'], format = '%Y-%m-%d')\n",
    "dropIndex = Covid19India.loc[Covid19India['State/UnionTerritory'] == 'Cases being reassigned to states'].index\n",
    "Covid19India.drop(dropIndex, inplace = True)\n",
    "dropIndex = Covid19India.loc[Covid19India['State/UnionTerritory'] == 'Unassigned'].index\n",
    "Covid19India.drop(dropIndex, inplace = True)"
   ]
  },
  {
   "cell_type": "code",
   "execution_count": 19,
   "id": "3fed0f50",
   "metadata": {},
   "outputs": [],
   "source": [
    "Covid19ToDate = Covid19India.sort_values(['Date', 'Confirmed'],ascending = False)\n",
    "Covid19ToDate.columns = ['Date', 'Time', 'State', 'Cured', 'Deaths', 'Confirmed']\n"
   ]
  },
  {
   "cell_type": "markdown",
   "id": "4b1bc008",
   "metadata": {},
   "source": [
    "### Importing Statewise Vaccination Dataset"
   ]
  },
  {
   "cell_type": "code",
   "execution_count": 20,
   "id": "90fa65d4",
   "metadata": {},
   "outputs": [
    {
     "name": "stdout",
     "output_type": "stream",
     "text": [
      "<class 'pandas.core.frame.DataFrame'>\n",
      "RangeIndex: 7845 entries, 0 to 7844\n",
      "Data columns (total 24 columns):\n",
      " #   Column                               Non-Null Count  Dtype  \n",
      "---  ------                               --------------  -----  \n",
      " 0   Updated On                           7845 non-null   object \n",
      " 1   State                                7845 non-null   object \n",
      " 2   Total Doses Administered             7621 non-null   float64\n",
      " 3   Sessions                             7621 non-null   float64\n",
      " 4    Sites                               7621 non-null   float64\n",
      " 5   First Dose Administered              7621 non-null   float64\n",
      " 6   Second Dose Administered             7621 non-null   float64\n",
      " 7   Male (Doses Administered)            7461 non-null   float64\n",
      " 8   Female (Doses Administered)          7461 non-null   float64\n",
      " 9   Transgender (Doses Administered)     7461 non-null   float64\n",
      " 10   Covaxin (Doses Administered)        7621 non-null   float64\n",
      " 11  CoviShield (Doses Administered)      7621 non-null   float64\n",
      " 12  Sputnik V (Doses Administered)       2995 non-null   float64\n",
      " 13  AEFI                                 5438 non-null   float64\n",
      " 14  18-44 Years (Doses Administered)     1702 non-null   float64\n",
      " 15  45-60 Years (Doses Administered)     1702 non-null   float64\n",
      " 16  60+ Years (Doses Administered)       1702 non-null   float64\n",
      " 17  18-44 Years(Individuals Vaccinated)  3733 non-null   float64\n",
      " 18  45-60 Years(Individuals Vaccinated)  3734 non-null   float64\n",
      " 19  60+ Years(Individuals Vaccinated)    3734 non-null   float64\n",
      " 20  Male(Individuals Vaccinated)         160 non-null    float64\n",
      " 21  Female(Individuals Vaccinated)       160 non-null    float64\n",
      " 22  Transgender(Individuals Vaccinated)  160 non-null    float64\n",
      " 23  Total Individuals Vaccinated         5919 non-null   float64\n",
      "dtypes: float64(22), object(2)\n",
      "memory usage: 1.4+ MB\n"
     ]
    }
   ],
   "source": [
    "CovidVaccine = pd.read_csv('covid_vaccine_statewise.csv')\n",
    "CovidVaccine.info()\n",
    "CovidVaccine.rename(columns={'Updated On': 'Date',\n",
    "                                            'Total Individuals Vaccinated': 'TotalVaccinated',\n",
    "                                           'First Dose Administered':'FirstDose',\n",
    "                                           'Second Dose Administered':'SecondDose',\n",
    "                                           'Male(Individuals Vaccinated)':'Male',\n",
    "                                           'Female(Individuals Vaccinated)':'Female',\n",
    "                                           'Transgender(Individuals Vaccinated)':'Transgender',\n",
    "                                           'Total Covaxin Administered':'TotalCovaxin',\n",
    "                                           'Total CoviShield Administered':'TotalCoviShield'}, inplace=True)\n",
    "CovidVaccine = CovidVaccine[CovidVaccine['TotalVaccinated'].notna()]\n"
   ]
  },
  {
   "cell_type": "code",
   "execution_count": 21,
   "id": "c5145b20",
   "metadata": {},
   "outputs": [
    {
     "data": {
      "text/html": [
       "<div>\n",
       "<style scoped>\n",
       "    .dataframe tbody tr th:only-of-type {\n",
       "        vertical-align: middle;\n",
       "    }\n",
       "\n",
       "    .dataframe tbody tr th {\n",
       "        vertical-align: top;\n",
       "    }\n",
       "\n",
       "    .dataframe thead th {\n",
       "        text-align: right;\n",
       "    }\n",
       "</style>\n",
       "<table border=\"1\" class=\"dataframe\">\n",
       "  <thead>\n",
       "    <tr style=\"text-align: right;\">\n",
       "      <th></th>\n",
       "      <th>Date</th>\n",
       "      <th>State</th>\n",
       "      <th>Total Doses Administered</th>\n",
       "      <th>Sessions</th>\n",
       "      <th>Sites</th>\n",
       "      <th>FirstDose</th>\n",
       "      <th>SecondDose</th>\n",
       "      <th>Male (Doses Administered)</th>\n",
       "      <th>Female (Doses Administered)</th>\n",
       "      <th>Transgender (Doses Administered)</th>\n",
       "      <th>...</th>\n",
       "      <th>18-44 Years (Doses Administered)</th>\n",
       "      <th>45-60 Years (Doses Administered)</th>\n",
       "      <th>60+ Years (Doses Administered)</th>\n",
       "      <th>18-44 Years(Individuals Vaccinated)</th>\n",
       "      <th>45-60 Years(Individuals Vaccinated)</th>\n",
       "      <th>60+ Years(Individuals Vaccinated)</th>\n",
       "      <th>Male</th>\n",
       "      <th>Female</th>\n",
       "      <th>Transgender</th>\n",
       "      <th>TotalVaccinated</th>\n",
       "    </tr>\n",
       "  </thead>\n",
       "  <tbody>\n",
       "    <tr>\n",
       "      <th>2680</th>\n",
       "      <td>31/05/2021</td>\n",
       "      <td>Haryana</td>\n",
       "      <td>5889201.0</td>\n",
       "      <td>217971.0</td>\n",
       "      <td>860.0</td>\n",
       "      <td>4893257.0</td>\n",
       "      <td>995944.0</td>\n",
       "      <td>2644942.0</td>\n",
       "      <td>2247475.0</td>\n",
       "      <td>840.0</td>\n",
       "      <td>...</td>\n",
       "      <td>NaN</td>\n",
       "      <td>NaN</td>\n",
       "      <td>NaN</td>\n",
       "      <td>1369035.0</td>\n",
       "      <td>1788023.0</td>\n",
       "      <td>1732390.0</td>\n",
       "      <td>NaN</td>\n",
       "      <td>NaN</td>\n",
       "      <td>NaN</td>\n",
       "      <td>4893257.0</td>\n",
       "    </tr>\n",
       "    <tr>\n",
       "      <th>4588</th>\n",
       "      <td>31/05/2021</td>\n",
       "      <td>Maharashtra</td>\n",
       "      <td>22586620.0</td>\n",
       "      <td>976894.0</td>\n",
       "      <td>4069.0</td>\n",
       "      <td>18016877.0</td>\n",
       "      <td>4569743.0</td>\n",
       "      <td>9651880.0</td>\n",
       "      <td>8362542.0</td>\n",
       "      <td>2455.0</td>\n",
       "      <td>...</td>\n",
       "      <td>NaN</td>\n",
       "      <td>NaN</td>\n",
       "      <td>NaN</td>\n",
       "      <td>3254156.0</td>\n",
       "      <td>8040667.0</td>\n",
       "      <td>6716914.0</td>\n",
       "      <td>NaN</td>\n",
       "      <td>NaN</td>\n",
       "      <td>NaN</td>\n",
       "      <td>18016877.0</td>\n",
       "    </tr>\n",
       "    <tr>\n",
       "      <th>559</th>\n",
       "      <td>31/05/2021</td>\n",
       "      <td>Andhra Pradesh</td>\n",
       "      <td>9868747.0</td>\n",
       "      <td>523404.0</td>\n",
       "      <td>1019.0</td>\n",
       "      <td>7356423.0</td>\n",
       "      <td>2512324.0</td>\n",
       "      <td>3757692.0</td>\n",
       "      <td>3597643.0</td>\n",
       "      <td>1088.0</td>\n",
       "      <td>...</td>\n",
       "      <td>NaN</td>\n",
       "      <td>NaN</td>\n",
       "      <td>NaN</td>\n",
       "      <td>1099313.0</td>\n",
       "      <td>3715663.0</td>\n",
       "      <td>2539984.0</td>\n",
       "      <td>NaN</td>\n",
       "      <td>NaN</td>\n",
       "      <td>NaN</td>\n",
       "      <td>7356423.0</td>\n",
       "    </tr>\n",
       "    <tr>\n",
       "      <th>7768</th>\n",
       "      <td>31/05/2021</td>\n",
       "      <td>West Bengal</td>\n",
       "      <td>14718135.0</td>\n",
       "      <td>839415.0</td>\n",
       "      <td>2511.0</td>\n",
       "      <td>10838457.0</td>\n",
       "      <td>3879678.0</td>\n",
       "      <td>6050228.0</td>\n",
       "      <td>4786796.0</td>\n",
       "      <td>1433.0</td>\n",
       "      <td>...</td>\n",
       "      <td>NaN</td>\n",
       "      <td>NaN</td>\n",
       "      <td>NaN</td>\n",
       "      <td>2402085.0</td>\n",
       "      <td>4469534.0</td>\n",
       "      <td>3964698.0</td>\n",
       "      <td>NaN</td>\n",
       "      <td>NaN</td>\n",
       "      <td>NaN</td>\n",
       "      <td>10838457.0</td>\n",
       "    </tr>\n",
       "    <tr>\n",
       "      <th>3528</th>\n",
       "      <td>31/05/2021</td>\n",
       "      <td>Karnataka</td>\n",
       "      <td>13683390.0</td>\n",
       "      <td>1243336.0</td>\n",
       "      <td>4934.0</td>\n",
       "      <td>10929687.0</td>\n",
       "      <td>2753703.0</td>\n",
       "      <td>5519056.0</td>\n",
       "      <td>5409055.0</td>\n",
       "      <td>1576.0</td>\n",
       "      <td>...</td>\n",
       "      <td>NaN</td>\n",
       "      <td>NaN</td>\n",
       "      <td>NaN</td>\n",
       "      <td>2154044.0</td>\n",
       "      <td>4795180.0</td>\n",
       "      <td>3976306.0</td>\n",
       "      <td>NaN</td>\n",
       "      <td>NaN</td>\n",
       "      <td>NaN</td>\n",
       "      <td>10929687.0</td>\n",
       "    </tr>\n",
       "    <tr>\n",
       "      <th>...</th>\n",
       "      <td>...</td>\n",
       "      <td>...</td>\n",
       "      <td>...</td>\n",
       "      <td>...</td>\n",
       "      <td>...</td>\n",
       "      <td>...</td>\n",
       "      <td>...</td>\n",
       "      <td>...</td>\n",
       "      <td>...</td>\n",
       "      <td>...</td>\n",
       "      <td>...</td>\n",
       "      <td>...</td>\n",
       "      <td>...</td>\n",
       "      <td>...</td>\n",
       "      <td>...</td>\n",
       "      <td>...</td>\n",
       "      <td>...</td>\n",
       "      <td>...</td>\n",
       "      <td>...</td>\n",
       "      <td>...</td>\n",
       "      <td>...</td>\n",
       "    </tr>\n",
       "    <tr>\n",
       "      <th>3197</th>\n",
       "      <td>01/02/2021</td>\n",
       "      <td>Jharkhand</td>\n",
       "      <td>39147.0</td>\n",
       "      <td>1573.0</td>\n",
       "      <td>274.0</td>\n",
       "      <td>39147.0</td>\n",
       "      <td>0.0</td>\n",
       "      <td>10887.0</td>\n",
       "      <td>28260.0</td>\n",
       "      <td>0.0</td>\n",
       "      <td>...</td>\n",
       "      <td>NaN</td>\n",
       "      <td>NaN</td>\n",
       "      <td>NaN</td>\n",
       "      <td>NaN</td>\n",
       "      <td>NaN</td>\n",
       "      <td>NaN</td>\n",
       "      <td>NaN</td>\n",
       "      <td>NaN</td>\n",
       "      <td>NaN</td>\n",
       "      <td>39147.0</td>\n",
       "    </tr>\n",
       "    <tr>\n",
       "      <th>1288</th>\n",
       "      <td>01/02/2021</td>\n",
       "      <td>Chandigarh</td>\n",
       "      <td>2390.0</td>\n",
       "      <td>106.0</td>\n",
       "      <td>12.0</td>\n",
       "      <td>2390.0</td>\n",
       "      <td>0.0</td>\n",
       "      <td>1278.0</td>\n",
       "      <td>1112.0</td>\n",
       "      <td>0.0</td>\n",
       "      <td>...</td>\n",
       "      <td>NaN</td>\n",
       "      <td>NaN</td>\n",
       "      <td>NaN</td>\n",
       "      <td>NaN</td>\n",
       "      <td>NaN</td>\n",
       "      <td>NaN</td>\n",
       "      <td>NaN</td>\n",
       "      <td>NaN</td>\n",
       "      <td>NaN</td>\n",
       "      <td>2390.0</td>\n",
       "    </tr>\n",
       "    <tr>\n",
       "      <th>4469</th>\n",
       "      <td>01/02/2021</td>\n",
       "      <td>Maharashtra</td>\n",
       "      <td>275348.0</td>\n",
       "      <td>5753.0</td>\n",
       "      <td>744.0</td>\n",
       "      <td>275348.0</td>\n",
       "      <td>0.0</td>\n",
       "      <td>99441.0</td>\n",
       "      <td>175829.0</td>\n",
       "      <td>78.0</td>\n",
       "      <td>...</td>\n",
       "      <td>NaN</td>\n",
       "      <td>NaN</td>\n",
       "      <td>NaN</td>\n",
       "      <td>NaN</td>\n",
       "      <td>NaN</td>\n",
       "      <td>NaN</td>\n",
       "      <td>NaN</td>\n",
       "      <td>NaN</td>\n",
       "      <td>NaN</td>\n",
       "      <td>275348.0</td>\n",
       "    </tr>\n",
       "    <tr>\n",
       "      <th>7013</th>\n",
       "      <td>01/02/2021</td>\n",
       "      <td>Tripura</td>\n",
       "      <td>22996.0</td>\n",
       "      <td>865.0</td>\n",
       "      <td>166.0</td>\n",
       "      <td>22996.0</td>\n",
       "      <td>0.0</td>\n",
       "      <td>4521.0</td>\n",
       "      <td>18475.0</td>\n",
       "      <td>0.0</td>\n",
       "      <td>...</td>\n",
       "      <td>NaN</td>\n",
       "      <td>NaN</td>\n",
       "      <td>NaN</td>\n",
       "      <td>NaN</td>\n",
       "      <td>NaN</td>\n",
       "      <td>NaN</td>\n",
       "      <td>NaN</td>\n",
       "      <td>NaN</td>\n",
       "      <td>NaN</td>\n",
       "      <td>22996.0</td>\n",
       "    </tr>\n",
       "    <tr>\n",
       "      <th>7437</th>\n",
       "      <td>01/02/2021</td>\n",
       "      <td>Uttarakhand</td>\n",
       "      <td>32705.0</td>\n",
       "      <td>1021.0</td>\n",
       "      <td>236.0</td>\n",
       "      <td>32705.0</td>\n",
       "      <td>0.0</td>\n",
       "      <td>12311.0</td>\n",
       "      <td>20393.0</td>\n",
       "      <td>1.0</td>\n",
       "      <td>...</td>\n",
       "      <td>NaN</td>\n",
       "      <td>NaN</td>\n",
       "      <td>NaN</td>\n",
       "      <td>NaN</td>\n",
       "      <td>NaN</td>\n",
       "      <td>NaN</td>\n",
       "      <td>NaN</td>\n",
       "      <td>NaN</td>\n",
       "      <td>NaN</td>\n",
       "      <td>32705.0</td>\n",
       "    </tr>\n",
       "  </tbody>\n",
       "</table>\n",
       "<p>5919 rows × 24 columns</p>\n",
       "</div>"
      ],
      "text/plain": [
       "            Date           State  Total Doses Administered   Sessions  \\\n",
       "2680  31/05/2021         Haryana                 5889201.0   217971.0   \n",
       "4588  31/05/2021     Maharashtra                22586620.0   976894.0   \n",
       "559   31/05/2021  Andhra Pradesh                 9868747.0   523404.0   \n",
       "7768  31/05/2021     West Bengal                14718135.0   839415.0   \n",
       "3528  31/05/2021       Karnataka                13683390.0  1243336.0   \n",
       "...          ...             ...                       ...        ...   \n",
       "3197  01/02/2021       Jharkhand                   39147.0     1573.0   \n",
       "1288  01/02/2021      Chandigarh                    2390.0      106.0   \n",
       "4469  01/02/2021     Maharashtra                  275348.0     5753.0   \n",
       "7013  01/02/2021         Tripura                   22996.0      865.0   \n",
       "7437  01/02/2021     Uttarakhand                   32705.0     1021.0   \n",
       "\n",
       "       Sites    FirstDose  SecondDose  Male (Doses Administered)  \\\n",
       "2680    860.0   4893257.0    995944.0                  2644942.0   \n",
       "4588   4069.0  18016877.0   4569743.0                  9651880.0   \n",
       "559    1019.0   7356423.0   2512324.0                  3757692.0   \n",
       "7768   2511.0  10838457.0   3879678.0                  6050228.0   \n",
       "3528   4934.0  10929687.0   2753703.0                  5519056.0   \n",
       "...       ...         ...         ...                        ...   \n",
       "3197    274.0     39147.0         0.0                    10887.0   \n",
       "1288     12.0      2390.0         0.0                     1278.0   \n",
       "4469    744.0    275348.0         0.0                    99441.0   \n",
       "7013    166.0     22996.0         0.0                     4521.0   \n",
       "7437    236.0     32705.0         0.0                    12311.0   \n",
       "\n",
       "      Female (Doses Administered)  Transgender (Doses Administered)  ...  \\\n",
       "2680                    2247475.0                             840.0  ...   \n",
       "4588                    8362542.0                            2455.0  ...   \n",
       "559                     3597643.0                            1088.0  ...   \n",
       "7768                    4786796.0                            1433.0  ...   \n",
       "3528                    5409055.0                            1576.0  ...   \n",
       "...                           ...                               ...  ...   \n",
       "3197                      28260.0                               0.0  ...   \n",
       "1288                       1112.0                               0.0  ...   \n",
       "4469                     175829.0                              78.0  ...   \n",
       "7013                      18475.0                               0.0  ...   \n",
       "7437                      20393.0                               1.0  ...   \n",
       "\n",
       "      18-44 Years (Doses Administered)  45-60 Years (Doses Administered)  \\\n",
       "2680                               NaN                               NaN   \n",
       "4588                               NaN                               NaN   \n",
       "559                                NaN                               NaN   \n",
       "7768                               NaN                               NaN   \n",
       "3528                               NaN                               NaN   \n",
       "...                                ...                               ...   \n",
       "3197                               NaN                               NaN   \n",
       "1288                               NaN                               NaN   \n",
       "4469                               NaN                               NaN   \n",
       "7013                               NaN                               NaN   \n",
       "7437                               NaN                               NaN   \n",
       "\n",
       "      60+ Years (Doses Administered)  18-44 Years(Individuals Vaccinated)  \\\n",
       "2680                             NaN                            1369035.0   \n",
       "4588                             NaN                            3254156.0   \n",
       "559                              NaN                            1099313.0   \n",
       "7768                             NaN                            2402085.0   \n",
       "3528                             NaN                            2154044.0   \n",
       "...                              ...                                  ...   \n",
       "3197                             NaN                                  NaN   \n",
       "1288                             NaN                                  NaN   \n",
       "4469                             NaN                                  NaN   \n",
       "7013                             NaN                                  NaN   \n",
       "7437                             NaN                                  NaN   \n",
       "\n",
       "      45-60 Years(Individuals Vaccinated)  60+ Years(Individuals Vaccinated)  \\\n",
       "2680                            1788023.0                          1732390.0   \n",
       "4588                            8040667.0                          6716914.0   \n",
       "559                             3715663.0                          2539984.0   \n",
       "7768                            4469534.0                          3964698.0   \n",
       "3528                            4795180.0                          3976306.0   \n",
       "...                                   ...                                ...   \n",
       "3197                                  NaN                                NaN   \n",
       "1288                                  NaN                                NaN   \n",
       "4469                                  NaN                                NaN   \n",
       "7013                                  NaN                                NaN   \n",
       "7437                                  NaN                                NaN   \n",
       "\n",
       "      Male  Female  Transgender  TotalVaccinated  \n",
       "2680   NaN     NaN          NaN        4893257.0  \n",
       "4588   NaN     NaN          NaN       18016877.0  \n",
       "559    NaN     NaN          NaN        7356423.0  \n",
       "7768   NaN     NaN          NaN       10838457.0  \n",
       "3528   NaN     NaN          NaN       10929687.0  \n",
       "...    ...     ...          ...              ...  \n",
       "3197   NaN     NaN          NaN          39147.0  \n",
       "1288   NaN     NaN          NaN           2390.0  \n",
       "4469   NaN     NaN          NaN         275348.0  \n",
       "7013   NaN     NaN          NaN          22996.0  \n",
       "7437   NaN     NaN          NaN          32705.0  \n",
       "\n",
       "[5919 rows x 24 columns]"
      ]
     },
     "execution_count": 21,
     "metadata": {},
     "output_type": "execute_result"
    }
   ],
   "source": [
    "CovidVaccine.head()\n",
    "CovidVaccine.sort_values('Date',ascending = False)"
   ]
  },
  {
   "cell_type": "markdown",
   "id": "77bfbdec",
   "metadata": {},
   "source": [
    "### Plot depecting India's vaccination status"
   ]
  },
  {
   "cell_type": "code",
   "execution_count": 22,
   "id": "9871c4ae",
   "metadata": {},
   "outputs": [
    {
     "name": "stderr",
     "output_type": "stream",
     "text": [
      "/var/folders/y5/2fpl3jcd4tl5zqfkd89ppzt00000gn/T/ipykernel_76537/4013731384.py:6: UserWarning: FixedFormatter should only be used together with FixedLocator\n",
      "  ax.set_yticklabels([0,20,40,60,80,100,120])\n"
     ]
    },
    {
     "data": {
      "image/png": "[encoded data removed]",
      "text/plain": [
       "<Figure size 576x432 with 1 Axes>"
      ]
     },
     "metadata": {
      "needs_background": "light"
     },
     "output_type": "display_data"
    }
   ],
   "source": [
    "fig, ax = plt.subplots(figsize=(8,6))\n",
    "\n",
    "sns.lineplot(data=CovidVaccine[CovidVaccine['State']=='India'], x='Date', y='TotalVaccinated', ax=ax)\n",
    "ax.xaxis.set_major_locator(mdates.MonthLocator(interval=1))\n",
    "ax.set_ylabel('Total Indians Vaccinated so far in millions', fontsize=14)\n",
    "ax.set_yticklabels([0,20,40,60,80,100,120])\n",
    "\n",
    "Xstart, Xend = ax.get_xlim()\n",
    "\n",
    "plt.show()"
   ]
  },
  {
   "cell_type": "markdown",
   "id": "5a4d25a1",
   "metadata": {},
   "source": [
    " We can notice from the above plot that the count of vaccinated individuals is rapidly increasing and around 120 million individuals have already been vaccinated till the recorded date"
   ]
  },
  {
   "cell_type": "markdown",
   "id": "9ea32a97",
   "metadata": {},
   "source": [
    "### Importing CSV with Statewise Population"
   ]
  },
  {
   "cell_type": "code",
   "execution_count": 23,
   "id": "77f431ec",
   "metadata": {},
   "outputs": [
    {
     "ename": "FileNotFoundError",
     "evalue": "[Errno 2] No such file or directory: 'State-Population.csv'",
     "output_type": "error",
     "traceback": [
      "\u001b[0;31m---------------------------------------------------------------------------\u001b[0m",
      "\u001b[0;31mFileNotFoundError\u001b[0m                         Traceback (most recent call last)",
      "\u001b[0;32m/var/folders/y5/2fpl3jcd4tl5zqfkd89ppzt00000gn/T/ipykernel_76537/67376415.py\u001b[0m in \u001b[0;36m<module>\u001b[0;34m\u001b[0m\n\u001b[0;32m----> 1\u001b[0;31m \u001b[0mStatePop\u001b[0m \u001b[0;34m=\u001b[0m \u001b[0mpd\u001b[0m\u001b[0;34m.\u001b[0m\u001b[0mread_csv\u001b[0m\u001b[0;34m(\u001b[0m\u001b[0;34m'State-Population.csv'\u001b[0m\u001b[0;34m)\u001b[0m\u001b[0;34m\u001b[0m\u001b[0;34m\u001b[0m\u001b[0m\n\u001b[0m",
      "\u001b[0;32m~/miniforge3/lib/python3.9/site-packages/pandas/util/_decorators.py\u001b[0m in \u001b[0;36mwrapper\u001b[0;34m(*args, **kwargs)\u001b[0m\n\u001b[1;32m    309\u001b[0m                     \u001b[0mstacklevel\u001b[0m\u001b[0;34m=\u001b[0m\u001b[0mstacklevel\u001b[0m\u001b[0;34m,\u001b[0m\u001b[0;34m\u001b[0m\u001b[0;34m\u001b[0m\u001b[0m\n\u001b[1;32m    310\u001b[0m                 )\n\u001b[0;32m--> 311\u001b[0;31m             \u001b[0;32mreturn\u001b[0m \u001b[0mfunc\u001b[0m\u001b[0;34m(\u001b[0m\u001b[0;34m*\u001b[0m\u001b[0margs\u001b[0m\u001b[0;34m,\u001b[0m \u001b[0;34m**\u001b[0m\u001b[0mkwargs\u001b[0m\u001b[0;34m)\u001b[0m\u001b[0;34m\u001b[0m\u001b[0;34m\u001b[0m\u001b[0m\n\u001b[0m\u001b[1;32m    312\u001b[0m \u001b[0;34m\u001b[0m\u001b[0m\n\u001b[1;32m    313\u001b[0m         \u001b[0;32mreturn\u001b[0m \u001b[0mwrapper\u001b[0m\u001b[0;34m\u001b[0m\u001b[0;34m\u001b[0m\u001b[0m\n",
      "\u001b[0;32m~/miniforge3/lib/python3.9/site-packages/pandas/io/parsers/readers.py\u001b[0m in \u001b[0;36mread_csv\u001b[0;34m(filepath_or_buffer, sep, delimiter, header, names, index_col, usecols, squeeze, prefix, mangle_dupe_cols, dtype, engine, converters, true_values, false_values, skipinitialspace, skiprows, skipfooter, nrows, na_values, keep_default_na, na_filter, verbose, skip_blank_lines, parse_dates, infer_datetime_format, keep_date_col, date_parser, dayfirst, cache_dates, iterator, chunksize, compression, thousands, decimal, lineterminator, quotechar, quoting, doublequote, escapechar, comment, encoding, encoding_errors, dialect, error_bad_lines, warn_bad_lines, on_bad_lines, delim_whitespace, low_memory, memory_map, float_precision, storage_options)\u001b[0m\n\u001b[1;32m    584\u001b[0m     \u001b[0mkwds\u001b[0m\u001b[0;34m.\u001b[0m\u001b[0mupdate\u001b[0m\u001b[0;34m(\u001b[0m\u001b[0mkwds_defaults\u001b[0m\u001b[0;34m)\u001b[0m\u001b[0;34m\u001b[0m\u001b[0;34m\u001b[0m\u001b[0m\n\u001b[1;32m    585\u001b[0m \u001b[0;34m\u001b[0m\u001b[0m\n\u001b[0;32m--> 586\u001b[0;31m     \u001b[0;32mreturn\u001b[0m \u001b[0m_read\u001b[0m\u001b[0;34m(\u001b[0m\u001b[0mfilepath_or_buffer\u001b[0m\u001b[0;34m,\u001b[0m \u001b[0mkwds\u001b[0m\u001b[0;34m)\u001b[0m\u001b[0;34m\u001b[0m\u001b[0;34m\u001b[0m\u001b[0m\n\u001b[0m\u001b[1;32m    587\u001b[0m \u001b[0;34m\u001b[0m\u001b[0m\n\u001b[1;32m    588\u001b[0m \u001b[0;34m\u001b[0m\u001b[0m\n",
      "\u001b[0;32m~/miniforge3/lib/python3.9/site-packages/pandas/io/parsers/readers.py\u001b[0m in \u001b[0;36m_read\u001b[0;34m(filepath_or_buffer, kwds)\u001b[0m\n\u001b[1;32m    480\u001b[0m \u001b[0;34m\u001b[0m\u001b[0m\n\u001b[1;32m    481\u001b[0m     \u001b[0;31m# Create the parser.\u001b[0m\u001b[0;34m\u001b[0m\u001b[0;34m\u001b[0m\u001b[0;34m\u001b[0m\u001b[0m\n\u001b[0;32m--> 482\u001b[0;31m     \u001b[0mparser\u001b[0m \u001b[0;34m=\u001b[0m \u001b[0mTextFileReader\u001b[0m\u001b[0;34m(\u001b[0m\u001b[0mfilepath_or_buffer\u001b[0m\u001b[0;34m,\u001b[0m \u001b[0;34m**\u001b[0m\u001b[0mkwds\u001b[0m\u001b[0;34m)\u001b[0m\u001b[0;34m\u001b[0m\u001b[0;34m\u001b[0m\u001b[0m\n\u001b[0m\u001b[1;32m    483\u001b[0m \u001b[0;34m\u001b[0m\u001b[0m\n\u001b[1;32m    484\u001b[0m     \u001b[0;32mif\u001b[0m \u001b[0mchunksize\u001b[0m \u001b[0;32mor\u001b[0m \u001b[0miterator\u001b[0m\u001b[0;34m:\u001b[0m\u001b[0;34m\u001b[0m\u001b[0;34m\u001b[0m\u001b[0m\n",
      "\u001b[0;32m~/miniforge3/lib/python3.9/site-packages/pandas/io/parsers/readers.py\u001b[0m in \u001b[0;36m__init__\u001b[0;34m(self, f, engine, **kwds)\u001b[0m\n\u001b[1;32m    809\u001b[0m             \u001b[0mself\u001b[0m\u001b[0;34m.\u001b[0m\u001b[0moptions\u001b[0m\u001b[0;34m[\u001b[0m\u001b[0;34m\"has_index_names\"\u001b[0m\u001b[0;34m]\u001b[0m \u001b[0;34m=\u001b[0m \u001b[0mkwds\u001b[0m\u001b[0;34m[\u001b[0m\u001b[0;34m\"has_index_names\"\u001b[0m\u001b[0;34m]\u001b[0m\u001b[0;34m\u001b[0m\u001b[0;34m\u001b[0m\u001b[0m\n\u001b[1;32m    810\u001b[0m \u001b[0;34m\u001b[0m\u001b[0m\n\u001b[0;32m--> 811\u001b[0;31m         \u001b[0mself\u001b[0m\u001b[0;34m.\u001b[0m\u001b[0m_engine\u001b[0m \u001b[0;34m=\u001b[0m \u001b[0mself\u001b[0m\u001b[0;34m.\u001b[0m\u001b[0m_make_engine\u001b[0m\u001b[0;34m(\u001b[0m\u001b[0mself\u001b[0m\u001b[0;34m.\u001b[0m\u001b[0mengine\u001b[0m\u001b[0;34m)\u001b[0m\u001b[0;34m\u001b[0m\u001b[0;34m\u001b[0m\u001b[0m\n\u001b[0m\u001b[1;32m    812\u001b[0m \u001b[0;34m\u001b[0m\u001b[0m\n\u001b[1;32m    813\u001b[0m     \u001b[0;32mdef\u001b[0m \u001b[0mclose\u001b[0m\u001b[0;34m(\u001b[0m\u001b[0mself\u001b[0m\u001b[0;34m)\u001b[0m\u001b[0;34m:\u001b[0m\u001b[0;34m\u001b[0m\u001b[0;34m\u001b[0m\u001b[0m\n",
      "\u001b[0;32m~/miniforge3/lib/python3.9/site-packages/pandas/io/parsers/readers.py\u001b[0m in \u001b[0;36m_make_engine\u001b[0;34m(self, engine)\u001b[0m\n\u001b[1;32m   1038\u001b[0m             )\n\u001b[1;32m   1039\u001b[0m         \u001b[0;31m# error: Too many arguments for \"ParserBase\"\u001b[0m\u001b[0;34m\u001b[0m\u001b[0;34m\u001b[0m\u001b[0;34m\u001b[0m\u001b[0m\n\u001b[0;32m-> 1040\u001b[0;31m         \u001b[0;32mreturn\u001b[0m \u001b[0mmapping\u001b[0m\u001b[0;34m[\u001b[0m\u001b[0mengine\u001b[0m\u001b[0;34m]\u001b[0m\u001b[0;34m(\u001b[0m\u001b[0mself\u001b[0m\u001b[0;34m.\u001b[0m\u001b[0mf\u001b[0m\u001b[0;34m,\u001b[0m \u001b[0;34m**\u001b[0m\u001b[0mself\u001b[0m\u001b[0;34m.\u001b[0m\u001b[0moptions\u001b[0m\u001b[0;34m)\u001b[0m  \u001b[0;31m# type: ignore[call-arg]\u001b[0m\u001b[0;34m\u001b[0m\u001b[0;34m\u001b[0m\u001b[0m\n\u001b[0m\u001b[1;32m   1041\u001b[0m \u001b[0;34m\u001b[0m\u001b[0m\n\u001b[1;32m   1042\u001b[0m     \u001b[0;32mdef\u001b[0m \u001b[0m_failover_to_python\u001b[0m\u001b[0;34m(\u001b[0m\u001b[0mself\u001b[0m\u001b[0;34m)\u001b[0m\u001b[0;34m:\u001b[0m\u001b[0;34m\u001b[0m\u001b[0;34m\u001b[0m\u001b[0m\n",
      "\u001b[0;32m~/miniforge3/lib/python3.9/site-packages/pandas/io/parsers/c_parser_wrapper.py\u001b[0m in \u001b[0;36m__init__\u001b[0;34m(self, src, **kwds)\u001b[0m\n\u001b[1;32m     49\u001b[0m \u001b[0;34m\u001b[0m\u001b[0m\n\u001b[1;32m     50\u001b[0m         \u001b[0;31m# open handles\u001b[0m\u001b[0;34m\u001b[0m\u001b[0;34m\u001b[0m\u001b[0;34m\u001b[0m\u001b[0m\n\u001b[0;32m---> 51\u001b[0;31m         \u001b[0mself\u001b[0m\u001b[0;34m.\u001b[0m\u001b[0m_open_handles\u001b[0m\u001b[0;34m(\u001b[0m\u001b[0msrc\u001b[0m\u001b[0;34m,\u001b[0m \u001b[0mkwds\u001b[0m\u001b[0;34m)\u001b[0m\u001b[0;34m\u001b[0m\u001b[0;34m\u001b[0m\u001b[0m\n\u001b[0m\u001b[1;32m     52\u001b[0m         \u001b[0;32massert\u001b[0m \u001b[0mself\u001b[0m\u001b[0;34m.\u001b[0m\u001b[0mhandles\u001b[0m \u001b[0;32mis\u001b[0m \u001b[0;32mnot\u001b[0m \u001b[0;32mNone\u001b[0m\u001b[0;34m\u001b[0m\u001b[0;34m\u001b[0m\u001b[0m\n\u001b[1;32m     53\u001b[0m \u001b[0;34m\u001b[0m\u001b[0m\n",
      "\u001b[0;32m~/miniforge3/lib/python3.9/site-packages/pandas/io/parsers/base_parser.py\u001b[0m in \u001b[0;36m_open_handles\u001b[0;34m(self, src, kwds)\u001b[0m\n\u001b[1;32m    220\u001b[0m         \u001b[0mLet\u001b[0m \u001b[0mthe\u001b[0m \u001b[0mreaders\u001b[0m \u001b[0mopen\u001b[0m \u001b[0mIOHandles\u001b[0m \u001b[0mafter\u001b[0m \u001b[0mthey\u001b[0m \u001b[0mare\u001b[0m \u001b[0mdone\u001b[0m \u001b[0;32mwith\u001b[0m \u001b[0mtheir\u001b[0m \u001b[0mpotential\u001b[0m \u001b[0mraises\u001b[0m\u001b[0;34m.\u001b[0m\u001b[0;34m\u001b[0m\u001b[0;34m\u001b[0m\u001b[0m\n\u001b[1;32m    221\u001b[0m         \"\"\"\n\u001b[0;32m--> 222\u001b[0;31m         self.handles = get_handle(\n\u001b[0m\u001b[1;32m    223\u001b[0m             \u001b[0msrc\u001b[0m\u001b[0;34m,\u001b[0m\u001b[0;34m\u001b[0m\u001b[0;34m\u001b[0m\u001b[0m\n\u001b[1;32m    224\u001b[0m             \u001b[0;34m\"r\"\u001b[0m\u001b[0;34m,\u001b[0m\u001b[0;34m\u001b[0m\u001b[0;34m\u001b[0m\u001b[0m\n",
      "\u001b[0;32m~/miniforge3/lib/python3.9/site-packages/pandas/io/common.py\u001b[0m in \u001b[0;36mget_handle\u001b[0;34m(path_or_buf, mode, encoding, compression, memory_map, is_text, errors, storage_options)\u001b[0m\n\u001b[1;32m    699\u001b[0m         \u001b[0;32mif\u001b[0m \u001b[0mioargs\u001b[0m\u001b[0;34m.\u001b[0m\u001b[0mencoding\u001b[0m \u001b[0;32mand\u001b[0m \u001b[0;34m\"b\"\u001b[0m \u001b[0;32mnot\u001b[0m \u001b[0;32min\u001b[0m \u001b[0mioargs\u001b[0m\u001b[0;34m.\u001b[0m\u001b[0mmode\u001b[0m\u001b[0;34m:\u001b[0m\u001b[0;34m\u001b[0m\u001b[0;34m\u001b[0m\u001b[0m\n\u001b[1;32m    700\u001b[0m             \u001b[0;31m# Encoding\u001b[0m\u001b[0;34m\u001b[0m\u001b[0;34m\u001b[0m\u001b[0;34m\u001b[0m\u001b[0m\n\u001b[0;32m--> 701\u001b[0;31m             handle = open(\n\u001b[0m\u001b[1;32m    702\u001b[0m                 \u001b[0mhandle\u001b[0m\u001b[0;34m,\u001b[0m\u001b[0;34m\u001b[0m\u001b[0;34m\u001b[0m\u001b[0m\n\u001b[1;32m    703\u001b[0m                 \u001b[0mioargs\u001b[0m\u001b[0;34m.\u001b[0m\u001b[0mmode\u001b[0m\u001b[0;34m,\u001b[0m\u001b[0;34m\u001b[0m\u001b[0;34m\u001b[0m\u001b[0m\n",
      "\u001b[0;31mFileNotFoundError\u001b[0m: [Errno 2] No such file or directory: 'State-Population.csv'"
     ]
    }
   ],
   "source": [
    "StatePop = pd.read_csv('State-Population.csv')"
   ]
  },
  {
   "cell_type": "code",
   "execution_count": null,
   "id": "5e71d512",
   "metadata": {},
   "outputs": [],
   "source": [
    "StatePop = StatePop.drop(['Population-Remove'], axis = 1)"
   ]
  },
  {
   "cell_type": "code",
   "execution_count": null,
   "id": "0bba952a",
   "metadata": {},
   "outputs": [
    {
     "data": {
      "text/html": [
       "<div>\n",
       "<style scoped>\n",
       "    .dataframe tbody tr th:only-of-type {\n",
       "        vertical-align: middle;\n",
       "    }\n",
       "\n",
       "    .dataframe tbody tr th {\n",
       "        vertical-align: top;\n",
       "    }\n",
       "\n",
       "    .dataframe thead th {\n",
       "        text-align: right;\n",
       "    }\n",
       "</style>\n",
       "<table border=\"1\" class=\"dataframe\">\n",
       "  <thead>\n",
       "    <tr style=\"text-align: right;\">\n",
       "      <th></th>\n",
       "      <th>State</th>\n",
       "      <th>Population</th>\n",
       "    </tr>\n",
       "  </thead>\n",
       "  <tbody>\n",
       "    <tr>\n",
       "      <th>0</th>\n",
       "      <td>Andaman and Nicobar Islands</td>\n",
       "      <td>381000</td>\n",
       "    </tr>\n",
       "    <tr>\n",
       "      <th>1</th>\n",
       "      <td>Andhra Pradesh</td>\n",
       "      <td>54681000</td>\n",
       "    </tr>\n",
       "    <tr>\n",
       "      <th>2</th>\n",
       "      <td>Arunachal Pradesh</td>\n",
       "      <td>1384000</td>\n",
       "    </tr>\n",
       "    <tr>\n",
       "      <th>3</th>\n",
       "      <td>Assam</td>\n",
       "      <td>31206000</td>\n",
       "    </tr>\n",
       "    <tr>\n",
       "      <th>4</th>\n",
       "      <td>Bihar</td>\n",
       "      <td>104099000</td>\n",
       "    </tr>\n",
       "    <tr>\n",
       "      <th>5</th>\n",
       "      <td>Chandigarh</td>\n",
       "      <td>1055000</td>\n",
       "    </tr>\n",
       "    <tr>\n",
       "      <th>6</th>\n",
       "      <td>Chhattisgarh</td>\n",
       "      <td>25545000</td>\n",
       "    </tr>\n",
       "    <tr>\n",
       "      <th>7</th>\n",
       "      <td>Dadra and Nagar Haveli and Daman and Diu</td>\n",
       "      <td>587000</td>\n",
       "    </tr>\n",
       "    <tr>\n",
       "      <th>8</th>\n",
       "      <td>Delhi</td>\n",
       "      <td>16788000</td>\n",
       "    </tr>\n",
       "    <tr>\n",
       "      <th>9</th>\n",
       "      <td>Goa</td>\n",
       "      <td>1459000</td>\n",
       "    </tr>\n",
       "    <tr>\n",
       "      <th>10</th>\n",
       "      <td>Gujarat</td>\n",
       "      <td>60440000</td>\n",
       "    </tr>\n",
       "    <tr>\n",
       "      <th>11</th>\n",
       "      <td>Haryana</td>\n",
       "      <td>25351000</td>\n",
       "    </tr>\n",
       "    <tr>\n",
       "      <th>12</th>\n",
       "      <td>Himachal Pradesh</td>\n",
       "      <td>6865000</td>\n",
       "    </tr>\n",
       "    <tr>\n",
       "      <th>13</th>\n",
       "      <td>Jammu and Kashmir</td>\n",
       "      <td>12541000</td>\n",
       "    </tr>\n",
       "    <tr>\n",
       "      <th>14</th>\n",
       "      <td>Jharkhand</td>\n",
       "      <td>32988000</td>\n",
       "    </tr>\n",
       "    <tr>\n",
       "      <th>15</th>\n",
       "      <td>Karnataka</td>\n",
       "      <td>61095000</td>\n",
       "    </tr>\n",
       "    <tr>\n",
       "      <th>16</th>\n",
       "      <td>Kerala</td>\n",
       "      <td>33406000</td>\n",
       "    </tr>\n",
       "    <tr>\n",
       "      <th>17</th>\n",
       "      <td>Ladakh</td>\n",
       "      <td>274000</td>\n",
       "    </tr>\n",
       "    <tr>\n",
       "      <th>18</th>\n",
       "      <td>Lakshadweep</td>\n",
       "      <td>64000</td>\n",
       "    </tr>\n",
       "    <tr>\n",
       "      <th>19</th>\n",
       "      <td>Madhya Pradesh</td>\n",
       "      <td>72627000</td>\n",
       "    </tr>\n",
       "    <tr>\n",
       "      <th>20</th>\n",
       "      <td>Maharashtra</td>\n",
       "      <td>112374000</td>\n",
       "    </tr>\n",
       "    <tr>\n",
       "      <th>21</th>\n",
       "      <td>Manipur</td>\n",
       "      <td>2856000</td>\n",
       "    </tr>\n",
       "    <tr>\n",
       "      <th>22</th>\n",
       "      <td>Meghalaya</td>\n",
       "      <td>2967000</td>\n",
       "    </tr>\n",
       "    <tr>\n",
       "      <th>23</th>\n",
       "      <td>Mizoram</td>\n",
       "      <td>1097000</td>\n",
       "    </tr>\n",
       "    <tr>\n",
       "      <th>24</th>\n",
       "      <td>Nagaland</td>\n",
       "      <td>1979000</td>\n",
       "    </tr>\n",
       "    <tr>\n",
       "      <th>25</th>\n",
       "      <td>Odisha</td>\n",
       "      <td>41974000</td>\n",
       "    </tr>\n",
       "    <tr>\n",
       "      <th>26</th>\n",
       "      <td>Puducherry</td>\n",
       "      <td>1248000</td>\n",
       "    </tr>\n",
       "    <tr>\n",
       "      <th>27</th>\n",
       "      <td>Punjab</td>\n",
       "      <td>27743000</td>\n",
       "    </tr>\n",
       "    <tr>\n",
       "      <th>28</th>\n",
       "      <td>Rajasthan</td>\n",
       "      <td>68548000</td>\n",
       "    </tr>\n",
       "    <tr>\n",
       "      <th>29</th>\n",
       "      <td>Sikkim</td>\n",
       "      <td>611000</td>\n",
       "    </tr>\n",
       "    <tr>\n",
       "      <th>30</th>\n",
       "      <td>Tamil Nadu</td>\n",
       "      <td>72147000</td>\n",
       "    </tr>\n",
       "    <tr>\n",
       "      <th>31</th>\n",
       "      <td>Telangana</td>\n",
       "      <td>35190000</td>\n",
       "    </tr>\n",
       "    <tr>\n",
       "      <th>32</th>\n",
       "      <td>Tripura</td>\n",
       "      <td>3674000</td>\n",
       "    </tr>\n",
       "    <tr>\n",
       "      <th>33</th>\n",
       "      <td>Uttar Pradesh</td>\n",
       "      <td>199812000</td>\n",
       "    </tr>\n",
       "    <tr>\n",
       "      <th>34</th>\n",
       "      <td>Uttarakhand</td>\n",
       "      <td>10086000</td>\n",
       "    </tr>\n",
       "    <tr>\n",
       "      <th>35</th>\n",
       "      <td>West Bengal</td>\n",
       "      <td>91276000</td>\n",
       "    </tr>\n",
       "  </tbody>\n",
       "</table>\n",
       "</div>"
      ],
      "text/plain": [
       "                                       State  Population\n",
       "0                Andaman and Nicobar Islands      381000\n",
       "1                             Andhra Pradesh    54681000\n",
       "2                          Arunachal Pradesh     1384000\n",
       "3                                      Assam    31206000\n",
       "4                                      Bihar   104099000\n",
       "5                                 Chandigarh     1055000\n",
       "6                               Chhattisgarh    25545000\n",
       "7   Dadra and Nagar Haveli and Daman and Diu      587000\n",
       "8                                      Delhi    16788000\n",
       "9                                        Goa     1459000\n",
       "10                                   Gujarat    60440000\n",
       "11                                   Haryana    25351000\n",
       "12                          Himachal Pradesh     6865000\n",
       "13                         Jammu and Kashmir    12541000\n",
       "14                                 Jharkhand    32988000\n",
       "15                                 Karnataka    61095000\n",
       "16                                    Kerala    33406000\n",
       "17                                    Ladakh      274000\n",
       "18                               Lakshadweep       64000\n",
       "19                            Madhya Pradesh    72627000\n",
       "20                               Maharashtra   112374000\n",
       "21                                   Manipur     2856000\n",
       "22                                 Meghalaya     2967000\n",
       "23                                   Mizoram     1097000\n",
       "24                                  Nagaland     1979000\n",
       "25                                    Odisha    41974000\n",
       "26                                Puducherry     1248000\n",
       "27                                    Punjab    27743000\n",
       "28                                 Rajasthan    68548000\n",
       "29                                    Sikkim      611000\n",
       "30                                Tamil Nadu    72147000\n",
       "31                                 Telangana    35190000\n",
       "32                                   Tripura     3674000\n",
       "33                             Uttar Pradesh   199812000\n",
       "34                               Uttarakhand    10086000\n",
       "35                               West Bengal    91276000"
      ]
     },
     "execution_count": 13,
     "metadata": {},
     "output_type": "execute_result"
    }
   ],
   "source": [
    "StatePop"
   ]
  },
  {
   "cell_type": "markdown",
   "id": "9a8a8731",
   "metadata": {},
   "source": [
    "### Getting a list of  top 5 worst hit states in India"
   ]
  },
  {
   "cell_type": "code",
   "execution_count": null,
   "id": "dcb963e4",
   "metadata": {},
   "outputs": [
    {
     "data": {
      "text/plain": [
       "['Maharashtra', 'Kerala', 'Karnataka', 'Tamil Nadu', 'Andhra Pradesh']"
      ]
     },
     "execution_count": 14,
     "metadata": {},
     "output_type": "execute_result"
    }
   ],
   "source": [
    "latest_date = max(CovidVaccine['Date'])\n",
    "LatestDate = Covid19ToDate.reset_index().Date[0]\n",
    "Covid19ToDate = Covid19ToDate[Covid19ToDate['Date'] == LatestDate].sort_values(by='Confirmed', ascending=False)\n",
    "CovidWorstStates = Covid19ToDate.head(5)\n",
    "CovidStates = list(CovidWorstStates.State.head(5))\n",
    "CovidStates"
   ]
  },
  {
   "cell_type": "markdown",
   "id": "6d818ebc",
   "metadata": {},
   "source": [
    "### Creating a dataframe with statistics pertaining to each individual state"
   ]
  },
  {
   "cell_type": "code",
   "execution_count": null,
   "id": "d6706222",
   "metadata": {},
   "outputs": [],
   "source": [
    "#VaccineLatest = CovidVaccine[CovidVaccine['Date'] == latest_date]\n",
    "StateVaccineLatest = CovidVaccine[(CovidVaccine['State'] != 'India') & (CovidVaccine['Date']==latest_date)]\n",
    "StateVaccineLatest = pd.merge(StateVaccineLatest, StatePop, on ='State')"
   ]
  },
  {
   "cell_type": "code",
   "execution_count": null,
   "id": "82e6bab5",
   "metadata": {},
   "outputs": [
    {
     "data": {
      "text/html": [
       "<div>\n",
       "<style scoped>\n",
       "    .dataframe tbody tr th:only-of-type {\n",
       "        vertical-align: middle;\n",
       "    }\n",
       "\n",
       "    .dataframe tbody tr th {\n",
       "        vertical-align: top;\n",
       "    }\n",
       "\n",
       "    .dataframe thead th {\n",
       "        text-align: right;\n",
       "    }\n",
       "</style>\n",
       "<table border=\"1\" class=\"dataframe\">\n",
       "  <thead>\n",
       "    <tr style=\"text-align: right;\">\n",
       "      <th></th>\n",
       "      <th>Date</th>\n",
       "      <th>State</th>\n",
       "      <th>Total Doses Administered</th>\n",
       "      <th>Sessions</th>\n",
       "      <th>Sites</th>\n",
       "      <th>FirstDose</th>\n",
       "      <th>SecondDose</th>\n",
       "      <th>Male (Doses Administered)</th>\n",
       "      <th>Female (Doses Administered)</th>\n",
       "      <th>Transgender (Doses Administered)</th>\n",
       "      <th>...</th>\n",
       "      <th>45-60 Years (Doses Administered)</th>\n",
       "      <th>60+ Years (Doses Administered)</th>\n",
       "      <th>18-44 Years(Individuals Vaccinated)</th>\n",
       "      <th>45-60 Years(Individuals Vaccinated)</th>\n",
       "      <th>60+ Years(Individuals Vaccinated)</th>\n",
       "      <th>Male</th>\n",
       "      <th>Female</th>\n",
       "      <th>Transgender</th>\n",
       "      <th>TotalVaccinated</th>\n",
       "      <th>Population</th>\n",
       "    </tr>\n",
       "  </thead>\n",
       "  <tbody>\n",
       "    <tr>\n",
       "      <th>0</th>\n",
       "      <td>31/05/2021</td>\n",
       "      <td>Andaman and Nicobar Islands</td>\n",
       "      <td>124268.0</td>\n",
       "      <td>1670.0</td>\n",
       "      <td>13.0</td>\n",
       "      <td>109087.0</td>\n",
       "      <td>15181.0</td>\n",
       "      <td>58809.0</td>\n",
       "      <td>50269.0</td>\n",
       "      <td>9.0</td>\n",
       "      <td>...</td>\n",
       "      <td>NaN</td>\n",
       "      <td>NaN</td>\n",
       "      <td>17959.0</td>\n",
       "      <td>60483.0</td>\n",
       "      <td>30642.0</td>\n",
       "      <td>NaN</td>\n",
       "      <td>NaN</td>\n",
       "      <td>NaN</td>\n",
       "      <td>109087.0</td>\n",
       "      <td>381000</td>\n",
       "    </tr>\n",
       "    <tr>\n",
       "      <th>1</th>\n",
       "      <td>31/05/2021</td>\n",
       "      <td>Andhra Pradesh</td>\n",
       "      <td>9868747.0</td>\n",
       "      <td>523404.0</td>\n",
       "      <td>1019.0</td>\n",
       "      <td>7356423.0</td>\n",
       "      <td>2512324.0</td>\n",
       "      <td>3757692.0</td>\n",
       "      <td>3597643.0</td>\n",
       "      <td>1088.0</td>\n",
       "      <td>...</td>\n",
       "      <td>NaN</td>\n",
       "      <td>NaN</td>\n",
       "      <td>1099313.0</td>\n",
       "      <td>3715663.0</td>\n",
       "      <td>2539984.0</td>\n",
       "      <td>NaN</td>\n",
       "      <td>NaN</td>\n",
       "      <td>NaN</td>\n",
       "      <td>7356423.0</td>\n",
       "      <td>54681000</td>\n",
       "    </tr>\n",
       "    <tr>\n",
       "      <th>2</th>\n",
       "      <td>31/05/2021</td>\n",
       "      <td>Arunachal Pradesh</td>\n",
       "      <td>334007.0</td>\n",
       "      <td>11630.0</td>\n",
       "      <td>77.0</td>\n",
       "      <td>255678.0</td>\n",
       "      <td>78329.0</td>\n",
       "      <td>142969.0</td>\n",
       "      <td>112616.0</td>\n",
       "      <td>93.0</td>\n",
       "      <td>...</td>\n",
       "      <td>NaN</td>\n",
       "      <td>NaN</td>\n",
       "      <td>90094.0</td>\n",
       "      <td>119075.0</td>\n",
       "      <td>46470.0</td>\n",
       "      <td>NaN</td>\n",
       "      <td>NaN</td>\n",
       "      <td>NaN</td>\n",
       "      <td>255678.0</td>\n",
       "      <td>1384000</td>\n",
       "    </tr>\n",
       "    <tr>\n",
       "      <th>3</th>\n",
       "      <td>31/05/2021</td>\n",
       "      <td>Assam</td>\n",
       "      <td>4137653.0</td>\n",
       "      <td>141250.0</td>\n",
       "      <td>933.0</td>\n",
       "      <td>3304493.0</td>\n",
       "      <td>833160.0</td>\n",
       "      <td>1793541.0</td>\n",
       "      <td>1510430.0</td>\n",
       "      <td>522.0</td>\n",
       "      <td>...</td>\n",
       "      <td>NaN</td>\n",
       "      <td>NaN</td>\n",
       "      <td>948306.0</td>\n",
       "      <td>1534706.0</td>\n",
       "      <td>821156.0</td>\n",
       "      <td>NaN</td>\n",
       "      <td>NaN</td>\n",
       "      <td>NaN</td>\n",
       "      <td>3304493.0</td>\n",
       "      <td>31206000</td>\n",
       "    </tr>\n",
       "    <tr>\n",
       "      <th>4</th>\n",
       "      <td>31/05/2021</td>\n",
       "      <td>Bihar</td>\n",
       "      <td>10307600.0</td>\n",
       "      <td>593794.0</td>\n",
       "      <td>2052.0</td>\n",
       "      <td>8516097.0</td>\n",
       "      <td>1791503.0</td>\n",
       "      <td>4667304.0</td>\n",
       "      <td>3847222.0</td>\n",
       "      <td>1571.0</td>\n",
       "      <td>...</td>\n",
       "      <td>NaN</td>\n",
       "      <td>NaN</td>\n",
       "      <td>2281461.0</td>\n",
       "      <td>2970872.0</td>\n",
       "      <td>3261439.0</td>\n",
       "      <td>NaN</td>\n",
       "      <td>NaN</td>\n",
       "      <td>NaN</td>\n",
       "      <td>8516097.0</td>\n",
       "      <td>104099000</td>\n",
       "    </tr>\n",
       "    <tr>\n",
       "      <th>5</th>\n",
       "      <td>31/05/2021</td>\n",
       "      <td>Chandigarh</td>\n",
       "      <td>349507.0</td>\n",
       "      <td>17087.0</td>\n",
       "      <td>80.0</td>\n",
       "      <td>274606.0</td>\n",
       "      <td>74901.0</td>\n",
       "      <td>154057.0</td>\n",
       "      <td>120512.0</td>\n",
       "      <td>37.0</td>\n",
       "      <td>...</td>\n",
       "      <td>NaN</td>\n",
       "      <td>NaN</td>\n",
       "      <td>78380.0</td>\n",
       "      <td>119440.0</td>\n",
       "      <td>76701.0</td>\n",
       "      <td>NaN</td>\n",
       "      <td>NaN</td>\n",
       "      <td>NaN</td>\n",
       "      <td>274606.0</td>\n",
       "      <td>1055000</td>\n",
       "    </tr>\n",
       "    <tr>\n",
       "      <th>6</th>\n",
       "      <td>31/05/2021</td>\n",
       "      <td>Chhattisgarh</td>\n",
       "      <td>6240528.0</td>\n",
       "      <td>337893.0</td>\n",
       "      <td>1815.0</td>\n",
       "      <td>5134658.0</td>\n",
       "      <td>1105870.0</td>\n",
       "      <td>2510498.0</td>\n",
       "      <td>2623589.0</td>\n",
       "      <td>571.0</td>\n",
       "      <td>...</td>\n",
       "      <td>NaN</td>\n",
       "      <td>NaN</td>\n",
       "      <td>463343.0</td>\n",
       "      <td>2923024.0</td>\n",
       "      <td>1747945.0</td>\n",
       "      <td>NaN</td>\n",
       "      <td>NaN</td>\n",
       "      <td>NaN</td>\n",
       "      <td>5134658.0</td>\n",
       "      <td>25545000</td>\n",
       "    </tr>\n",
       "    <tr>\n",
       "      <th>7</th>\n",
       "      <td>31/05/2021</td>\n",
       "      <td>Dadra and Nagar Haveli and Daman and Diu</td>\n",
       "      <td>196079.0</td>\n",
       "      <td>15320.0</td>\n",
       "      <td>66.0</td>\n",
       "      <td>170105.0</td>\n",
       "      <td>25974.0</td>\n",
       "      <td>107652.0</td>\n",
       "      <td>62425.0</td>\n",
       "      <td>28.0</td>\n",
       "      <td>...</td>\n",
       "      <td>NaN</td>\n",
       "      <td>NaN</td>\n",
       "      <td>95810.0</td>\n",
       "      <td>53646.0</td>\n",
       "      <td>20580.0</td>\n",
       "      <td>NaN</td>\n",
       "      <td>NaN</td>\n",
       "      <td>NaN</td>\n",
       "      <td>170105.0</td>\n",
       "      <td>587000</td>\n",
       "    </tr>\n",
       "    <tr>\n",
       "      <th>8</th>\n",
       "      <td>31/05/2021</td>\n",
       "      <td>Delhi</td>\n",
       "      <td>5419341.0</td>\n",
       "      <td>152151.0</td>\n",
       "      <td>833.0</td>\n",
       "      <td>4194986.0</td>\n",
       "      <td>1224355.0</td>\n",
       "      <td>2429400.0</td>\n",
       "      <td>1764775.0</td>\n",
       "      <td>811.0</td>\n",
       "      <td>...</td>\n",
       "      <td>NaN</td>\n",
       "      <td>NaN</td>\n",
       "      <td>1529064.0</td>\n",
       "      <td>1644082.0</td>\n",
       "      <td>1019286.0</td>\n",
       "      <td>NaN</td>\n",
       "      <td>NaN</td>\n",
       "      <td>NaN</td>\n",
       "      <td>4194986.0</td>\n",
       "      <td>16788000</td>\n",
       "    </tr>\n",
       "    <tr>\n",
       "      <th>9</th>\n",
       "      <td>31/05/2021</td>\n",
       "      <td>Goa</td>\n",
       "      <td>528955.0</td>\n",
       "      <td>22613.0</td>\n",
       "      <td>59.0</td>\n",
       "      <td>433855.0</td>\n",
       "      <td>95100.0</td>\n",
       "      <td>222586.0</td>\n",
       "      <td>211234.0</td>\n",
       "      <td>35.0</td>\n",
       "      <td>...</td>\n",
       "      <td>NaN</td>\n",
       "      <td>NaN</td>\n",
       "      <td>100973.0</td>\n",
       "      <td>183436.0</td>\n",
       "      <td>149407.0</td>\n",
       "      <td>NaN</td>\n",
       "      <td>NaN</td>\n",
       "      <td>NaN</td>\n",
       "      <td>433855.0</td>\n",
       "      <td>1459000</td>\n",
       "    </tr>\n",
       "    <tr>\n",
       "      <th>10</th>\n",
       "      <td>31/05/2021</td>\n",
       "      <td>Gujarat</td>\n",
       "      <td>17110619.0</td>\n",
       "      <td>385100.0</td>\n",
       "      <td>1857.0</td>\n",
       "      <td>12965663.0</td>\n",
       "      <td>4144956.0</td>\n",
       "      <td>6954068.0</td>\n",
       "      <td>6009885.0</td>\n",
       "      <td>1710.0</td>\n",
       "      <td>...</td>\n",
       "      <td>NaN</td>\n",
       "      <td>NaN</td>\n",
       "      <td>3102409.0</td>\n",
       "      <td>5526556.0</td>\n",
       "      <td>4333882.0</td>\n",
       "      <td>NaN</td>\n",
       "      <td>NaN</td>\n",
       "      <td>NaN</td>\n",
       "      <td>12965663.0</td>\n",
       "      <td>60440000</td>\n",
       "    </tr>\n",
       "    <tr>\n",
       "      <th>11</th>\n",
       "      <td>31/05/2021</td>\n",
       "      <td>Haryana</td>\n",
       "      <td>5889201.0</td>\n",
       "      <td>217971.0</td>\n",
       "      <td>860.0</td>\n",
       "      <td>4893257.0</td>\n",
       "      <td>995944.0</td>\n",
       "      <td>2644942.0</td>\n",
       "      <td>2247475.0</td>\n",
       "      <td>840.0</td>\n",
       "      <td>...</td>\n",
       "      <td>NaN</td>\n",
       "      <td>NaN</td>\n",
       "      <td>1369035.0</td>\n",
       "      <td>1788023.0</td>\n",
       "      <td>1732390.0</td>\n",
       "      <td>NaN</td>\n",
       "      <td>NaN</td>\n",
       "      <td>NaN</td>\n",
       "      <td>4893257.0</td>\n",
       "      <td>25351000</td>\n",
       "    </tr>\n",
       "    <tr>\n",
       "      <th>12</th>\n",
       "      <td>31/05/2021</td>\n",
       "      <td>Himachal Pradesh</td>\n",
       "      <td>2456257.0</td>\n",
       "      <td>34883.0</td>\n",
       "      <td>294.0</td>\n",
       "      <td>2022636.0</td>\n",
       "      <td>433621.0</td>\n",
       "      <td>1007279.0</td>\n",
       "      <td>1015007.0</td>\n",
       "      <td>350.0</td>\n",
       "      <td>...</td>\n",
       "      <td>NaN</td>\n",
       "      <td>NaN</td>\n",
       "      <td>242851.0</td>\n",
       "      <td>1002702.0</td>\n",
       "      <td>776768.0</td>\n",
       "      <td>NaN</td>\n",
       "      <td>NaN</td>\n",
       "      <td>NaN</td>\n",
       "      <td>2022636.0</td>\n",
       "      <td>6865000</td>\n",
       "    </tr>\n",
       "    <tr>\n",
       "      <th>13</th>\n",
       "      <td>31/05/2021</td>\n",
       "      <td>Jammu and Kashmir</td>\n",
       "      <td>3301002.0</td>\n",
       "      <td>287193.0</td>\n",
       "      <td>1164.0</td>\n",
       "      <td>2754861.0</td>\n",
       "      <td>546141.0</td>\n",
       "      <td>1610368.0</td>\n",
       "      <td>1143983.0</td>\n",
       "      <td>510.0</td>\n",
       "      <td>...</td>\n",
       "      <td>NaN</td>\n",
       "      <td>NaN</td>\n",
       "      <td>495969.0</td>\n",
       "      <td>1365732.0</td>\n",
       "      <td>892819.0</td>\n",
       "      <td>NaN</td>\n",
       "      <td>NaN</td>\n",
       "      <td>NaN</td>\n",
       "      <td>2754861.0</td>\n",
       "      <td>12541000</td>\n",
       "    </tr>\n",
       "    <tr>\n",
       "      <th>14</th>\n",
       "      <td>31/05/2021</td>\n",
       "      <td>Jharkhand</td>\n",
       "      <td>4194352.0</td>\n",
       "      <td>231286.0</td>\n",
       "      <td>1105.0</td>\n",
       "      <td>3484293.0</td>\n",
       "      <td>710059.0</td>\n",
       "      <td>1874952.0</td>\n",
       "      <td>1608823.0</td>\n",
       "      <td>518.0</td>\n",
       "      <td>...</td>\n",
       "      <td>NaN</td>\n",
       "      <td>NaN</td>\n",
       "      <td>921240.0</td>\n",
       "      <td>1352798.0</td>\n",
       "      <td>1209346.0</td>\n",
       "      <td>NaN</td>\n",
       "      <td>NaN</td>\n",
       "      <td>NaN</td>\n",
       "      <td>3484293.0</td>\n",
       "      <td>32988000</td>\n",
       "    </tr>\n",
       "    <tr>\n",
       "      <th>15</th>\n",
       "      <td>31/05/2021</td>\n",
       "      <td>Karnataka</td>\n",
       "      <td>13683390.0</td>\n",
       "      <td>1243336.0</td>\n",
       "      <td>4934.0</td>\n",
       "      <td>10929687.0</td>\n",
       "      <td>2753703.0</td>\n",
       "      <td>5519056.0</td>\n",
       "      <td>5409055.0</td>\n",
       "      <td>1576.0</td>\n",
       "      <td>...</td>\n",
       "      <td>NaN</td>\n",
       "      <td>NaN</td>\n",
       "      <td>2154044.0</td>\n",
       "      <td>4795180.0</td>\n",
       "      <td>3976306.0</td>\n",
       "      <td>NaN</td>\n",
       "      <td>NaN</td>\n",
       "      <td>NaN</td>\n",
       "      <td>10929687.0</td>\n",
       "      <td>61095000</td>\n",
       "    </tr>\n",
       "    <tr>\n",
       "      <th>16</th>\n",
       "      <td>31/05/2021</td>\n",
       "      <td>Kerala</td>\n",
       "      <td>9413723.0</td>\n",
       "      <td>272069.0</td>\n",
       "      <td>1237.0</td>\n",
       "      <td>7345141.0</td>\n",
       "      <td>2068582.0</td>\n",
       "      <td>3434903.0</td>\n",
       "      <td>3909178.0</td>\n",
       "      <td>1060.0</td>\n",
       "      <td>...</td>\n",
       "      <td>NaN</td>\n",
       "      <td>NaN</td>\n",
       "      <td>912167.0</td>\n",
       "      <td>2950616.0</td>\n",
       "      <td>3478379.0</td>\n",
       "      <td>NaN</td>\n",
       "      <td>NaN</td>\n",
       "      <td>NaN</td>\n",
       "      <td>7345141.0</td>\n",
       "      <td>33406000</td>\n",
       "    </tr>\n",
       "    <tr>\n",
       "      <th>17</th>\n",
       "      <td>31/05/2021</td>\n",
       "      <td>Ladakh</td>\n",
       "      <td>159496.0</td>\n",
       "      <td>12800.0</td>\n",
       "      <td>38.0</td>\n",
       "      <td>122206.0</td>\n",
       "      <td>37290.0</td>\n",
       "      <td>65668.0</td>\n",
       "      <td>56522.0</td>\n",
       "      <td>16.0</td>\n",
       "      <td>...</td>\n",
       "      <td>NaN</td>\n",
       "      <td>NaN</td>\n",
       "      <td>56330.0</td>\n",
       "      <td>35706.0</td>\n",
       "      <td>30145.0</td>\n",
       "      <td>NaN</td>\n",
       "      <td>NaN</td>\n",
       "      <td>NaN</td>\n",
       "      <td>122206.0</td>\n",
       "      <td>274000</td>\n",
       "    </tr>\n",
       "    <tr>\n",
       "      <th>18</th>\n",
       "      <td>31/05/2021</td>\n",
       "      <td>Lakshadweep</td>\n",
       "      <td>33636.0</td>\n",
       "      <td>23644.0</td>\n",
       "      <td>14.0</td>\n",
       "      <td>26687.0</td>\n",
       "      <td>6949.0</td>\n",
       "      <td>14936.0</td>\n",
       "      <td>11749.0</td>\n",
       "      <td>2.0</td>\n",
       "      <td>...</td>\n",
       "      <td>NaN</td>\n",
       "      <td>NaN</td>\n",
       "      <td>6743.0</td>\n",
       "      <td>12735.0</td>\n",
       "      <td>7209.0</td>\n",
       "      <td>NaN</td>\n",
       "      <td>NaN</td>\n",
       "      <td>NaN</td>\n",
       "      <td>26687.0</td>\n",
       "      <td>64000</td>\n",
       "    </tr>\n",
       "    <tr>\n",
       "      <th>19</th>\n",
       "      <td>31/05/2021</td>\n",
       "      <td>Madhya Pradesh</td>\n",
       "      <td>11170319.0</td>\n",
       "      <td>518453.0</td>\n",
       "      <td>2584.0</td>\n",
       "      <td>9378050.0</td>\n",
       "      <td>1792269.0</td>\n",
       "      <td>5145393.0</td>\n",
       "      <td>4231195.0</td>\n",
       "      <td>1462.0</td>\n",
       "      <td>...</td>\n",
       "      <td>NaN</td>\n",
       "      <td>NaN</td>\n",
       "      <td>2510712.0</td>\n",
       "      <td>3767425.0</td>\n",
       "      <td>3097559.0</td>\n",
       "      <td>NaN</td>\n",
       "      <td>NaN</td>\n",
       "      <td>NaN</td>\n",
       "      <td>9378050.0</td>\n",
       "      <td>72627000</td>\n",
       "    </tr>\n",
       "    <tr>\n",
       "      <th>20</th>\n",
       "      <td>31/05/2021</td>\n",
       "      <td>Maharashtra</td>\n",
       "      <td>22586620.0</td>\n",
       "      <td>976894.0</td>\n",
       "      <td>4069.0</td>\n",
       "      <td>18016877.0</td>\n",
       "      <td>4569743.0</td>\n",
       "      <td>9651880.0</td>\n",
       "      <td>8362542.0</td>\n",
       "      <td>2455.0</td>\n",
       "      <td>...</td>\n",
       "      <td>NaN</td>\n",
       "      <td>NaN</td>\n",
       "      <td>3254156.0</td>\n",
       "      <td>8040667.0</td>\n",
       "      <td>6716914.0</td>\n",
       "      <td>NaN</td>\n",
       "      <td>NaN</td>\n",
       "      <td>NaN</td>\n",
       "      <td>18016877.0</td>\n",
       "      <td>112374000</td>\n",
       "    </tr>\n",
       "    <tr>\n",
       "      <th>21</th>\n",
       "      <td>31/05/2021</td>\n",
       "      <td>Manipur</td>\n",
       "      <td>457938.0</td>\n",
       "      <td>17630.0</td>\n",
       "      <td>101.0</td>\n",
       "      <td>387493.0</td>\n",
       "      <td>70445.0</td>\n",
       "      <td>216156.0</td>\n",
       "      <td>171275.0</td>\n",
       "      <td>62.0</td>\n",
       "      <td>...</td>\n",
       "      <td>NaN</td>\n",
       "      <td>NaN</td>\n",
       "      <td>132641.0</td>\n",
       "      <td>163249.0</td>\n",
       "      <td>91500.0</td>\n",
       "      <td>NaN</td>\n",
       "      <td>NaN</td>\n",
       "      <td>NaN</td>\n",
       "      <td>387493.0</td>\n",
       "      <td>2856000</td>\n",
       "    </tr>\n",
       "    <tr>\n",
       "      <th>22</th>\n",
       "      <td>31/05/2021</td>\n",
       "      <td>Meghalaya</td>\n",
       "      <td>465690.0</td>\n",
       "      <td>30295.0</td>\n",
       "      <td>217.0</td>\n",
       "      <td>391350.0</td>\n",
       "      <td>74340.0</td>\n",
       "      <td>203018.0</td>\n",
       "      <td>188292.0</td>\n",
       "      <td>40.0</td>\n",
       "      <td>...</td>\n",
       "      <td>NaN</td>\n",
       "      <td>NaN</td>\n",
       "      <td>139056.0</td>\n",
       "      <td>175585.0</td>\n",
       "      <td>76676.0</td>\n",
       "      <td>NaN</td>\n",
       "      <td>NaN</td>\n",
       "      <td>NaN</td>\n",
       "      <td>391350.0</td>\n",
       "      <td>2967000</td>\n",
       "    </tr>\n",
       "    <tr>\n",
       "      <th>23</th>\n",
       "      <td>31/05/2021</td>\n",
       "      <td>Mizoram</td>\n",
       "      <td>315245.0</td>\n",
       "      <td>2560.0</td>\n",
       "      <td>10.0</td>\n",
       "      <td>264128.0</td>\n",
       "      <td>51117.0</td>\n",
       "      <td>136218.0</td>\n",
       "      <td>127892.0</td>\n",
       "      <td>18.0</td>\n",
       "      <td>...</td>\n",
       "      <td>NaN</td>\n",
       "      <td>NaN</td>\n",
       "      <td>55291.0</td>\n",
       "      <td>127428.0</td>\n",
       "      <td>81383.0</td>\n",
       "      <td>NaN</td>\n",
       "      <td>NaN</td>\n",
       "      <td>NaN</td>\n",
       "      <td>264128.0</td>\n",
       "      <td>1097000</td>\n",
       "    </tr>\n",
       "    <tr>\n",
       "      <th>24</th>\n",
       "      <td>31/05/2021</td>\n",
       "      <td>Nagaland</td>\n",
       "      <td>268922.0</td>\n",
       "      <td>17756.0</td>\n",
       "      <td>101.0</td>\n",
       "      <td>216978.0</td>\n",
       "      <td>51944.0</td>\n",
       "      <td>126950.0</td>\n",
       "      <td>90010.0</td>\n",
       "      <td>18.0</td>\n",
       "      <td>...</td>\n",
       "      <td>NaN</td>\n",
       "      <td>NaN</td>\n",
       "      <td>77355.0</td>\n",
       "      <td>88971.0</td>\n",
       "      <td>50617.0</td>\n",
       "      <td>NaN</td>\n",
       "      <td>NaN</td>\n",
       "      <td>NaN</td>\n",
       "      <td>216978.0</td>\n",
       "      <td>1979000</td>\n",
       "    </tr>\n",
       "    <tr>\n",
       "      <th>25</th>\n",
       "      <td>31/05/2021</td>\n",
       "      <td>Odisha</td>\n",
       "      <td>7857798.0</td>\n",
       "      <td>247686.0</td>\n",
       "      <td>1190.0</td>\n",
       "      <td>6380707.0</td>\n",
       "      <td>1477091.0</td>\n",
       "      <td>3398688.0</td>\n",
       "      <td>2980982.0</td>\n",
       "      <td>1037.0</td>\n",
       "      <td>...</td>\n",
       "      <td>NaN</td>\n",
       "      <td>NaN</td>\n",
       "      <td>1211643.0</td>\n",
       "      <td>2700783.0</td>\n",
       "      <td>2467177.0</td>\n",
       "      <td>NaN</td>\n",
       "      <td>NaN</td>\n",
       "      <td>NaN</td>\n",
       "      <td>6380707.0</td>\n",
       "      <td>41974000</td>\n",
       "    </tr>\n",
       "    <tr>\n",
       "      <th>26</th>\n",
       "      <td>31/05/2021</td>\n",
       "      <td>Puducherry</td>\n",
       "      <td>269328.0</td>\n",
       "      <td>12871.0</td>\n",
       "      <td>59.0</td>\n",
       "      <td>218077.0</td>\n",
       "      <td>51251.0</td>\n",
       "      <td>112327.0</td>\n",
       "      <td>105724.0</td>\n",
       "      <td>26.0</td>\n",
       "      <td>...</td>\n",
       "      <td>NaN</td>\n",
       "      <td>NaN</td>\n",
       "      <td>65168.0</td>\n",
       "      <td>87332.0</td>\n",
       "      <td>65506.0</td>\n",
       "      <td>NaN</td>\n",
       "      <td>NaN</td>\n",
       "      <td>NaN</td>\n",
       "      <td>218077.0</td>\n",
       "      <td>1248000</td>\n",
       "    </tr>\n",
       "    <tr>\n",
       "      <th>27</th>\n",
       "      <td>31/05/2021</td>\n",
       "      <td>Punjab</td>\n",
       "      <td>4639262.0</td>\n",
       "      <td>362885.0</td>\n",
       "      <td>1271.0</td>\n",
       "      <td>3868801.0</td>\n",
       "      <td>770461.0</td>\n",
       "      <td>2186630.0</td>\n",
       "      <td>1681730.0</td>\n",
       "      <td>441.0</td>\n",
       "      <td>...</td>\n",
       "      <td>NaN</td>\n",
       "      <td>NaN</td>\n",
       "      <td>851428.0</td>\n",
       "      <td>1677560.0</td>\n",
       "      <td>1339262.0</td>\n",
       "      <td>NaN</td>\n",
       "      <td>NaN</td>\n",
       "      <td>NaN</td>\n",
       "      <td>3868801.0</td>\n",
       "      <td>27743000</td>\n",
       "    </tr>\n",
       "    <tr>\n",
       "      <th>28</th>\n",
       "      <td>31/05/2021</td>\n",
       "      <td>Rajasthan</td>\n",
       "      <td>17016331.0</td>\n",
       "      <td>676781.0</td>\n",
       "      <td>2614.0</td>\n",
       "      <td>13900165.0</td>\n",
       "      <td>3116166.0</td>\n",
       "      <td>7273533.0</td>\n",
       "      <td>6624498.0</td>\n",
       "      <td>2134.0</td>\n",
       "      <td>...</td>\n",
       "      <td>NaN</td>\n",
       "      <td>NaN</td>\n",
       "      <td>2695231.0</td>\n",
       "      <td>5663531.0</td>\n",
       "      <td>5536862.0</td>\n",
       "      <td>NaN</td>\n",
       "      <td>NaN</td>\n",
       "      <td>NaN</td>\n",
       "      <td>13900165.0</td>\n",
       "      <td>68548000</td>\n",
       "    </tr>\n",
       "    <tr>\n",
       "      <th>29</th>\n",
       "      <td>31/05/2021</td>\n",
       "      <td>Sikkim</td>\n",
       "      <td>238983.0</td>\n",
       "      <td>2260.0</td>\n",
       "      <td>14.0</td>\n",
       "      <td>179322.0</td>\n",
       "      <td>59661.0</td>\n",
       "      <td>96695.0</td>\n",
       "      <td>82600.0</td>\n",
       "      <td>27.0</td>\n",
       "      <td>...</td>\n",
       "      <td>NaN</td>\n",
       "      <td>NaN</td>\n",
       "      <td>31639.0</td>\n",
       "      <td>92344.0</td>\n",
       "      <td>55326.0</td>\n",
       "      <td>NaN</td>\n",
       "      <td>NaN</td>\n",
       "      <td>NaN</td>\n",
       "      <td>179322.0</td>\n",
       "      <td>611000</td>\n",
       "    </tr>\n",
       "    <tr>\n",
       "      <th>30</th>\n",
       "      <td>31/05/2021</td>\n",
       "      <td>Tamil Nadu</td>\n",
       "      <td>9095854.0</td>\n",
       "      <td>883636.0</td>\n",
       "      <td>2504.0</td>\n",
       "      <td>7063107.0</td>\n",
       "      <td>2032747.0</td>\n",
       "      <td>3865164.0</td>\n",
       "      <td>3197073.0</td>\n",
       "      <td>870.0</td>\n",
       "      <td>...</td>\n",
       "      <td>NaN</td>\n",
       "      <td>NaN</td>\n",
       "      <td>2328317.0</td>\n",
       "      <td>2749968.0</td>\n",
       "      <td>1983101.0</td>\n",
       "      <td>NaN</td>\n",
       "      <td>NaN</td>\n",
       "      <td>NaN</td>\n",
       "      <td>7063107.0</td>\n",
       "      <td>72147000</td>\n",
       "    </tr>\n",
       "    <tr>\n",
       "      <th>31</th>\n",
       "      <td>31/05/2021</td>\n",
       "      <td>Telangana</td>\n",
       "      <td>6064809.0</td>\n",
       "      <td>323819.0</td>\n",
       "      <td>1029.0</td>\n",
       "      <td>4802730.0</td>\n",
       "      <td>1262079.0</td>\n",
       "      <td>2484686.0</td>\n",
       "      <td>2317078.0</td>\n",
       "      <td>966.0</td>\n",
       "      <td>...</td>\n",
       "      <td>NaN</td>\n",
       "      <td>NaN</td>\n",
       "      <td>703935.0</td>\n",
       "      <td>2466797.0</td>\n",
       "      <td>1631012.0</td>\n",
       "      <td>NaN</td>\n",
       "      <td>NaN</td>\n",
       "      <td>NaN</td>\n",
       "      <td>4802730.0</td>\n",
       "      <td>35190000</td>\n",
       "    </tr>\n",
       "    <tr>\n",
       "      <th>32</th>\n",
       "      <td>31/05/2021</td>\n",
       "      <td>Tripura</td>\n",
       "      <td>1610784.0</td>\n",
       "      <td>63010.0</td>\n",
       "      <td>208.0</td>\n",
       "      <td>1103113.0</td>\n",
       "      <td>507671.0</td>\n",
       "      <td>571702.0</td>\n",
       "      <td>531256.0</td>\n",
       "      <td>155.0</td>\n",
       "      <td>...</td>\n",
       "      <td>NaN</td>\n",
       "      <td>NaN</td>\n",
       "      <td>158800.0</td>\n",
       "      <td>610069.0</td>\n",
       "      <td>333552.0</td>\n",
       "      <td>NaN</td>\n",
       "      <td>NaN</td>\n",
       "      <td>NaN</td>\n",
       "      <td>1103113.0</td>\n",
       "      <td>3674000</td>\n",
       "    </tr>\n",
       "    <tr>\n",
       "      <th>33</th>\n",
       "      <td>31/05/2021</td>\n",
       "      <td>Uttar Pradesh</td>\n",
       "      <td>18335009.0</td>\n",
       "      <td>1036451.0</td>\n",
       "      <td>5300.0</td>\n",
       "      <td>14854570.0</td>\n",
       "      <td>3480439.0</td>\n",
       "      <td>8457244.0</td>\n",
       "      <td>6393940.0</td>\n",
       "      <td>3386.0</td>\n",
       "      <td>...</td>\n",
       "      <td>NaN</td>\n",
       "      <td>NaN</td>\n",
       "      <td>3423859.0</td>\n",
       "      <td>6410999.0</td>\n",
       "      <td>5013947.0</td>\n",
       "      <td>NaN</td>\n",
       "      <td>NaN</td>\n",
       "      <td>NaN</td>\n",
       "      <td>14854570.0</td>\n",
       "      <td>199812000</td>\n",
       "    </tr>\n",
       "    <tr>\n",
       "      <th>34</th>\n",
       "      <td>31/05/2021</td>\n",
       "      <td>Uttarakhand</td>\n",
       "      <td>2919103.0</td>\n",
       "      <td>86343.0</td>\n",
       "      <td>551.0</td>\n",
       "      <td>2235181.0</td>\n",
       "      <td>683922.0</td>\n",
       "      <td>1148414.0</td>\n",
       "      <td>1086307.0</td>\n",
       "      <td>460.0</td>\n",
       "      <td>...</td>\n",
       "      <td>NaN</td>\n",
       "      <td>NaN</td>\n",
       "      <td>488158.0</td>\n",
       "      <td>941342.0</td>\n",
       "      <td>805116.0</td>\n",
       "      <td>NaN</td>\n",
       "      <td>NaN</td>\n",
       "      <td>NaN</td>\n",
       "      <td>2235181.0</td>\n",
       "      <td>10086000</td>\n",
       "    </tr>\n",
       "    <tr>\n",
       "      <th>35</th>\n",
       "      <td>31/05/2021</td>\n",
       "      <td>West Bengal</td>\n",
       "      <td>14718135.0</td>\n",
       "      <td>839415.0</td>\n",
       "      <td>2511.0</td>\n",
       "      <td>10838457.0</td>\n",
       "      <td>3879678.0</td>\n",
       "      <td>6050228.0</td>\n",
       "      <td>4786796.0</td>\n",
       "      <td>1433.0</td>\n",
       "      <td>...</td>\n",
       "      <td>NaN</td>\n",
       "      <td>NaN</td>\n",
       "      <td>2402085.0</td>\n",
       "      <td>4469534.0</td>\n",
       "      <td>3964698.0</td>\n",
       "      <td>NaN</td>\n",
       "      <td>NaN</td>\n",
       "      <td>NaN</td>\n",
       "      <td>10838457.0</td>\n",
       "      <td>91276000</td>\n",
       "    </tr>\n",
       "  </tbody>\n",
       "</table>\n",
       "<p>36 rows × 25 columns</p>\n",
       "</div>"
      ],
      "text/plain": [
       "          Date                                     State  \\\n",
       "0   31/05/2021               Andaman and Nicobar Islands   \n",
       "1   31/05/2021                            Andhra Pradesh   \n",
       "2   31/05/2021                         Arunachal Pradesh   \n",
       "3   31/05/2021                                     Assam   \n",
       "4   31/05/2021                                     Bihar   \n",
       "5   31/05/2021                                Chandigarh   \n",
       "6   31/05/2021                              Chhattisgarh   \n",
       "7   31/05/2021  Dadra and Nagar Haveli and Daman and Diu   \n",
       "8   31/05/2021                                     Delhi   \n",
       "9   31/05/2021                                       Goa   \n",
       "10  31/05/2021                                   Gujarat   \n",
       "11  31/05/2021                                   Haryana   \n",
       "12  31/05/2021                          Himachal Pradesh   \n",
       "13  31/05/2021                         Jammu and Kashmir   \n",
       "14  31/05/2021                                 Jharkhand   \n",
       "15  31/05/2021                                 Karnataka   \n",
       "16  31/05/2021                                    Kerala   \n",
       "17  31/05/2021                                    Ladakh   \n",
       "18  31/05/2021                               Lakshadweep   \n",
       "19  31/05/2021                            Madhya Pradesh   \n",
       "20  31/05/2021                               Maharashtra   \n",
       "21  31/05/2021                                   Manipur   \n",
       "22  31/05/2021                                 Meghalaya   \n",
       "23  31/05/2021                                   Mizoram   \n",
       "24  31/05/2021                                  Nagaland   \n",
       "25  31/05/2021                                    Odisha   \n",
       "26  31/05/2021                                Puducherry   \n",
       "27  31/05/2021                                    Punjab   \n",
       "28  31/05/2021                                 Rajasthan   \n",
       "29  31/05/2021                                    Sikkim   \n",
       "30  31/05/2021                                Tamil Nadu   \n",
       "31  31/05/2021                                 Telangana   \n",
       "32  31/05/2021                                   Tripura   \n",
       "33  31/05/2021                             Uttar Pradesh   \n",
       "34  31/05/2021                               Uttarakhand   \n",
       "35  31/05/2021                               West Bengal   \n",
       "\n",
       "    Total Doses Administered   Sessions   Sites    FirstDose  SecondDose  \\\n",
       "0                   124268.0     1670.0     13.0    109087.0     15181.0   \n",
       "1                  9868747.0   523404.0   1019.0   7356423.0   2512324.0   \n",
       "2                   334007.0    11630.0     77.0    255678.0     78329.0   \n",
       "3                  4137653.0   141250.0    933.0   3304493.0    833160.0   \n",
       "4                 10307600.0   593794.0   2052.0   8516097.0   1791503.0   \n",
       "5                   349507.0    17087.0     80.0    274606.0     74901.0   \n",
       "6                  6240528.0   337893.0   1815.0   5134658.0   1105870.0   \n",
       "7                   196079.0    15320.0     66.0    170105.0     25974.0   \n",
       "8                  5419341.0   152151.0    833.0   4194986.0   1224355.0   \n",
       "9                   528955.0    22613.0     59.0    433855.0     95100.0   \n",
       "10                17110619.0   385100.0   1857.0  12965663.0   4144956.0   \n",
       "11                 5889201.0   217971.0    860.0   4893257.0    995944.0   \n",
       "12                 2456257.0    34883.0    294.0   2022636.0    433621.0   \n",
       "13                 3301002.0   287193.0   1164.0   2754861.0    546141.0   \n",
       "14                 4194352.0   231286.0   1105.0   3484293.0    710059.0   \n",
       "15                13683390.0  1243336.0   4934.0  10929687.0   2753703.0   \n",
       "16                 9413723.0   272069.0   1237.0   7345141.0   2068582.0   \n",
       "17                  159496.0    12800.0     38.0    122206.0     37290.0   \n",
       "18                   33636.0    23644.0     14.0     26687.0      6949.0   \n",
       "19                11170319.0   518453.0   2584.0   9378050.0   1792269.0   \n",
       "20                22586620.0   976894.0   4069.0  18016877.0   4569743.0   \n",
       "21                  457938.0    17630.0    101.0    387493.0     70445.0   \n",
       "22                  465690.0    30295.0    217.0    391350.0     74340.0   \n",
       "23                  315245.0     2560.0     10.0    264128.0     51117.0   \n",
       "24                  268922.0    17756.0    101.0    216978.0     51944.0   \n",
       "25                 7857798.0   247686.0   1190.0   6380707.0   1477091.0   \n",
       "26                  269328.0    12871.0     59.0    218077.0     51251.0   \n",
       "27                 4639262.0   362885.0   1271.0   3868801.0    770461.0   \n",
       "28                17016331.0   676781.0   2614.0  13900165.0   3116166.0   \n",
       "29                  238983.0     2260.0     14.0    179322.0     59661.0   \n",
       "30                 9095854.0   883636.0   2504.0   7063107.0   2032747.0   \n",
       "31                 6064809.0   323819.0   1029.0   4802730.0   1262079.0   \n",
       "32                 1610784.0    63010.0    208.0   1103113.0    507671.0   \n",
       "33                18335009.0  1036451.0   5300.0  14854570.0   3480439.0   \n",
       "34                 2919103.0    86343.0    551.0   2235181.0    683922.0   \n",
       "35                14718135.0   839415.0   2511.0  10838457.0   3879678.0   \n",
       "\n",
       "    Male (Doses Administered)  Female (Doses Administered)  \\\n",
       "0                     58809.0                      50269.0   \n",
       "1                   3757692.0                    3597643.0   \n",
       "2                    142969.0                     112616.0   \n",
       "3                   1793541.0                    1510430.0   \n",
       "4                   4667304.0                    3847222.0   \n",
       "5                    154057.0                     120512.0   \n",
       "6                   2510498.0                    2623589.0   \n",
       "7                    107652.0                      62425.0   \n",
       "8                   2429400.0                    1764775.0   \n",
       "9                    222586.0                     211234.0   \n",
       "10                  6954068.0                    6009885.0   \n",
       "11                  2644942.0                    2247475.0   \n",
       "12                  1007279.0                    1015007.0   \n",
       "13                  1610368.0                    1143983.0   \n",
       "14                  1874952.0                    1608823.0   \n",
       "15                  5519056.0                    5409055.0   \n",
       "16                  3434903.0                    3909178.0   \n",
       "17                    65668.0                      56522.0   \n",
       "18                    14936.0                      11749.0   \n",
       "19                  5145393.0                    4231195.0   \n",
       "20                  9651880.0                    8362542.0   \n",
       "21                   216156.0                     171275.0   \n",
       "22                   203018.0                     188292.0   \n",
       "23                   136218.0                     127892.0   \n",
       "24                   126950.0                      90010.0   \n",
       "25                  3398688.0                    2980982.0   \n",
       "26                   112327.0                     105724.0   \n",
       "27                  2186630.0                    1681730.0   \n",
       "28                  7273533.0                    6624498.0   \n",
       "29                    96695.0                      82600.0   \n",
       "30                  3865164.0                    3197073.0   \n",
       "31                  2484686.0                    2317078.0   \n",
       "32                   571702.0                     531256.0   \n",
       "33                  8457244.0                    6393940.0   \n",
       "34                  1148414.0                    1086307.0   \n",
       "35                  6050228.0                    4786796.0   \n",
       "\n",
       "    Transgender (Doses Administered)  ...  45-60 Years (Doses Administered)  \\\n",
       "0                                9.0  ...                               NaN   \n",
       "1                             1088.0  ...                               NaN   \n",
       "2                               93.0  ...                               NaN   \n",
       "3                              522.0  ...                               NaN   \n",
       "4                             1571.0  ...                               NaN   \n",
       "5                               37.0  ...                               NaN   \n",
       "6                              571.0  ...                               NaN   \n",
       "7                               28.0  ...                               NaN   \n",
       "8                              811.0  ...                               NaN   \n",
       "9                               35.0  ...                               NaN   \n",
       "10                            1710.0  ...                               NaN   \n",
       "11                             840.0  ...                               NaN   \n",
       "12                             350.0  ...                               NaN   \n",
       "13                             510.0  ...                               NaN   \n",
       "14                             518.0  ...                               NaN   \n",
       "15                            1576.0  ...                               NaN   \n",
       "16                            1060.0  ...                               NaN   \n",
       "17                              16.0  ...                               NaN   \n",
       "18                               2.0  ...                               NaN   \n",
       "19                            1462.0  ...                               NaN   \n",
       "20                            2455.0  ...                               NaN   \n",
       "21                              62.0  ...                               NaN   \n",
       "22                              40.0  ...                               NaN   \n",
       "23                              18.0  ...                               NaN   \n",
       "24                              18.0  ...                               NaN   \n",
       "25                            1037.0  ...                               NaN   \n",
       "26                              26.0  ...                               NaN   \n",
       "27                             441.0  ...                               NaN   \n",
       "28                            2134.0  ...                               NaN   \n",
       "29                              27.0  ...                               NaN   \n",
       "30                             870.0  ...                               NaN   \n",
       "31                             966.0  ...                               NaN   \n",
       "32                             155.0  ...                               NaN   \n",
       "33                            3386.0  ...                               NaN   \n",
       "34                             460.0  ...                               NaN   \n",
       "35                            1433.0  ...                               NaN   \n",
       "\n",
       "    60+ Years (Doses Administered)  18-44 Years(Individuals Vaccinated)  \\\n",
       "0                              NaN                              17959.0   \n",
       "1                              NaN                            1099313.0   \n",
       "2                              NaN                              90094.0   \n",
       "3                              NaN                             948306.0   \n",
       "4                              NaN                            2281461.0   \n",
       "5                              NaN                              78380.0   \n",
       "6                              NaN                             463343.0   \n",
       "7                              NaN                              95810.0   \n",
       "8                              NaN                            1529064.0   \n",
       "9                              NaN                             100973.0   \n",
       "10                             NaN                            3102409.0   \n",
       "11                             NaN                            1369035.0   \n",
       "12                             NaN                             242851.0   \n",
       "13                             NaN                             495969.0   \n",
       "14                             NaN                             921240.0   \n",
       "15                             NaN                            2154044.0   \n",
       "16                             NaN                             912167.0   \n",
       "17                             NaN                              56330.0   \n",
       "18                             NaN                               6743.0   \n",
       "19                             NaN                            2510712.0   \n",
       "20                             NaN                            3254156.0   \n",
       "21                             NaN                             132641.0   \n",
       "22                             NaN                             139056.0   \n",
       "23                             NaN                              55291.0   \n",
       "24                             NaN                              77355.0   \n",
       "25                             NaN                            1211643.0   \n",
       "26                             NaN                              65168.0   \n",
       "27                             NaN                             851428.0   \n",
       "28                             NaN                            2695231.0   \n",
       "29                             NaN                              31639.0   \n",
       "30                             NaN                            2328317.0   \n",
       "31                             NaN                             703935.0   \n",
       "32                             NaN                             158800.0   \n",
       "33                             NaN                            3423859.0   \n",
       "34                             NaN                             488158.0   \n",
       "35                             NaN                            2402085.0   \n",
       "\n",
       "    45-60 Years(Individuals Vaccinated)  60+ Years(Individuals Vaccinated)  \\\n",
       "0                               60483.0                            30642.0   \n",
       "1                             3715663.0                          2539984.0   \n",
       "2                              119075.0                            46470.0   \n",
       "3                             1534706.0                           821156.0   \n",
       "4                             2970872.0                          3261439.0   \n",
       "5                              119440.0                            76701.0   \n",
       "6                             2923024.0                          1747945.0   \n",
       "7                               53646.0                            20580.0   \n",
       "8                             1644082.0                          1019286.0   \n",
       "9                              183436.0                           149407.0   \n",
       "10                            5526556.0                          4333882.0   \n",
       "11                            1788023.0                          1732390.0   \n",
       "12                            1002702.0                           776768.0   \n",
       "13                            1365732.0                           892819.0   \n",
       "14                            1352798.0                          1209346.0   \n",
       "15                            4795180.0                          3976306.0   \n",
       "16                            2950616.0                          3478379.0   \n",
       "17                              35706.0                            30145.0   \n",
       "18                              12735.0                             7209.0   \n",
       "19                            3767425.0                          3097559.0   \n",
       "20                            8040667.0                          6716914.0   \n",
       "21                             163249.0                            91500.0   \n",
       "22                             175585.0                            76676.0   \n",
       "23                             127428.0                            81383.0   \n",
       "24                              88971.0                            50617.0   \n",
       "25                            2700783.0                          2467177.0   \n",
       "26                              87332.0                            65506.0   \n",
       "27                            1677560.0                          1339262.0   \n",
       "28                            5663531.0                          5536862.0   \n",
       "29                              92344.0                            55326.0   \n",
       "30                            2749968.0                          1983101.0   \n",
       "31                            2466797.0                          1631012.0   \n",
       "32                             610069.0                           333552.0   \n",
       "33                            6410999.0                          5013947.0   \n",
       "34                             941342.0                           805116.0   \n",
       "35                            4469534.0                          3964698.0   \n",
       "\n",
       "    Male  Female  Transgender  TotalVaccinated  Population  \n",
       "0    NaN     NaN          NaN         109087.0      381000  \n",
       "1    NaN     NaN          NaN        7356423.0    54681000  \n",
       "2    NaN     NaN          NaN         255678.0     1384000  \n",
       "3    NaN     NaN          NaN        3304493.0    31206000  \n",
       "4    NaN     NaN          NaN        8516097.0   104099000  \n",
       "5    NaN     NaN          NaN         274606.0     1055000  \n",
       "6    NaN     NaN          NaN        5134658.0    25545000  \n",
       "7    NaN     NaN          NaN         170105.0      587000  \n",
       "8    NaN     NaN          NaN        4194986.0    16788000  \n",
       "9    NaN     NaN          NaN         433855.0     1459000  \n",
       "10   NaN     NaN          NaN       12965663.0    60440000  \n",
       "11   NaN     NaN          NaN        4893257.0    25351000  \n",
       "12   NaN     NaN          NaN        2022636.0     6865000  \n",
       "13   NaN     NaN          NaN        2754861.0    12541000  \n",
       "14   NaN     NaN          NaN        3484293.0    32988000  \n",
       "15   NaN     NaN          NaN       10929687.0    61095000  \n",
       "16   NaN     NaN          NaN        7345141.0    33406000  \n",
       "17   NaN     NaN          NaN         122206.0      274000  \n",
       "18   NaN     NaN          NaN          26687.0       64000  \n",
       "19   NaN     NaN          NaN        9378050.0    72627000  \n",
       "20   NaN     NaN          NaN       18016877.0   112374000  \n",
       "21   NaN     NaN          NaN         387493.0     2856000  \n",
       "22   NaN     NaN          NaN         391350.0     2967000  \n",
       "23   NaN     NaN          NaN         264128.0     1097000  \n",
       "24   NaN     NaN          NaN         216978.0     1979000  \n",
       "25   NaN     NaN          NaN        6380707.0    41974000  \n",
       "26   NaN     NaN          NaN         218077.0     1248000  \n",
       "27   NaN     NaN          NaN        3868801.0    27743000  \n",
       "28   NaN     NaN          NaN       13900165.0    68548000  \n",
       "29   NaN     NaN          NaN         179322.0      611000  \n",
       "30   NaN     NaN          NaN        7063107.0    72147000  \n",
       "31   NaN     NaN          NaN        4802730.0    35190000  \n",
       "32   NaN     NaN          NaN        1103113.0     3674000  \n",
       "33   NaN     NaN          NaN       14854570.0   199812000  \n",
       "34   NaN     NaN          NaN        2235181.0    10086000  \n",
       "35   NaN     NaN          NaN       10838457.0    91276000  \n",
       "\n",
       "[36 rows x 25 columns]"
      ]
     },
     "execution_count": 16,
     "metadata": {},
     "output_type": "execute_result"
    }
   ],
   "source": [
    "StateVaccineLatest\n"
   ]
  },
  {
   "cell_type": "markdown",
   "id": "f7f8070f",
   "metadata": {},
   "source": [
    "## Top 10 most vaccinated states and the top 5 worst affected states"
   ]
  },
  {
   "cell_type": "code",
   "execution_count": null,
   "id": "c2285c93",
   "metadata": {},
   "outputs": [
    {
     "data": {
      "text/plain": [
       "[Text(0, 0, 'Kerala'),\n",
       " Text(1, 0, 'Karnataka'),\n",
       " Text(2, 0, 'Maharashtra'),\n",
       " Text(3, 0, 'Andhra Pradesh'),\n",
       " Text(4, 0, 'Tamil Nadu')]"
      ]
     },
     "execution_count": 17,
     "metadata": {},
     "output_type": "execute_result"
    },
    {
     "data": {
      "image/png": "[encoded data removed]",
      "text/plain": [
       "<Figure size 1600x800 with 2 Axes>"
      ]
     },
     "metadata": {
      "needs_background": "light"
     },
     "output_type": "display_data"
    }
   ],
   "source": [
    "      \n",
    "fig, ax = plt.subplots(ncols=2, nrows=1, dpi=100, figsize=(16,8))\n",
    "\n",
    "StateVaccineLatest['PopVacc']=(StateVaccineLatest.TotalVaccinated/StateVaccineLatest.Population)*100\n",
    "StateVaccineLatest = StateVaccineLatest.sort_values(by='PopVacc', ascending=False)\n",
    "\n",
    "sns.barplot(data=StateVaccineLatest.head(10), x='State', y='PopVacc', ax=ax[0])\n",
    "ax[0].set_ylabel('% of State/Union Territory Population Vaccinated', fontsize=16)\n",
    "ax[0].set_xlabel('States', fontsize=16)\n",
    "ax[0].set_xticklabels(StateVaccineLatest.head(10).State, rotation=90, fontsize = 14)\n",
    "\n",
    "\n",
    "data = pd.DataFrame(columns=['State', 'PopVacc'])\n",
    "for i in range(len(CovidStates)):\n",
    "    data = data.append(StateVaccineLatest[StateVaccineLatest['State'] == CovidStates[i]][['State', 'PopVacc']]) \n",
    "\n",
    "sns.barplot(data=data.sort_values(by='PopVacc',ascending=False), x='State', y='PopVacc', ax=ax[1])\n",
    "ax[1].set_ylabel('% of State Population Vaccinated', fontsize=16)\n",
    "ax[1].set_xlabel('States', fontsize=20)\n",
    "ax[1].set_xticklabels(data.sort_values(by='PopVacc',ascending=False).State, rotation=90, fontsize = 14)\n"
   ]
  },
  {
   "cell_type": "markdown",
   "id": "e6708a32",
   "metadata": {},
   "source": [
    " We can see that Ladakh has vaccinated over 40% of its population, followed by Lakshwadeep and Tripura. Of the 5 worst covid affected Indian States, the Southern State of Kerala has vaccinated over 20% of its population, followed by Karnataka which has vaccinated more than 15% of its population."
   ]
  },
  {
   "cell_type": "markdown",
   "id": "97ff03cd",
   "metadata": {},
   "source": [
    "### Progression of Covid-19 cases in the Top 5 vaccinated states / union territories "
   ]
  },
  {
   "cell_type": "code",
   "execution_count": null,
   "id": "a5fbd8de",
   "metadata": {},
   "outputs": [
    {
     "data": {
      "image/png": "[encoded data removed]",
      "text/plain": [
       "<Figure size 1400x800 with 5 Axes>"
      ]
     },
     "metadata": {
      "needs_background": "light"
     },
     "output_type": "display_data"
    }
   ],
   "source": [
    "StateVacc = list(StateVaccineLatest.State.head(5))\n",
    "fig, ax= plt.subplots(ncols=1, nrows=5, dpi=100, figsize=(14,8))\n",
    "\n",
    "for i in range(len(StateVacc)):\n",
    "    StateVaccData = Covid19India[Covid19India['State/UnionTerritory'] == StateVacc[i]]\n",
    "    sns.lineplot(data=StateVaccData, x='Date', \n",
    "                 y=(StateVaccData.Confirmed-StateVaccData.Cured),\n",
    "                 ax=ax[i], label = StateVacc[i])\n",
    "    ax[i].set_ylabel(\" \")\n",
    "    ax[i].xaxis.set_major_locator(mdates.MonthLocator(interval=1))\n",
    "    ax[i].xaxis.set_major_formatter(mdates.DateFormatter('%b'))"
   ]
  },
  {
   "cell_type": "markdown",
   "id": "24de9b58",
   "metadata": {},
   "source": [
    "A sharp decline could be observed from June after the second wave and also a constant decline in active cases among these states is observed."
   ]
  },
  {
   "cell_type": "markdown",
   "id": "cb1a448f",
   "metadata": {},
   "source": [
    "### Pie Chart indicating Vaccination Ratio with respect to Sex"
   ]
  },
  {
   "cell_type": "code",
   "execution_count": null,
   "id": "ba95810f",
   "metadata": {},
   "outputs": [
    {
     "data": {
      "application/vnd.plotly.v1+json": {
       "config": {
        "plotlyServerURL": "https://plot.ly"
       },
       "data": [
        {
         "domain": {
          "x": [
           0,
           1
          ],
          "y": [
           0,
           1
          ]
         },
         "hovertemplate": "label=%{label}<br>value=%{value}<extra></extra>",
         "labels": [
          "Male Vaccinated",
          "Female Vaccinated",
          "Trans Gender"
         ],
         "legendgroup": "",
         "name": "",
         "showlegend": true,
         "type": "pie",
         "values": [
          90095606,
          78271582,
          26337
         ]
        }
       ],
       "layout": {
        "legend": {
         "tracegroupgap": 0
        },
        "template": {
         "data": {
          "bar": [
           {
            "error_x": {
             "color": "#2a3f5f"
            },
            "error_y": {
             "color": "#2a3f5f"
            },
            "marker": {
             "line": {
              "color": "#E5ECF6",
              "width": 0.5
             },
             "pattern": {
              "fillmode": "overlay",
              "size": 10,
              "solidity": 0.2
             }
            },
            "type": "bar"
           }
          ],
          "barpolar": [
           {
            "marker": {
             "line": {
              "color": "#E5ECF6",
              "width": 0.5
             },
             "pattern": {
              "fillmode": "overlay",
              "size": 10,
              "solidity": 0.2
             }
            },
            "type": "barpolar"
           }
          ],
          "carpet": [
           {
            "aaxis": {
             "endlinecolor": "#2a3f5f",
             "gridcolor": "white",
             "linecolor": "white",
             "minorgridcolor": "white",
             "startlinecolor": "#2a3f5f"
            },
            "baxis": {
             "endlinecolor": "#2a3f5f",
             "gridcolor": "white",
             "linecolor": "white",
             "minorgridcolor": "white",
             "startlinecolor": "#2a3f5f"
            },
            "type": "carpet"
           }
          ],
          "choropleth": [
           {
            "colorbar": {
             "outlinewidth": 0,
             "ticks": ""
            },
            "type": "choropleth"
           }
          ],
          "contour": [
           {
            "colorbar": {
             "outlinewidth": 0,
             "ticks": ""
            },
            "colorscale": [
             [
              0,
              "#0d0887"
             ],
             [
              0.1111111111111111,
              "#46039f"
             ],
             [
              0.2222222222222222,
              "#7201a8"
             ],
             [
              0.3333333333333333,
              "#9c179e"
             ],
             [
              0.4444444444444444,
              "#bd3786"
             ],
             [
              0.5555555555555556,
              "#d8576b"
             ],
             [
              0.6666666666666666,
              "#ed7953"
             ],
             [
              0.7777777777777778,
              "#fb9f3a"
             ],
             [
              0.8888888888888888,
              "#fdca26"
             ],
             [
              1,
              "#f0f921"
             ]
            ],
            "type": "contour"
           }
          ],
          "contourcarpet": [
           {
            "colorbar": {
             "outlinewidth": 0,
             "ticks": ""
            },
            "type": "contourcarpet"
           }
          ],
          "heatmap": [
           {
            "colorbar": {
             "outlinewidth": 0,
             "ticks": ""
            },
            "colorscale": [
             [
              0,
              "#0d0887"
             ],
             [
              0.1111111111111111,
              "#46039f"
             ],
             [
              0.2222222222222222,
              "#7201a8"
             ],
             [
              0.3333333333333333,
              "#9c179e"
             ],
             [
              0.4444444444444444,
              "#bd3786"
             ],
             [
              0.5555555555555556,
              "#d8576b"
             ],
             [
              0.6666666666666666,
              "#ed7953"
             ],
             [
              0.7777777777777778,
              "#fb9f3a"
             ],
             [
              0.8888888888888888,
              "#fdca26"
             ],
             [
              1,
              "#f0f921"
             ]
            ],
            "type": "heatmap"
           }
          ],
          "heatmapgl": [
           {
            "colorbar": {
             "outlinewidth": 0,
             "ticks": ""
            },
            "colorscale": [
             [
              0,
              "#0d0887"
             ],
             [
              0.1111111111111111,
              "#46039f"
             ],
             [
              0.2222222222222222,
              "#7201a8"
             ],
             [
              0.3333333333333333,
              "#9c179e"
             ],
             [
              0.4444444444444444,
              "#bd3786"
             ],
             [
              0.5555555555555556,
              "#d8576b"
             ],
             [
              0.6666666666666666,
              "#ed7953"
             ],
             [
              0.7777777777777778,
              "#fb9f3a"
             ],
             [
              0.8888888888888888,
              "#fdca26"
             ],
             [
              1,
              "#f0f921"
             ]
            ],
            "type": "heatmapgl"
           }
          ],
          "histogram": [
           {
            "marker": {
             "pattern": {
              "fillmode": "overlay",
              "size": 10,
              "solidity": 0.2
             }
            },
            "type": "histogram"
           }
          ],
          "histogram2d": [
           {
            "colorbar": {
             "outlinewidth": 0,
             "ticks": ""
            },
            "colorscale": [
             [
              0,
              "#0d0887"
             ],
             [
              0.1111111111111111,
              "#46039f"
             ],
             [
              0.2222222222222222,
              "#7201a8"
             ],
             [
              0.3333333333333333,
              "#9c179e"
             ],
             [
              0.4444444444444444,
              "#bd3786"
             ],
             [
              0.5555555555555556,
              "#d8576b"
             ],
             [
              0.6666666666666666,
              "#ed7953"
             ],
             [
              0.7777777777777778,
              "#fb9f3a"
             ],
             [
              0.8888888888888888,
              "#fdca26"
             ],
             [
              1,
              "#f0f921"
             ]
            ],
            "type": "histogram2d"
           }
          ],
          "histogram2dcontour": [
           {
            "colorbar": {
             "outlinewidth": 0,
             "ticks": ""
            },
            "colorscale": [
             [
              0,
              "#0d0887"
             ],
             [
              0.1111111111111111,
              "#46039f"
             ],
             [
              0.2222222222222222,
              "#7201a8"
             ],
             [
              0.3333333333333333,
              "#9c179e"
             ],
             [
              0.4444444444444444,
              "#bd3786"
             ],
             [
              0.5555555555555556,
              "#d8576b"
             ],
             [
              0.6666666666666666,
              "#ed7953"
             ],
             [
              0.7777777777777778,
              "#fb9f3a"
             ],
             [
              0.8888888888888888,
              "#fdca26"
             ],
             [
              1,
              "#f0f921"
             ]
            ],
            "type": "histogram2dcontour"
           }
          ],
          "mesh3d": [
           {
            "colorbar": {
             "outlinewidth": 0,
             "ticks": ""
            },
            "type": "mesh3d"
           }
          ],
          "parcoords": [
           {
            "line": {
             "colorbar": {
              "outlinewidth": 0,
              "ticks": ""
             }
            },
            "type": "parcoords"
           }
          ],
          "pie": [
           {
            "automargin": true,
            "type": "pie"
           }
          ],
          "scatter": [
           {
            "marker": {
             "colorbar": {
              "outlinewidth": 0,
              "ticks": ""
             }
            },
            "type": "scatter"
           }
          ],
          "scatter3d": [
           {
            "line": {
             "colorbar": {
              "outlinewidth": 0,
              "ticks": ""
             }
            },
            "marker": {
             "colorbar": {
              "outlinewidth": 0,
              "ticks": ""
             }
            },
            "type": "scatter3d"
           }
          ],
          "scattercarpet": [
           {
            "marker": {
             "colorbar": {
              "outlinewidth": 0,
              "ticks": ""
             }
            },
            "type": "scattercarpet"
           }
          ],
          "scattergeo": [
           {
            "marker": {
             "colorbar": {
              "outlinewidth": 0,
              "ticks": ""
             }
            },
            "type": "scattergeo"
           }
          ],
          "scattergl": [
           {
            "marker": {
             "colorbar": {
              "outlinewidth": 0,
              "ticks": ""
             }
            },
            "type": "scattergl"
           }
          ],
          "scattermapbox": [
           {
            "marker": {
             "colorbar": {
              "outlinewidth": 0,
              "ticks": ""
             }
            },
            "type": "scattermapbox"
           }
          ],
          "scatterpolar": [
           {
            "marker": {
             "colorbar": {
              "outlinewidth": 0,
              "ticks": ""
             }
            },
            "type": "scatterpolar"
           }
          ],
          "scatterpolargl": [
           {
            "marker": {
             "colorbar": {
              "outlinewidth": 0,
              "ticks": ""
             }
            },
            "type": "scatterpolargl"
           }
          ],
          "scatterternary": [
           {
            "marker": {
             "colorbar": {
              "outlinewidth": 0,
              "ticks": ""
             }
            },
            "type": "scatterternary"
           }
          ],
          "surface": [
           {
            "colorbar": {
             "outlinewidth": 0,
             "ticks": ""
            },
            "colorscale": [
             [
              0,
              "#0d0887"
             ],
             [
              0.1111111111111111,
              "#46039f"
             ],
             [
              0.2222222222222222,
              "#7201a8"
             ],
             [
              0.3333333333333333,
              "#9c179e"
             ],
             [
              0.4444444444444444,
              "#bd3786"
             ],
             [
              0.5555555555555556,
              "#d8576b"
             ],
             [
              0.6666666666666666,
              "#ed7953"
             ],
             [
              0.7777777777777778,
              "#fb9f3a"
             ],
             [
              0.8888888888888888,
              "#fdca26"
             ],
             [
              1,
              "#f0f921"
             ]
            ],
            "type": "surface"
           }
          ],
          "table": [
           {
            "cells": {
             "fill": {
              "color": "#EBF0F8"
             },
             "line": {
              "color": "white"
             }
            },
            "header": {
             "fill": {
              "color": "#C8D4E3"
             },
             "line": {
              "color": "white"
             }
            },
            "type": "table"
           }
          ]
         },
         "layout": {
          "annotationdefaults": {
           "arrowcolor": "#2a3f5f",
           "arrowhead": 0,
           "arrowwidth": 1
          },
          "autotypenumbers": "strict",
          "coloraxis": {
           "colorbar": {
            "outlinewidth": 0,
            "ticks": ""
           }
          },
          "colorscale": {
           "diverging": [
            [
             0,
             "#8e0152"
            ],
            [
             0.1,
             "#c51b7d"
            ],
            [
             0.2,
             "#de77ae"
            ],
            [
             0.3,
             "#f1b6da"
            ],
            [
             0.4,
             "#fde0ef"
            ],
            [
             0.5,
             "#f7f7f7"
            ],
            [
             0.6,
             "#e6f5d0"
            ],
            [
             0.7,
             "#b8e186"
            ],
            [
             0.8,
             "#7fbc41"
            ],
            [
             0.9,
             "#4d9221"
            ],
            [
             1,
             "#276419"
            ]
           ],
           "sequential": [
            [
             0,
             "#0d0887"
            ],
            [
             0.1111111111111111,
             "#46039f"
            ],
            [
             0.2222222222222222,
             "#7201a8"
            ],
            [
             0.3333333333333333,
             "#9c179e"
            ],
            [
             0.4444444444444444,
             "#bd3786"
            ],
            [
             0.5555555555555556,
             "#d8576b"
            ],
            [
             0.6666666666666666,
             "#ed7953"
            ],
            [
             0.7777777777777778,
             "#fb9f3a"
            ],
            [
             0.8888888888888888,
             "#fdca26"
            ],
            [
             1,
             "#f0f921"
            ]
           ],
           "sequentialminus": [
            [
             0,
             "#0d0887"
            ],
            [
             0.1111111111111111,
             "#46039f"
            ],
            [
             0.2222222222222222,
             "#7201a8"
            ],
            [
             0.3333333333333333,
             "#9c179e"
            ],
            [
             0.4444444444444444,
             "#bd3786"
            ],
            [
             0.5555555555555556,
             "#d8576b"
            ],
            [
             0.6666666666666666,
             "#ed7953"
            ],
            [
             0.7777777777777778,
             "#fb9f3a"
            ],
            [
             0.8888888888888888,
             "#fdca26"
            ],
            [
             1,
             "#f0f921"
            ]
           ]
          },
          "colorway": [
           "#636efa",
           "#EF553B",
           "#00cc96",
           "#ab63fa",
           "#FFA15A",
           "#19d3f3",
           "#FF6692",
           "#B6E880",
           "#FF97FF",
           "#FECB52"
          ],
          "font": {
           "color": "#2a3f5f"
          },
          "geo": {
           "bgcolor": "white",
           "lakecolor": "white",
           "landcolor": "#E5ECF6",
           "showlakes": true,
           "showland": true,
           "subunitcolor": "white"
          },
          "hoverlabel": {
           "align": "left"
          },
          "hovermode": "closest",
          "mapbox": {
           "style": "light"
          },
          "paper_bgcolor": "white",
          "plot_bgcolor": "#E5ECF6",
          "polar": {
           "angularaxis": {
            "gridcolor": "white",
            "linecolor": "white",
            "ticks": ""
           },
           "bgcolor": "#E5ECF6",
           "radialaxis": {
            "gridcolor": "white",
            "linecolor": "white",
            "ticks": ""
           }
          },
          "scene": {
           "xaxis": {
            "backgroundcolor": "#E5ECF6",
            "gridcolor": "white",
            "gridwidth": 2,
            "linecolor": "white",
            "showbackground": true,
            "ticks": "",
            "zerolinecolor": "white"
           },
           "yaxis": {
            "backgroundcolor": "#E5ECF6",
            "gridcolor": "white",
            "gridwidth": 2,
            "linecolor": "white",
            "showbackground": true,
            "ticks": "",
            "zerolinecolor": "white"
           },
           "zaxis": {
            "backgroundcolor": "#E5ECF6",
            "gridcolor": "white",
            "gridwidth": 2,
            "linecolor": "white",
            "showbackground": true,
            "ticks": "",
            "zerolinecolor": "white"
           }
          },
          "shapedefaults": {
           "line": {
            "color": "#2a3f5f"
           }
          },
          "ternary": {
           "aaxis": {
            "gridcolor": "white",
            "linecolor": "white",
            "ticks": ""
           },
           "baxis": {
            "gridcolor": "white",
            "linecolor": "white",
            "ticks": ""
           },
           "bgcolor": "#E5ECF6",
           "caxis": {
            "gridcolor": "white",
            "linecolor": "white",
            "ticks": ""
           }
          },
          "title": {
           "x": 0.05
          },
          "xaxis": {
           "automargin": true,
           "gridcolor": "white",
           "linecolor": "white",
           "ticks": "",
           "title": {
            "standoff": 15
           },
           "zerolinecolor": "white",
           "zerolinewidth": 2
          },
          "yaxis": {
           "automargin": true,
           "gridcolor": "white",
           "linecolor": "white",
           "ticks": "",
           "title": {
            "standoff": 15
           },
           "zerolinecolor": "white",
           "zerolinewidth": 2
          }
         }
        },
        "title": {
         "text": "Male and Female Vaccinated ratio for Covid19"
        }
       }
      },
      "text/html": [
       "<div>                            <div id=\"65025542-f79d-4e91-bc28-f9c3556de06d\" class=\"plotly-graph-div\" style=\"height:525px; width:100%;\"></div>            <script type=\"text/javascript\">                require([\"plotly\"], function(Plotly) {                    window.PLOTLYENV=window.PLOTLYENV || {};                                    if (document.getElementById(\"65025542-f79d-4e91-bc28-f9c3556de06d\")) {                    Plotly.newPlot(                        \"65025542-f79d-4e91-bc28-f9c3556de06d\",                        [{\"domain\":{\"x\":[0.0,1.0],\"y\":[0.0,1.0]},\"hovertemplate\":\"label=%{label}<br>value=%{value}<extra></extra>\",\"labels\":[\"Male Vaccinated\",\"Female Vaccinated\",\"Trans Gender\"],\"legendgroup\":\"\",\"name\":\"\",\"showlegend\":true,\"type\":\"pie\",\"values\":[90095606.0,78271582.0,26337.0]}],                        {\"legend\":{\"tracegroupgap\":0},\"template\":{\"data\":{\"bar\":[{\"error_x\":{\"color\":\"#2a3f5f\"},\"error_y\":{\"color\":\"#2a3f5f\"},\"marker\":{\"line\":{\"color\":\"#E5ECF6\",\"width\":0.5},\"pattern\":{\"fillmode\":\"overlay\",\"size\":10,\"solidity\":0.2}},\"type\":\"bar\"}],\"barpolar\":[{\"marker\":{\"line\":{\"color\":\"#E5ECF6\",\"width\":0.5},\"pattern\":{\"fillmode\":\"overlay\",\"size\":10,\"solidity\":0.2}},\"type\":\"barpolar\"}],\"carpet\":[{\"aaxis\":{\"endlinecolor\":\"#2a3f5f\",\"gridcolor\":\"white\",\"linecolor\":\"white\",\"minorgridcolor\":\"white\",\"startlinecolor\":\"#2a3f5f\"},\"baxis\":{\"endlinecolor\":\"#2a3f5f\",\"gridcolor\":\"white\",\"linecolor\":\"white\",\"minorgridcolor\":\"white\",\"startlinecolor\":\"#2a3f5f\"},\"type\":\"carpet\"}],\"choropleth\":[{\"colorbar\":{\"outlinewidth\":0,\"ticks\":\"\"},\"type\":\"choropleth\"}],\"contour\":[{\"colorbar\":{\"outlinewidth\":0,\"ticks\":\"\"},\"colorscale\":[[0.0,\"#0d0887\"],[0.1111111111111111,\"#46039f\"],[0.2222222222222222,\"#7201a8\"],[0.3333333333333333,\"#9c179e\"],[0.4444444444444444,\"#bd3786\"],[0.5555555555555556,\"#d8576b\"],[0.6666666666666666,\"#ed7953\"],[0.7777777777777778,\"#fb9f3a\"],[0.8888888888888888,\"#fdca26\"],[1.0,\"#f0f921\"]],\"type\":\"contour\"}],\"contourcarpet\":[{\"colorbar\":{\"outlinewidth\":0,\"ticks\":\"\"},\"type\":\"contourcarpet\"}],\"heatmap\":[{\"colorbar\":{\"outlinewidth\":0,\"ticks\":\"\"},\"colorscale\":[[0.0,\"#0d0887\"],[0.1111111111111111,\"#46039f\"],[0.2222222222222222,\"#7201a8\"],[0.3333333333333333,\"#9c179e\"],[0.4444444444444444,\"#bd3786\"],[0.5555555555555556,\"#d8576b\"],[0.6666666666666666,\"#ed7953\"],[0.7777777777777778,\"#fb9f3a\"],[0.8888888888888888,\"#fdca26\"],[1.0,\"#f0f921\"]],\"type\":\"heatmap\"}],\"heatmapgl\":[{\"colorbar\":{\"outlinewidth\":0,\"ticks\":\"\"},\"colorscale\":[[0.0,\"#0d0887\"],[0.1111111111111111,\"#46039f\"],[0.2222222222222222,\"#7201a8\"],[0.3333333333333333,\"#9c179e\"],[0.4444444444444444,\"#bd3786\"],[0.5555555555555556,\"#d8576b\"],[0.6666666666666666,\"#ed7953\"],[0.7777777777777778,\"#fb9f3a\"],[0.8888888888888888,\"#fdca26\"],[1.0,\"#f0f921\"]],\"type\":\"heatmapgl\"}],\"histogram\":[{\"marker\":{\"pattern\":{\"fillmode\":\"overlay\",\"size\":10,\"solidity\":0.2}},\"type\":\"histogram\"}],\"histogram2d\":[{\"colorbar\":{\"outlinewidth\":0,\"ticks\":\"\"},\"colorscale\":[[0.0,\"#0d0887\"],[0.1111111111111111,\"#46039f\"],[0.2222222222222222,\"#7201a8\"],[0.3333333333333333,\"#9c179e\"],[0.4444444444444444,\"#bd3786\"],[0.5555555555555556,\"#d8576b\"],[0.6666666666666666,\"#ed7953\"],[0.7777777777777778,\"#fb9f3a\"],[0.8888888888888888,\"#fdca26\"],[1.0,\"#f0f921\"]],\"type\":\"histogram2d\"}],\"histogram2dcontour\":[{\"colorbar\":{\"outlinewidth\":0,\"ticks\":\"\"},\"colorscale\":[[0.0,\"#0d0887\"],[0.1111111111111111,\"#46039f\"],[0.2222222222222222,\"#7201a8\"],[0.3333333333333333,\"#9c179e\"],[0.4444444444444444,\"#bd3786\"],[0.5555555555555556,\"#d8576b\"],[0.6666666666666666,\"#ed7953\"],[0.7777777777777778,\"#fb9f3a\"],[0.8888888888888888,\"#fdca26\"],[1.0,\"#f0f921\"]],\"type\":\"histogram2dcontour\"}],\"mesh3d\":[{\"colorbar\":{\"outlinewidth\":0,\"ticks\":\"\"},\"type\":\"mesh3d\"}],\"parcoords\":[{\"line\":{\"colorbar\":{\"outlinewidth\":0,\"ticks\":\"\"}},\"type\":\"parcoords\"}],\"pie\":[{\"automargin\":true,\"type\":\"pie\"}],\"scatter\":[{\"marker\":{\"colorbar\":{\"outlinewidth\":0,\"ticks\":\"\"}},\"type\":\"scatter\"}],\"scatter3d\":[{\"line\":{\"colorbar\":{\"outlinewidth\":0,\"ticks\":\"\"}},\"marker\":{\"colorbar\":{\"outlinewidth\":0,\"ticks\":\"\"}},\"type\":\"scatter3d\"}],\"scattercarpet\":[{\"marker\":{\"colorbar\":{\"outlinewidth\":0,\"ticks\":\"\"}},\"type\":\"scattercarpet\"}],\"scattergeo\":[{\"marker\":{\"colorbar\":{\"outlinewidth\":0,\"ticks\":\"\"}},\"type\":\"scattergeo\"}],\"scattergl\":[{\"marker\":{\"colorbar\":{\"outlinewidth\":0,\"ticks\":\"\"}},\"type\":\"scattergl\"}],\"scattermapbox\":[{\"marker\":{\"colorbar\":{\"outlinewidth\":0,\"ticks\":\"\"}},\"type\":\"scattermapbox\"}],\"scatterpolar\":[{\"marker\":{\"colorbar\":{\"outlinewidth\":0,\"ticks\":\"\"}},\"type\":\"scatterpolar\"}],\"scatterpolargl\":[{\"marker\":{\"colorbar\":{\"outlinewidth\":0,\"ticks\":\"\"}},\"type\":\"scatterpolargl\"}],\"scatterternary\":[{\"marker\":{\"colorbar\":{\"outlinewidth\":0,\"ticks\":\"\"}},\"type\":\"scatterternary\"}],\"surface\":[{\"colorbar\":{\"outlinewidth\":0,\"ticks\":\"\"},\"colorscale\":[[0.0,\"#0d0887\"],[0.1111111111111111,\"#46039f\"],[0.2222222222222222,\"#7201a8\"],[0.3333333333333333,\"#9c179e\"],[0.4444444444444444,\"#bd3786\"],[0.5555555555555556,\"#d8576b\"],[0.6666666666666666,\"#ed7953\"],[0.7777777777777778,\"#fb9f3a\"],[0.8888888888888888,\"#fdca26\"],[1.0,\"#f0f921\"]],\"type\":\"surface\"}],\"table\":[{\"cells\":{\"fill\":{\"color\":\"#EBF0F8\"},\"line\":{\"color\":\"white\"}},\"header\":{\"fill\":{\"color\":\"#C8D4E3\"},\"line\":{\"color\":\"white\"}},\"type\":\"table\"}]},\"layout\":{\"annotationdefaults\":{\"arrowcolor\":\"#2a3f5f\",\"arrowhead\":0,\"arrowwidth\":1},\"autotypenumbers\":\"strict\",\"coloraxis\":{\"colorbar\":{\"outlinewidth\":0,\"ticks\":\"\"}},\"colorscale\":{\"diverging\":[[0,\"#8e0152\"],[0.1,\"#c51b7d\"],[0.2,\"#de77ae\"],[0.3,\"#f1b6da\"],[0.4,\"#fde0ef\"],[0.5,\"#f7f7f7\"],[0.6,\"#e6f5d0\"],[0.7,\"#b8e186\"],[0.8,\"#7fbc41\"],[0.9,\"#4d9221\"],[1,\"#276419\"]],\"sequential\":[[0.0,\"#0d0887\"],[0.1111111111111111,\"#46039f\"],[0.2222222222222222,\"#7201a8\"],[0.3333333333333333,\"#9c179e\"],[0.4444444444444444,\"#bd3786\"],[0.5555555555555556,\"#d8576b\"],[0.6666666666666666,\"#ed7953\"],[0.7777777777777778,\"#fb9f3a\"],[0.8888888888888888,\"#fdca26\"],[1.0,\"#f0f921\"]],\"sequentialminus\":[[0.0,\"#0d0887\"],[0.1111111111111111,\"#46039f\"],[0.2222222222222222,\"#7201a8\"],[0.3333333333333333,\"#9c179e\"],[0.4444444444444444,\"#bd3786\"],[0.5555555555555556,\"#d8576b\"],[0.6666666666666666,\"#ed7953\"],[0.7777777777777778,\"#fb9f3a\"],[0.8888888888888888,\"#fdca26\"],[1.0,\"#f0f921\"]]},\"colorway\":[\"#636efa\",\"#EF553B\",\"#00cc96\",\"#ab63fa\",\"#FFA15A\",\"#19d3f3\",\"#FF6692\",\"#B6E880\",\"#FF97FF\",\"#FECB52\"],\"font\":{\"color\":\"#2a3f5f\"},\"geo\":{\"bgcolor\":\"white\",\"lakecolor\":\"white\",\"landcolor\":\"#E5ECF6\",\"showlakes\":true,\"showland\":true,\"subunitcolor\":\"white\"},\"hoverlabel\":{\"align\":\"left\"},\"hovermode\":\"closest\",\"mapbox\":{\"style\":\"light\"},\"paper_bgcolor\":\"white\",\"plot_bgcolor\":\"#E5ECF6\",\"polar\":{\"angularaxis\":{\"gridcolor\":\"white\",\"linecolor\":\"white\",\"ticks\":\"\"},\"bgcolor\":\"#E5ECF6\",\"radialaxis\":{\"gridcolor\":\"white\",\"linecolor\":\"white\",\"ticks\":\"\"}},\"scene\":{\"xaxis\":{\"backgroundcolor\":\"#E5ECF6\",\"gridcolor\":\"white\",\"gridwidth\":2,\"linecolor\":\"white\",\"showbackground\":true,\"ticks\":\"\",\"zerolinecolor\":\"white\"},\"yaxis\":{\"backgroundcolor\":\"#E5ECF6\",\"gridcolor\":\"white\",\"gridwidth\":2,\"linecolor\":\"white\",\"showbackground\":true,\"ticks\":\"\",\"zerolinecolor\":\"white\"},\"zaxis\":{\"backgroundcolor\":\"#E5ECF6\",\"gridcolor\":\"white\",\"gridwidth\":2,\"linecolor\":\"white\",\"showbackground\":true,\"ticks\":\"\",\"zerolinecolor\":\"white\"}},\"shapedefaults\":{\"line\":{\"color\":\"#2a3f5f\"}},\"ternary\":{\"aaxis\":{\"gridcolor\":\"white\",\"linecolor\":\"white\",\"ticks\":\"\"},\"baxis\":{\"gridcolor\":\"white\",\"linecolor\":\"white\",\"ticks\":\"\"},\"bgcolor\":\"#E5ECF6\",\"caxis\":{\"gridcolor\":\"white\",\"linecolor\":\"white\",\"ticks\":\"\"}},\"title\":{\"x\":0.05},\"xaxis\":{\"automargin\":true,\"gridcolor\":\"white\",\"linecolor\":\"white\",\"ticks\":\"\",\"title\":{\"standoff\":15},\"zerolinecolor\":\"white\",\"zerolinewidth\":2},\"yaxis\":{\"automargin\":true,\"gridcolor\":\"white\",\"linecolor\":\"white\",\"ticks\":\"\",\"title\":{\"standoff\":15},\"zerolinecolor\":\"white\",\"zerolinewidth\":2}}},\"title\":{\"text\":\"Male and Female Vaccinated ratio for Covid19\"}},                        {\"responsive\": true}                    ).then(function(){\n",
       "                            \n",
       "var gd = document.getElementById('65025542-f79d-4e91-bc28-f9c3556de06d');\n",
       "var x = new MutationObserver(function (mutations, observer) {{\n",
       "        var display = window.getComputedStyle(gd).display;\n",
       "        if (!display || display === 'none') {{\n",
       "            console.log([gd, 'removed!']);\n",
       "            Plotly.purge(gd);\n",
       "            observer.disconnect();\n",
       "        }}\n",
       "}});\n",
       "\n",
       "// Listen for the removal of the full notebook cells\n",
       "var notebookContainer = gd.closest('#notebook-container');\n",
       "if (notebookContainer) {{\n",
       "    x.observe(notebookContainer, {childList: true});\n",
       "}}\n",
       "\n",
       "// Listen for the clearing of the current output cell\n",
       "var outputEl = gd.closest('.output');\n",
       "if (outputEl) {{\n",
       "    x.observe(outputEl, {childList: true});\n",
       "}}\n",
       "\n",
       "                        })                };                });            </script>        </div>"
      ]
     },
     "metadata": {},
     "output_type": "display_data"
    }
   ],
   "source": [
    "import plotly\n",
    "import plotly.express as px\n",
    "\n",
    "India = CovidVaccine[(CovidVaccine['Date'] == latest_date)& (CovidVaccine['State'] == 'India')]\n",
    "\n",
    "male = India[\"Male\"].sum()\n",
    "female = India[\"Female\"].sum()\n",
    "trans = India[\"Transgender\"].sum()\n",
    "px.pie(names=[\"Male Vaccinated\",\"Female Vaccinated\",\"Trans Gender\"],values=[male,female,trans],title=\"Male and Female Vaccinated ratio for Covid19\")"
   ]
  },
  {
   "cell_type": "code",
   "execution_count": null,
   "id": "20bef65a",
   "metadata": {},
   "outputs": [
    {
     "data": {
      "text/html": [
       "<div>\n",
       "<style scoped>\n",
       "    .dataframe tbody tr th:only-of-type {\n",
       "        vertical-align: middle;\n",
       "    }\n",
       "\n",
       "    .dataframe tbody tr th {\n",
       "        vertical-align: top;\n",
       "    }\n",
       "\n",
       "    .dataframe thead th {\n",
       "        text-align: right;\n",
       "    }\n",
       "</style>\n",
       "<table border=\"1\" class=\"dataframe\">\n",
       "  <thead>\n",
       "    <tr style=\"text-align: right;\">\n",
       "      <th></th>\n",
       "      <th>Date</th>\n",
       "      <th>State</th>\n",
       "      <th>Total Doses Administered</th>\n",
       "      <th>Sessions</th>\n",
       "      <th>Sites</th>\n",
       "      <th>FirstDose</th>\n",
       "      <th>SecondDose</th>\n",
       "      <th>Male (Doses Administered)</th>\n",
       "      <th>Female (Doses Administered)</th>\n",
       "      <th>Transgender (Doses Administered)</th>\n",
       "      <th>...</th>\n",
       "      <th>18-44 Years (Doses Administered)</th>\n",
       "      <th>45-60 Years (Doses Administered)</th>\n",
       "      <th>60+ Years (Doses Administered)</th>\n",
       "      <th>18-44 Years(Individuals Vaccinated)</th>\n",
       "      <th>45-60 Years(Individuals Vaccinated)</th>\n",
       "      <th>60+ Years(Individuals Vaccinated)</th>\n",
       "      <th>Male</th>\n",
       "      <th>Female</th>\n",
       "      <th>Transgender</th>\n",
       "      <th>TotalVaccinated</th>\n",
       "    </tr>\n",
       "  </thead>\n",
       "  <tbody>\n",
       "    <tr>\n",
       "      <th>135</th>\n",
       "      <td>31/05/2021</td>\n",
       "      <td>India</td>\n",
       "      <td>211778491.0</td>\n",
       "      <td>10623839.0</td>\n",
       "      <td>42783.0</td>\n",
       "      <td>168393525.0</td>\n",
       "      <td>43384966.0</td>\n",
       "      <td>NaN</td>\n",
       "      <td>NaN</td>\n",
       "      <td>NaN</td>\n",
       "      <td>...</td>\n",
       "      <td>NaN</td>\n",
       "      <td>NaN</td>\n",
       "      <td>NaN</td>\n",
       "      <td>36494965.0</td>\n",
       "      <td>72388059.0</td>\n",
       "      <td>59461062.0</td>\n",
       "      <td>90095606.0</td>\n",
       "      <td>78271582.0</td>\n",
       "      <td>26337.0</td>\n",
       "      <td>168393525.0</td>\n",
       "    </tr>\n",
       "  </tbody>\n",
       "</table>\n",
       "<p>1 rows × 24 columns</p>\n",
       "</div>"
      ],
      "text/plain": [
       "           Date  State  Total Doses Administered    Sessions   Sites   \\\n",
       "135  31/05/2021  India               211778491.0  10623839.0  42783.0   \n",
       "\n",
       "       FirstDose  SecondDose  Male (Doses Administered)  \\\n",
       "135  168393525.0  43384966.0                        NaN   \n",
       "\n",
       "     Female (Doses Administered)  Transgender (Doses Administered)  ...  \\\n",
       "135                          NaN                               NaN  ...   \n",
       "\n",
       "     18-44 Years (Doses Administered)  45-60 Years (Doses Administered)  \\\n",
       "135                               NaN                               NaN   \n",
       "\n",
       "     60+ Years (Doses Administered)  18-44 Years(Individuals Vaccinated)  \\\n",
       "135                             NaN                           36494965.0   \n",
       "\n",
       "     45-60 Years(Individuals Vaccinated)  60+ Years(Individuals Vaccinated)  \\\n",
       "135                           72388059.0                         59461062.0   \n",
       "\n",
       "           Male      Female  Transgender  TotalVaccinated  \n",
       "135  90095606.0  78271582.0      26337.0      168393525.0  \n",
       "\n",
       "[1 rows x 24 columns]"
      ]
     },
     "execution_count": 24,
     "metadata": {},
     "output_type": "execute_result"
    }
   ],
   "source": [
    "India"
   ]
  },
  {
   "cell_type": "markdown",
   "id": "d1c39de2",
   "metadata": {},
   "source": [
    "### Pie Chart indicating Vaccination Ratio with respect to the type of vaccine"
   ]
  },
  {
   "cell_type": "code",
   "execution_count": null,
   "id": "67fe6140",
   "metadata": {},
   "outputs": [
    {
     "data": {
      "application/vnd.plotly.v1+json": {
       "config": {
        "plotlyServerURL": "https://plot.ly"
       },
       "data": [
        {
         "domain": {
          "x": [
           0,
           1
          ],
          "y": [
           0,
           1
          ]
         },
         "hovertemplate": "label=%{label}<br>value=%{value}<extra></extra>",
         "labels": [
          "Covaxin Vaccinated",
          "Covishield Vaccinated",
          "Sputnik Vaccinated"
         ],
         "legendgroup": "",
         "name": "",
         "showlegend": true,
         "type": "pie",
         "values": [
          23442881,
          188324712,
          10898
         ]
        }
       ],
       "layout": {
        "legend": {
         "tracegroupgap": 0
        },
        "template": {
         "data": {
          "bar": [
           {
            "error_x": {
             "color": "#2a3f5f"
            },
            "error_y": {
             "color": "#2a3f5f"
            },
            "marker": {
             "line": {
              "color": "#E5ECF6",
              "width": 0.5
             },
             "pattern": {
              "fillmode": "overlay",
              "size": 10,
              "solidity": 0.2
             }
            },
            "type": "bar"
           }
          ],
          "barpolar": [
           {
            "marker": {
             "line": {
              "color": "#E5ECF6",
              "width": 0.5
             },
             "pattern": {
              "fillmode": "overlay",
              "size": 10,
              "solidity": 0.2
             }
            },
            "type": "barpolar"
           }
          ],
          "carpet": [
           {
            "aaxis": {
             "endlinecolor": "#2a3f5f",
             "gridcolor": "white",
             "linecolor": "white",
             "minorgridcolor": "white",
             "startlinecolor": "#2a3f5f"
            },
            "baxis": {
             "endlinecolor": "#2a3f5f",
             "gridcolor": "white",
             "linecolor": "white",
             "minorgridcolor": "white",
             "startlinecolor": "#2a3f5f"
            },
            "type": "carpet"
           }
          ],
          "choropleth": [
           {
            "colorbar": {
             "outlinewidth": 0,
             "ticks": ""
            },
            "type": "choropleth"
           }
          ],
          "contour": [
           {
            "colorbar": {
             "outlinewidth": 0,
             "ticks": ""
            },
            "colorscale": [
             [
              0,
              "#0d0887"
             ],
             [
              0.1111111111111111,
              "#46039f"
             ],
             [
              0.2222222222222222,
              "#7201a8"
             ],
             [
              0.3333333333333333,
              "#9c179e"
             ],
             [
              0.4444444444444444,
              "#bd3786"
             ],
             [
              0.5555555555555556,
              "#d8576b"
             ],
             [
              0.6666666666666666,
              "#ed7953"
             ],
             [
              0.7777777777777778,
              "#fb9f3a"
             ],
             [
              0.8888888888888888,
              "#fdca26"
             ],
             [
              1,
              "#f0f921"
             ]
            ],
            "type": "contour"
           }
          ],
          "contourcarpet": [
           {
            "colorbar": {
             "outlinewidth": 0,
             "ticks": ""
            },
            "type": "contourcarpet"
           }
          ],
          "heatmap": [
           {
            "colorbar": {
             "outlinewidth": 0,
             "ticks": ""
            },
            "colorscale": [
             [
              0,
              "#0d0887"
             ],
             [
              0.1111111111111111,
              "#46039f"
             ],
             [
              0.2222222222222222,
              "#7201a8"
             ],
             [
              0.3333333333333333,
              "#9c179e"
             ],
             [
              0.4444444444444444,
              "#bd3786"
             ],
             [
              0.5555555555555556,
              "#d8576b"
             ],
             [
              0.6666666666666666,
              "#ed7953"
             ],
             [
              0.7777777777777778,
              "#fb9f3a"
             ],
             [
              0.8888888888888888,
              "#fdca26"
             ],
             [
              1,
              "#f0f921"
             ]
            ],
            "type": "heatmap"
           }
          ],
          "heatmapgl": [
           {
            "colorbar": {
             "outlinewidth": 0,
             "ticks": ""
            },
            "colorscale": [
             [
              0,
              "#0d0887"
             ],
             [
              0.1111111111111111,
              "#46039f"
             ],
             [
              0.2222222222222222,
              "#7201a8"
             ],
             [
              0.3333333333333333,
              "#9c179e"
             ],
             [
              0.4444444444444444,
              "#bd3786"
             ],
             [
              0.5555555555555556,
              "#d8576b"
             ],
             [
              0.6666666666666666,
              "#ed7953"
             ],
             [
              0.7777777777777778,
              "#fb9f3a"
             ],
             [
              0.8888888888888888,
              "#fdca26"
             ],
             [
              1,
              "#f0f921"
             ]
            ],
            "type": "heatmapgl"
           }
          ],
          "histogram": [
           {
            "marker": {
             "pattern": {
              "fillmode": "overlay",
              "size": 10,
              "solidity": 0.2
             }
            },
            "type": "histogram"
           }
          ],
          "histogram2d": [
           {
            "colorbar": {
             "outlinewidth": 0,
             "ticks": ""
            },
            "colorscale": [
             [
              0,
              "#0d0887"
             ],
             [
              0.1111111111111111,
              "#46039f"
             ],
             [
              0.2222222222222222,
              "#7201a8"
             ],
             [
              0.3333333333333333,
              "#9c179e"
             ],
             [
              0.4444444444444444,
              "#bd3786"
             ],
             [
              0.5555555555555556,
              "#d8576b"
             ],
             [
              0.6666666666666666,
              "#ed7953"
             ],
             [
              0.7777777777777778,
              "#fb9f3a"
             ],
             [
              0.8888888888888888,
              "#fdca26"
             ],
             [
              1,
              "#f0f921"
             ]
            ],
            "type": "histogram2d"
           }
          ],
          "histogram2dcontour": [
           {
            "colorbar": {
             "outlinewidth": 0,
             "ticks": ""
            },
            "colorscale": [
             [
              0,
              "#0d0887"
             ],
             [
              0.1111111111111111,
              "#46039f"
             ],
             [
              0.2222222222222222,
              "#7201a8"
             ],
             [
              0.3333333333333333,
              "#9c179e"
             ],
             [
              0.4444444444444444,
              "#bd3786"
             ],
             [
              0.5555555555555556,
              "#d8576b"
             ],
             [
              0.6666666666666666,
              "#ed7953"
             ],
             [
              0.7777777777777778,
              "#fb9f3a"
             ],
             [
              0.8888888888888888,
              "#fdca26"
             ],
             [
              1,
              "#f0f921"
             ]
            ],
            "type": "histogram2dcontour"
           }
          ],
          "mesh3d": [
           {
            "colorbar": {
             "outlinewidth": 0,
             "ticks": ""
            },
            "type": "mesh3d"
           }
          ],
          "parcoords": [
           {
            "line": {
             "colorbar": {
              "outlinewidth": 0,
              "ticks": ""
             }
            },
            "type": "parcoords"
           }
          ],
          "pie": [
           {
            "automargin": true,
            "type": "pie"
           }
          ],
          "scatter": [
           {
            "marker": {
             "colorbar": {
              "outlinewidth": 0,
              "ticks": ""
             }
            },
            "type": "scatter"
           }
          ],
          "scatter3d": [
           {
            "line": {
             "colorbar": {
              "outlinewidth": 0,
              "ticks": ""
             }
            },
            "marker": {
             "colorbar": {
              "outlinewidth": 0,
              "ticks": ""
             }
            },
            "type": "scatter3d"
           }
          ],
          "scattercarpet": [
           {
            "marker": {
             "colorbar": {
              "outlinewidth": 0,
              "ticks": ""
             }
            },
            "type": "scattercarpet"
           }
          ],
          "scattergeo": [
           {
            "marker": {
             "colorbar": {
              "outlinewidth": 0,
              "ticks": ""
             }
            },
            "type": "scattergeo"
           }
          ],
          "scattergl": [
           {
            "marker": {
             "colorbar": {
              "outlinewidth": 0,
              "ticks": ""
             }
            },
            "type": "scattergl"
           }
          ],
          "scattermapbox": [
           {
            "marker": {
             "colorbar": {
              "outlinewidth": 0,
              "ticks": ""
             }
            },
            "type": "scattermapbox"
           }
          ],
          "scatterpolar": [
           {
            "marker": {
             "colorbar": {
              "outlinewidth": 0,
              "ticks": ""
             }
            },
            "type": "scatterpolar"
           }
          ],
          "scatterpolargl": [
           {
            "marker": {
             "colorbar": {
              "outlinewidth": 0,
              "ticks": ""
             }
            },
            "type": "scatterpolargl"
           }
          ],
          "scatterternary": [
           {
            "marker": {
             "colorbar": {
              "outlinewidth": 0,
              "ticks": ""
             }
            },
            "type": "scatterternary"
           }
          ],
          "surface": [
           {
            "colorbar": {
             "outlinewidth": 0,
             "ticks": ""
            },
            "colorscale": [
             [
              0,
              "#0d0887"
             ],
             [
              0.1111111111111111,
              "#46039f"
             ],
             [
              0.2222222222222222,
              "#7201a8"
             ],
             [
              0.3333333333333333,
              "#9c179e"
             ],
             [
              0.4444444444444444,
              "#bd3786"
             ],
             [
              0.5555555555555556,
              "#d8576b"
             ],
             [
              0.6666666666666666,
              "#ed7953"
             ],
             [
              0.7777777777777778,
              "#fb9f3a"
             ],
             [
              0.8888888888888888,
              "#fdca26"
             ],
             [
              1,
              "#f0f921"
             ]
            ],
            "type": "surface"
           }
          ],
          "table": [
           {
            "cells": {
             "fill": {
              "color": "#EBF0F8"
             },
             "line": {
              "color": "white"
             }
            },
            "header": {
             "fill": {
              "color": "#C8D4E3"
             },
             "line": {
              "color": "white"
             }
            },
            "type": "table"
           }
          ]
         },
         "layout": {
          "annotationdefaults": {
           "arrowcolor": "#2a3f5f",
           "arrowhead": 0,
           "arrowwidth": 1
          },
          "autotypenumbers": "strict",
          "coloraxis": {
           "colorbar": {
            "outlinewidth": 0,
            "ticks": ""
           }
          },
          "colorscale": {
           "diverging": [
            [
             0,
             "#8e0152"
            ],
            [
             0.1,
             "#c51b7d"
            ],
            [
             0.2,
             "#de77ae"
            ],
            [
             0.3,
             "#f1b6da"
            ],
            [
             0.4,
             "#fde0ef"
            ],
            [
             0.5,
             "#f7f7f7"
            ],
            [
             0.6,
             "#e6f5d0"
            ],
            [
             0.7,
             "#b8e186"
            ],
            [
             0.8,
             "#7fbc41"
            ],
            [
             0.9,
             "#4d9221"
            ],
            [
             1,
             "#276419"
            ]
           ],
           "sequential": [
            [
             0,
             "#0d0887"
            ],
            [
             0.1111111111111111,
             "#46039f"
            ],
            [
             0.2222222222222222,
             "#7201a8"
            ],
            [
             0.3333333333333333,
             "#9c179e"
            ],
            [
             0.4444444444444444,
             "#bd3786"
            ],
            [
             0.5555555555555556,
             "#d8576b"
            ],
            [
             0.6666666666666666,
             "#ed7953"
            ],
            [
             0.7777777777777778,
             "#fb9f3a"
            ],
            [
             0.8888888888888888,
             "#fdca26"
            ],
            [
             1,
             "#f0f921"
            ]
           ],
           "sequentialminus": [
            [
             0,
             "#0d0887"
            ],
            [
             0.1111111111111111,
             "#46039f"
            ],
            [
             0.2222222222222222,
             "#7201a8"
            ],
            [
             0.3333333333333333,
             "#9c179e"
            ],
            [
             0.4444444444444444,
             "#bd3786"
            ],
            [
             0.5555555555555556,
             "#d8576b"
            ],
            [
             0.6666666666666666,
             "#ed7953"
            ],
            [
             0.7777777777777778,
             "#fb9f3a"
            ],
            [
             0.8888888888888888,
             "#fdca26"
            ],
            [
             1,
             "#f0f921"
            ]
           ]
          },
          "colorway": [
           "#636efa",
           "#EF553B",
           "#00cc96",
           "#ab63fa",
           "#FFA15A",
           "#19d3f3",
           "#FF6692",
           "#B6E880",
           "#FF97FF",
           "#FECB52"
          ],
          "font": {
           "color": "#2a3f5f"
          },
          "geo": {
           "bgcolor": "white",
           "lakecolor": "white",
           "landcolor": "#E5ECF6",
           "showlakes": true,
           "showland": true,
           "subunitcolor": "white"
          },
          "hoverlabel": {
           "align": "left"
          },
          "hovermode": "closest",
          "mapbox": {
           "style": "light"
          },
          "paper_bgcolor": "white",
          "plot_bgcolor": "#E5ECF6",
          "polar": {
           "angularaxis": {
            "gridcolor": "white",
            "linecolor": "white",
            "ticks": ""
           },
           "bgcolor": "#E5ECF6",
           "radialaxis": {
            "gridcolor": "white",
            "linecolor": "white",
            "ticks": ""
           }
          },
          "scene": {
           "xaxis": {
            "backgroundcolor": "#E5ECF6",
            "gridcolor": "white",
            "gridwidth": 2,
            "linecolor": "white",
            "showbackground": true,
            "ticks": "",
            "zerolinecolor": "white"
           },
           "yaxis": {
            "backgroundcolor": "#E5ECF6",
            "gridcolor": "white",
            "gridwidth": 2,
            "linecolor": "white",
            "showbackground": true,
            "ticks": "",
            "zerolinecolor": "white"
           },
           "zaxis": {
            "backgroundcolor": "#E5ECF6",
            "gridcolor": "white",
            "gridwidth": 2,
            "linecolor": "white",
            "showbackground": true,
            "ticks": "",
            "zerolinecolor": "white"
           }
          },
          "shapedefaults": {
           "line": {
            "color": "#2a3f5f"
           }
          },
          "ternary": {
           "aaxis": {
            "gridcolor": "white",
            "linecolor": "white",
            "ticks": ""
           },
           "baxis": {
            "gridcolor": "white",
            "linecolor": "white",
            "ticks": ""
           },
           "bgcolor": "#E5ECF6",
           "caxis": {
            "gridcolor": "white",
            "linecolor": "white",
            "ticks": ""
           }
          },
          "title": {
           "x": 0.05
          },
          "xaxis": {
           "automargin": true,
           "gridcolor": "white",
           "linecolor": "white",
           "ticks": "",
           "title": {
            "standoff": 15
           },
           "zerolinecolor": "white",
           "zerolinewidth": 2
          },
          "yaxis": {
           "automargin": true,
           "gridcolor": "white",
           "linecolor": "white",
           "ticks": "",
           "title": {
            "standoff": 15
           },
           "zerolinecolor": "white",
           "zerolinewidth": 2
          }
         }
        },
        "title": {
         "text": "Covaxin,Covishield and Sputnik Vaccination"
        }
       }
      },
      "text/html": [
       "<div>                            <div id=\"80880a22-b829-406f-b88b-557faccb7fe5\" class=\"plotly-graph-div\" style=\"height:525px; width:100%;\"></div>            <script type=\"text/javascript\">                require([\"plotly\"], function(Plotly) {                    window.PLOTLYENV=window.PLOTLYENV || {};                                    if (document.getElementById(\"80880a22-b829-406f-b88b-557faccb7fe5\")) {                    Plotly.newPlot(                        \"80880a22-b829-406f-b88b-557faccb7fe5\",                        [{\"domain\":{\"x\":[0.0,1.0],\"y\":[0.0,1.0]},\"hovertemplate\":\"label=%{label}<br>value=%{value}<extra></extra>\",\"labels\":[\"Covaxin Vaccinated\",\"Covishield Vaccinated\",\"Sputnik Vaccinated\"],\"legendgroup\":\"\",\"name\":\"\",\"showlegend\":true,\"type\":\"pie\",\"values\":[23442881.0,188324712.0,10898.0]}],                        {\"legend\":{\"tracegroupgap\":0},\"template\":{\"data\":{\"bar\":[{\"error_x\":{\"color\":\"#2a3f5f\"},\"error_y\":{\"color\":\"#2a3f5f\"},\"marker\":{\"line\":{\"color\":\"#E5ECF6\",\"width\":0.5},\"pattern\":{\"fillmode\":\"overlay\",\"size\":10,\"solidity\":0.2}},\"type\":\"bar\"}],\"barpolar\":[{\"marker\":{\"line\":{\"color\":\"#E5ECF6\",\"width\":0.5},\"pattern\":{\"fillmode\":\"overlay\",\"size\":10,\"solidity\":0.2}},\"type\":\"barpolar\"}],\"carpet\":[{\"aaxis\":{\"endlinecolor\":\"#2a3f5f\",\"gridcolor\":\"white\",\"linecolor\":\"white\",\"minorgridcolor\":\"white\",\"startlinecolor\":\"#2a3f5f\"},\"baxis\":{\"endlinecolor\":\"#2a3f5f\",\"gridcolor\":\"white\",\"linecolor\":\"white\",\"minorgridcolor\":\"white\",\"startlinecolor\":\"#2a3f5f\"},\"type\":\"carpet\"}],\"choropleth\":[{\"colorbar\":{\"outlinewidth\":0,\"ticks\":\"\"},\"type\":\"choropleth\"}],\"contour\":[{\"colorbar\":{\"outlinewidth\":0,\"ticks\":\"\"},\"colorscale\":[[0.0,\"#0d0887\"],[0.1111111111111111,\"#46039f\"],[0.2222222222222222,\"#7201a8\"],[0.3333333333333333,\"#9c179e\"],[0.4444444444444444,\"#bd3786\"],[0.5555555555555556,\"#d8576b\"],[0.6666666666666666,\"#ed7953\"],[0.7777777777777778,\"#fb9f3a\"],[0.8888888888888888,\"#fdca26\"],[1.0,\"#f0f921\"]],\"type\":\"contour\"}],\"contourcarpet\":[{\"colorbar\":{\"outlinewidth\":0,\"ticks\":\"\"},\"type\":\"contourcarpet\"}],\"heatmap\":[{\"colorbar\":{\"outlinewidth\":0,\"ticks\":\"\"},\"colorscale\":[[0.0,\"#0d0887\"],[0.1111111111111111,\"#46039f\"],[0.2222222222222222,\"#7201a8\"],[0.3333333333333333,\"#9c179e\"],[0.4444444444444444,\"#bd3786\"],[0.5555555555555556,\"#d8576b\"],[0.6666666666666666,\"#ed7953\"],[0.7777777777777778,\"#fb9f3a\"],[0.8888888888888888,\"#fdca26\"],[1.0,\"#f0f921\"]],\"type\":\"heatmap\"}],\"heatmapgl\":[{\"colorbar\":{\"outlinewidth\":0,\"ticks\":\"\"},\"colorscale\":[[0.0,\"#0d0887\"],[0.1111111111111111,\"#46039f\"],[0.2222222222222222,\"#7201a8\"],[0.3333333333333333,\"#9c179e\"],[0.4444444444444444,\"#bd3786\"],[0.5555555555555556,\"#d8576b\"],[0.6666666666666666,\"#ed7953\"],[0.7777777777777778,\"#fb9f3a\"],[0.8888888888888888,\"#fdca26\"],[1.0,\"#f0f921\"]],\"type\":\"heatmapgl\"}],\"histogram\":[{\"marker\":{\"pattern\":{\"fillmode\":\"overlay\",\"size\":10,\"solidity\":0.2}},\"type\":\"histogram\"}],\"histogram2d\":[{\"colorbar\":{\"outlinewidth\":0,\"ticks\":\"\"},\"colorscale\":[[0.0,\"#0d0887\"],[0.1111111111111111,\"#46039f\"],[0.2222222222222222,\"#7201a8\"],[0.3333333333333333,\"#9c179e\"],[0.4444444444444444,\"#bd3786\"],[0.5555555555555556,\"#d8576b\"],[0.6666666666666666,\"#ed7953\"],[0.7777777777777778,\"#fb9f3a\"],[0.8888888888888888,\"#fdca26\"],[1.0,\"#f0f921\"]],\"type\":\"histogram2d\"}],\"histogram2dcontour\":[{\"colorbar\":{\"outlinewidth\":0,\"ticks\":\"\"},\"colorscale\":[[0.0,\"#0d0887\"],[0.1111111111111111,\"#46039f\"],[0.2222222222222222,\"#7201a8\"],[0.3333333333333333,\"#9c179e\"],[0.4444444444444444,\"#bd3786\"],[0.5555555555555556,\"#d8576b\"],[0.6666666666666666,\"#ed7953\"],[0.7777777777777778,\"#fb9f3a\"],[0.8888888888888888,\"#fdca26\"],[1.0,\"#f0f921\"]],\"type\":\"histogram2dcontour\"}],\"mesh3d\":[{\"colorbar\":{\"outlinewidth\":0,\"ticks\":\"\"},\"type\":\"mesh3d\"}],\"parcoords\":[{\"line\":{\"colorbar\":{\"outlinewidth\":0,\"ticks\":\"\"}},\"type\":\"parcoords\"}],\"pie\":[{\"automargin\":true,\"type\":\"pie\"}],\"scatter\":[{\"marker\":{\"colorbar\":{\"outlinewidth\":0,\"ticks\":\"\"}},\"type\":\"scatter\"}],\"scatter3d\":[{\"line\":{\"colorbar\":{\"outlinewidth\":0,\"ticks\":\"\"}},\"marker\":{\"colorbar\":{\"outlinewidth\":0,\"ticks\":\"\"}},\"type\":\"scatter3d\"}],\"scattercarpet\":[{\"marker\":{\"colorbar\":{\"outlinewidth\":0,\"ticks\":\"\"}},\"type\":\"scattercarpet\"}],\"scattergeo\":[{\"marker\":{\"colorbar\":{\"outlinewidth\":0,\"ticks\":\"\"}},\"type\":\"scattergeo\"}],\"scattergl\":[{\"marker\":{\"colorbar\":{\"outlinewidth\":0,\"ticks\":\"\"}},\"type\":\"scattergl\"}],\"scattermapbox\":[{\"marker\":{\"colorbar\":{\"outlinewidth\":0,\"ticks\":\"\"}},\"type\":\"scattermapbox\"}],\"scatterpolar\":[{\"marker\":{\"colorbar\":{\"outlinewidth\":0,\"ticks\":\"\"}},\"type\":\"scatterpolar\"}],\"scatterpolargl\":[{\"marker\":{\"colorbar\":{\"outlinewidth\":0,\"ticks\":\"\"}},\"type\":\"scatterpolargl\"}],\"scatterternary\":[{\"marker\":{\"colorbar\":{\"outlinewidth\":0,\"ticks\":\"\"}},\"type\":\"scatterternary\"}],\"surface\":[{\"colorbar\":{\"outlinewidth\":0,\"ticks\":\"\"},\"colorscale\":[[0.0,\"#0d0887\"],[0.1111111111111111,\"#46039f\"],[0.2222222222222222,\"#7201a8\"],[0.3333333333333333,\"#9c179e\"],[0.4444444444444444,\"#bd3786\"],[0.5555555555555556,\"#d8576b\"],[0.6666666666666666,\"#ed7953\"],[0.7777777777777778,\"#fb9f3a\"],[0.8888888888888888,\"#fdca26\"],[1.0,\"#f0f921\"]],\"type\":\"surface\"}],\"table\":[{\"cells\":{\"fill\":{\"color\":\"#EBF0F8\"},\"line\":{\"color\":\"white\"}},\"header\":{\"fill\":{\"color\":\"#C8D4E3\"},\"line\":{\"color\":\"white\"}},\"type\":\"table\"}]},\"layout\":{\"annotationdefaults\":{\"arrowcolor\":\"#2a3f5f\",\"arrowhead\":0,\"arrowwidth\":1},\"autotypenumbers\":\"strict\",\"coloraxis\":{\"colorbar\":{\"outlinewidth\":0,\"ticks\":\"\"}},\"colorscale\":{\"diverging\":[[0,\"#8e0152\"],[0.1,\"#c51b7d\"],[0.2,\"#de77ae\"],[0.3,\"#f1b6da\"],[0.4,\"#fde0ef\"],[0.5,\"#f7f7f7\"],[0.6,\"#e6f5d0\"],[0.7,\"#b8e186\"],[0.8,\"#7fbc41\"],[0.9,\"#4d9221\"],[1,\"#276419\"]],\"sequential\":[[0.0,\"#0d0887\"],[0.1111111111111111,\"#46039f\"],[0.2222222222222222,\"#7201a8\"],[0.3333333333333333,\"#9c179e\"],[0.4444444444444444,\"#bd3786\"],[0.5555555555555556,\"#d8576b\"],[0.6666666666666666,\"#ed7953\"],[0.7777777777777778,\"#fb9f3a\"],[0.8888888888888888,\"#fdca26\"],[1.0,\"#f0f921\"]],\"sequentialminus\":[[0.0,\"#0d0887\"],[0.1111111111111111,\"#46039f\"],[0.2222222222222222,\"#7201a8\"],[0.3333333333333333,\"#9c179e\"],[0.4444444444444444,\"#bd3786\"],[0.5555555555555556,\"#d8576b\"],[0.6666666666666666,\"#ed7953\"],[0.7777777777777778,\"#fb9f3a\"],[0.8888888888888888,\"#fdca26\"],[1.0,\"#f0f921\"]]},\"colorway\":[\"#636efa\",\"#EF553B\",\"#00cc96\",\"#ab63fa\",\"#FFA15A\",\"#19d3f3\",\"#FF6692\",\"#B6E880\",\"#FF97FF\",\"#FECB52\"],\"font\":{\"color\":\"#2a3f5f\"},\"geo\":{\"bgcolor\":\"white\",\"lakecolor\":\"white\",\"landcolor\":\"#E5ECF6\",\"showlakes\":true,\"showland\":true,\"subunitcolor\":\"white\"},\"hoverlabel\":{\"align\":\"left\"},\"hovermode\":\"closest\",\"mapbox\":{\"style\":\"light\"},\"paper_bgcolor\":\"white\",\"plot_bgcolor\":\"#E5ECF6\",\"polar\":{\"angularaxis\":{\"gridcolor\":\"white\",\"linecolor\":\"white\",\"ticks\":\"\"},\"bgcolor\":\"#E5ECF6\",\"radialaxis\":{\"gridcolor\":\"white\",\"linecolor\":\"white\",\"ticks\":\"\"}},\"scene\":{\"xaxis\":{\"backgroundcolor\":\"#E5ECF6\",\"gridcolor\":\"white\",\"gridwidth\":2,\"linecolor\":\"white\",\"showbackground\":true,\"ticks\":\"\",\"zerolinecolor\":\"white\"},\"yaxis\":{\"backgroundcolor\":\"#E5ECF6\",\"gridcolor\":\"white\",\"gridwidth\":2,\"linecolor\":\"white\",\"showbackground\":true,\"ticks\":\"\",\"zerolinecolor\":\"white\"},\"zaxis\":{\"backgroundcolor\":\"#E5ECF6\",\"gridcolor\":\"white\",\"gridwidth\":2,\"linecolor\":\"white\",\"showbackground\":true,\"ticks\":\"\",\"zerolinecolor\":\"white\"}},\"shapedefaults\":{\"line\":{\"color\":\"#2a3f5f\"}},\"ternary\":{\"aaxis\":{\"gridcolor\":\"white\",\"linecolor\":\"white\",\"ticks\":\"\"},\"baxis\":{\"gridcolor\":\"white\",\"linecolor\":\"white\",\"ticks\":\"\"},\"bgcolor\":\"#E5ECF6\",\"caxis\":{\"gridcolor\":\"white\",\"linecolor\":\"white\",\"ticks\":\"\"}},\"title\":{\"x\":0.05},\"xaxis\":{\"automargin\":true,\"gridcolor\":\"white\",\"linecolor\":\"white\",\"ticks\":\"\",\"title\":{\"standoff\":15},\"zerolinecolor\":\"white\",\"zerolinewidth\":2},\"yaxis\":{\"automargin\":true,\"gridcolor\":\"white\",\"linecolor\":\"white\",\"ticks\":\"\",\"title\":{\"standoff\":15},\"zerolinecolor\":\"white\",\"zerolinewidth\":2}}},\"title\":{\"text\":\"Covaxin,Covishield and Sputnik Vaccination\"}},                        {\"responsive\": true}                    ).then(function(){\n",
       "                            \n",
       "var gd = document.getElementById('80880a22-b829-406f-b88b-557faccb7fe5');\n",
       "var x = new MutationObserver(function (mutations, observer) {{\n",
       "        var display = window.getComputedStyle(gd).display;\n",
       "        if (!display || display === 'none') {{\n",
       "            console.log([gd, 'removed!']);\n",
       "            Plotly.purge(gd);\n",
       "            observer.disconnect();\n",
       "        }}\n",
       "}});\n",
       "\n",
       "// Listen for the removal of the full notebook cells\n",
       "var notebookContainer = gd.closest('#notebook-container');\n",
       "if (notebookContainer) {{\n",
       "    x.observe(notebookContainer, {childList: true});\n",
       "}}\n",
       "\n",
       "// Listen for the clearing of the current output cell\n",
       "var outputEl = gd.closest('.output');\n",
       "if (outputEl) {{\n",
       "    x.observe(outputEl, {childList: true});\n",
       "}}\n",
       "\n",
       "                        })                };                });            </script>        </div>"
      ]
     },
     "metadata": {},
     "output_type": "display_data"
    }
   ],
   "source": [
    "Covaxin = India[\" Covaxin (Doses Administered)\"].sum() \n",
    "Covishield = India[\"CoviShield (Doses Administered)\"].sum()  \n",
    "Sputnik = India['Sputnik V (Doses Administered)'].sum()\n",
    "px.pie(names=[\"Covaxin Vaccinated\",\"Covishield Vaccinated\",\"Sputnik Vaccinated\"],values=[Covaxin,Covishield,Sputnik],title=\"Covaxin,Covishield and Sputnik Vaccination\")"
   ]
  },
  {
   "cell_type": "markdown",
   "id": "c90f1da5",
   "metadata": {},
   "source": [
    "### Plot denoting the total number of doses administered in each of the states with respect to the type of dose"
   ]
  },
  {
   "cell_type": "code",
   "execution_count": null,
   "id": "ac0456bf",
   "metadata": {},
   "outputs": [
    {
     "data": {
      "application/vnd.plotly.v1+json": {
       "config": {
        "plotlyServerURL": "https://plot.ly"
       },
       "data": [
        {
         "name": "First Dose",
         "type": "bar",
         "x": [
          "Ladakh",
          "Lakshadweep",
          "Tripura",
          "Goa",
          "Himachal Pradesh",
          "Sikkim",
          "Dadra and Nagar Haveli and Daman and Diu",
          "Andaman and Nicobar Islands",
          "Chandigarh",
          "Delhi",
          "Mizoram",
          "Uttarakhand",
          "Kerala",
          "Jammu and Kashmir",
          "Gujarat",
          "Rajasthan",
          "Chhattisgarh",
          "Haryana",
          "Arunachal Pradesh",
          "Karnataka",
          "Puducherry",
          "Maharashtra",
          "Odisha",
          "Punjab",
          "Telangana",
          "Manipur",
          "Andhra Pradesh",
          "Meghalaya",
          "Madhya Pradesh",
          "West Bengal",
          "Nagaland",
          "Assam",
          "Jharkhand",
          "Tamil Nadu",
          "Bihar",
          "Uttar Pradesh"
         ],
         "y": [
          122206,
          26687,
          1103113,
          433855,
          2022636,
          179322,
          170105,
          109087,
          274606,
          4194986,
          264128,
          2235181,
          7345141,
          2754861,
          12965663,
          13900165,
          5134658,
          4893257,
          255678,
          10929687,
          218077,
          18016877,
          6380707,
          3868801,
          4802730,
          387493,
          7356423,
          391350,
          9378050,
          10838457,
          216978,
          3304493,
          3484293,
          7063107,
          8516097,
          14854570
         ]
        },
        {
         "name": "Second Dose",
         "type": "bar",
         "x": [
          "Ladakh",
          "Lakshadweep",
          "Tripura",
          "Goa",
          "Himachal Pradesh",
          "Sikkim",
          "Dadra and Nagar Haveli and Daman and Diu",
          "Andaman and Nicobar Islands",
          "Chandigarh",
          "Delhi",
          "Mizoram",
          "Uttarakhand",
          "Kerala",
          "Jammu and Kashmir",
          "Gujarat",
          "Rajasthan",
          "Chhattisgarh",
          "Haryana",
          "Arunachal Pradesh",
          "Karnataka",
          "Puducherry",
          "Maharashtra",
          "Odisha",
          "Punjab",
          "Telangana",
          "Manipur",
          "Andhra Pradesh",
          "Meghalaya",
          "Madhya Pradesh",
          "West Bengal",
          "Nagaland",
          "Assam",
          "Jharkhand",
          "Tamil Nadu",
          "Bihar",
          "Uttar Pradesh"
         ],
         "y": [
          37290,
          6949,
          507671,
          95100,
          433621,
          59661,
          25974,
          15181,
          74901,
          1224355,
          51117,
          683922,
          2068582,
          546141,
          4144956,
          3116166,
          1105870,
          995944,
          78329,
          2753703,
          51251,
          4569743,
          1477091,
          770461,
          1262079,
          70445,
          2512324,
          74340,
          1792269,
          3879678,
          51944,
          833160,
          710059,
          2032747,
          1791503,
          3480439
         ]
        },
        {
         "name": "Total Doses Administered",
         "type": "bar",
         "x": [
          "Ladakh",
          "Lakshadweep",
          "Tripura",
          "Goa",
          "Himachal Pradesh",
          "Sikkim",
          "Dadra and Nagar Haveli and Daman and Diu",
          "Andaman and Nicobar Islands",
          "Chandigarh",
          "Delhi",
          "Mizoram",
          "Uttarakhand",
          "Kerala",
          "Jammu and Kashmir",
          "Gujarat",
          "Rajasthan",
          "Chhattisgarh",
          "Haryana",
          "Arunachal Pradesh",
          "Karnataka",
          "Puducherry",
          "Maharashtra",
          "Odisha",
          "Punjab",
          "Telangana",
          "Manipur",
          "Andhra Pradesh",
          "Meghalaya",
          "Madhya Pradesh",
          "West Bengal",
          "Nagaland",
          "Assam",
          "Jharkhand",
          "Tamil Nadu",
          "Bihar",
          "Uttar Pradesh"
         ],
         "y": [
          159496,
          33636,
          1610784,
          528955,
          2456257,
          238983,
          196079,
          124268,
          349507,
          5419341,
          315245,
          2919103,
          9413723,
          3301002,
          17110619,
          17016331,
          6240528,
          5889201,
          334007,
          13683390,
          269328,
          22586620,
          7857798,
          4639262,
          6064809,
          457938,
          9868747,
          465690,
          11170319,
          14718135,
          268922,
          4137653,
          4194352,
          9095854,
          10307600,
          18335009
         ]
        }
       ],
       "layout": {
        "barmode": "stack",
        "height": 1000,
        "legend": {
         "orientation": "h",
         "x": 0.3,
         "y": 1
        },
        "template": {
         "data": {
          "bar": [
           {
            "error_x": {
             "color": "#2a3f5f"
            },
            "error_y": {
             "color": "#2a3f5f"
            },
            "marker": {
             "line": {
              "color": "#E5ECF6",
              "width": 0.5
             },
             "pattern": {
              "fillmode": "overlay",
              "size": 10,
              "solidity": 0.2
             }
            },
            "type": "bar"
           }
          ],
          "barpolar": [
           {
            "marker": {
             "line": {
              "color": "#E5ECF6",
              "width": 0.5
             },
             "pattern": {
              "fillmode": "overlay",
              "size": 10,
              "solidity": 0.2
             }
            },
            "type": "barpolar"
           }
          ],
          "carpet": [
           {
            "aaxis": {
             "endlinecolor": "#2a3f5f",
             "gridcolor": "white",
             "linecolor": "white",
             "minorgridcolor": "white",
             "startlinecolor": "#2a3f5f"
            },
            "baxis": {
             "endlinecolor": "#2a3f5f",
             "gridcolor": "white",
             "linecolor": "white",
             "minorgridcolor": "white",
             "startlinecolor": "#2a3f5f"
            },
            "type": "carpet"
           }
          ],
          "choropleth": [
           {
            "colorbar": {
             "outlinewidth": 0,
             "ticks": ""
            },
            "type": "choropleth"
           }
          ],
          "contour": [
           {
            "colorbar": {
             "outlinewidth": 0,
             "ticks": ""
            },
            "colorscale": [
             [
              0,
              "#0d0887"
             ],
             [
              0.1111111111111111,
              "#46039f"
             ],
             [
              0.2222222222222222,
              "#7201a8"
             ],
             [
              0.3333333333333333,
              "#9c179e"
             ],
             [
              0.4444444444444444,
              "#bd3786"
             ],
             [
              0.5555555555555556,
              "#d8576b"
             ],
             [
              0.6666666666666666,
              "#ed7953"
             ],
             [
              0.7777777777777778,
              "#fb9f3a"
             ],
             [
              0.8888888888888888,
              "#fdca26"
             ],
             [
              1,
              "#f0f921"
             ]
            ],
            "type": "contour"
           }
          ],
          "contourcarpet": [
           {
            "colorbar": {
             "outlinewidth": 0,
             "ticks": ""
            },
            "type": "contourcarpet"
           }
          ],
          "heatmap": [
           {
            "colorbar": {
             "outlinewidth": 0,
             "ticks": ""
            },
            "colorscale": [
             [
              0,
              "#0d0887"
             ],
             [
              0.1111111111111111,
              "#46039f"
             ],
             [
              0.2222222222222222,
              "#7201a8"
             ],
             [
              0.3333333333333333,
              "#9c179e"
             ],
             [
              0.4444444444444444,
              "#bd3786"
             ],
             [
              0.5555555555555556,
              "#d8576b"
             ],
             [
              0.6666666666666666,
              "#ed7953"
             ],
             [
              0.7777777777777778,
              "#fb9f3a"
             ],
             [
              0.8888888888888888,
              "#fdca26"
             ],
             [
              1,
              "#f0f921"
             ]
            ],
            "type": "heatmap"
           }
          ],
          "heatmapgl": [
           {
            "colorbar": {
             "outlinewidth": 0,
             "ticks": ""
            },
            "colorscale": [
             [
              0,
              "#0d0887"
             ],
             [
              0.1111111111111111,
              "#46039f"
             ],
             [
              0.2222222222222222,
              "#7201a8"
             ],
             [
              0.3333333333333333,
              "#9c179e"
             ],
             [
              0.4444444444444444,
              "#bd3786"
             ],
             [
              0.5555555555555556,
              "#d8576b"
             ],
             [
              0.6666666666666666,
              "#ed7953"
             ],
             [
              0.7777777777777778,
              "#fb9f3a"
             ],
             [
              0.8888888888888888,
              "#fdca26"
             ],
             [
              1,
              "#f0f921"
             ]
            ],
            "type": "heatmapgl"
           }
          ],
          "histogram": [
           {
            "marker": {
             "pattern": {
              "fillmode": "overlay",
              "size": 10,
              "solidity": 0.2
             }
            },
            "type": "histogram"
           }
          ],
          "histogram2d": [
           {
            "colorbar": {
             "outlinewidth": 0,
             "ticks": ""
            },
            "colorscale": [
             [
              0,
              "#0d0887"
             ],
             [
              0.1111111111111111,
              "#46039f"
             ],
             [
              0.2222222222222222,
              "#7201a8"
             ],
             [
              0.3333333333333333,
              "#9c179e"
             ],
             [
              0.4444444444444444,
              "#bd3786"
             ],
             [
              0.5555555555555556,
              "#d8576b"
             ],
             [
              0.6666666666666666,
              "#ed7953"
             ],
             [
              0.7777777777777778,
              "#fb9f3a"
             ],
             [
              0.8888888888888888,
              "#fdca26"
             ],
             [
              1,
              "#f0f921"
             ]
            ],
            "type": "histogram2d"
           }
          ],
          "histogram2dcontour": [
           {
            "colorbar": {
             "outlinewidth": 0,
             "ticks": ""
            },
            "colorscale": [
             [
              0,
              "#0d0887"
             ],
             [
              0.1111111111111111,
              "#46039f"
             ],
             [
              0.2222222222222222,
              "#7201a8"
             ],
             [
              0.3333333333333333,
              "#9c179e"
             ],
             [
              0.4444444444444444,
              "#bd3786"
             ],
             [
              0.5555555555555556,
              "#d8576b"
             ],
             [
              0.6666666666666666,
              "#ed7953"
             ],
             [
              0.7777777777777778,
              "#fb9f3a"
             ],
             [
              0.8888888888888888,
              "#fdca26"
             ],
             [
              1,
              "#f0f921"
             ]
            ],
            "type": "histogram2dcontour"
           }
          ],
          "mesh3d": [
           {
            "colorbar": {
             "outlinewidth": 0,
             "ticks": ""
            },
            "type": "mesh3d"
           }
          ],
          "parcoords": [
           {
            "line": {
             "colorbar": {
              "outlinewidth": 0,
              "ticks": ""
             }
            },
            "type": "parcoords"
           }
          ],
          "pie": [
           {
            "automargin": true,
            "type": "pie"
           }
          ],
          "scatter": [
           {
            "marker": {
             "colorbar": {
              "outlinewidth": 0,
              "ticks": ""
             }
            },
            "type": "scatter"
           }
          ],
          "scatter3d": [
           {
            "line": {
             "colorbar": {
              "outlinewidth": 0,
              "ticks": ""
             }
            },
            "marker": {
             "colorbar": {
              "outlinewidth": 0,
              "ticks": ""
             }
            },
            "type": "scatter3d"
           }
          ],
          "scattercarpet": [
           {
            "marker": {
             "colorbar": {
              "outlinewidth": 0,
              "ticks": ""
             }
            },
            "type": "scattercarpet"
           }
          ],
          "scattergeo": [
           {
            "marker": {
             "colorbar": {
              "outlinewidth": 0,
              "ticks": ""
             }
            },
            "type": "scattergeo"
           }
          ],
          "scattergl": [
           {
            "marker": {
             "colorbar": {
              "outlinewidth": 0,
              "ticks": ""
             }
            },
            "type": "scattergl"
           }
          ],
          "scattermapbox": [
           {
            "marker": {
             "colorbar": {
              "outlinewidth": 0,
              "ticks": ""
             }
            },
            "type": "scattermapbox"
           }
          ],
          "scatterpolar": [
           {
            "marker": {
             "colorbar": {
              "outlinewidth": 0,
              "ticks": ""
             }
            },
            "type": "scatterpolar"
           }
          ],
          "scatterpolargl": [
           {
            "marker": {
             "colorbar": {
              "outlinewidth": 0,
              "ticks": ""
             }
            },
            "type": "scatterpolargl"
           }
          ],
          "scatterternary": [
           {
            "marker": {
             "colorbar": {
              "outlinewidth": 0,
              "ticks": ""
             }
            },
            "type": "scatterternary"
           }
          ],
          "surface": [
           {
            "colorbar": {
             "outlinewidth": 0,
             "ticks": ""
            },
            "colorscale": [
             [
              0,
              "#0d0887"
             ],
             [
              0.1111111111111111,
              "#46039f"
             ],
             [
              0.2222222222222222,
              "#7201a8"
             ],
             [
              0.3333333333333333,
              "#9c179e"
             ],
             [
              0.4444444444444444,
              "#bd3786"
             ],
             [
              0.5555555555555556,
              "#d8576b"
             ],
             [
              0.6666666666666666,
              "#ed7953"
             ],
             [
              0.7777777777777778,
              "#fb9f3a"
             ],
             [
              0.8888888888888888,
              "#fdca26"
             ],
             [
              1,
              "#f0f921"
             ]
            ],
            "type": "surface"
           }
          ],
          "table": [
           {
            "cells": {
             "fill": {
              "color": "#EBF0F8"
             },
             "line": {
              "color": "white"
             }
            },
            "header": {
             "fill": {
              "color": "#C8D4E3"
             },
             "line": {
              "color": "white"
             }
            },
            "type": "table"
           }
          ]
         },
         "layout": {
          "annotationdefaults": {
           "arrowcolor": "#2a3f5f",
           "arrowhead": 0,
           "arrowwidth": 1
          },
          "autotypenumbers": "strict",
          "coloraxis": {
           "colorbar": {
            "outlinewidth": 0,
            "ticks": ""
           }
          },
          "colorscale": {
           "diverging": [
            [
             0,
             "#8e0152"
            ],
            [
             0.1,
             "#c51b7d"
            ],
            [
             0.2,
             "#de77ae"
            ],
            [
             0.3,
             "#f1b6da"
            ],
            [
             0.4,
             "#fde0ef"
            ],
            [
             0.5,
             "#f7f7f7"
            ],
            [
             0.6,
             "#e6f5d0"
            ],
            [
             0.7,
             "#b8e186"
            ],
            [
             0.8,
             "#7fbc41"
            ],
            [
             0.9,
             "#4d9221"
            ],
            [
             1,
             "#276419"
            ]
           ],
           "sequential": [
            [
             0,
             "#0d0887"
            ],
            [
             0.1111111111111111,
             "#46039f"
            ],
            [
             0.2222222222222222,
             "#7201a8"
            ],
            [
             0.3333333333333333,
             "#9c179e"
            ],
            [
             0.4444444444444444,
             "#bd3786"
            ],
            [
             0.5555555555555556,
             "#d8576b"
            ],
            [
             0.6666666666666666,
             "#ed7953"
            ],
            [
             0.7777777777777778,
             "#fb9f3a"
            ],
            [
             0.8888888888888888,
             "#fdca26"
            ],
            [
             1,
             "#f0f921"
            ]
           ],
           "sequentialminus": [
            [
             0,
             "#0d0887"
            ],
            [
             0.1111111111111111,
             "#46039f"
            ],
            [
             0.2222222222222222,
             "#7201a8"
            ],
            [
             0.3333333333333333,
             "#9c179e"
            ],
            [
             0.4444444444444444,
             "#bd3786"
            ],
            [
             0.5555555555555556,
             "#d8576b"
            ],
            [
             0.6666666666666666,
             "#ed7953"
            ],
            [
             0.7777777777777778,
             "#fb9f3a"
            ],
            [
             0.8888888888888888,
             "#fdca26"
            ],
            [
             1,
             "#f0f921"
            ]
           ]
          },
          "colorway": [
           "#636efa",
           "#EF553B",
           "#00cc96",
           "#ab63fa",
           "#FFA15A",
           "#19d3f3",
           "#FF6692",
           "#B6E880",
           "#FF97FF",
           "#FECB52"
          ],
          "font": {
           "color": "#2a3f5f"
          },
          "geo": {
           "bgcolor": "white",
           "lakecolor": "white",
           "landcolor": "#E5ECF6",
           "showlakes": true,
           "showland": true,
           "subunitcolor": "white"
          },
          "hoverlabel": {
           "align": "left"
          },
          "hovermode": "closest",
          "mapbox": {
           "style": "light"
          },
          "paper_bgcolor": "white",
          "plot_bgcolor": "#E5ECF6",
          "polar": {
           "angularaxis": {
            "gridcolor": "white",
            "linecolor": "white",
            "ticks": ""
           },
           "bgcolor": "#E5ECF6",
           "radialaxis": {
            "gridcolor": "white",
            "linecolor": "white",
            "ticks": ""
           }
          },
          "scene": {
           "xaxis": {
            "backgroundcolor": "#E5ECF6",
            "gridcolor": "white",
            "gridwidth": 2,
            "linecolor": "white",
            "showbackground": true,
            "ticks": "",
            "zerolinecolor": "white"
           },
           "yaxis": {
            "backgroundcolor": "#E5ECF6",
            "gridcolor": "white",
            "gridwidth": 2,
            "linecolor": "white",
            "showbackground": true,
            "ticks": "",
            "zerolinecolor": "white"
           },
           "zaxis": {
            "backgroundcolor": "#E5ECF6",
            "gridcolor": "white",
            "gridwidth": 2,
            "linecolor": "white",
            "showbackground": true,
            "ticks": "",
            "zerolinecolor": "white"
           }
          },
          "shapedefaults": {
           "line": {
            "color": "#2a3f5f"
           }
          },
          "ternary": {
           "aaxis": {
            "gridcolor": "white",
            "linecolor": "white",
            "ticks": ""
           },
           "baxis": {
            "gridcolor": "white",
            "linecolor": "white",
            "ticks": ""
           },
           "bgcolor": "#E5ECF6",
           "caxis": {
            "gridcolor": "white",
            "linecolor": "white",
            "ticks": ""
           }
          },
          "title": {
           "x": 0.05
          },
          "xaxis": {
           "automargin": true,
           "gridcolor": "white",
           "linecolor": "white",
           "ticks": "",
           "title": {
            "standoff": 15
           },
           "zerolinecolor": "white",
           "zerolinewidth": 2
          },
          "yaxis": {
           "automargin": true,
           "gridcolor": "white",
           "linecolor": "white",
           "ticks": "",
           "title": {
            "standoff": 15
           },
           "zerolinecolor": "white",
           "zerolinewidth": 2
          }
         }
        },
        "title": {
         "text": "<b>Covid-19 Total Vaccinations in India<b>",
         "x": 0.5
        },
        "width": 1100,
        "xaxis": {
         "categoryorder": "total descending",
         "tickfont": {
          "color": "black",
          "size": 14
         }
        },
        "yaxis": {
         "tickfont": {
          "color": "black",
          "size": 14
         }
        }
       }
      },
      "text/html": [
       "<div>                            <div id=\"dbee2d5e-ea53-441d-b915-6ba6e642fcad\" class=\"plotly-graph-div\" style=\"height:1000px; width:1100px;\"></div>            <script type=\"text/javascript\">                require([\"plotly\"], function(Plotly) {                    window.PLOTLYENV=window.PLOTLYENV || {};                                    if (document.getElementById(\"dbee2d5e-ea53-441d-b915-6ba6e642fcad\")) {                    Plotly.newPlot(                        \"dbee2d5e-ea53-441d-b915-6ba6e642fcad\",                        [{\"name\":\"First Dose\",\"type\":\"bar\",\"x\":[\"Ladakh\",\"Lakshadweep\",\"Tripura\",\"Goa\",\"Himachal Pradesh\",\"Sikkim\",\"Dadra and Nagar Haveli and Daman and Diu\",\"Andaman and Nicobar Islands\",\"Chandigarh\",\"Delhi\",\"Mizoram\",\"Uttarakhand\",\"Kerala\",\"Jammu and Kashmir\",\"Gujarat\",\"Rajasthan\",\"Chhattisgarh\",\"Haryana\",\"Arunachal Pradesh\",\"Karnataka\",\"Puducherry\",\"Maharashtra\",\"Odisha\",\"Punjab\",\"Telangana\",\"Manipur\",\"Andhra Pradesh\",\"Meghalaya\",\"Madhya Pradesh\",\"West Bengal\",\"Nagaland\",\"Assam\",\"Jharkhand\",\"Tamil Nadu\",\"Bihar\",\"Uttar Pradesh\"],\"y\":[122206.0,26687.0,1103113.0,433855.0,2022636.0,179322.0,170105.0,109087.0,274606.0,4194986.0,264128.0,2235181.0,7345141.0,2754861.0,12965663.0,13900165.0,5134658.0,4893257.0,255678.0,10929687.0,218077.0,18016877.0,6380707.0,3868801.0,4802730.0,387493.0,7356423.0,391350.0,9378050.0,10838457.0,216978.0,3304493.0,3484293.0,7063107.0,8516097.0,14854570.0]},{\"name\":\"Second Dose\",\"type\":\"bar\",\"x\":[\"Ladakh\",\"Lakshadweep\",\"Tripura\",\"Goa\",\"Himachal Pradesh\",\"Sikkim\",\"Dadra and Nagar Haveli and Daman and Diu\",\"Andaman and Nicobar Islands\",\"Chandigarh\",\"Delhi\",\"Mizoram\",\"Uttarakhand\",\"Kerala\",\"Jammu and Kashmir\",\"Gujarat\",\"Rajasthan\",\"Chhattisgarh\",\"Haryana\",\"Arunachal Pradesh\",\"Karnataka\",\"Puducherry\",\"Maharashtra\",\"Odisha\",\"Punjab\",\"Telangana\",\"Manipur\",\"Andhra Pradesh\",\"Meghalaya\",\"Madhya Pradesh\",\"West Bengal\",\"Nagaland\",\"Assam\",\"Jharkhand\",\"Tamil Nadu\",\"Bihar\",\"Uttar Pradesh\"],\"y\":[37290.0,6949.0,507671.0,95100.0,433621.0,59661.0,25974.0,15181.0,74901.0,1224355.0,51117.0,683922.0,2068582.0,546141.0,4144956.0,3116166.0,1105870.0,995944.0,78329.0,2753703.0,51251.0,4569743.0,1477091.0,770461.0,1262079.0,70445.0,2512324.0,74340.0,1792269.0,3879678.0,51944.0,833160.0,710059.0,2032747.0,1791503.0,3480439.0]},{\"name\":\"Total Doses Administered\",\"type\":\"bar\",\"x\":[\"Ladakh\",\"Lakshadweep\",\"Tripura\",\"Goa\",\"Himachal Pradesh\",\"Sikkim\",\"Dadra and Nagar Haveli and Daman and Diu\",\"Andaman and Nicobar Islands\",\"Chandigarh\",\"Delhi\",\"Mizoram\",\"Uttarakhand\",\"Kerala\",\"Jammu and Kashmir\",\"Gujarat\",\"Rajasthan\",\"Chhattisgarh\",\"Haryana\",\"Arunachal Pradesh\",\"Karnataka\",\"Puducherry\",\"Maharashtra\",\"Odisha\",\"Punjab\",\"Telangana\",\"Manipur\",\"Andhra Pradesh\",\"Meghalaya\",\"Madhya Pradesh\",\"West Bengal\",\"Nagaland\",\"Assam\",\"Jharkhand\",\"Tamil Nadu\",\"Bihar\",\"Uttar Pradesh\"],\"y\":[159496.0,33636.0,1610784.0,528955.0,2456257.0,238983.0,196079.0,124268.0,349507.0,5419341.0,315245.0,2919103.0,9413723.0,3301002.0,17110619.0,17016331.0,6240528.0,5889201.0,334007.0,13683390.0,269328.0,22586620.0,7857798.0,4639262.0,6064809.0,457938.0,9868747.0,465690.0,11170319.0,14718135.0,268922.0,4137653.0,4194352.0,9095854.0,10307600.0,18335009.0]}],                        {\"barmode\":\"stack\",\"height\":1000,\"legend\":{\"orientation\":\"h\",\"x\":0.3,\"y\":1.0},\"template\":{\"data\":{\"bar\":[{\"error_x\":{\"color\":\"#2a3f5f\"},\"error_y\":{\"color\":\"#2a3f5f\"},\"marker\":{\"line\":{\"color\":\"#E5ECF6\",\"width\":0.5},\"pattern\":{\"fillmode\":\"overlay\",\"size\":10,\"solidity\":0.2}},\"type\":\"bar\"}],\"barpolar\":[{\"marker\":{\"line\":{\"color\":\"#E5ECF6\",\"width\":0.5},\"pattern\":{\"fillmode\":\"overlay\",\"size\":10,\"solidity\":0.2}},\"type\":\"barpolar\"}],\"carpet\":[{\"aaxis\":{\"endlinecolor\":\"#2a3f5f\",\"gridcolor\":\"white\",\"linecolor\":\"white\",\"minorgridcolor\":\"white\",\"startlinecolor\":\"#2a3f5f\"},\"baxis\":{\"endlinecolor\":\"#2a3f5f\",\"gridcolor\":\"white\",\"linecolor\":\"white\",\"minorgridcolor\":\"white\",\"startlinecolor\":\"#2a3f5f\"},\"type\":\"carpet\"}],\"choropleth\":[{\"colorbar\":{\"outlinewidth\":0,\"ticks\":\"\"},\"type\":\"choropleth\"}],\"contour\":[{\"colorbar\":{\"outlinewidth\":0,\"ticks\":\"\"},\"colorscale\":[[0.0,\"#0d0887\"],[0.1111111111111111,\"#46039f\"],[0.2222222222222222,\"#7201a8\"],[0.3333333333333333,\"#9c179e\"],[0.4444444444444444,\"#bd3786\"],[0.5555555555555556,\"#d8576b\"],[0.6666666666666666,\"#ed7953\"],[0.7777777777777778,\"#fb9f3a\"],[0.8888888888888888,\"#fdca26\"],[1.0,\"#f0f921\"]],\"type\":\"contour\"}],\"contourcarpet\":[{\"colorbar\":{\"outlinewidth\":0,\"ticks\":\"\"},\"type\":\"contourcarpet\"}],\"heatmap\":[{\"colorbar\":{\"outlinewidth\":0,\"ticks\":\"\"},\"colorscale\":[[0.0,\"#0d0887\"],[0.1111111111111111,\"#46039f\"],[0.2222222222222222,\"#7201a8\"],[0.3333333333333333,\"#9c179e\"],[0.4444444444444444,\"#bd3786\"],[0.5555555555555556,\"#d8576b\"],[0.6666666666666666,\"#ed7953\"],[0.7777777777777778,\"#fb9f3a\"],[0.8888888888888888,\"#fdca26\"],[1.0,\"#f0f921\"]],\"type\":\"heatmap\"}],\"heatmapgl\":[{\"colorbar\":{\"outlinewidth\":0,\"ticks\":\"\"},\"colorscale\":[[0.0,\"#0d0887\"],[0.1111111111111111,\"#46039f\"],[0.2222222222222222,\"#7201a8\"],[0.3333333333333333,\"#9c179e\"],[0.4444444444444444,\"#bd3786\"],[0.5555555555555556,\"#d8576b\"],[0.6666666666666666,\"#ed7953\"],[0.7777777777777778,\"#fb9f3a\"],[0.8888888888888888,\"#fdca26\"],[1.0,\"#f0f921\"]],\"type\":\"heatmapgl\"}],\"histogram\":[{\"marker\":{\"pattern\":{\"fillmode\":\"overlay\",\"size\":10,\"solidity\":0.2}},\"type\":\"histogram\"}],\"histogram2d\":[{\"colorbar\":{\"outlinewidth\":0,\"ticks\":\"\"},\"colorscale\":[[0.0,\"#0d0887\"],[0.1111111111111111,\"#46039f\"],[0.2222222222222222,\"#7201a8\"],[0.3333333333333333,\"#9c179e\"],[0.4444444444444444,\"#bd3786\"],[0.5555555555555556,\"#d8576b\"],[0.6666666666666666,\"#ed7953\"],[0.7777777777777778,\"#fb9f3a\"],[0.8888888888888888,\"#fdca26\"],[1.0,\"#f0f921\"]],\"type\":\"histogram2d\"}],\"histogram2dcontour\":[{\"colorbar\":{\"outlinewidth\":0,\"ticks\":\"\"},\"colorscale\":[[0.0,\"#0d0887\"],[0.1111111111111111,\"#46039f\"],[0.2222222222222222,\"#7201a8\"],[0.3333333333333333,\"#9c179e\"],[0.4444444444444444,\"#bd3786\"],[0.5555555555555556,\"#d8576b\"],[0.6666666666666666,\"#ed7953\"],[0.7777777777777778,\"#fb9f3a\"],[0.8888888888888888,\"#fdca26\"],[1.0,\"#f0f921\"]],\"type\":\"histogram2dcontour\"}],\"mesh3d\":[{\"colorbar\":{\"outlinewidth\":0,\"ticks\":\"\"},\"type\":\"mesh3d\"}],\"parcoords\":[{\"line\":{\"colorbar\":{\"outlinewidth\":0,\"ticks\":\"\"}},\"type\":\"parcoords\"}],\"pie\":[{\"automargin\":true,\"type\":\"pie\"}],\"scatter\":[{\"marker\":{\"colorbar\":{\"outlinewidth\":0,\"ticks\":\"\"}},\"type\":\"scatter\"}],\"scatter3d\":[{\"line\":{\"colorbar\":{\"outlinewidth\":0,\"ticks\":\"\"}},\"marker\":{\"colorbar\":{\"outlinewidth\":0,\"ticks\":\"\"}},\"type\":\"scatter3d\"}],\"scattercarpet\":[{\"marker\":{\"colorbar\":{\"outlinewidth\":0,\"ticks\":\"\"}},\"type\":\"scattercarpet\"}],\"scattergeo\":[{\"marker\":{\"colorbar\":{\"outlinewidth\":0,\"ticks\":\"\"}},\"type\":\"scattergeo\"}],\"scattergl\":[{\"marker\":{\"colorbar\":{\"outlinewidth\":0,\"ticks\":\"\"}},\"type\":\"scattergl\"}],\"scattermapbox\":[{\"marker\":{\"colorbar\":{\"outlinewidth\":0,\"ticks\":\"\"}},\"type\":\"scattermapbox\"}],\"scatterpolar\":[{\"marker\":{\"colorbar\":{\"outlinewidth\":0,\"ticks\":\"\"}},\"type\":\"scatterpolar\"}],\"scatterpolargl\":[{\"marker\":{\"colorbar\":{\"outlinewidth\":0,\"ticks\":\"\"}},\"type\":\"scatterpolargl\"}],\"scatterternary\":[{\"marker\":{\"colorbar\":{\"outlinewidth\":0,\"ticks\":\"\"}},\"type\":\"scatterternary\"}],\"surface\":[{\"colorbar\":{\"outlinewidth\":0,\"ticks\":\"\"},\"colorscale\":[[0.0,\"#0d0887\"],[0.1111111111111111,\"#46039f\"],[0.2222222222222222,\"#7201a8\"],[0.3333333333333333,\"#9c179e\"],[0.4444444444444444,\"#bd3786\"],[0.5555555555555556,\"#d8576b\"],[0.6666666666666666,\"#ed7953\"],[0.7777777777777778,\"#fb9f3a\"],[0.8888888888888888,\"#fdca26\"],[1.0,\"#f0f921\"]],\"type\":\"surface\"}],\"table\":[{\"cells\":{\"fill\":{\"color\":\"#EBF0F8\"},\"line\":{\"color\":\"white\"}},\"header\":{\"fill\":{\"color\":\"#C8D4E3\"},\"line\":{\"color\":\"white\"}},\"type\":\"table\"}]},\"layout\":{\"annotationdefaults\":{\"arrowcolor\":\"#2a3f5f\",\"arrowhead\":0,\"arrowwidth\":1},\"autotypenumbers\":\"strict\",\"coloraxis\":{\"colorbar\":{\"outlinewidth\":0,\"ticks\":\"\"}},\"colorscale\":{\"diverging\":[[0,\"#8e0152\"],[0.1,\"#c51b7d\"],[0.2,\"#de77ae\"],[0.3,\"#f1b6da\"],[0.4,\"#fde0ef\"],[0.5,\"#f7f7f7\"],[0.6,\"#e6f5d0\"],[0.7,\"#b8e186\"],[0.8,\"#7fbc41\"],[0.9,\"#4d9221\"],[1,\"#276419\"]],\"sequential\":[[0.0,\"#0d0887\"],[0.1111111111111111,\"#46039f\"],[0.2222222222222222,\"#7201a8\"],[0.3333333333333333,\"#9c179e\"],[0.4444444444444444,\"#bd3786\"],[0.5555555555555556,\"#d8576b\"],[0.6666666666666666,\"#ed7953\"],[0.7777777777777778,\"#fb9f3a\"],[0.8888888888888888,\"#fdca26\"],[1.0,\"#f0f921\"]],\"sequentialminus\":[[0.0,\"#0d0887\"],[0.1111111111111111,\"#46039f\"],[0.2222222222222222,\"#7201a8\"],[0.3333333333333333,\"#9c179e\"],[0.4444444444444444,\"#bd3786\"],[0.5555555555555556,\"#d8576b\"],[0.6666666666666666,\"#ed7953\"],[0.7777777777777778,\"#fb9f3a\"],[0.8888888888888888,\"#fdca26\"],[1.0,\"#f0f921\"]]},\"colorway\":[\"#636efa\",\"#EF553B\",\"#00cc96\",\"#ab63fa\",\"#FFA15A\",\"#19d3f3\",\"#FF6692\",\"#B6E880\",\"#FF97FF\",\"#FECB52\"],\"font\":{\"color\":\"#2a3f5f\"},\"geo\":{\"bgcolor\":\"white\",\"lakecolor\":\"white\",\"landcolor\":\"#E5ECF6\",\"showlakes\":true,\"showland\":true,\"subunitcolor\":\"white\"},\"hoverlabel\":{\"align\":\"left\"},\"hovermode\":\"closest\",\"mapbox\":{\"style\":\"light\"},\"paper_bgcolor\":\"white\",\"plot_bgcolor\":\"#E5ECF6\",\"polar\":{\"angularaxis\":{\"gridcolor\":\"white\",\"linecolor\":\"white\",\"ticks\":\"\"},\"bgcolor\":\"#E5ECF6\",\"radialaxis\":{\"gridcolor\":\"white\",\"linecolor\":\"white\",\"ticks\":\"\"}},\"scene\":{\"xaxis\":{\"backgroundcolor\":\"#E5ECF6\",\"gridcolor\":\"white\",\"gridwidth\":2,\"linecolor\":\"white\",\"showbackground\":true,\"ticks\":\"\",\"zerolinecolor\":\"white\"},\"yaxis\":{\"backgroundcolor\":\"#E5ECF6\",\"gridcolor\":\"white\",\"gridwidth\":2,\"linecolor\":\"white\",\"showbackground\":true,\"ticks\":\"\",\"zerolinecolor\":\"white\"},\"zaxis\":{\"backgroundcolor\":\"#E5ECF6\",\"gridcolor\":\"white\",\"gridwidth\":2,\"linecolor\":\"white\",\"showbackground\":true,\"ticks\":\"\",\"zerolinecolor\":\"white\"}},\"shapedefaults\":{\"line\":{\"color\":\"#2a3f5f\"}},\"ternary\":{\"aaxis\":{\"gridcolor\":\"white\",\"linecolor\":\"white\",\"ticks\":\"\"},\"baxis\":{\"gridcolor\":\"white\",\"linecolor\":\"white\",\"ticks\":\"\"},\"bgcolor\":\"#E5ECF6\",\"caxis\":{\"gridcolor\":\"white\",\"linecolor\":\"white\",\"ticks\":\"\"}},\"title\":{\"x\":0.05},\"xaxis\":{\"automargin\":true,\"gridcolor\":\"white\",\"linecolor\":\"white\",\"ticks\":\"\",\"title\":{\"standoff\":15},\"zerolinecolor\":\"white\",\"zerolinewidth\":2},\"yaxis\":{\"automargin\":true,\"gridcolor\":\"white\",\"linecolor\":\"white\",\"ticks\":\"\",\"title\":{\"standoff\":15},\"zerolinecolor\":\"white\",\"zerolinewidth\":2}}},\"title\":{\"text\":\"<b>Covid-19 Total Vaccinations in India<b>\",\"x\":0.5},\"width\":1100,\"xaxis\":{\"categoryorder\":\"total descending\",\"tickfont\":{\"color\":\"black\",\"size\":14}},\"yaxis\":{\"tickfont\":{\"color\":\"black\",\"size\":14}}},                        {\"responsive\": true}                    ).then(function(){\n",
       "                            \n",
       "var gd = document.getElementById('dbee2d5e-ea53-441d-b915-6ba6e642fcad');\n",
       "var x = new MutationObserver(function (mutations, observer) {{\n",
       "        var display = window.getComputedStyle(gd).display;\n",
       "        if (!display || display === 'none') {{\n",
       "            console.log([gd, 'removed!']);\n",
       "            Plotly.purge(gd);\n",
       "            observer.disconnect();\n",
       "        }}\n",
       "}});\n",
       "\n",
       "// Listen for the removal of the full notebook cells\n",
       "var notebookContainer = gd.closest('#notebook-container');\n",
       "if (notebookContainer) {{\n",
       "    x.observe(notebookContainer, {childList: true});\n",
       "}}\n",
       "\n",
       "// Listen for the clearing of the current output cell\n",
       "var outputEl = gd.closest('.output');\n",
       "if (outputEl) {{\n",
       "    x.observe(outputEl, {childList: true});\n",
       "}}\n",
       "\n",
       "                        })                };                });            </script>        </div>"
      ]
     },
     "metadata": {},
     "output_type": "display_data"
    }
   ],
   "source": [
    "\n",
    "fig = go.Figure(go.Bar(x= StateVaccineLatest.State, y= StateVaccineLatest.FirstDose, name='First Dose'))\n",
    "fig.add_trace(go.Bar(x=StateVaccineLatest.State, y= StateVaccineLatest.SecondDose, name='Second Dose'))\n",
    "fig.add_trace(go.Bar(x=StateVaccineLatest.State, y= StateVaccineLatest['Total Doses Administered'], name='Total Doses Administered'))\n",
    "\n",
    "fig.update_layout(barmode='stack',legend_orientation=\"h\",legend=dict(x= 0.3, y=1.0),\n",
    "                  xaxis={'categoryorder':'total descending'},\n",
    "                 title_text='<b>Covid-19 Total Vaccinations in India<b>',\n",
    "                  title_x=0.5,\n",
    "                  width= 1100,\n",
    "                  height= 1000\n",
    "                 )\n",
    "fig.update_xaxes(tickfont=dict(color='black', size=14))\n",
    "fig.update_yaxes(tickfont=dict(color='black', size=14))\n",
    "fig.show()"
   ]
  },
  {
   "cell_type": "markdown",
   "id": "7239e080",
   "metadata": {},
   "source": [
    "### Plot denoting the total number of doses administered in each of the states with respect to Gender"
   ]
  },
  {
   "cell_type": "code",
   "execution_count": null,
   "id": "a10884d2",
   "metadata": {},
   "outputs": [
    {
     "data": {
      "application/vnd.plotly.v1+json": {
       "config": {
        "plotlyServerURL": "https://plot.ly"
       },
       "data": [
        {
         "name": "Male Individuals",
         "type": "bar",
         "x": [
          "Ladakh",
          "Lakshadweep",
          "Tripura",
          "Goa",
          "Himachal Pradesh",
          "Sikkim",
          "Dadra and Nagar Haveli and Daman and Diu",
          "Andaman and Nicobar Islands",
          "Chandigarh",
          "Delhi",
          "Mizoram",
          "Uttarakhand",
          "Kerala",
          "Jammu and Kashmir",
          "Gujarat",
          "Rajasthan",
          "Chhattisgarh",
          "Haryana",
          "Arunachal Pradesh",
          "Karnataka",
          "Puducherry",
          "Maharashtra",
          "Odisha",
          "Punjab",
          "Telangana",
          "Manipur",
          "Andhra Pradesh",
          "Meghalaya",
          "Madhya Pradesh",
          "West Bengal",
          "Nagaland",
          "Assam",
          "Jharkhand",
          "Tamil Nadu",
          "Bihar",
          "Uttar Pradesh"
         ],
         "y": [
          65668,
          14936,
          571702,
          222586,
          1007279,
          96695,
          107652,
          58809,
          154057,
          2429400,
          136218,
          1148414,
          3434903,
          1610368,
          6954068,
          7273533,
          2510498,
          2644942,
          142969,
          5519056,
          112327,
          9651880,
          3398688,
          2186630,
          2484686,
          216156,
          3757692,
          203018,
          5145393,
          6050228,
          126950,
          1793541,
          1874952,
          3865164,
          4667304,
          8457244
         ]
        },
        {
         "name": "Female Individuals",
         "type": "bar",
         "x": [
          "Ladakh",
          "Lakshadweep",
          "Tripura",
          "Goa",
          "Himachal Pradesh",
          "Sikkim",
          "Dadra and Nagar Haveli and Daman and Diu",
          "Andaman and Nicobar Islands",
          "Chandigarh",
          "Delhi",
          "Mizoram",
          "Uttarakhand",
          "Kerala",
          "Jammu and Kashmir",
          "Gujarat",
          "Rajasthan",
          "Chhattisgarh",
          "Haryana",
          "Arunachal Pradesh",
          "Karnataka",
          "Puducherry",
          "Maharashtra",
          "Odisha",
          "Punjab",
          "Telangana",
          "Manipur",
          "Andhra Pradesh",
          "Meghalaya",
          "Madhya Pradesh",
          "West Bengal",
          "Nagaland",
          "Assam",
          "Jharkhand",
          "Tamil Nadu",
          "Bihar",
          "Uttar Pradesh"
         ],
         "y": [
          56522,
          11749,
          531256,
          211234,
          1015007,
          82600,
          62425,
          50269,
          120512,
          1764775,
          127892,
          1086307,
          3909178,
          1143983,
          6009885,
          6624498,
          2623589,
          2247475,
          112616,
          5409055,
          105724,
          8362542,
          2980982,
          1681730,
          2317078,
          171275,
          3597643,
          188292,
          4231195,
          4786796,
          90010,
          1510430,
          1608823,
          3197073,
          3847222,
          6393940
         ]
        },
        {
         "name": "Transgender Individuals",
         "type": "bar",
         "x": [
          "Ladakh",
          "Lakshadweep",
          "Tripura",
          "Goa",
          "Himachal Pradesh",
          "Sikkim",
          "Dadra and Nagar Haveli and Daman and Diu",
          "Andaman and Nicobar Islands",
          "Chandigarh",
          "Delhi",
          "Mizoram",
          "Uttarakhand",
          "Kerala",
          "Jammu and Kashmir",
          "Gujarat",
          "Rajasthan",
          "Chhattisgarh",
          "Haryana",
          "Arunachal Pradesh",
          "Karnataka",
          "Puducherry",
          "Maharashtra",
          "Odisha",
          "Punjab",
          "Telangana",
          "Manipur",
          "Andhra Pradesh",
          "Meghalaya",
          "Madhya Pradesh",
          "West Bengal",
          "Nagaland",
          "Assam",
          "Jharkhand",
          "Tamil Nadu",
          "Bihar",
          "Uttar Pradesh"
         ],
         "y": [
          16,
          2,
          155,
          35,
          350,
          27,
          28,
          9,
          37,
          811,
          18,
          460,
          1060,
          510,
          1710,
          2134,
          571,
          840,
          93,
          1576,
          26,
          2455,
          1037,
          441,
          966,
          62,
          1088,
          40,
          1462,
          1433,
          18,
          522,
          518,
          870,
          1571,
          3386
         ]
        },
        {
         "name": "Total Doses",
         "type": "bar",
         "x": [
          "Ladakh",
          "Lakshadweep",
          "Tripura",
          "Goa",
          "Himachal Pradesh",
          "Sikkim",
          "Dadra and Nagar Haveli and Daman and Diu",
          "Andaman and Nicobar Islands",
          "Chandigarh",
          "Delhi",
          "Mizoram",
          "Uttarakhand",
          "Kerala",
          "Jammu and Kashmir",
          "Gujarat",
          "Rajasthan",
          "Chhattisgarh",
          "Haryana",
          "Arunachal Pradesh",
          "Karnataka",
          "Puducherry",
          "Maharashtra",
          "Odisha",
          "Punjab",
          "Telangana",
          "Manipur",
          "Andhra Pradesh",
          "Meghalaya",
          "Madhya Pradesh",
          "West Bengal",
          "Nagaland",
          "Assam",
          "Jharkhand",
          "Tamil Nadu",
          "Bihar",
          "Uttar Pradesh"
         ],
         "y": [
          159496,
          33636,
          1610784,
          528955,
          2456257,
          238983,
          196079,
          124268,
          349507,
          5419341,
          315245,
          2919103,
          9413723,
          3301002,
          17110619,
          17016331,
          6240528,
          5889201,
          334007,
          13683390,
          269328,
          22586620,
          7857798,
          4639262,
          6064809,
          457938,
          9868747,
          465690,
          11170319,
          14718135,
          268922,
          4137653,
          4194352,
          9095854,
          10307600,
          18335009
         ]
        }
       ],
       "layout": {
        "barmode": "stack",
        "height": 1000,
        "legend": {
         "orientation": "h",
         "x": 0.3,
         "y": 1
        },
        "template": {
         "data": {
          "bar": [
           {
            "error_x": {
             "color": "#2a3f5f"
            },
            "error_y": {
             "color": "#2a3f5f"
            },
            "marker": {
             "line": {
              "color": "#E5ECF6",
              "width": 0.5
             },
             "pattern": {
              "fillmode": "overlay",
              "size": 10,
              "solidity": 0.2
             }
            },
            "type": "bar"
           }
          ],
          "barpolar": [
           {
            "marker": {
             "line": {
              "color": "#E5ECF6",
              "width": 0.5
             },
             "pattern": {
              "fillmode": "overlay",
              "size": 10,
              "solidity": 0.2
             }
            },
            "type": "barpolar"
           }
          ],
          "carpet": [
           {
            "aaxis": {
             "endlinecolor": "#2a3f5f",
             "gridcolor": "white",
             "linecolor": "white",
             "minorgridcolor": "white",
             "startlinecolor": "#2a3f5f"
            },
            "baxis": {
             "endlinecolor": "#2a3f5f",
             "gridcolor": "white",
             "linecolor": "white",
             "minorgridcolor": "white",
             "startlinecolor": "#2a3f5f"
            },
            "type": "carpet"
           }
          ],
          "choropleth": [
           {
            "colorbar": {
             "outlinewidth": 0,
             "ticks": ""
            },
            "type": "choropleth"
           }
          ],
          "contour": [
           {
            "colorbar": {
             "outlinewidth": 0,
             "ticks": ""
            },
            "colorscale": [
             [
              0,
              "#0d0887"
             ],
             [
              0.1111111111111111,
              "#46039f"
             ],
             [
              0.2222222222222222,
              "#7201a8"
             ],
             [
              0.3333333333333333,
              "#9c179e"
             ],
             [
              0.4444444444444444,
              "#bd3786"
             ],
             [
              0.5555555555555556,
              "#d8576b"
             ],
             [
              0.6666666666666666,
              "#ed7953"
             ],
             [
              0.7777777777777778,
              "#fb9f3a"
             ],
             [
              0.8888888888888888,
              "#fdca26"
             ],
             [
              1,
              "#f0f921"
             ]
            ],
            "type": "contour"
           }
          ],
          "contourcarpet": [
           {
            "colorbar": {
             "outlinewidth": 0,
             "ticks": ""
            },
            "type": "contourcarpet"
           }
          ],
          "heatmap": [
           {
            "colorbar": {
             "outlinewidth": 0,
             "ticks": ""
            },
            "colorscale": [
             [
              0,
              "#0d0887"
             ],
             [
              0.1111111111111111,
              "#46039f"
             ],
             [
              0.2222222222222222,
              "#7201a8"
             ],
             [
              0.3333333333333333,
              "#9c179e"
             ],
             [
              0.4444444444444444,
              "#bd3786"
             ],
             [
              0.5555555555555556,
              "#d8576b"
             ],
             [
              0.6666666666666666,
              "#ed7953"
             ],
             [
              0.7777777777777778,
              "#fb9f3a"
             ],
             [
              0.8888888888888888,
              "#fdca26"
             ],
             [
              1,
              "#f0f921"
             ]
            ],
            "type": "heatmap"
           }
          ],
          "heatmapgl": [
           {
            "colorbar": {
             "outlinewidth": 0,
             "ticks": ""
            },
            "colorscale": [
             [
              0,
              "#0d0887"
             ],
             [
              0.1111111111111111,
              "#46039f"
             ],
             [
              0.2222222222222222,
              "#7201a8"
             ],
             [
              0.3333333333333333,
              "#9c179e"
             ],
             [
              0.4444444444444444,
              "#bd3786"
             ],
             [
              0.5555555555555556,
              "#d8576b"
             ],
             [
              0.6666666666666666,
              "#ed7953"
             ],
             [
              0.7777777777777778,
              "#fb9f3a"
             ],
             [
              0.8888888888888888,
              "#fdca26"
             ],
             [
              1,
              "#f0f921"
             ]
            ],
            "type": "heatmapgl"
           }
          ],
          "histogram": [
           {
            "marker": {
             "pattern": {
              "fillmode": "overlay",
              "size": 10,
              "solidity": 0.2
             }
            },
            "type": "histogram"
           }
          ],
          "histogram2d": [
           {
            "colorbar": {
             "outlinewidth": 0,
             "ticks": ""
            },
            "colorscale": [
             [
              0,
              "#0d0887"
             ],
             [
              0.1111111111111111,
              "#46039f"
             ],
             [
              0.2222222222222222,
              "#7201a8"
             ],
             [
              0.3333333333333333,
              "#9c179e"
             ],
             [
              0.4444444444444444,
              "#bd3786"
             ],
             [
              0.5555555555555556,
              "#d8576b"
             ],
             [
              0.6666666666666666,
              "#ed7953"
             ],
             [
              0.7777777777777778,
              "#fb9f3a"
             ],
             [
              0.8888888888888888,
              "#fdca26"
             ],
             [
              1,
              "#f0f921"
             ]
            ],
            "type": "histogram2d"
           }
          ],
          "histogram2dcontour": [
           {
            "colorbar": {
             "outlinewidth": 0,
             "ticks": ""
            },
            "colorscale": [
             [
              0,
              "#0d0887"
             ],
             [
              0.1111111111111111,
              "#46039f"
             ],
             [
              0.2222222222222222,
              "#7201a8"
             ],
             [
              0.3333333333333333,
              "#9c179e"
             ],
             [
              0.4444444444444444,
              "#bd3786"
             ],
             [
              0.5555555555555556,
              "#d8576b"
             ],
             [
              0.6666666666666666,
              "#ed7953"
             ],
             [
              0.7777777777777778,
              "#fb9f3a"
             ],
             [
              0.8888888888888888,
              "#fdca26"
             ],
             [
              1,
              "#f0f921"
             ]
            ],
            "type": "histogram2dcontour"
           }
          ],
          "mesh3d": [
           {
            "colorbar": {
             "outlinewidth": 0,
             "ticks": ""
            },
            "type": "mesh3d"
           }
          ],
          "parcoords": [
           {
            "line": {
             "colorbar": {
              "outlinewidth": 0,
              "ticks": ""
             }
            },
            "type": "parcoords"
           }
          ],
          "pie": [
           {
            "automargin": true,
            "type": "pie"
           }
          ],
          "scatter": [
           {
            "marker": {
             "colorbar": {
              "outlinewidth": 0,
              "ticks": ""
             }
            },
            "type": "scatter"
           }
          ],
          "scatter3d": [
           {
            "line": {
             "colorbar": {
              "outlinewidth": 0,
              "ticks": ""
             }
            },
            "marker": {
             "colorbar": {
              "outlinewidth": 0,
              "ticks": ""
             }
            },
            "type": "scatter3d"
           }
          ],
          "scattercarpet": [
           {
            "marker": {
             "colorbar": {
              "outlinewidth": 0,
              "ticks": ""
             }
            },
            "type": "scattercarpet"
           }
          ],
          "scattergeo": [
           {
            "marker": {
             "colorbar": {
              "outlinewidth": 0,
              "ticks": ""
             }
            },
            "type": "scattergeo"
           }
          ],
          "scattergl": [
           {
            "marker": {
             "colorbar": {
              "outlinewidth": 0,
              "ticks": ""
             }
            },
            "type": "scattergl"
           }
          ],
          "scattermapbox": [
           {
            "marker": {
             "colorbar": {
              "outlinewidth": 0,
              "ticks": ""
             }
            },
            "type": "scattermapbox"
           }
          ],
          "scatterpolar": [
           {
            "marker": {
             "colorbar": {
              "outlinewidth": 0,
              "ticks": ""
             }
            },
            "type": "scatterpolar"
           }
          ],
          "scatterpolargl": [
           {
            "marker": {
             "colorbar": {
              "outlinewidth": 0,
              "ticks": ""
             }
            },
            "type": "scatterpolargl"
           }
          ],
          "scatterternary": [
           {
            "marker": {
             "colorbar": {
              "outlinewidth": 0,
              "ticks": ""
             }
            },
            "type": "scatterternary"
           }
          ],
          "surface": [
           {
            "colorbar": {
             "outlinewidth": 0,
             "ticks": ""
            },
            "colorscale": [
             [
              0,
              "#0d0887"
             ],
             [
              0.1111111111111111,
              "#46039f"
             ],
             [
              0.2222222222222222,
              "#7201a8"
             ],
             [
              0.3333333333333333,
              "#9c179e"
             ],
             [
              0.4444444444444444,
              "#bd3786"
             ],
             [
              0.5555555555555556,
              "#d8576b"
             ],
             [
              0.6666666666666666,
              "#ed7953"
             ],
             [
              0.7777777777777778,
              "#fb9f3a"
             ],
             [
              0.8888888888888888,
              "#fdca26"
             ],
             [
              1,
              "#f0f921"
             ]
            ],
            "type": "surface"
           }
          ],
          "table": [
           {
            "cells": {
             "fill": {
              "color": "#EBF0F8"
             },
             "line": {
              "color": "white"
             }
            },
            "header": {
             "fill": {
              "color": "#C8D4E3"
             },
             "line": {
              "color": "white"
             }
            },
            "type": "table"
           }
          ]
         },
         "layout": {
          "annotationdefaults": {
           "arrowcolor": "#2a3f5f",
           "arrowhead": 0,
           "arrowwidth": 1
          },
          "autotypenumbers": "strict",
          "coloraxis": {
           "colorbar": {
            "outlinewidth": 0,
            "ticks": ""
           }
          },
          "colorscale": {
           "diverging": [
            [
             0,
             "#8e0152"
            ],
            [
             0.1,
             "#c51b7d"
            ],
            [
             0.2,
             "#de77ae"
            ],
            [
             0.3,
             "#f1b6da"
            ],
            [
             0.4,
             "#fde0ef"
            ],
            [
             0.5,
             "#f7f7f7"
            ],
            [
             0.6,
             "#e6f5d0"
            ],
            [
             0.7,
             "#b8e186"
            ],
            [
             0.8,
             "#7fbc41"
            ],
            [
             0.9,
             "#4d9221"
            ],
            [
             1,
             "#276419"
            ]
           ],
           "sequential": [
            [
             0,
             "#0d0887"
            ],
            [
             0.1111111111111111,
             "#46039f"
            ],
            [
             0.2222222222222222,
             "#7201a8"
            ],
            [
             0.3333333333333333,
             "#9c179e"
            ],
            [
             0.4444444444444444,
             "#bd3786"
            ],
            [
             0.5555555555555556,
             "#d8576b"
            ],
            [
             0.6666666666666666,
             "#ed7953"
            ],
            [
             0.7777777777777778,
             "#fb9f3a"
            ],
            [
             0.8888888888888888,
             "#fdca26"
            ],
            [
             1,
             "#f0f921"
            ]
           ],
           "sequentialminus": [
            [
             0,
             "#0d0887"
            ],
            [
             0.1111111111111111,
             "#46039f"
            ],
            [
             0.2222222222222222,
             "#7201a8"
            ],
            [
             0.3333333333333333,
             "#9c179e"
            ],
            [
             0.4444444444444444,
             "#bd3786"
            ],
            [
             0.5555555555555556,
             "#d8576b"
            ],
            [
             0.6666666666666666,
             "#ed7953"
            ],
            [
             0.7777777777777778,
             "#fb9f3a"
            ],
            [
             0.8888888888888888,
             "#fdca26"
            ],
            [
             1,
             "#f0f921"
            ]
           ]
          },
          "colorway": [
           "#636efa",
           "#EF553B",
           "#00cc96",
           "#ab63fa",
           "#FFA15A",
           "#19d3f3",
           "#FF6692",
           "#B6E880",
           "#FF97FF",
           "#FECB52"
          ],
          "font": {
           "color": "#2a3f5f"
          },
          "geo": {
           "bgcolor": "white",
           "lakecolor": "white",
           "landcolor": "#E5ECF6",
           "showlakes": true,
           "showland": true,
           "subunitcolor": "white"
          },
          "hoverlabel": {
           "align": "left"
          },
          "hovermode": "closest",
          "mapbox": {
           "style": "light"
          },
          "paper_bgcolor": "white",
          "plot_bgcolor": "#E5ECF6",
          "polar": {
           "angularaxis": {
            "gridcolor": "white",
            "linecolor": "white",
            "ticks": ""
           },
           "bgcolor": "#E5ECF6",
           "radialaxis": {
            "gridcolor": "white",
            "linecolor": "white",
            "ticks": ""
           }
          },
          "scene": {
           "xaxis": {
            "backgroundcolor": "#E5ECF6",
            "gridcolor": "white",
            "gridwidth": 2,
            "linecolor": "white",
            "showbackground": true,
            "ticks": "",
            "zerolinecolor": "white"
           },
           "yaxis": {
            "backgroundcolor": "#E5ECF6",
            "gridcolor": "white",
            "gridwidth": 2,
            "linecolor": "white",
            "showbackground": true,
            "ticks": "",
            "zerolinecolor": "white"
           },
           "zaxis": {
            "backgroundcolor": "#E5ECF6",
            "gridcolor": "white",
            "gridwidth": 2,
            "linecolor": "white",
            "showbackground": true,
            "ticks": "",
            "zerolinecolor": "white"
           }
          },
          "shapedefaults": {
           "line": {
            "color": "#2a3f5f"
           }
          },
          "ternary": {
           "aaxis": {
            "gridcolor": "white",
            "linecolor": "white",
            "ticks": ""
           },
           "baxis": {
            "gridcolor": "white",
            "linecolor": "white",
            "ticks": ""
           },
           "bgcolor": "#E5ECF6",
           "caxis": {
            "gridcolor": "white",
            "linecolor": "white",
            "ticks": ""
           }
          },
          "title": {
           "x": 0.05
          },
          "xaxis": {
           "automargin": true,
           "gridcolor": "white",
           "linecolor": "white",
           "ticks": "",
           "title": {
            "standoff": 15
           },
           "zerolinecolor": "white",
           "zerolinewidth": 2
          },
          "yaxis": {
           "automargin": true,
           "gridcolor": "white",
           "linecolor": "white",
           "ticks": "",
           "title": {
            "standoff": 15
           },
           "zerolinecolor": "white",
           "zerolinewidth": 2
          }
         }
        },
        "title": {
         "text": "<b>Covid-19 Total Vaccinations in India according to Sex<b>",
         "x": 0.5
        },
        "width": 1100,
        "xaxis": {
         "categoryorder": "total descending",
         "tickfont": {
          "color": "black",
          "size": 14
         }
        },
        "yaxis": {
         "tickfont": {
          "color": "black",
          "size": 14
         }
        }
       }
      },
      "text/html": [
       "<div>                            <div id=\"384fc9a3-f553-461a-957f-1ffc7443ba5f\" class=\"plotly-graph-div\" style=\"height:1000px; width:1100px;\"></div>            <script type=\"text/javascript\">                require([\"plotly\"], function(Plotly) {                    window.PLOTLYENV=window.PLOTLYENV || {};                                    if (document.getElementById(\"384fc9a3-f553-461a-957f-1ffc7443ba5f\")) {                    Plotly.newPlot(                        \"384fc9a3-f553-461a-957f-1ffc7443ba5f\",                        [{\"name\":\"Male Individuals\",\"type\":\"bar\",\"x\":[\"Ladakh\",\"Lakshadweep\",\"Tripura\",\"Goa\",\"Himachal Pradesh\",\"Sikkim\",\"Dadra and Nagar Haveli and Daman and Diu\",\"Andaman and Nicobar Islands\",\"Chandigarh\",\"Delhi\",\"Mizoram\",\"Uttarakhand\",\"Kerala\",\"Jammu and Kashmir\",\"Gujarat\",\"Rajasthan\",\"Chhattisgarh\",\"Haryana\",\"Arunachal Pradesh\",\"Karnataka\",\"Puducherry\",\"Maharashtra\",\"Odisha\",\"Punjab\",\"Telangana\",\"Manipur\",\"Andhra Pradesh\",\"Meghalaya\",\"Madhya Pradesh\",\"West Bengal\",\"Nagaland\",\"Assam\",\"Jharkhand\",\"Tamil Nadu\",\"Bihar\",\"Uttar Pradesh\"],\"y\":[65668.0,14936.0,571702.0,222586.0,1007279.0,96695.0,107652.0,58809.0,154057.0,2429400.0,136218.0,1148414.0,3434903.0,1610368.0,6954068.0,7273533.0,2510498.0,2644942.0,142969.0,5519056.0,112327.0,9651880.0,3398688.0,2186630.0,2484686.0,216156.0,3757692.0,203018.0,5145393.0,6050228.0,126950.0,1793541.0,1874952.0,3865164.0,4667304.0,8457244.0]},{\"name\":\"Female Individuals\",\"type\":\"bar\",\"x\":[\"Ladakh\",\"Lakshadweep\",\"Tripura\",\"Goa\",\"Himachal Pradesh\",\"Sikkim\",\"Dadra and Nagar Haveli and Daman and Diu\",\"Andaman and Nicobar Islands\",\"Chandigarh\",\"Delhi\",\"Mizoram\",\"Uttarakhand\",\"Kerala\",\"Jammu and Kashmir\",\"Gujarat\",\"Rajasthan\",\"Chhattisgarh\",\"Haryana\",\"Arunachal Pradesh\",\"Karnataka\",\"Puducherry\",\"Maharashtra\",\"Odisha\",\"Punjab\",\"Telangana\",\"Manipur\",\"Andhra Pradesh\",\"Meghalaya\",\"Madhya Pradesh\",\"West Bengal\",\"Nagaland\",\"Assam\",\"Jharkhand\",\"Tamil Nadu\",\"Bihar\",\"Uttar Pradesh\"],\"y\":[56522.0,11749.0,531256.0,211234.0,1015007.0,82600.0,62425.0,50269.0,120512.0,1764775.0,127892.0,1086307.0,3909178.0,1143983.0,6009885.0,6624498.0,2623589.0,2247475.0,112616.0,5409055.0,105724.0,8362542.0,2980982.0,1681730.0,2317078.0,171275.0,3597643.0,188292.0,4231195.0,4786796.0,90010.0,1510430.0,1608823.0,3197073.0,3847222.0,6393940.0]},{\"name\":\"Transgender Individuals\",\"type\":\"bar\",\"x\":[\"Ladakh\",\"Lakshadweep\",\"Tripura\",\"Goa\",\"Himachal Pradesh\",\"Sikkim\",\"Dadra and Nagar Haveli and Daman and Diu\",\"Andaman and Nicobar Islands\",\"Chandigarh\",\"Delhi\",\"Mizoram\",\"Uttarakhand\",\"Kerala\",\"Jammu and Kashmir\",\"Gujarat\",\"Rajasthan\",\"Chhattisgarh\",\"Haryana\",\"Arunachal Pradesh\",\"Karnataka\",\"Puducherry\",\"Maharashtra\",\"Odisha\",\"Punjab\",\"Telangana\",\"Manipur\",\"Andhra Pradesh\",\"Meghalaya\",\"Madhya Pradesh\",\"West Bengal\",\"Nagaland\",\"Assam\",\"Jharkhand\",\"Tamil Nadu\",\"Bihar\",\"Uttar Pradesh\"],\"y\":[16.0,2.0,155.0,35.0,350.0,27.0,28.0,9.0,37.0,811.0,18.0,460.0,1060.0,510.0,1710.0,2134.0,571.0,840.0,93.0,1576.0,26.0,2455.0,1037.0,441.0,966.0,62.0,1088.0,40.0,1462.0,1433.0,18.0,522.0,518.0,870.0,1571.0,3386.0]},{\"name\":\"Total Doses\",\"type\":\"bar\",\"x\":[\"Ladakh\",\"Lakshadweep\",\"Tripura\",\"Goa\",\"Himachal Pradesh\",\"Sikkim\",\"Dadra and Nagar Haveli and Daman and Diu\",\"Andaman and Nicobar Islands\",\"Chandigarh\",\"Delhi\",\"Mizoram\",\"Uttarakhand\",\"Kerala\",\"Jammu and Kashmir\",\"Gujarat\",\"Rajasthan\",\"Chhattisgarh\",\"Haryana\",\"Arunachal Pradesh\",\"Karnataka\",\"Puducherry\",\"Maharashtra\",\"Odisha\",\"Punjab\",\"Telangana\",\"Manipur\",\"Andhra Pradesh\",\"Meghalaya\",\"Madhya Pradesh\",\"West Bengal\",\"Nagaland\",\"Assam\",\"Jharkhand\",\"Tamil Nadu\",\"Bihar\",\"Uttar Pradesh\"],\"y\":[159496.0,33636.0,1610784.0,528955.0,2456257.0,238983.0,196079.0,124268.0,349507.0,5419341.0,315245.0,2919103.0,9413723.0,3301002.0,17110619.0,17016331.0,6240528.0,5889201.0,334007.0,13683390.0,269328.0,22586620.0,7857798.0,4639262.0,6064809.0,457938.0,9868747.0,465690.0,11170319.0,14718135.0,268922.0,4137653.0,4194352.0,9095854.0,10307600.0,18335009.0]}],                        {\"barmode\":\"stack\",\"height\":1000,\"legend\":{\"orientation\":\"h\",\"x\":0.3,\"y\":1.0},\"template\":{\"data\":{\"bar\":[{\"error_x\":{\"color\":\"#2a3f5f\"},\"error_y\":{\"color\":\"#2a3f5f\"},\"marker\":{\"line\":{\"color\":\"#E5ECF6\",\"width\":0.5},\"pattern\":{\"fillmode\":\"overlay\",\"size\":10,\"solidity\":0.2}},\"type\":\"bar\"}],\"barpolar\":[{\"marker\":{\"line\":{\"color\":\"#E5ECF6\",\"width\":0.5},\"pattern\":{\"fillmode\":\"overlay\",\"size\":10,\"solidity\":0.2}},\"type\":\"barpolar\"}],\"carpet\":[{\"aaxis\":{\"endlinecolor\":\"#2a3f5f\",\"gridcolor\":\"white\",\"linecolor\":\"white\",\"minorgridcolor\":\"white\",\"startlinecolor\":\"#2a3f5f\"},\"baxis\":{\"endlinecolor\":\"#2a3f5f\",\"gridcolor\":\"white\",\"linecolor\":\"white\",\"minorgridcolor\":\"white\",\"startlinecolor\":\"#2a3f5f\"},\"type\":\"carpet\"}],\"choropleth\":[{\"colorbar\":{\"outlinewidth\":0,\"ticks\":\"\"},\"type\":\"choropleth\"}],\"contour\":[{\"colorbar\":{\"outlinewidth\":0,\"ticks\":\"\"},\"colorscale\":[[0.0,\"#0d0887\"],[0.1111111111111111,\"#46039f\"],[0.2222222222222222,\"#7201a8\"],[0.3333333333333333,\"#9c179e\"],[0.4444444444444444,\"#bd3786\"],[0.5555555555555556,\"#d8576b\"],[0.6666666666666666,\"#ed7953\"],[0.7777777777777778,\"#fb9f3a\"],[0.8888888888888888,\"#fdca26\"],[1.0,\"#f0f921\"]],\"type\":\"contour\"}],\"contourcarpet\":[{\"colorbar\":{\"outlinewidth\":0,\"ticks\":\"\"},\"type\":\"contourcarpet\"}],\"heatmap\":[{\"colorbar\":{\"outlinewidth\":0,\"ticks\":\"\"},\"colorscale\":[[0.0,\"#0d0887\"],[0.1111111111111111,\"#46039f\"],[0.2222222222222222,\"#7201a8\"],[0.3333333333333333,\"#9c179e\"],[0.4444444444444444,\"#bd3786\"],[0.5555555555555556,\"#d8576b\"],[0.6666666666666666,\"#ed7953\"],[0.7777777777777778,\"#fb9f3a\"],[0.8888888888888888,\"#fdca26\"],[1.0,\"#f0f921\"]],\"type\":\"heatmap\"}],\"heatmapgl\":[{\"colorbar\":{\"outlinewidth\":0,\"ticks\":\"\"},\"colorscale\":[[0.0,\"#0d0887\"],[0.1111111111111111,\"#46039f\"],[0.2222222222222222,\"#7201a8\"],[0.3333333333333333,\"#9c179e\"],[0.4444444444444444,\"#bd3786\"],[0.5555555555555556,\"#d8576b\"],[0.6666666666666666,\"#ed7953\"],[0.7777777777777778,\"#fb9f3a\"],[0.8888888888888888,\"#fdca26\"],[1.0,\"#f0f921\"]],\"type\":\"heatmapgl\"}],\"histogram\":[{\"marker\":{\"pattern\":{\"fillmode\":\"overlay\",\"size\":10,\"solidity\":0.2}},\"type\":\"histogram\"}],\"histogram2d\":[{\"colorbar\":{\"outlinewidth\":0,\"ticks\":\"\"},\"colorscale\":[[0.0,\"#0d0887\"],[0.1111111111111111,\"#46039f\"],[0.2222222222222222,\"#7201a8\"],[0.3333333333333333,\"#9c179e\"],[0.4444444444444444,\"#bd3786\"],[0.5555555555555556,\"#d8576b\"],[0.6666666666666666,\"#ed7953\"],[0.7777777777777778,\"#fb9f3a\"],[0.8888888888888888,\"#fdca26\"],[1.0,\"#f0f921\"]],\"type\":\"histogram2d\"}],\"histogram2dcontour\":[{\"colorbar\":{\"outlinewidth\":0,\"ticks\":\"\"},\"colorscale\":[[0.0,\"#0d0887\"],[0.1111111111111111,\"#46039f\"],[0.2222222222222222,\"#7201a8\"],[0.3333333333333333,\"#9c179e\"],[0.4444444444444444,\"#bd3786\"],[0.5555555555555556,\"#d8576b\"],[0.6666666666666666,\"#ed7953\"],[0.7777777777777778,\"#fb9f3a\"],[0.8888888888888888,\"#fdca26\"],[1.0,\"#f0f921\"]],\"type\":\"histogram2dcontour\"}],\"mesh3d\":[{\"colorbar\":{\"outlinewidth\":0,\"ticks\":\"\"},\"type\":\"mesh3d\"}],\"parcoords\":[{\"line\":{\"colorbar\":{\"outlinewidth\":0,\"ticks\":\"\"}},\"type\":\"parcoords\"}],\"pie\":[{\"automargin\":true,\"type\":\"pie\"}],\"scatter\":[{\"marker\":{\"colorbar\":{\"outlinewidth\":0,\"ticks\":\"\"}},\"type\":\"scatter\"}],\"scatter3d\":[{\"line\":{\"colorbar\":{\"outlinewidth\":0,\"ticks\":\"\"}},\"marker\":{\"colorbar\":{\"outlinewidth\":0,\"ticks\":\"\"}},\"type\":\"scatter3d\"}],\"scattercarpet\":[{\"marker\":{\"colorbar\":{\"outlinewidth\":0,\"ticks\":\"\"}},\"type\":\"scattercarpet\"}],\"scattergeo\":[{\"marker\":{\"colorbar\":{\"outlinewidth\":0,\"ticks\":\"\"}},\"type\":\"scattergeo\"}],\"scattergl\":[{\"marker\":{\"colorbar\":{\"outlinewidth\":0,\"ticks\":\"\"}},\"type\":\"scattergl\"}],\"scattermapbox\":[{\"marker\":{\"colorbar\":{\"outlinewidth\":0,\"ticks\":\"\"}},\"type\":\"scattermapbox\"}],\"scatterpolar\":[{\"marker\":{\"colorbar\":{\"outlinewidth\":0,\"ticks\":\"\"}},\"type\":\"scatterpolar\"}],\"scatterpolargl\":[{\"marker\":{\"colorbar\":{\"outlinewidth\":0,\"ticks\":\"\"}},\"type\":\"scatterpolargl\"}],\"scatterternary\":[{\"marker\":{\"colorbar\":{\"outlinewidth\":0,\"ticks\":\"\"}},\"type\":\"scatterternary\"}],\"surface\":[{\"colorbar\":{\"outlinewidth\":0,\"ticks\":\"\"},\"colorscale\":[[0.0,\"#0d0887\"],[0.1111111111111111,\"#46039f\"],[0.2222222222222222,\"#7201a8\"],[0.3333333333333333,\"#9c179e\"],[0.4444444444444444,\"#bd3786\"],[0.5555555555555556,\"#d8576b\"],[0.6666666666666666,\"#ed7953\"],[0.7777777777777778,\"#fb9f3a\"],[0.8888888888888888,\"#fdca26\"],[1.0,\"#f0f921\"]],\"type\":\"surface\"}],\"table\":[{\"cells\":{\"fill\":{\"color\":\"#EBF0F8\"},\"line\":{\"color\":\"white\"}},\"header\":{\"fill\":{\"color\":\"#C8D4E3\"},\"line\":{\"color\":\"white\"}},\"type\":\"table\"}]},\"layout\":{\"annotationdefaults\":{\"arrowcolor\":\"#2a3f5f\",\"arrowhead\":0,\"arrowwidth\":1},\"autotypenumbers\":\"strict\",\"coloraxis\":{\"colorbar\":{\"outlinewidth\":0,\"ticks\":\"\"}},\"colorscale\":{\"diverging\":[[0,\"#8e0152\"],[0.1,\"#c51b7d\"],[0.2,\"#de77ae\"],[0.3,\"#f1b6da\"],[0.4,\"#fde0ef\"],[0.5,\"#f7f7f7\"],[0.6,\"#e6f5d0\"],[0.7,\"#b8e186\"],[0.8,\"#7fbc41\"],[0.9,\"#4d9221\"],[1,\"#276419\"]],\"sequential\":[[0.0,\"#0d0887\"],[0.1111111111111111,\"#46039f\"],[0.2222222222222222,\"#7201a8\"],[0.3333333333333333,\"#9c179e\"],[0.4444444444444444,\"#bd3786\"],[0.5555555555555556,\"#d8576b\"],[0.6666666666666666,\"#ed7953\"],[0.7777777777777778,\"#fb9f3a\"],[0.8888888888888888,\"#fdca26\"],[1.0,\"#f0f921\"]],\"sequentialminus\":[[0.0,\"#0d0887\"],[0.1111111111111111,\"#46039f\"],[0.2222222222222222,\"#7201a8\"],[0.3333333333333333,\"#9c179e\"],[0.4444444444444444,\"#bd3786\"],[0.5555555555555556,\"#d8576b\"],[0.6666666666666666,\"#ed7953\"],[0.7777777777777778,\"#fb9f3a\"],[0.8888888888888888,\"#fdca26\"],[1.0,\"#f0f921\"]]},\"colorway\":[\"#636efa\",\"#EF553B\",\"#00cc96\",\"#ab63fa\",\"#FFA15A\",\"#19d3f3\",\"#FF6692\",\"#B6E880\",\"#FF97FF\",\"#FECB52\"],\"font\":{\"color\":\"#2a3f5f\"},\"geo\":{\"bgcolor\":\"white\",\"lakecolor\":\"white\",\"landcolor\":\"#E5ECF6\",\"showlakes\":true,\"showland\":true,\"subunitcolor\":\"white\"},\"hoverlabel\":{\"align\":\"left\"},\"hovermode\":\"closest\",\"mapbox\":{\"style\":\"light\"},\"paper_bgcolor\":\"white\",\"plot_bgcolor\":\"#E5ECF6\",\"polar\":{\"angularaxis\":{\"gridcolor\":\"white\",\"linecolor\":\"white\",\"ticks\":\"\"},\"bgcolor\":\"#E5ECF6\",\"radialaxis\":{\"gridcolor\":\"white\",\"linecolor\":\"white\",\"ticks\":\"\"}},\"scene\":{\"xaxis\":{\"backgroundcolor\":\"#E5ECF6\",\"gridcolor\":\"white\",\"gridwidth\":2,\"linecolor\":\"white\",\"showbackground\":true,\"ticks\":\"\",\"zerolinecolor\":\"white\"},\"yaxis\":{\"backgroundcolor\":\"#E5ECF6\",\"gridcolor\":\"white\",\"gridwidth\":2,\"linecolor\":\"white\",\"showbackground\":true,\"ticks\":\"\",\"zerolinecolor\":\"white\"},\"zaxis\":{\"backgroundcolor\":\"#E5ECF6\",\"gridcolor\":\"white\",\"gridwidth\":2,\"linecolor\":\"white\",\"showbackground\":true,\"ticks\":\"\",\"zerolinecolor\":\"white\"}},\"shapedefaults\":{\"line\":{\"color\":\"#2a3f5f\"}},\"ternary\":{\"aaxis\":{\"gridcolor\":\"white\",\"linecolor\":\"white\",\"ticks\":\"\"},\"baxis\":{\"gridcolor\":\"white\",\"linecolor\":\"white\",\"ticks\":\"\"},\"bgcolor\":\"#E5ECF6\",\"caxis\":{\"gridcolor\":\"white\",\"linecolor\":\"white\",\"ticks\":\"\"}},\"title\":{\"x\":0.05},\"xaxis\":{\"automargin\":true,\"gridcolor\":\"white\",\"linecolor\":\"white\",\"ticks\":\"\",\"title\":{\"standoff\":15},\"zerolinecolor\":\"white\",\"zerolinewidth\":2},\"yaxis\":{\"automargin\":true,\"gridcolor\":\"white\",\"linecolor\":\"white\",\"ticks\":\"\",\"title\":{\"standoff\":15},\"zerolinecolor\":\"white\",\"zerolinewidth\":2}}},\"title\":{\"text\":\"<b>Covid-19 Total Vaccinations in India according to Sex<b>\",\"x\":0.5},\"width\":1100,\"xaxis\":{\"categoryorder\":\"total descending\",\"tickfont\":{\"color\":\"black\",\"size\":14}},\"yaxis\":{\"tickfont\":{\"color\":\"black\",\"size\":14}}},                        {\"responsive\": true}                    ).then(function(){\n",
       "                            \n",
       "var gd = document.getElementById('384fc9a3-f553-461a-957f-1ffc7443ba5f');\n",
       "var x = new MutationObserver(function (mutations, observer) {{\n",
       "        var display = window.getComputedStyle(gd).display;\n",
       "        if (!display || display === 'none') {{\n",
       "            console.log([gd, 'removed!']);\n",
       "            Plotly.purge(gd);\n",
       "            observer.disconnect();\n",
       "        }}\n",
       "}});\n",
       "\n",
       "// Listen for the removal of the full notebook cells\n",
       "var notebookContainer = gd.closest('#notebook-container');\n",
       "if (notebookContainer) {{\n",
       "    x.observe(notebookContainer, {childList: true});\n",
       "}}\n",
       "\n",
       "// Listen for the clearing of the current output cell\n",
       "var outputEl = gd.closest('.output');\n",
       "if (outputEl) {{\n",
       "    x.observe(outputEl, {childList: true});\n",
       "}}\n",
       "\n",
       "                        })                };                });            </script>        </div>"
      ]
     },
     "metadata": {},
     "output_type": "display_data"
    }
   ],
   "source": [
    "fig = go.Figure(go.Bar(x= StateVaccineLatest.State, y= StateVaccineLatest['Male (Doses Administered)'], name='Male Individuals'))\n",
    "fig.add_trace(go.Bar(x=StateVaccineLatest.State, y= StateVaccineLatest['Female (Doses Administered)'], name='Female Individuals'))\n",
    "fig.add_trace(go.Bar(x=StateVaccineLatest.State, y= StateVaccineLatest['Transgender (Doses Administered)'], name='Transgender Individuals'))\n",
    "fig.add_trace(go.Bar(x=StateVaccineLatest.State, y= StateVaccineLatest['Total Doses Administered'], name='Total Doses'))\n",
    "\n",
    "\n",
    "fig.update_layout(barmode='stack',legend_orientation=\"h\",legend=dict(x= 0.3, y=1.0),\n",
    "                  xaxis={'categoryorder':'total descending'},\n",
    "                 title_text='<b>Covid-19 Total Vaccinations in India according to Sex<b>',\n",
    "                  title_x=0.5,\n",
    "                  width= 1100,\n",
    "                  height= 1000\n",
    "                 )\n",
    "fig.update_xaxes(tickfont=dict(color='black', size=14))\n",
    "fig.update_yaxes(tickfont=dict(color='black', size=14))\n",
    "fig.show()"
   ]
  },
  {
   "cell_type": "markdown",
   "id": "cfd6e92b",
   "metadata": {},
   "source": [
    "### Plot denoting the total number of doses administered in each of the states with respect to the type of vaccine"
   ]
  },
  {
   "cell_type": "code",
   "execution_count": null,
   "id": "d9b19483",
   "metadata": {},
   "outputs": [
    {
     "data": {
      "application/vnd.plotly.v1+json": {
       "config": {
        "plotlyServerURL": "https://plot.ly"
       },
       "data": [
        {
         "name": "Covaxin Administered",
         "type": "bar",
         "x": [
          "Ladakh",
          "Lakshadweep",
          "Tripura",
          "Goa",
          "Himachal Pradesh",
          "Sikkim",
          "Dadra and Nagar Haveli and Daman and Diu",
          "Andaman and Nicobar Islands",
          "Chandigarh",
          "Delhi",
          "Mizoram",
          "Uttarakhand",
          "Kerala",
          "Jammu and Kashmir",
          "Gujarat",
          "Rajasthan",
          "Chhattisgarh",
          "Haryana",
          "Arunachal Pradesh",
          "Karnataka",
          "Puducherry",
          "Maharashtra",
          "Odisha",
          "Punjab",
          "Telangana",
          "Manipur",
          "Andhra Pradesh",
          "Meghalaya",
          "Madhya Pradesh",
          "West Bengal",
          "Nagaland",
          "Assam",
          "Jharkhand",
          "Tamil Nadu",
          "Bihar",
          "Uttar Pradesh"
         ],
         "y": [
          0,
          0,
          15121,
          7291,
          0,
          0,
          0,
          0,
          0,
          1643548,
          0,
          78122,
          676006,
          41568,
          2027524,
          1272840,
          191336,
          819176,
          0,
          1472981,
          74,
          2732312,
          827516,
          430555,
          987525,
          0,
          1747453,
          0,
          1147298,
          1650999,
          0,
          829235,
          533344,
          1398688,
          817845,
          2094524
         ]
        },
        {
         "name": "CoviShield Administered",
         "type": "bar",
         "x": [
          "Ladakh",
          "Lakshadweep",
          "Tripura",
          "Goa",
          "Himachal Pradesh",
          "Sikkim",
          "Dadra and Nagar Haveli and Daman and Diu",
          "Andaman and Nicobar Islands",
          "Chandigarh",
          "Delhi",
          "Mizoram",
          "Uttarakhand",
          "Kerala",
          "Jammu and Kashmir",
          "Gujarat",
          "Rajasthan",
          "Chhattisgarh",
          "Haryana",
          "Arunachal Pradesh",
          "Karnataka",
          "Puducherry",
          "Maharashtra",
          "Odisha",
          "Punjab",
          "Telangana",
          "Manipur",
          "Andhra Pradesh",
          "Meghalaya",
          "Madhya Pradesh",
          "West Bengal",
          "Nagaland",
          "Assam",
          "Jharkhand",
          "Tamil Nadu",
          "Bihar",
          "Uttar Pradesh"
         ],
         "y": [
          159496,
          33636,
          1595663,
          521664,
          2456257,
          238983,
          196079,
          124268,
          349507,
          3775793,
          315245,
          2840981,
          8737717,
          3259434,
          15083095,
          15743491,
          6049192,
          5070025,
          334007,
          12210409,
          269254,
          19854308,
          7030282,
          4208707,
          5066616,
          457938,
          8121064,
          465690,
          10023021,
          13067136,
          268922,
          3308418,
          3661008,
          7697166,
          9489755,
          16240485
         ]
        },
        {
         "name": "Total Vaccine Administered",
         "type": "bar",
         "x": [
          "Ladakh",
          "Lakshadweep",
          "Tripura",
          "Goa",
          "Himachal Pradesh",
          "Sikkim",
          "Dadra and Nagar Haveli and Daman and Diu",
          "Andaman and Nicobar Islands",
          "Chandigarh",
          "Delhi",
          "Mizoram",
          "Uttarakhand",
          "Kerala",
          "Jammu and Kashmir",
          "Gujarat",
          "Rajasthan",
          "Chhattisgarh",
          "Haryana",
          "Arunachal Pradesh",
          "Karnataka",
          "Puducherry",
          "Maharashtra",
          "Odisha",
          "Punjab",
          "Telangana",
          "Manipur",
          "Andhra Pradesh",
          "Meghalaya",
          "Madhya Pradesh",
          "West Bengal",
          "Nagaland",
          "Assam",
          "Jharkhand",
          "Tamil Nadu",
          "Bihar",
          "Uttar Pradesh"
         ],
         "y": [
          159496,
          33636,
          1610784,
          528955,
          2456257,
          238983,
          196079,
          124268,
          349507,
          5419341,
          315245,
          2919103,
          9413723,
          3301002,
          17110619,
          17016331,
          6240528,
          5889201,
          334007,
          13683390,
          269328,
          22586620,
          7857798,
          4639262,
          6064809,
          457938,
          9868747,
          465690,
          11170319,
          14718135,
          268922,
          4137653,
          4194352,
          9095854,
          10307600,
          18335009
         ]
        }
       ],
       "layout": {
        "barmode": "stack",
        "height": 1000,
        "legend": {
         "orientation": "h",
         "x": 0.3,
         "y": 1
        },
        "template": {
         "data": {
          "bar": [
           {
            "error_x": {
             "color": "#2a3f5f"
            },
            "error_y": {
             "color": "#2a3f5f"
            },
            "marker": {
             "line": {
              "color": "#E5ECF6",
              "width": 0.5
             },
             "pattern": {
              "fillmode": "overlay",
              "size": 10,
              "solidity": 0.2
             }
            },
            "type": "bar"
           }
          ],
          "barpolar": [
           {
            "marker": {
             "line": {
              "color": "#E5ECF6",
              "width": 0.5
             },
             "pattern": {
              "fillmode": "overlay",
              "size": 10,
              "solidity": 0.2
             }
            },
            "type": "barpolar"
           }
          ],
          "carpet": [
           {
            "aaxis": {
             "endlinecolor": "#2a3f5f",
             "gridcolor": "white",
             "linecolor": "white",
             "minorgridcolor": "white",
             "startlinecolor": "#2a3f5f"
            },
            "baxis": {
             "endlinecolor": "#2a3f5f",
             "gridcolor": "white",
             "linecolor": "white",
             "minorgridcolor": "white",
             "startlinecolor": "#2a3f5f"
            },
            "type": "carpet"
           }
          ],
          "choropleth": [
           {
            "colorbar": {
             "outlinewidth": 0,
             "ticks": ""
            },
            "type": "choropleth"
           }
          ],
          "contour": [
           {
            "colorbar": {
             "outlinewidth": 0,
             "ticks": ""
            },
            "colorscale": [
             [
              0,
              "#0d0887"
             ],
             [
              0.1111111111111111,
              "#46039f"
             ],
             [
              0.2222222222222222,
              "#7201a8"
             ],
             [
              0.3333333333333333,
              "#9c179e"
             ],
             [
              0.4444444444444444,
              "#bd3786"
             ],
             [
              0.5555555555555556,
              "#d8576b"
             ],
             [
              0.6666666666666666,
              "#ed7953"
             ],
             [
              0.7777777777777778,
              "#fb9f3a"
             ],
             [
              0.8888888888888888,
              "#fdca26"
             ],
             [
              1,
              "#f0f921"
             ]
            ],
            "type": "contour"
           }
          ],
          "contourcarpet": [
           {
            "colorbar": {
             "outlinewidth": 0,
             "ticks": ""
            },
            "type": "contourcarpet"
           }
          ],
          "heatmap": [
           {
            "colorbar": {
             "outlinewidth": 0,
             "ticks": ""
            },
            "colorscale": [
             [
              0,
              "#0d0887"
             ],
             [
              0.1111111111111111,
              "#46039f"
             ],
             [
              0.2222222222222222,
              "#7201a8"
             ],
             [
              0.3333333333333333,
              "#9c179e"
             ],
             [
              0.4444444444444444,
              "#bd3786"
             ],
             [
              0.5555555555555556,
              "#d8576b"
             ],
             [
              0.6666666666666666,
              "#ed7953"
             ],
             [
              0.7777777777777778,
              "#fb9f3a"
             ],
             [
              0.8888888888888888,
              "#fdca26"
             ],
             [
              1,
              "#f0f921"
             ]
            ],
            "type": "heatmap"
           }
          ],
          "heatmapgl": [
           {
            "colorbar": {
             "outlinewidth": 0,
             "ticks": ""
            },
            "colorscale": [
             [
              0,
              "#0d0887"
             ],
             [
              0.1111111111111111,
              "#46039f"
             ],
             [
              0.2222222222222222,
              "#7201a8"
             ],
             [
              0.3333333333333333,
              "#9c179e"
             ],
             [
              0.4444444444444444,
              "#bd3786"
             ],
             [
              0.5555555555555556,
              "#d8576b"
             ],
             [
              0.6666666666666666,
              "#ed7953"
             ],
             [
              0.7777777777777778,
              "#fb9f3a"
             ],
             [
              0.8888888888888888,
              "#fdca26"
             ],
             [
              1,
              "#f0f921"
             ]
            ],
            "type": "heatmapgl"
           }
          ],
          "histogram": [
           {
            "marker": {
             "pattern": {
              "fillmode": "overlay",
              "size": 10,
              "solidity": 0.2
             }
            },
            "type": "histogram"
           }
          ],
          "histogram2d": [
           {
            "colorbar": {
             "outlinewidth": 0,
             "ticks": ""
            },
            "colorscale": [
             [
              0,
              "#0d0887"
             ],
             [
              0.1111111111111111,
              "#46039f"
             ],
             [
              0.2222222222222222,
              "#7201a8"
             ],
             [
              0.3333333333333333,
              "#9c179e"
             ],
             [
              0.4444444444444444,
              "#bd3786"
             ],
             [
              0.5555555555555556,
              "#d8576b"
             ],
             [
              0.6666666666666666,
              "#ed7953"
             ],
             [
              0.7777777777777778,
              "#fb9f3a"
             ],
             [
              0.8888888888888888,
              "#fdca26"
             ],
             [
              1,
              "#f0f921"
             ]
            ],
            "type": "histogram2d"
           }
          ],
          "histogram2dcontour": [
           {
            "colorbar": {
             "outlinewidth": 0,
             "ticks": ""
            },
            "colorscale": [
             [
              0,
              "#0d0887"
             ],
             [
              0.1111111111111111,
              "#46039f"
             ],
             [
              0.2222222222222222,
              "#7201a8"
             ],
             [
              0.3333333333333333,
              "#9c179e"
             ],
             [
              0.4444444444444444,
              "#bd3786"
             ],
             [
              0.5555555555555556,
              "#d8576b"
             ],
             [
              0.6666666666666666,
              "#ed7953"
             ],
             [
              0.7777777777777778,
              "#fb9f3a"
             ],
             [
              0.8888888888888888,
              "#fdca26"
             ],
             [
              1,
              "#f0f921"
             ]
            ],
            "type": "histogram2dcontour"
           }
          ],
          "mesh3d": [
           {
            "colorbar": {
             "outlinewidth": 0,
             "ticks": ""
            },
            "type": "mesh3d"
           }
          ],
          "parcoords": [
           {
            "line": {
             "colorbar": {
              "outlinewidth": 0,
              "ticks": ""
             }
            },
            "type": "parcoords"
           }
          ],
          "pie": [
           {
            "automargin": true,
            "type": "pie"
           }
          ],
          "scatter": [
           {
            "marker": {
             "colorbar": {
              "outlinewidth": 0,
              "ticks": ""
             }
            },
            "type": "scatter"
           }
          ],
          "scatter3d": [
           {
            "line": {
             "colorbar": {
              "outlinewidth": 0,
              "ticks": ""
             }
            },
            "marker": {
             "colorbar": {
              "outlinewidth": 0,
              "ticks": ""
             }
            },
            "type": "scatter3d"
           }
          ],
          "scattercarpet": [
           {
            "marker": {
             "colorbar": {
              "outlinewidth": 0,
              "ticks": ""
             }
            },
            "type": "scattercarpet"
           }
          ],
          "scattergeo": [
           {
            "marker": {
             "colorbar": {
              "outlinewidth": 0,
              "ticks": ""
             }
            },
            "type": "scattergeo"
           }
          ],
          "scattergl": [
           {
            "marker": {
             "colorbar": {
              "outlinewidth": 0,
              "ticks": ""
             }
            },
            "type": "scattergl"
           }
          ],
          "scattermapbox": [
           {
            "marker": {
             "colorbar": {
              "outlinewidth": 0,
              "ticks": ""
             }
            },
            "type": "scattermapbox"
           }
          ],
          "scatterpolar": [
           {
            "marker": {
             "colorbar": {
              "outlinewidth": 0,
              "ticks": ""
             }
            },
            "type": "scatterpolar"
           }
          ],
          "scatterpolargl": [
           {
            "marker": {
             "colorbar": {
              "outlinewidth": 0,
              "ticks": ""
             }
            },
            "type": "scatterpolargl"
           }
          ],
          "scatterternary": [
           {
            "marker": {
             "colorbar": {
              "outlinewidth": 0,
              "ticks": ""
             }
            },
            "type": "scatterternary"
           }
          ],
          "surface": [
           {
            "colorbar": {
             "outlinewidth": 0,
             "ticks": ""
            },
            "colorscale": [
             [
              0,
              "#0d0887"
             ],
             [
              0.1111111111111111,
              "#46039f"
             ],
             [
              0.2222222222222222,
              "#7201a8"
             ],
             [
              0.3333333333333333,
              "#9c179e"
             ],
             [
              0.4444444444444444,
              "#bd3786"
             ],
             [
              0.5555555555555556,
              "#d8576b"
             ],
             [
              0.6666666666666666,
              "#ed7953"
             ],
             [
              0.7777777777777778,
              "#fb9f3a"
             ],
             [
              0.8888888888888888,
              "#fdca26"
             ],
             [
              1,
              "#f0f921"
             ]
            ],
            "type": "surface"
           }
          ],
          "table": [
           {
            "cells": {
             "fill": {
              "color": "#EBF0F8"
             },
             "line": {
              "color": "white"
             }
            },
            "header": {
             "fill": {
              "color": "#C8D4E3"
             },
             "line": {
              "color": "white"
             }
            },
            "type": "table"
           }
          ]
         },
         "layout": {
          "annotationdefaults": {
           "arrowcolor": "#2a3f5f",
           "arrowhead": 0,
           "arrowwidth": 1
          },
          "autotypenumbers": "strict",
          "coloraxis": {
           "colorbar": {
            "outlinewidth": 0,
            "ticks": ""
           }
          },
          "colorscale": {
           "diverging": [
            [
             0,
             "#8e0152"
            ],
            [
             0.1,
             "#c51b7d"
            ],
            [
             0.2,
             "#de77ae"
            ],
            [
             0.3,
             "#f1b6da"
            ],
            [
             0.4,
             "#fde0ef"
            ],
            [
             0.5,
             "#f7f7f7"
            ],
            [
             0.6,
             "#e6f5d0"
            ],
            [
             0.7,
             "#b8e186"
            ],
            [
             0.8,
             "#7fbc41"
            ],
            [
             0.9,
             "#4d9221"
            ],
            [
             1,
             "#276419"
            ]
           ],
           "sequential": [
            [
             0,
             "#0d0887"
            ],
            [
             0.1111111111111111,
             "#46039f"
            ],
            [
             0.2222222222222222,
             "#7201a8"
            ],
            [
             0.3333333333333333,
             "#9c179e"
            ],
            [
             0.4444444444444444,
             "#bd3786"
            ],
            [
             0.5555555555555556,
             "#d8576b"
            ],
            [
             0.6666666666666666,
             "#ed7953"
            ],
            [
             0.7777777777777778,
             "#fb9f3a"
            ],
            [
             0.8888888888888888,
             "#fdca26"
            ],
            [
             1,
             "#f0f921"
            ]
           ],
           "sequentialminus": [
            [
             0,
             "#0d0887"
            ],
            [
             0.1111111111111111,
             "#46039f"
            ],
            [
             0.2222222222222222,
             "#7201a8"
            ],
            [
             0.3333333333333333,
             "#9c179e"
            ],
            [
             0.4444444444444444,
             "#bd3786"
            ],
            [
             0.5555555555555556,
             "#d8576b"
            ],
            [
             0.6666666666666666,
             "#ed7953"
            ],
            [
             0.7777777777777778,
             "#fb9f3a"
            ],
            [
             0.8888888888888888,
             "#fdca26"
            ],
            [
             1,
             "#f0f921"
            ]
           ]
          },
          "colorway": [
           "#636efa",
           "#EF553B",
           "#00cc96",
           "#ab63fa",
           "#FFA15A",
           "#19d3f3",
           "#FF6692",
           "#B6E880",
           "#FF97FF",
           "#FECB52"
          ],
          "font": {
           "color": "#2a3f5f"
          },
          "geo": {
           "bgcolor": "white",
           "lakecolor": "white",
           "landcolor": "#E5ECF6",
           "showlakes": true,
           "showland": true,
           "subunitcolor": "white"
          },
          "hoverlabel": {
           "align": "left"
          },
          "hovermode": "closest",
          "mapbox": {
           "style": "light"
          },
          "paper_bgcolor": "white",
          "plot_bgcolor": "#E5ECF6",
          "polar": {
           "angularaxis": {
            "gridcolor": "white",
            "linecolor": "white",
            "ticks": ""
           },
           "bgcolor": "#E5ECF6",
           "radialaxis": {
            "gridcolor": "white",
            "linecolor": "white",
            "ticks": ""
           }
          },
          "scene": {
           "xaxis": {
            "backgroundcolor": "#E5ECF6",
            "gridcolor": "white",
            "gridwidth": 2,
            "linecolor": "white",
            "showbackground": true,
            "ticks": "",
            "zerolinecolor": "white"
           },
           "yaxis": {
            "backgroundcolor": "#E5ECF6",
            "gridcolor": "white",
            "gridwidth": 2,
            "linecolor": "white",
            "showbackground": true,
            "ticks": "",
            "zerolinecolor": "white"
           },
           "zaxis": {
            "backgroundcolor": "#E5ECF6",
            "gridcolor": "white",
            "gridwidth": 2,
            "linecolor": "white",
            "showbackground": true,
            "ticks": "",
            "zerolinecolor": "white"
           }
          },
          "shapedefaults": {
           "line": {
            "color": "#2a3f5f"
           }
          },
          "ternary": {
           "aaxis": {
            "gridcolor": "white",
            "linecolor": "white",
            "ticks": ""
           },
           "baxis": {
            "gridcolor": "white",
            "linecolor": "white",
            "ticks": ""
           },
           "bgcolor": "#E5ECF6",
           "caxis": {
            "gridcolor": "white",
            "linecolor": "white",
            "ticks": ""
           }
          },
          "title": {
           "x": 0.05
          },
          "xaxis": {
           "automargin": true,
           "gridcolor": "white",
           "linecolor": "white",
           "ticks": "",
           "title": {
            "standoff": 15
           },
           "zerolinecolor": "white",
           "zerolinewidth": 2
          },
          "yaxis": {
           "automargin": true,
           "gridcolor": "white",
           "linecolor": "white",
           "ticks": "",
           "title": {
            "standoff": 15
           },
           "zerolinecolor": "white",
           "zerolinewidth": 2
          }
         }
        },
        "title": {
         "text": "<b>Covid-19 Total Vaccinations in India according to type of vaccine(as of 18 May 2021)<b>",
         "x": 0.5
        },
        "width": 1100,
        "xaxis": {
         "categoryorder": "total descending",
         "tickfont": {
          "color": "black",
          "size": 14
         }
        },
        "yaxis": {
         "tickfont": {
          "color": "black",
          "size": 14
         }
        }
       }
      },
      "text/html": [
       "<div>                            <div id=\"41c1464c-f30d-4b53-97e2-5767b07feaa0\" class=\"plotly-graph-div\" style=\"height:1000px; width:1100px;\"></div>            <script type=\"text/javascript\">                require([\"plotly\"], function(Plotly) {                    window.PLOTLYENV=window.PLOTLYENV || {};                                    if (document.getElementById(\"41c1464c-f30d-4b53-97e2-5767b07feaa0\")) {                    Plotly.newPlot(                        \"41c1464c-f30d-4b53-97e2-5767b07feaa0\",                        [{\"name\":\"Covaxin Administered\",\"type\":\"bar\",\"x\":[\"Ladakh\",\"Lakshadweep\",\"Tripura\",\"Goa\",\"Himachal Pradesh\",\"Sikkim\",\"Dadra and Nagar Haveli and Daman and Diu\",\"Andaman and Nicobar Islands\",\"Chandigarh\",\"Delhi\",\"Mizoram\",\"Uttarakhand\",\"Kerala\",\"Jammu and Kashmir\",\"Gujarat\",\"Rajasthan\",\"Chhattisgarh\",\"Haryana\",\"Arunachal Pradesh\",\"Karnataka\",\"Puducherry\",\"Maharashtra\",\"Odisha\",\"Punjab\",\"Telangana\",\"Manipur\",\"Andhra Pradesh\",\"Meghalaya\",\"Madhya Pradesh\",\"West Bengal\",\"Nagaland\",\"Assam\",\"Jharkhand\",\"Tamil Nadu\",\"Bihar\",\"Uttar Pradesh\"],\"y\":[0.0,0.0,15121.0,7291.0,0.0,0.0,0.0,0.0,0.0,1643548.0,0.0,78122.0,676006.0,41568.0,2027524.0,1272840.0,191336.0,819176.0,0.0,1472981.0,74.0,2732312.0,827516.0,430555.0,987525.0,0.0,1747453.0,0.0,1147298.0,1650999.0,0.0,829235.0,533344.0,1398688.0,817845.0,2094524.0]},{\"name\":\"CoviShield Administered\",\"type\":\"bar\",\"x\":[\"Ladakh\",\"Lakshadweep\",\"Tripura\",\"Goa\",\"Himachal Pradesh\",\"Sikkim\",\"Dadra and Nagar Haveli and Daman and Diu\",\"Andaman and Nicobar Islands\",\"Chandigarh\",\"Delhi\",\"Mizoram\",\"Uttarakhand\",\"Kerala\",\"Jammu and Kashmir\",\"Gujarat\",\"Rajasthan\",\"Chhattisgarh\",\"Haryana\",\"Arunachal Pradesh\",\"Karnataka\",\"Puducherry\",\"Maharashtra\",\"Odisha\",\"Punjab\",\"Telangana\",\"Manipur\",\"Andhra Pradesh\",\"Meghalaya\",\"Madhya Pradesh\",\"West Bengal\",\"Nagaland\",\"Assam\",\"Jharkhand\",\"Tamil Nadu\",\"Bihar\",\"Uttar Pradesh\"],\"y\":[159496.0,33636.0,1595663.0,521664.0,2456257.0,238983.0,196079.0,124268.0,349507.0,3775793.0,315245.0,2840981.0,8737717.0,3259434.0,15083095.0,15743491.0,6049192.0,5070025.0,334007.0,12210409.0,269254.0,19854308.0,7030282.0,4208707.0,5066616.0,457938.0,8121064.0,465690.0,10023021.0,13067136.0,268922.0,3308418.0,3661008.0,7697166.0,9489755.0,16240485.0]},{\"name\":\"Total Vaccine Administered\",\"type\":\"bar\",\"x\":[\"Ladakh\",\"Lakshadweep\",\"Tripura\",\"Goa\",\"Himachal Pradesh\",\"Sikkim\",\"Dadra and Nagar Haveli and Daman and Diu\",\"Andaman and Nicobar Islands\",\"Chandigarh\",\"Delhi\",\"Mizoram\",\"Uttarakhand\",\"Kerala\",\"Jammu and Kashmir\",\"Gujarat\",\"Rajasthan\",\"Chhattisgarh\",\"Haryana\",\"Arunachal Pradesh\",\"Karnataka\",\"Puducherry\",\"Maharashtra\",\"Odisha\",\"Punjab\",\"Telangana\",\"Manipur\",\"Andhra Pradesh\",\"Meghalaya\",\"Madhya Pradesh\",\"West Bengal\",\"Nagaland\",\"Assam\",\"Jharkhand\",\"Tamil Nadu\",\"Bihar\",\"Uttar Pradesh\"],\"y\":[159496.0,33636.0,1610784.0,528955.0,2456257.0,238983.0,196079.0,124268.0,349507.0,5419341.0,315245.0,2919103.0,9413723.0,3301002.0,17110619.0,17016331.0,6240528.0,5889201.0,334007.0,13683390.0,269328.0,22586620.0,7857798.0,4639262.0,6064809.0,457938.0,9868747.0,465690.0,11170319.0,14718135.0,268922.0,4137653.0,4194352.0,9095854.0,10307600.0,18335009.0]}],                        {\"barmode\":\"stack\",\"height\":1000,\"legend\":{\"orientation\":\"h\",\"x\":0.3,\"y\":1.0},\"template\":{\"data\":{\"bar\":[{\"error_x\":{\"color\":\"#2a3f5f\"},\"error_y\":{\"color\":\"#2a3f5f\"},\"marker\":{\"line\":{\"color\":\"#E5ECF6\",\"width\":0.5},\"pattern\":{\"fillmode\":\"overlay\",\"size\":10,\"solidity\":0.2}},\"type\":\"bar\"}],\"barpolar\":[{\"marker\":{\"line\":{\"color\":\"#E5ECF6\",\"width\":0.5},\"pattern\":{\"fillmode\":\"overlay\",\"size\":10,\"solidity\":0.2}},\"type\":\"barpolar\"}],\"carpet\":[{\"aaxis\":{\"endlinecolor\":\"#2a3f5f\",\"gridcolor\":\"white\",\"linecolor\":\"white\",\"minorgridcolor\":\"white\",\"startlinecolor\":\"#2a3f5f\"},\"baxis\":{\"endlinecolor\":\"#2a3f5f\",\"gridcolor\":\"white\",\"linecolor\":\"white\",\"minorgridcolor\":\"white\",\"startlinecolor\":\"#2a3f5f\"},\"type\":\"carpet\"}],\"choropleth\":[{\"colorbar\":{\"outlinewidth\":0,\"ticks\":\"\"},\"type\":\"choropleth\"}],\"contour\":[{\"colorbar\":{\"outlinewidth\":0,\"ticks\":\"\"},\"colorscale\":[[0.0,\"#0d0887\"],[0.1111111111111111,\"#46039f\"],[0.2222222222222222,\"#7201a8\"],[0.3333333333333333,\"#9c179e\"],[0.4444444444444444,\"#bd3786\"],[0.5555555555555556,\"#d8576b\"],[0.6666666666666666,\"#ed7953\"],[0.7777777777777778,\"#fb9f3a\"],[0.8888888888888888,\"#fdca26\"],[1.0,\"#f0f921\"]],\"type\":\"contour\"}],\"contourcarpet\":[{\"colorbar\":{\"outlinewidth\":0,\"ticks\":\"\"},\"type\":\"contourcarpet\"}],\"heatmap\":[{\"colorbar\":{\"outlinewidth\":0,\"ticks\":\"\"},\"colorscale\":[[0.0,\"#0d0887\"],[0.1111111111111111,\"#46039f\"],[0.2222222222222222,\"#7201a8\"],[0.3333333333333333,\"#9c179e\"],[0.4444444444444444,\"#bd3786\"],[0.5555555555555556,\"#d8576b\"],[0.6666666666666666,\"#ed7953\"],[0.7777777777777778,\"#fb9f3a\"],[0.8888888888888888,\"#fdca26\"],[1.0,\"#f0f921\"]],\"type\":\"heatmap\"}],\"heatmapgl\":[{\"colorbar\":{\"outlinewidth\":0,\"ticks\":\"\"},\"colorscale\":[[0.0,\"#0d0887\"],[0.1111111111111111,\"#46039f\"],[0.2222222222222222,\"#7201a8\"],[0.3333333333333333,\"#9c179e\"],[0.4444444444444444,\"#bd3786\"],[0.5555555555555556,\"#d8576b\"],[0.6666666666666666,\"#ed7953\"],[0.7777777777777778,\"#fb9f3a\"],[0.8888888888888888,\"#fdca26\"],[1.0,\"#f0f921\"]],\"type\":\"heatmapgl\"}],\"histogram\":[{\"marker\":{\"pattern\":{\"fillmode\":\"overlay\",\"size\":10,\"solidity\":0.2}},\"type\":\"histogram\"}],\"histogram2d\":[{\"colorbar\":{\"outlinewidth\":0,\"ticks\":\"\"},\"colorscale\":[[0.0,\"#0d0887\"],[0.1111111111111111,\"#46039f\"],[0.2222222222222222,\"#7201a8\"],[0.3333333333333333,\"#9c179e\"],[0.4444444444444444,\"#bd3786\"],[0.5555555555555556,\"#d8576b\"],[0.6666666666666666,\"#ed7953\"],[0.7777777777777778,\"#fb9f3a\"],[0.8888888888888888,\"#fdca26\"],[1.0,\"#f0f921\"]],\"type\":\"histogram2d\"}],\"histogram2dcontour\":[{\"colorbar\":{\"outlinewidth\":0,\"ticks\":\"\"},\"colorscale\":[[0.0,\"#0d0887\"],[0.1111111111111111,\"#46039f\"],[0.2222222222222222,\"#7201a8\"],[0.3333333333333333,\"#9c179e\"],[0.4444444444444444,\"#bd3786\"],[0.5555555555555556,\"#d8576b\"],[0.6666666666666666,\"#ed7953\"],[0.7777777777777778,\"#fb9f3a\"],[0.8888888888888888,\"#fdca26\"],[1.0,\"#f0f921\"]],\"type\":\"histogram2dcontour\"}],\"mesh3d\":[{\"colorbar\":{\"outlinewidth\":0,\"ticks\":\"\"},\"type\":\"mesh3d\"}],\"parcoords\":[{\"line\":{\"colorbar\":{\"outlinewidth\":0,\"ticks\":\"\"}},\"type\":\"parcoords\"}],\"pie\":[{\"automargin\":true,\"type\":\"pie\"}],\"scatter\":[{\"marker\":{\"colorbar\":{\"outlinewidth\":0,\"ticks\":\"\"}},\"type\":\"scatter\"}],\"scatter3d\":[{\"line\":{\"colorbar\":{\"outlinewidth\":0,\"ticks\":\"\"}},\"marker\":{\"colorbar\":{\"outlinewidth\":0,\"ticks\":\"\"}},\"type\":\"scatter3d\"}],\"scattercarpet\":[{\"marker\":{\"colorbar\":{\"outlinewidth\":0,\"ticks\":\"\"}},\"type\":\"scattercarpet\"}],\"scattergeo\":[{\"marker\":{\"colorbar\":{\"outlinewidth\":0,\"ticks\":\"\"}},\"type\":\"scattergeo\"}],\"scattergl\":[{\"marker\":{\"colorbar\":{\"outlinewidth\":0,\"ticks\":\"\"}},\"type\":\"scattergl\"}],\"scattermapbox\":[{\"marker\":{\"colorbar\":{\"outlinewidth\":0,\"ticks\":\"\"}},\"type\":\"scattermapbox\"}],\"scatterpolar\":[{\"marker\":{\"colorbar\":{\"outlinewidth\":0,\"ticks\":\"\"}},\"type\":\"scatterpolar\"}],\"scatterpolargl\":[{\"marker\":{\"colorbar\":{\"outlinewidth\":0,\"ticks\":\"\"}},\"type\":\"scatterpolargl\"}],\"scatterternary\":[{\"marker\":{\"colorbar\":{\"outlinewidth\":0,\"ticks\":\"\"}},\"type\":\"scatterternary\"}],\"surface\":[{\"colorbar\":{\"outlinewidth\":0,\"ticks\":\"\"},\"colorscale\":[[0.0,\"#0d0887\"],[0.1111111111111111,\"#46039f\"],[0.2222222222222222,\"#7201a8\"],[0.3333333333333333,\"#9c179e\"],[0.4444444444444444,\"#bd3786\"],[0.5555555555555556,\"#d8576b\"],[0.6666666666666666,\"#ed7953\"],[0.7777777777777778,\"#fb9f3a\"],[0.8888888888888888,\"#fdca26\"],[1.0,\"#f0f921\"]],\"type\":\"surface\"}],\"table\":[{\"cells\":{\"fill\":{\"color\":\"#EBF0F8\"},\"line\":{\"color\":\"white\"}},\"header\":{\"fill\":{\"color\":\"#C8D4E3\"},\"line\":{\"color\":\"white\"}},\"type\":\"table\"}]},\"layout\":{\"annotationdefaults\":{\"arrowcolor\":\"#2a3f5f\",\"arrowhead\":0,\"arrowwidth\":1},\"autotypenumbers\":\"strict\",\"coloraxis\":{\"colorbar\":{\"outlinewidth\":0,\"ticks\":\"\"}},\"colorscale\":{\"diverging\":[[0,\"#8e0152\"],[0.1,\"#c51b7d\"],[0.2,\"#de77ae\"],[0.3,\"#f1b6da\"],[0.4,\"#fde0ef\"],[0.5,\"#f7f7f7\"],[0.6,\"#e6f5d0\"],[0.7,\"#b8e186\"],[0.8,\"#7fbc41\"],[0.9,\"#4d9221\"],[1,\"#276419\"]],\"sequential\":[[0.0,\"#0d0887\"],[0.1111111111111111,\"#46039f\"],[0.2222222222222222,\"#7201a8\"],[0.3333333333333333,\"#9c179e\"],[0.4444444444444444,\"#bd3786\"],[0.5555555555555556,\"#d8576b\"],[0.6666666666666666,\"#ed7953\"],[0.7777777777777778,\"#fb9f3a\"],[0.8888888888888888,\"#fdca26\"],[1.0,\"#f0f921\"]],\"sequentialminus\":[[0.0,\"#0d0887\"],[0.1111111111111111,\"#46039f\"],[0.2222222222222222,\"#7201a8\"],[0.3333333333333333,\"#9c179e\"],[0.4444444444444444,\"#bd3786\"],[0.5555555555555556,\"#d8576b\"],[0.6666666666666666,\"#ed7953\"],[0.7777777777777778,\"#fb9f3a\"],[0.8888888888888888,\"#fdca26\"],[1.0,\"#f0f921\"]]},\"colorway\":[\"#636efa\",\"#EF553B\",\"#00cc96\",\"#ab63fa\",\"#FFA15A\",\"#19d3f3\",\"#FF6692\",\"#B6E880\",\"#FF97FF\",\"#FECB52\"],\"font\":{\"color\":\"#2a3f5f\"},\"geo\":{\"bgcolor\":\"white\",\"lakecolor\":\"white\",\"landcolor\":\"#E5ECF6\",\"showlakes\":true,\"showland\":true,\"subunitcolor\":\"white\"},\"hoverlabel\":{\"align\":\"left\"},\"hovermode\":\"closest\",\"mapbox\":{\"style\":\"light\"},\"paper_bgcolor\":\"white\",\"plot_bgcolor\":\"#E5ECF6\",\"polar\":{\"angularaxis\":{\"gridcolor\":\"white\",\"linecolor\":\"white\",\"ticks\":\"\"},\"bgcolor\":\"#E5ECF6\",\"radialaxis\":{\"gridcolor\":\"white\",\"linecolor\":\"white\",\"ticks\":\"\"}},\"scene\":{\"xaxis\":{\"backgroundcolor\":\"#E5ECF6\",\"gridcolor\":\"white\",\"gridwidth\":2,\"linecolor\":\"white\",\"showbackground\":true,\"ticks\":\"\",\"zerolinecolor\":\"white\"},\"yaxis\":{\"backgroundcolor\":\"#E5ECF6\",\"gridcolor\":\"white\",\"gridwidth\":2,\"linecolor\":\"white\",\"showbackground\":true,\"ticks\":\"\",\"zerolinecolor\":\"white\"},\"zaxis\":{\"backgroundcolor\":\"#E5ECF6\",\"gridcolor\":\"white\",\"gridwidth\":2,\"linecolor\":\"white\",\"showbackground\":true,\"ticks\":\"\",\"zerolinecolor\":\"white\"}},\"shapedefaults\":{\"line\":{\"color\":\"#2a3f5f\"}},\"ternary\":{\"aaxis\":{\"gridcolor\":\"white\",\"linecolor\":\"white\",\"ticks\":\"\"},\"baxis\":{\"gridcolor\":\"white\",\"linecolor\":\"white\",\"ticks\":\"\"},\"bgcolor\":\"#E5ECF6\",\"caxis\":{\"gridcolor\":\"white\",\"linecolor\":\"white\",\"ticks\":\"\"}},\"title\":{\"x\":0.05},\"xaxis\":{\"automargin\":true,\"gridcolor\":\"white\",\"linecolor\":\"white\",\"ticks\":\"\",\"title\":{\"standoff\":15},\"zerolinecolor\":\"white\",\"zerolinewidth\":2},\"yaxis\":{\"automargin\":true,\"gridcolor\":\"white\",\"linecolor\":\"white\",\"ticks\":\"\",\"title\":{\"standoff\":15},\"zerolinecolor\":\"white\",\"zerolinewidth\":2}}},\"title\":{\"text\":\"<b>Covid-19 Total Vaccinations in India according to type of vaccine(as of 18 May 2021)<b>\",\"x\":0.5},\"width\":1100,\"xaxis\":{\"categoryorder\":\"total descending\",\"tickfont\":{\"color\":\"black\",\"size\":14}},\"yaxis\":{\"tickfont\":{\"color\":\"black\",\"size\":14}}},                        {\"responsive\": true}                    ).then(function(){\n",
       "                            \n",
       "var gd = document.getElementById('41c1464c-f30d-4b53-97e2-5767b07feaa0');\n",
       "var x = new MutationObserver(function (mutations, observer) {{\n",
       "        var display = window.getComputedStyle(gd).display;\n",
       "        if (!display || display === 'none') {{\n",
       "            console.log([gd, 'removed!']);\n",
       "            Plotly.purge(gd);\n",
       "            observer.disconnect();\n",
       "        }}\n",
       "}});\n",
       "\n",
       "// Listen for the removal of the full notebook cells\n",
       "var notebookContainer = gd.closest('#notebook-container');\n",
       "if (notebookContainer) {{\n",
       "    x.observe(notebookContainer, {childList: true});\n",
       "}}\n",
       "\n",
       "// Listen for the clearing of the current output cell\n",
       "var outputEl = gd.closest('.output');\n",
       "if (outputEl) {{\n",
       "    x.observe(outputEl, {childList: true});\n",
       "}}\n",
       "\n",
       "                        })                };                });            </script>        </div>"
      ]
     },
     "metadata": {},
     "output_type": "display_data"
    }
   ],
   "source": [
    "fig = go.Figure(go.Bar(x= StateVaccineLatest.State, y= StateVaccineLatest[' Covaxin (Doses Administered)'], name='Covaxin Administered'))\n",
    "fig.add_trace(go.Bar(x=StateVaccineLatest.State, y= StateVaccineLatest[ 'CoviShield (Doses Administered)'], name='CoviShield Administered'))\n",
    "fig.add_trace(go.Bar(x=StateVaccineLatest.State, y= StateVaccineLatest['Total Doses Administered'], name='Total Vaccine Administered'))\n",
    "\n",
    "\n",
    "fig.update_layout(barmode='stack',legend_orientation=\"h\",legend=dict(x= 0.3, y=1.0),\n",
    "                  xaxis={'categoryorder':'total descending'},\n",
    "                  title_text='<b>Covid-19 Total Vaccinations in India according to type of vaccine(as of 18 May 2021)<b>',\n",
    "                  title_x=0.5,\n",
    "                  width= 1100,\n",
    "                  height= 1000\n",
    "                 )\n",
    "fig.update_xaxes(tickfont=dict(color='black', size=14))\n",
    "fig.update_yaxes(tickfont=dict(color='black', size=14))\n",
    "fig.show()"
   ]
  },
  {
   "cell_type": "code",
   "execution_count": null,
   "id": "1fe1819c",
   "metadata": {},
   "outputs": [],
   "source": []
  },
  {
   "cell_type": "code",
   "execution_count": null,
   "id": "7a6ede11",
   "metadata": {},
   "outputs": [],
   "source": []
  }
 ],
 "metadata": {
  "interpreter": {
   "hash": "f6121e111b94e9bb0fd10a63a3fedc71fc4fafcb88e6a3a29bb49085cdef906f"
  },
  "kernelspec": {
   "display_name": "Python 3 (ipykernel)",
   "language": "python",
   "name": "python3"
  },
  "language_info": {
   "codemirror_mode": {
    "name": "ipython",
    "version": 3
   },
   "file_extension": ".py",
   "mimetype": "text/x-python",
   "name": "python",
   "nbconvert_exporter": "python",
   "pygments_lexer": "ipython3",
   "version": "3.9.6"
  }
 },
 "nbformat": 4,
 "nbformat_minor": 5
}
