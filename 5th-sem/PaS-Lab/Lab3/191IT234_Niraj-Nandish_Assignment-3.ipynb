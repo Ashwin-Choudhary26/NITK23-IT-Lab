{
 "cells": [
  {
   "cell_type": "markdown",
   "metadata": {
    "id": "Hp0PNvhLMgk3"
   },
   "source": [
    "# IT 302\n",
    "## Assignment 3\n",
    "\n",
    "### Name: Niraj Nandish\n",
    "### Roll no.: 191IT234"
   ]
  },
  {
   "cell_type": "code",
   "execution_count": 1,
   "metadata": {
    "execution": {
     "iopub.execute_input": "2021-10-06T04:32:00.111907Z",
     "iopub.status.busy": "2021-10-06T04:32:00.111302Z",
     "iopub.status.idle": "2021-10-06T04:32:01.249536Z",
     "shell.execute_reply": "2021-10-06T04:32:01.248771Z",
     "shell.execute_reply.started": "2021-10-06T04:32:00.111777Z"
    },
    "id": "MrJa5vaQKP_G"
   },
   "outputs": [],
   "source": [
    "from scipy import stats\n",
    "import numpy as np\n",
    "import matplotlib.pyplot as plt\n"
   ]
  },
  {
   "cell_type": "markdown",
   "metadata": {
    "id": "RbLEYk6-M4Iu"
   },
   "source": [
    "## Poission Distribution"
   ]
  },
  {
   "cell_type": "code",
   "execution_count": 2,
   "metadata": {
    "execution": {
     "iopub.execute_input": "2021-10-06T04:32:01.252052Z",
     "iopub.status.busy": "2021-10-06T04:32:01.251512Z",
     "iopub.status.idle": "2021-10-06T04:32:01.264401Z",
     "shell.execute_reply": "2021-10-06T04:32:01.263150Z",
     "shell.execute_reply.started": "2021-10-06T04:32:01.252011Z"
    },
    "id": "-j0klRZUKP_Q"
   },
   "outputs": [],
   "source": [
    "def poisson(lam, val, x):\n",
    "    mean, variance = stats.poisson.stats(lam, moments='mv')\n",
    "    print(\"Mean: \", mean)\n",
    "    print(\"Variance: \", variance)\n",
    "    print(\"CDF -> Probability(X <=\", val, \"): \", stats.poisson.cdf(val, lam))\n",
    "    cdf_all = stats.poisson.cdf(x, lam)\n",
    "    pmf_all = stats.poisson.pmf(x, lam)\n",
    "    pmf_given = stats.poisson.pmf(x[val:], lam)\n",
    "    plt.plot(x, pmf_all, color='y')\n",
    "    plt.xlabel(\"x\")\n",
    "    plt.ylabel(\"P(x)\")\n",
    "    plt.title(\n",
    "        \"Probability Density function\\nShaded area under the curve represents P(X >= {})\\n\\n\".format(val))\n",
    "    plt.fill_between(x[val:], pmf_given, color='y')\n",
    "    plt.show()\n",
    "    plt.plot(x, cdf_all, color='y')\n",
    "    plt.axvline(val, color='r')\n",
    "    plt.axhline(stats.poisson.cdf(val, lam), color='r')\n",
    "    plt.xlabel(\"x\")\n",
    "    plt.ylabel(\"Cumulative P(x)\")\n",
    "    plt.title(\"CDF\\nIntersection point in the plot indicates P(X <= {}): {}\".format(\n",
    "        val, stats.poisson.cdf(val, lam)))\n",
    "    plt.show()\n"
   ]
  },
  {
   "cell_type": "markdown",
   "metadata": {
    "id": "XCidNT-sM8d3"
   },
   "source": [
    "## Uniform Distribution"
   ]
  },
  {
   "cell_type": "code",
   "execution_count": 3,
   "metadata": {
    "execution": {
     "iopub.execute_input": "2021-10-06T04:32:01.267212Z",
     "iopub.status.busy": "2021-10-06T04:32:01.266058Z",
     "iopub.status.idle": "2021-10-06T04:32:01.283468Z",
     "shell.execute_reply": "2021-10-06T04:32:01.282565Z",
     "shell.execute_reply.started": "2021-10-06T04:32:01.267146Z"
    },
    "id": "aX6dj7laKP_S"
   },
   "outputs": [],
   "source": [
    "def uniform(a, b, x, val):\n",
    "    print(\"Mean: \", (a+b)/2)\n",
    "    print(\"Variance: \", 1/12 * ((b-a) ** 2))\n",
    "    p = 1/(b-a)\n",
    "    pdf = []\n",
    "    cdf = []\n",
    "    for i in range(0, len(x)):\n",
    "        if(x[i] >= a and x[i] <= b):\n",
    "            pdf.append(p)\n",
    "            cdf.append((x[i]-a)/(b-a))\n",
    "        elif x[i] < a:\n",
    "            pdf.append(0)\n",
    "            cdf.append(0)\n",
    "        elif x[i] > b:\n",
    "            pdf.append(0)\n",
    "            cdf.append(1)\n",
    "    print(\"CDF -> Probability(X <=\", val, \"): \", (val-a)/(b-a))\n",
    "    plt.plot(x, pdf, color='y')\n",
    "    plt.fill_between(x, 0, pdf, where=x >= val, color='y')\n",
    "    plt.xlabel(\"x\")\n",
    "    plt.ylabel(\"P(x)\")\n",
    "    plt.title(\n",
    "        \"Probability Density function\\nShaded area under the curve represents P(X >= {})\\n\\n\".format(val))\n",
    "    plt.show()\n",
    "    plt.plot(x, cdf, color='y')\n",
    "    plt.axvline(val, color='r')\n",
    "    plt.axhline((val-a)/(b-a), color='r')\n",
    "    plt.xlabel(\"x\")\n",
    "    plt.ylabel(\"Cumulative P(x)\")\n",
    "    plt.title(\"CDF\\nIntersection point in the plot indicates P(X <= {}): {}\".format(\n",
    "        val, (val-a)/(b-a)))\n",
    "    plt.show()\n"
   ]
  },
  {
   "cell_type": "markdown",
   "metadata": {
    "id": "miEBN4E9NAIv"
   },
   "source": [
    "## Normal Distribution"
   ]
  },
  {
   "cell_type": "code",
   "execution_count": 4,
   "metadata": {
    "execution": {
     "iopub.execute_input": "2021-10-06T04:32:03.306017Z",
     "iopub.status.busy": "2021-10-06T04:32:03.304909Z",
     "iopub.status.idle": "2021-10-06T04:32:03.317791Z",
     "shell.execute_reply": "2021-10-06T04:32:03.315820Z",
     "shell.execute_reply.started": "2021-10-06T04:32:03.305954Z"
    },
    "id": "Aeg04KazKP_U"
   },
   "outputs": [],
   "source": [
    "def normal(x, m, std, val):\n",
    "    print(\"Mean: \", m)\n",
    "    print(\"Variance: \", std**2)\n",
    "    print(\"CDF -> Probability(X <=\", val, \"): \", stats.norm.cdf(val, m, std))\n",
    "    pdf = stats.norm.pdf(x, m, std)\n",
    "    cdf = stats.norm.cdf(x, m, std)\n",
    "    plt.plot(x, pdf, color='y')\n",
    "    plt.fill_between(x, 0, pdf, where=x >= val, color='y')\n",
    "    plt.xlabel(\"x\")\n",
    "    plt.ylabel(\"P(x)\")\n",
    "    plt.title(\n",
    "        \"Probability Density function\\nShaded area under the curve represents P(X >= {})\\n\\n\".format(val))\n",
    "    plt.show()\n",
    "    plt.plot(x, cdf, color='y')\n",
    "    plt.axvline(val, color='r')\n",
    "    plt.axhline(stats.norm.cdf(val, m, std), color='r')\n",
    "    plt.xlabel(\"x\")\n",
    "    plt.ylabel(\"Cummulative P(x)\")\n",
    "    plt.title(\"CDF\\nIntersection point in the plot indicates P(X <= {}): {}\".format(\n",
    "        val, stats.norm.cdf(val, m, std)))\n",
    "    plt.show()\n"
   ]
  },
  {
   "cell_type": "code",
   "execution_count": 5,
   "metadata": {
    "colab": {
     "base_uri": "https://localhost:8080/",
     "height": 1000
    },
    "execution": {
     "iopub.execute_input": "2021-10-06T04:32:06.786041Z",
     "iopub.status.busy": "2021-10-06T04:32:06.785748Z",
     "iopub.status.idle": "2021-10-06T04:32:57.354330Z",
     "shell.execute_reply": "2021-10-06T04:32:57.353668Z",
     "shell.execute_reply.started": "2021-10-06T04:32:06.786013Z"
    },
    "id": "u5pbEwC6KP_X",
    "outputId": "fa2e73c2-e42e-4d4e-9dd6-38128a805dc0"
   },
   "outputs": [
    {
     "name": "stdout",
     "output_type": "stream",
     "text": [
      "Select one of the following distributions: \n",
      "1) Uniform Distribution\n",
      "2) Poisson Distribution\n",
      "3) Normal Distribution\n",
      "Uniform Distribution\n",
      "Mean:  2.5\n",
      "Variance:  2.083333333333333\n",
      "CDF -> Probability(X <= 3 ):  0.6\n"
     ]
    },
    {
     "data": {
      "image/png": "[encoded data removed]",
      "text/plain": [
       "<Figure size 432x288 with 1 Axes>"
      ]
     },
     "metadata": {
      "needs_background": "light"
     },
     "output_type": "display_data"
    },
    {
     "data": {
      "image/png": "[encoded data removed]",
      "text/plain": [
       "<Figure size 432x288 with 1 Axes>"
      ]
     },
     "metadata": {
      "needs_background": "light"
     },
     "output_type": "display_data"
    }
   ],
   "source": [
    "condition = True\n",
    "while condition:\n",
    "    print(\"Select one of the following distributions: \")\n",
    "    print(\"1) Uniform Distribution\")\n",
    "    print(\"2) Poisson Distribution\")\n",
    "    print(\"3) Normal Distribution\")\n",
    "    opt = int(input(\"Enter the option number: \"))\n",
    "    if opt == 1:\n",
    "        print(\"Uniform Distribution\")\n",
    "        a = float(input(\"Enter left bound(a): \"))\n",
    "        b = float(input(\"Enter right bound(b): \"))\n",
    "        val = int(input(\"Enter x1 for P(X<=x1): \"))\n",
    "        x = np.arange(a, b, 0.1)\n",
    "        uniform(a, b, x, val)\n",
    "    elif opt == 2:\n",
    "        print(\"Poisson Distribution\")\n",
    "        lam = float(input(\"Enter lambda: \"))\n",
    "        val = int(input(\"Enter x1 for P(X<=x1): \"))\n",
    "        x = np.arange(0, 20, 1)\n",
    "        poisson(lam, val, x)\n",
    "    elif opt == 3:\n",
    "        print(\"Normal Distribution\")\n",
    "        val = int(input(\"Enter X for P(X<=x1): \"))\n",
    "        arr = np.arange(0, 20, 0.1)\n",
    "        m = np.mean(arr)\n",
    "        std = np.std(arr)\n",
    "        normal(arr, m, std, val)\n",
    "    else:\n",
    "        print(\"Please enter a valid option\")\n",
    "    entered = input(\"Do you want to try again(Y/N)?: \")\n",
    "    if entered == 'Y':\n",
    "        condition = True\n",
    "    else:\n",
    "        condition = False\n"
   ]
  }
 ],
 "metadata": {
  "colab": {
   "collapsed_sections": [],
   "name": "191IT147_Assignment3.ipynb",
   "provenance": []
  },
  "interpreter": {
   "hash": "f4b9edff2080151f7d385a2784f45e0fd6c3ddfc10f604054b80daf4338efcb5"
  },
  "kernelspec": {
   "display_name": "Python 3.9.6 64-bit ('base': conda)",
   "name": "python3"
  },
  "language_info": {
   "codemirror_mode": {
    "name": "ipython",
    "version": 3
   },
   "file_extension": ".py",
   "mimetype": "text/x-python",
   "name": "python",
   "nbconvert_exporter": "python",
   "pygments_lexer": "ipython3",
   "version": "3.9.6"
  }
 },
 "nbformat": 4,
 "nbformat_minor": 2
}
